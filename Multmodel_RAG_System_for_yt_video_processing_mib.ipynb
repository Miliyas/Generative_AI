{
  "nbformat": 4,
  "nbformat_minor": 0,
  "metadata": {
    "colab": {
      "provenance": [],
      "machine_shape": "hm",
      "gpuType": "L4",
      "authorship_tag": "ABX9TyPMGAdtz3+McxxCcW5ItoHf",
      "include_colab_link": true
    },
    "kernelspec": {
      "name": "python3",
      "display_name": "Python 3"
    },
    "language_info": {
      "name": "python"
    },
    "accelerator": "GPU"
  },
  "cells": [
    {
      "cell_type": "markdown",
      "metadata": {
        "id": "view-in-github",
        "colab_type": "text"
      },
      "source": [
        "<a href=\"https://colab.research.google.com/github/Miliyas/Generative_AI/blob/main/Multmodel_RAG_System_for_yt_video_processing_mib.ipynb\" target=\"_parent\"><img src=\"https://colab.research.google.com/assets/colab-badge.svg\" alt=\"Open In Colab\"/></a>"
      ]
    },
    {
      "cell_type": "markdown",
      "source": [
        "**Prerequisite:**\n",
        "1. llamaindex framework\n",
        "2. Lancedb\n",
        "3. LLM model(GPT-4V)\n",
        "4. GEMINI-PRO-VISION"
      ],
      "metadata": {
        "id": "NuNr9p-CLvbv"
      }
    },
    {
      "cell_type": "markdown",
      "source": [
        "**Steps:**\n",
        "\n",
        "Download video from YouTube, process and store it.\n",
        "\n",
        "Build Multi-Modal index and vector store for both texts and images.\n",
        "\n",
        "Retrieve relevant images and context, use both to augment the prompt.\n",
        "\n",
        "Using GPT4V for reasoning the correlations between the input query and augmented data and generating final response."
      ],
      "metadata": {
        "id": "l53ODQhKL5hy"
      }
    },
    {
      "cell_type": "code",
      "source": [
        "%pip install llama-index-vector-stores-lancedb\n",
        "%pip install llama-index-multi-modal-llms-openai"
      ],
      "metadata": {
        "colab": {
          "base_uri": "https://localhost:8080/"
        },
        "id": "hqMJJmx2Lz-v",
        "outputId": "9fa30e02-adfb-48a2-d08c-9d7ba0386a5c"
      },
      "execution_count": 2,
      "outputs": [
        {
          "output_type": "stream",
          "name": "stdout",
          "text": [
            "Collecting llama-index-vector-stores-lancedb\n",
            "  Downloading llama_index_vector_stores_lancedb-0.1.3-py3-none-any.whl (4.1 kB)\n",
            "Collecting lancedb<0.6.0,>=0.5.1 (from llama-index-vector-stores-lancedb)\n",
            "  Downloading lancedb-0.5.7-py3-none-any.whl (115 kB)\n",
            "\u001b[2K     \u001b[90m━━━━━━━━━━━━━━━━━━━━━━━━━━━━━━━━━━━━━━━━\u001b[0m \u001b[32m115.1/115.1 kB\u001b[0m \u001b[31m3.7 MB/s\u001b[0m eta \u001b[36m0:00:00\u001b[0m\n",
            "\u001b[?25hCollecting llama-index-core<0.11.0,>=0.10.1 (from llama-index-vector-stores-lancedb)\n",
            "  Downloading llama_index_core-0.10.29-py3-none-any.whl (15.4 MB)\n",
            "\u001b[2K     \u001b[90m━━━━━━━━━━━━━━━━━━━━━━━━━━━━━━━━━━━━━━━━\u001b[0m \u001b[32m15.4/15.4 MB\u001b[0m \u001b[31m49.7 MB/s\u001b[0m eta \u001b[36m0:00:00\u001b[0m\n",
            "\u001b[?25hCollecting deprecation (from lancedb<0.6.0,>=0.5.1->llama-index-vector-stores-lancedb)\n",
            "  Downloading deprecation-2.1.0-py2.py3-none-any.whl (11 kB)\n",
            "Collecting pylance==0.9.18 (from lancedb<0.6.0,>=0.5.1->llama-index-vector-stores-lancedb)\n",
            "  Downloading pylance-0.9.18-cp38-abi3-manylinux_2_17_x86_64.manylinux2014_x86_64.whl (21.6 MB)\n",
            "\u001b[2K     \u001b[90m━━━━━━━━━━━━━━━━━━━━━━━━━━━━━━━━━━━━━━━━\u001b[0m \u001b[32m21.6/21.6 MB\u001b[0m \u001b[31m69.5 MB/s\u001b[0m eta \u001b[36m0:00:00\u001b[0m\n",
            "\u001b[?25hCollecting ratelimiter~=1.0 (from lancedb<0.6.0,>=0.5.1->llama-index-vector-stores-lancedb)\n",
            "  Downloading ratelimiter-1.2.0.post0-py3-none-any.whl (6.6 kB)\n",
            "Collecting retry>=0.9.2 (from lancedb<0.6.0,>=0.5.1->llama-index-vector-stores-lancedb)\n",
            "  Downloading retry-0.9.2-py2.py3-none-any.whl (8.0 kB)\n",
            "Requirement already satisfied: tqdm>=4.27.0 in /usr/local/lib/python3.10/dist-packages (from lancedb<0.6.0,>=0.5.1->llama-index-vector-stores-lancedb) (4.66.2)\n",
            "Requirement already satisfied: pydantic>=1.10 in /usr/local/lib/python3.10/dist-packages (from lancedb<0.6.0,>=0.5.1->llama-index-vector-stores-lancedb) (2.6.4)\n",
            "Requirement already satisfied: attrs>=21.3.0 in /usr/local/lib/python3.10/dist-packages (from lancedb<0.6.0,>=0.5.1->llama-index-vector-stores-lancedb) (23.2.0)\n",
            "Collecting semver>=3.0 (from lancedb<0.6.0,>=0.5.1->llama-index-vector-stores-lancedb)\n",
            "  Downloading semver-3.0.2-py3-none-any.whl (17 kB)\n",
            "Requirement already satisfied: cachetools in /usr/local/lib/python3.10/dist-packages (from lancedb<0.6.0,>=0.5.1->llama-index-vector-stores-lancedb) (5.3.3)\n",
            "Requirement already satisfied: pyyaml>=6.0 in /usr/local/lib/python3.10/dist-packages (from lancedb<0.6.0,>=0.5.1->llama-index-vector-stores-lancedb) (6.0.1)\n",
            "Requirement already satisfied: click>=8.1.7 in /usr/local/lib/python3.10/dist-packages (from lancedb<0.6.0,>=0.5.1->llama-index-vector-stores-lancedb) (8.1.7)\n",
            "Requirement already satisfied: requests>=2.31.0 in /usr/local/lib/python3.10/dist-packages (from lancedb<0.6.0,>=0.5.1->llama-index-vector-stores-lancedb) (2.31.0)\n",
            "Collecting overrides>=0.7 (from lancedb<0.6.0,>=0.5.1->llama-index-vector-stores-lancedb)\n",
            "  Downloading overrides-7.7.0-py3-none-any.whl (17 kB)\n",
            "Requirement already satisfied: pyarrow>=12 in /usr/local/lib/python3.10/dist-packages (from pylance==0.9.18->lancedb<0.6.0,>=0.5.1->llama-index-vector-stores-lancedb) (14.0.2)\n",
            "Requirement already satisfied: numpy>=1.22 in /usr/local/lib/python3.10/dist-packages (from pylance==0.9.18->lancedb<0.6.0,>=0.5.1->llama-index-vector-stores-lancedb) (1.25.2)\n",
            "Requirement already satisfied: SQLAlchemy[asyncio]>=1.4.49 in /usr/local/lib/python3.10/dist-packages (from llama-index-core<0.11.0,>=0.10.1->llama-index-vector-stores-lancedb) (2.0.29)\n",
            "Requirement already satisfied: aiohttp<4.0.0,>=3.8.6 in /usr/local/lib/python3.10/dist-packages (from llama-index-core<0.11.0,>=0.10.1->llama-index-vector-stores-lancedb) (3.9.3)\n",
            "Collecting dataclasses-json (from llama-index-core<0.11.0,>=0.10.1->llama-index-vector-stores-lancedb)\n",
            "  Downloading dataclasses_json-0.6.4-py3-none-any.whl (28 kB)\n",
            "Collecting deprecated>=1.2.9.3 (from llama-index-core<0.11.0,>=0.10.1->llama-index-vector-stores-lancedb)\n",
            "  Downloading Deprecated-1.2.14-py2.py3-none-any.whl (9.6 kB)\n",
            "Collecting dirtyjson<2.0.0,>=1.0.8 (from llama-index-core<0.11.0,>=0.10.1->llama-index-vector-stores-lancedb)\n",
            "  Downloading dirtyjson-1.0.8-py3-none-any.whl (25 kB)\n",
            "Requirement already satisfied: fsspec>=2023.5.0 in /usr/local/lib/python3.10/dist-packages (from llama-index-core<0.11.0,>=0.10.1->llama-index-vector-stores-lancedb) (2023.6.0)\n",
            "Collecting httpx (from llama-index-core<0.11.0,>=0.10.1->llama-index-vector-stores-lancedb)\n",
            "  Downloading httpx-0.27.0-py3-none-any.whl (75 kB)\n",
            "\u001b[2K     \u001b[90m━━━━━━━━━━━━━━━━━━━━━━━━━━━━━━━━━━━━━━━━\u001b[0m \u001b[32m75.6/75.6 kB\u001b[0m \u001b[31m12.2 MB/s\u001b[0m eta \u001b[36m0:00:00\u001b[0m\n",
            "\u001b[?25hCollecting llamaindex-py-client<0.2.0,>=0.1.18 (from llama-index-core<0.11.0,>=0.10.1->llama-index-vector-stores-lancedb)\n",
            "  Downloading llamaindex_py_client-0.1.18-py3-none-any.whl (136 kB)\n",
            "\u001b[2K     \u001b[90m━━━━━━━━━━━━━━━━━━━━━━━━━━━━━━━━━━━━━━━━\u001b[0m \u001b[32m136.1/136.1 kB\u001b[0m \u001b[31m20.6 MB/s\u001b[0m eta \u001b[36m0:00:00\u001b[0m\n",
            "\u001b[?25hRequirement already satisfied: nest-asyncio<2.0.0,>=1.5.8 in /usr/local/lib/python3.10/dist-packages (from llama-index-core<0.11.0,>=0.10.1->llama-index-vector-stores-lancedb) (1.6.0)\n",
            "Requirement already satisfied: networkx>=3.0 in /usr/local/lib/python3.10/dist-packages (from llama-index-core<0.11.0,>=0.10.1->llama-index-vector-stores-lancedb) (3.3)\n",
            "Requirement already satisfied: nltk<4.0.0,>=3.8.1 in /usr/local/lib/python3.10/dist-packages (from llama-index-core<0.11.0,>=0.10.1->llama-index-vector-stores-lancedb) (3.8.1)\n",
            "Collecting openai>=1.1.0 (from llama-index-core<0.11.0,>=0.10.1->llama-index-vector-stores-lancedb)\n",
            "  Downloading openai-1.17.1-py3-none-any.whl (268 kB)\n",
            "\u001b[2K     \u001b[90m━━━━━━━━━━━━━━━━━━━━━━━━━━━━━━━━━━━━━━━━\u001b[0m \u001b[32m268.3/268.3 kB\u001b[0m \u001b[31m36.5 MB/s\u001b[0m eta \u001b[36m0:00:00\u001b[0m\n",
            "\u001b[?25hRequirement already satisfied: pandas in /usr/local/lib/python3.10/dist-packages (from llama-index-core<0.11.0,>=0.10.1->llama-index-vector-stores-lancedb) (2.0.3)\n",
            "Requirement already satisfied: pillow>=9.0.0 in /usr/local/lib/python3.10/dist-packages (from llama-index-core<0.11.0,>=0.10.1->llama-index-vector-stores-lancedb) (9.4.0)\n",
            "Requirement already satisfied: tenacity<9.0.0,>=8.2.0 in /usr/local/lib/python3.10/dist-packages (from llama-index-core<0.11.0,>=0.10.1->llama-index-vector-stores-lancedb) (8.2.3)\n",
            "Collecting tiktoken>=0.3.3 (from llama-index-core<0.11.0,>=0.10.1->llama-index-vector-stores-lancedb)\n",
            "  Downloading tiktoken-0.6.0-cp310-cp310-manylinux_2_17_x86_64.manylinux2014_x86_64.whl (1.8 MB)\n",
            "\u001b[2K     \u001b[90m━━━━━━━━━━━━━━━━━━━━━━━━━━━━━━━━━━━━━━━━\u001b[0m \u001b[32m1.8/1.8 MB\u001b[0m \u001b[31m88.2 MB/s\u001b[0m eta \u001b[36m0:00:00\u001b[0m\n",
            "\u001b[?25hRequirement already satisfied: typing-extensions>=4.5.0 in /usr/local/lib/python3.10/dist-packages (from llama-index-core<0.11.0,>=0.10.1->llama-index-vector-stores-lancedb) (4.11.0)\n",
            "Collecting typing-inspect>=0.8.0 (from llama-index-core<0.11.0,>=0.10.1->llama-index-vector-stores-lancedb)\n",
            "  Downloading typing_inspect-0.9.0-py3-none-any.whl (8.8 kB)\n",
            "Requirement already satisfied: wrapt in /usr/local/lib/python3.10/dist-packages (from llama-index-core<0.11.0,>=0.10.1->llama-index-vector-stores-lancedb) (1.14.1)\n",
            "Requirement already satisfied: aiosignal>=1.1.2 in /usr/local/lib/python3.10/dist-packages (from aiohttp<4.0.0,>=3.8.6->llama-index-core<0.11.0,>=0.10.1->llama-index-vector-stores-lancedb) (1.3.1)\n",
            "Requirement already satisfied: frozenlist>=1.1.1 in /usr/local/lib/python3.10/dist-packages (from aiohttp<4.0.0,>=3.8.6->llama-index-core<0.11.0,>=0.10.1->llama-index-vector-stores-lancedb) (1.4.1)\n",
            "Requirement already satisfied: multidict<7.0,>=4.5 in /usr/local/lib/python3.10/dist-packages (from aiohttp<4.0.0,>=3.8.6->llama-index-core<0.11.0,>=0.10.1->llama-index-vector-stores-lancedb) (6.0.5)\n",
            "Requirement already satisfied: yarl<2.0,>=1.0 in /usr/local/lib/python3.10/dist-packages (from aiohttp<4.0.0,>=3.8.6->llama-index-core<0.11.0,>=0.10.1->llama-index-vector-stores-lancedb) (1.9.4)\n",
            "Requirement already satisfied: async-timeout<5.0,>=4.0 in /usr/local/lib/python3.10/dist-packages (from aiohttp<4.0.0,>=3.8.6->llama-index-core<0.11.0,>=0.10.1->llama-index-vector-stores-lancedb) (4.0.3)\n",
            "Requirement already satisfied: anyio in /usr/local/lib/python3.10/dist-packages (from httpx->llama-index-core<0.11.0,>=0.10.1->llama-index-vector-stores-lancedb) (3.7.1)\n",
            "Requirement already satisfied: certifi in /usr/local/lib/python3.10/dist-packages (from httpx->llama-index-core<0.11.0,>=0.10.1->llama-index-vector-stores-lancedb) (2024.2.2)\n",
            "Collecting httpcore==1.* (from httpx->llama-index-core<0.11.0,>=0.10.1->llama-index-vector-stores-lancedb)\n",
            "  Downloading httpcore-1.0.5-py3-none-any.whl (77 kB)\n",
            "\u001b[2K     \u001b[90m━━━━━━━━━━━━━━━━━━━━━━━━━━━━━━━━━━━━━━━━\u001b[0m \u001b[32m77.9/77.9 kB\u001b[0m \u001b[31m11.9 MB/s\u001b[0m eta \u001b[36m0:00:00\u001b[0m\n",
            "\u001b[?25hRequirement already satisfied: idna in /usr/local/lib/python3.10/dist-packages (from httpx->llama-index-core<0.11.0,>=0.10.1->llama-index-vector-stores-lancedb) (3.6)\n",
            "Requirement already satisfied: sniffio in /usr/local/lib/python3.10/dist-packages (from httpx->llama-index-core<0.11.0,>=0.10.1->llama-index-vector-stores-lancedb) (1.3.1)\n",
            "Collecting h11<0.15,>=0.13 (from httpcore==1.*->httpx->llama-index-core<0.11.0,>=0.10.1->llama-index-vector-stores-lancedb)\n",
            "  Downloading h11-0.14.0-py3-none-any.whl (58 kB)\n",
            "\u001b[2K     \u001b[90m━━━━━━━━━━━━━━━━━━━━━━━━━━━━━━━━━━━━━━━━\u001b[0m \u001b[32m58.3/58.3 kB\u001b[0m \u001b[31m10.2 MB/s\u001b[0m eta \u001b[36m0:00:00\u001b[0m\n",
            "\u001b[?25hRequirement already satisfied: joblib in /usr/local/lib/python3.10/dist-packages (from nltk<4.0.0,>=3.8.1->llama-index-core<0.11.0,>=0.10.1->llama-index-vector-stores-lancedb) (1.4.0)\n",
            "Requirement already satisfied: regex>=2021.8.3 in /usr/local/lib/python3.10/dist-packages (from nltk<4.0.0,>=3.8.1->llama-index-core<0.11.0,>=0.10.1->llama-index-vector-stores-lancedb) (2023.12.25)\n",
            "Requirement already satisfied: distro<2,>=1.7.0 in /usr/lib/python3/dist-packages (from openai>=1.1.0->llama-index-core<0.11.0,>=0.10.1->llama-index-vector-stores-lancedb) (1.7.0)\n",
            "Requirement already satisfied: annotated-types>=0.4.0 in /usr/local/lib/python3.10/dist-packages (from pydantic>=1.10->lancedb<0.6.0,>=0.5.1->llama-index-vector-stores-lancedb) (0.6.0)\n",
            "Requirement already satisfied: pydantic-core==2.16.3 in /usr/local/lib/python3.10/dist-packages (from pydantic>=1.10->lancedb<0.6.0,>=0.5.1->llama-index-vector-stores-lancedb) (2.16.3)\n",
            "Requirement already satisfied: charset-normalizer<4,>=2 in /usr/local/lib/python3.10/dist-packages (from requests>=2.31.0->lancedb<0.6.0,>=0.5.1->llama-index-vector-stores-lancedb) (3.3.2)\n",
            "Requirement already satisfied: urllib3<3,>=1.21.1 in /usr/local/lib/python3.10/dist-packages (from requests>=2.31.0->lancedb<0.6.0,>=0.5.1->llama-index-vector-stores-lancedb) (2.0.7)\n",
            "Requirement already satisfied: decorator>=3.4.2 in /usr/local/lib/python3.10/dist-packages (from retry>=0.9.2->lancedb<0.6.0,>=0.5.1->llama-index-vector-stores-lancedb) (4.4.2)\n",
            "Collecting py<2.0.0,>=1.4.26 (from retry>=0.9.2->lancedb<0.6.0,>=0.5.1->llama-index-vector-stores-lancedb)\n",
            "  Downloading py-1.11.0-py2.py3-none-any.whl (98 kB)\n",
            "\u001b[2K     \u001b[90m━━━━━━━━━━━━━━━━━━━━━━━━━━━━━━━━━━━━━━━━\u001b[0m \u001b[32m98.7/98.7 kB\u001b[0m \u001b[31m15.9 MB/s\u001b[0m eta \u001b[36m0:00:00\u001b[0m\n",
            "\u001b[?25hRequirement already satisfied: greenlet!=0.4.17 in /usr/local/lib/python3.10/dist-packages (from SQLAlchemy[asyncio]>=1.4.49->llama-index-core<0.11.0,>=0.10.1->llama-index-vector-stores-lancedb) (3.0.3)\n",
            "Collecting mypy-extensions>=0.3.0 (from typing-inspect>=0.8.0->llama-index-core<0.11.0,>=0.10.1->llama-index-vector-stores-lancedb)\n",
            "  Downloading mypy_extensions-1.0.0-py3-none-any.whl (4.7 kB)\n",
            "Collecting marshmallow<4.0.0,>=3.18.0 (from dataclasses-json->llama-index-core<0.11.0,>=0.10.1->llama-index-vector-stores-lancedb)\n",
            "  Downloading marshmallow-3.21.1-py3-none-any.whl (49 kB)\n",
            "\u001b[2K     \u001b[90m━━━━━━━━━━━━━━━━━━━━━━━━━━━━━━━━━━━━━━━━\u001b[0m \u001b[32m49.4/49.4 kB\u001b[0m \u001b[31m7.6 MB/s\u001b[0m eta \u001b[36m0:00:00\u001b[0m\n",
            "\u001b[?25hRequirement already satisfied: packaging in /usr/local/lib/python3.10/dist-packages (from deprecation->lancedb<0.6.0,>=0.5.1->llama-index-vector-stores-lancedb) (24.0)\n",
            "Requirement already satisfied: python-dateutil>=2.8.2 in /usr/local/lib/python3.10/dist-packages (from pandas->llama-index-core<0.11.0,>=0.10.1->llama-index-vector-stores-lancedb) (2.8.2)\n",
            "Requirement already satisfied: pytz>=2020.1 in /usr/local/lib/python3.10/dist-packages (from pandas->llama-index-core<0.11.0,>=0.10.1->llama-index-vector-stores-lancedb) (2023.4)\n",
            "Requirement already satisfied: tzdata>=2022.1 in /usr/local/lib/python3.10/dist-packages (from pandas->llama-index-core<0.11.0,>=0.10.1->llama-index-vector-stores-lancedb) (2024.1)\n",
            "Requirement already satisfied: exceptiongroup in /usr/local/lib/python3.10/dist-packages (from anyio->httpx->llama-index-core<0.11.0,>=0.10.1->llama-index-vector-stores-lancedb) (1.2.0)\n",
            "Requirement already satisfied: six>=1.5 in /usr/local/lib/python3.10/dist-packages (from python-dateutil>=2.8.2->pandas->llama-index-core<0.11.0,>=0.10.1->llama-index-vector-stores-lancedb) (1.16.0)\n",
            "Installing collected packages: ratelimiter, dirtyjson, semver, py, overrides, mypy-extensions, marshmallow, h11, deprecation, deprecated, typing-inspect, tiktoken, retry, pylance, httpcore, lancedb, httpx, dataclasses-json, openai, llamaindex-py-client, llama-index-core, llama-index-vector-stores-lancedb\n",
            "Successfully installed dataclasses-json-0.6.4 deprecated-1.2.14 deprecation-2.1.0 dirtyjson-1.0.8 h11-0.14.0 httpcore-1.0.5 httpx-0.27.0 lancedb-0.5.7 llama-index-core-0.10.29 llama-index-vector-stores-lancedb-0.1.3 llamaindex-py-client-0.1.18 marshmallow-3.21.1 mypy-extensions-1.0.0 openai-1.17.1 overrides-7.7.0 py-1.11.0 pylance-0.9.18 ratelimiter-1.2.0.post0 retry-0.9.2 semver-3.0.2 tiktoken-0.6.0 typing-inspect-0.9.0\n",
            "Collecting llama-index-multi-modal-llms-openai\n",
            "  Downloading llama_index_multi_modal_llms_openai-0.1.5-py3-none-any.whl (5.8 kB)\n",
            "Requirement already satisfied: llama-index-core<0.11.0,>=0.10.1 in /usr/local/lib/python3.10/dist-packages (from llama-index-multi-modal-llms-openai) (0.10.29)\n",
            "Collecting llama-index-llms-openai<0.2.0,>=0.1.1 (from llama-index-multi-modal-llms-openai)\n",
            "  Downloading llama_index_llms_openai-0.1.15-py3-none-any.whl (10 kB)\n",
            "Requirement already satisfied: PyYAML>=6.0.1 in /usr/local/lib/python3.10/dist-packages (from llama-index-core<0.11.0,>=0.10.1->llama-index-multi-modal-llms-openai) (6.0.1)\n",
            "Requirement already satisfied: SQLAlchemy[asyncio]>=1.4.49 in /usr/local/lib/python3.10/dist-packages (from llama-index-core<0.11.0,>=0.10.1->llama-index-multi-modal-llms-openai) (2.0.29)\n",
            "Requirement already satisfied: aiohttp<4.0.0,>=3.8.6 in /usr/local/lib/python3.10/dist-packages (from llama-index-core<0.11.0,>=0.10.1->llama-index-multi-modal-llms-openai) (3.9.3)\n",
            "Requirement already satisfied: dataclasses-json in /usr/local/lib/python3.10/dist-packages (from llama-index-core<0.11.0,>=0.10.1->llama-index-multi-modal-llms-openai) (0.6.4)\n",
            "Requirement already satisfied: deprecated>=1.2.9.3 in /usr/local/lib/python3.10/dist-packages (from llama-index-core<0.11.0,>=0.10.1->llama-index-multi-modal-llms-openai) (1.2.14)\n",
            "Requirement already satisfied: dirtyjson<2.0.0,>=1.0.8 in /usr/local/lib/python3.10/dist-packages (from llama-index-core<0.11.0,>=0.10.1->llama-index-multi-modal-llms-openai) (1.0.8)\n",
            "Requirement already satisfied: fsspec>=2023.5.0 in /usr/local/lib/python3.10/dist-packages (from llama-index-core<0.11.0,>=0.10.1->llama-index-multi-modal-llms-openai) (2023.6.0)\n",
            "Requirement already satisfied: httpx in /usr/local/lib/python3.10/dist-packages (from llama-index-core<0.11.0,>=0.10.1->llama-index-multi-modal-llms-openai) (0.27.0)\n",
            "Requirement already satisfied: llamaindex-py-client<0.2.0,>=0.1.18 in /usr/local/lib/python3.10/dist-packages (from llama-index-core<0.11.0,>=0.10.1->llama-index-multi-modal-llms-openai) (0.1.18)\n",
            "Requirement already satisfied: nest-asyncio<2.0.0,>=1.5.8 in /usr/local/lib/python3.10/dist-packages (from llama-index-core<0.11.0,>=0.10.1->llama-index-multi-modal-llms-openai) (1.6.0)\n",
            "Requirement already satisfied: networkx>=3.0 in /usr/local/lib/python3.10/dist-packages (from llama-index-core<0.11.0,>=0.10.1->llama-index-multi-modal-llms-openai) (3.3)\n",
            "Requirement already satisfied: nltk<4.0.0,>=3.8.1 in /usr/local/lib/python3.10/dist-packages (from llama-index-core<0.11.0,>=0.10.1->llama-index-multi-modal-llms-openai) (3.8.1)\n",
            "Requirement already satisfied: numpy in /usr/local/lib/python3.10/dist-packages (from llama-index-core<0.11.0,>=0.10.1->llama-index-multi-modal-llms-openai) (1.25.2)\n",
            "Requirement already satisfied: openai>=1.1.0 in /usr/local/lib/python3.10/dist-packages (from llama-index-core<0.11.0,>=0.10.1->llama-index-multi-modal-llms-openai) (1.17.1)\n",
            "Requirement already satisfied: pandas in /usr/local/lib/python3.10/dist-packages (from llama-index-core<0.11.0,>=0.10.1->llama-index-multi-modal-llms-openai) (2.0.3)\n",
            "Requirement already satisfied: pillow>=9.0.0 in /usr/local/lib/python3.10/dist-packages (from llama-index-core<0.11.0,>=0.10.1->llama-index-multi-modal-llms-openai) (9.4.0)\n",
            "Requirement already satisfied: requests>=2.31.0 in /usr/local/lib/python3.10/dist-packages (from llama-index-core<0.11.0,>=0.10.1->llama-index-multi-modal-llms-openai) (2.31.0)\n",
            "Requirement already satisfied: tenacity<9.0.0,>=8.2.0 in /usr/local/lib/python3.10/dist-packages (from llama-index-core<0.11.0,>=0.10.1->llama-index-multi-modal-llms-openai) (8.2.3)\n",
            "Requirement already satisfied: tiktoken>=0.3.3 in /usr/local/lib/python3.10/dist-packages (from llama-index-core<0.11.0,>=0.10.1->llama-index-multi-modal-llms-openai) (0.6.0)\n",
            "Requirement already satisfied: tqdm<5.0.0,>=4.66.1 in /usr/local/lib/python3.10/dist-packages (from llama-index-core<0.11.0,>=0.10.1->llama-index-multi-modal-llms-openai) (4.66.2)\n",
            "Requirement already satisfied: typing-extensions>=4.5.0 in /usr/local/lib/python3.10/dist-packages (from llama-index-core<0.11.0,>=0.10.1->llama-index-multi-modal-llms-openai) (4.11.0)\n",
            "Requirement already satisfied: typing-inspect>=0.8.0 in /usr/local/lib/python3.10/dist-packages (from llama-index-core<0.11.0,>=0.10.1->llama-index-multi-modal-llms-openai) (0.9.0)\n",
            "Requirement already satisfied: wrapt in /usr/local/lib/python3.10/dist-packages (from llama-index-core<0.11.0,>=0.10.1->llama-index-multi-modal-llms-openai) (1.14.1)\n",
            "Requirement already satisfied: aiosignal>=1.1.2 in /usr/local/lib/python3.10/dist-packages (from aiohttp<4.0.0,>=3.8.6->llama-index-core<0.11.0,>=0.10.1->llama-index-multi-modal-llms-openai) (1.3.1)\n",
            "Requirement already satisfied: attrs>=17.3.0 in /usr/local/lib/python3.10/dist-packages (from aiohttp<4.0.0,>=3.8.6->llama-index-core<0.11.0,>=0.10.1->llama-index-multi-modal-llms-openai) (23.2.0)\n",
            "Requirement already satisfied: frozenlist>=1.1.1 in /usr/local/lib/python3.10/dist-packages (from aiohttp<4.0.0,>=3.8.6->llama-index-core<0.11.0,>=0.10.1->llama-index-multi-modal-llms-openai) (1.4.1)\n",
            "Requirement already satisfied: multidict<7.0,>=4.5 in /usr/local/lib/python3.10/dist-packages (from aiohttp<4.0.0,>=3.8.6->llama-index-core<0.11.0,>=0.10.1->llama-index-multi-modal-llms-openai) (6.0.5)\n",
            "Requirement already satisfied: yarl<2.0,>=1.0 in /usr/local/lib/python3.10/dist-packages (from aiohttp<4.0.0,>=3.8.6->llama-index-core<0.11.0,>=0.10.1->llama-index-multi-modal-llms-openai) (1.9.4)\n",
            "Requirement already satisfied: async-timeout<5.0,>=4.0 in /usr/local/lib/python3.10/dist-packages (from aiohttp<4.0.0,>=3.8.6->llama-index-core<0.11.0,>=0.10.1->llama-index-multi-modal-llms-openai) (4.0.3)\n",
            "Requirement already satisfied: pydantic>=1.10 in /usr/local/lib/python3.10/dist-packages (from llamaindex-py-client<0.2.0,>=0.1.18->llama-index-core<0.11.0,>=0.10.1->llama-index-multi-modal-llms-openai) (2.6.4)\n",
            "Requirement already satisfied: anyio in /usr/local/lib/python3.10/dist-packages (from httpx->llama-index-core<0.11.0,>=0.10.1->llama-index-multi-modal-llms-openai) (3.7.1)\n",
            "Requirement already satisfied: certifi in /usr/local/lib/python3.10/dist-packages (from httpx->llama-index-core<0.11.0,>=0.10.1->llama-index-multi-modal-llms-openai) (2024.2.2)\n",
            "Requirement already satisfied: httpcore==1.* in /usr/local/lib/python3.10/dist-packages (from httpx->llama-index-core<0.11.0,>=0.10.1->llama-index-multi-modal-llms-openai) (1.0.5)\n",
            "Requirement already satisfied: idna in /usr/local/lib/python3.10/dist-packages (from httpx->llama-index-core<0.11.0,>=0.10.1->llama-index-multi-modal-llms-openai) (3.6)\n",
            "Requirement already satisfied: sniffio in /usr/local/lib/python3.10/dist-packages (from httpx->llama-index-core<0.11.0,>=0.10.1->llama-index-multi-modal-llms-openai) (1.3.1)\n",
            "Requirement already satisfied: h11<0.15,>=0.13 in /usr/local/lib/python3.10/dist-packages (from httpcore==1.*->httpx->llama-index-core<0.11.0,>=0.10.1->llama-index-multi-modal-llms-openai) (0.14.0)\n",
            "Requirement already satisfied: click in /usr/local/lib/python3.10/dist-packages (from nltk<4.0.0,>=3.8.1->llama-index-core<0.11.0,>=0.10.1->llama-index-multi-modal-llms-openai) (8.1.7)\n",
            "Requirement already satisfied: joblib in /usr/local/lib/python3.10/dist-packages (from nltk<4.0.0,>=3.8.1->llama-index-core<0.11.0,>=0.10.1->llama-index-multi-modal-llms-openai) (1.4.0)\n",
            "Requirement already satisfied: regex>=2021.8.3 in /usr/local/lib/python3.10/dist-packages (from nltk<4.0.0,>=3.8.1->llama-index-core<0.11.0,>=0.10.1->llama-index-multi-modal-llms-openai) (2023.12.25)\n",
            "Requirement already satisfied: distro<2,>=1.7.0 in /usr/lib/python3/dist-packages (from openai>=1.1.0->llama-index-core<0.11.0,>=0.10.1->llama-index-multi-modal-llms-openai) (1.7.0)\n",
            "Requirement already satisfied: charset-normalizer<4,>=2 in /usr/local/lib/python3.10/dist-packages (from requests>=2.31.0->llama-index-core<0.11.0,>=0.10.1->llama-index-multi-modal-llms-openai) (3.3.2)\n",
            "Requirement already satisfied: urllib3<3,>=1.21.1 in /usr/local/lib/python3.10/dist-packages (from requests>=2.31.0->llama-index-core<0.11.0,>=0.10.1->llama-index-multi-modal-llms-openai) (2.0.7)\n",
            "Requirement already satisfied: greenlet!=0.4.17 in /usr/local/lib/python3.10/dist-packages (from SQLAlchemy[asyncio]>=1.4.49->llama-index-core<0.11.0,>=0.10.1->llama-index-multi-modal-llms-openai) (3.0.3)\n",
            "Requirement already satisfied: mypy-extensions>=0.3.0 in /usr/local/lib/python3.10/dist-packages (from typing-inspect>=0.8.0->llama-index-core<0.11.0,>=0.10.1->llama-index-multi-modal-llms-openai) (1.0.0)\n",
            "Requirement already satisfied: marshmallow<4.0.0,>=3.18.0 in /usr/local/lib/python3.10/dist-packages (from dataclasses-json->llama-index-core<0.11.0,>=0.10.1->llama-index-multi-modal-llms-openai) (3.21.1)\n",
            "Requirement already satisfied: python-dateutil>=2.8.2 in /usr/local/lib/python3.10/dist-packages (from pandas->llama-index-core<0.11.0,>=0.10.1->llama-index-multi-modal-llms-openai) (2.8.2)\n",
            "Requirement already satisfied: pytz>=2020.1 in /usr/local/lib/python3.10/dist-packages (from pandas->llama-index-core<0.11.0,>=0.10.1->llama-index-multi-modal-llms-openai) (2023.4)\n",
            "Requirement already satisfied: tzdata>=2022.1 in /usr/local/lib/python3.10/dist-packages (from pandas->llama-index-core<0.11.0,>=0.10.1->llama-index-multi-modal-llms-openai) (2024.1)\n",
            "Requirement already satisfied: exceptiongroup in /usr/local/lib/python3.10/dist-packages (from anyio->httpx->llama-index-core<0.11.0,>=0.10.1->llama-index-multi-modal-llms-openai) (1.2.0)\n",
            "Requirement already satisfied: packaging>=17.0 in /usr/local/lib/python3.10/dist-packages (from marshmallow<4.0.0,>=3.18.0->dataclasses-json->llama-index-core<0.11.0,>=0.10.1->llama-index-multi-modal-llms-openai) (24.0)\n",
            "Requirement already satisfied: annotated-types>=0.4.0 in /usr/local/lib/python3.10/dist-packages (from pydantic>=1.10->llamaindex-py-client<0.2.0,>=0.1.18->llama-index-core<0.11.0,>=0.10.1->llama-index-multi-modal-llms-openai) (0.6.0)\n",
            "Requirement already satisfied: pydantic-core==2.16.3 in /usr/local/lib/python3.10/dist-packages (from pydantic>=1.10->llamaindex-py-client<0.2.0,>=0.1.18->llama-index-core<0.11.0,>=0.10.1->llama-index-multi-modal-llms-openai) (2.16.3)\n",
            "Requirement already satisfied: six>=1.5 in /usr/local/lib/python3.10/dist-packages (from python-dateutil>=2.8.2->pandas->llama-index-core<0.11.0,>=0.10.1->llama-index-multi-modal-llms-openai) (1.16.0)\n",
            "Installing collected packages: llama-index-llms-openai, llama-index-multi-modal-llms-openai\n",
            "Successfully installed llama-index-llms-openai-0.1.15 llama-index-multi-modal-llms-openai-0.1.5\n"
          ]
        }
      ]
    },
    {
      "cell_type": "code",
      "execution_count": 3,
      "metadata": {
        "colab": {
          "base_uri": "https://localhost:8080/",
          "height": 1000
        },
        "id": "6DGxM6HDLnKW",
        "outputId": "a8ae155f-cb77-41df-ef57-d58abd5bcebd"
      },
      "outputs": [
        {
          "output_type": "stream",
          "name": "stdout",
          "text": [
            "Collecting llama-index-embeddings-clip\n",
            "  Downloading llama_index_embeddings_clip-0.1.5-py3-none-any.whl (3.2 kB)\n",
            "Collecting ftfy<7.0.0,>=6.1.3 (from llama-index-embeddings-clip)\n",
            "  Downloading ftfy-6.2.0-py3-none-any.whl (54 kB)\n",
            "\u001b[2K     \u001b[90m━━━━━━━━━━━━━━━━━━━━━━━━━━━━━━━━━━━━━━━━\u001b[0m \u001b[32m54.4/54.4 kB\u001b[0m \u001b[31m2.4 MB/s\u001b[0m eta \u001b[36m0:00:00\u001b[0m\n",
            "\u001b[?25hRequirement already satisfied: llama-index-core<0.11.0,>=0.10.1 in /usr/local/lib/python3.10/dist-packages (from llama-index-embeddings-clip) (0.10.29)\n",
            "Collecting pillow<11.0.0,>=10.2.0 (from llama-index-embeddings-clip)\n",
            "  Downloading pillow-10.3.0-cp310-cp310-manylinux_2_28_x86_64.whl (4.5 MB)\n",
            "\u001b[2K     \u001b[90m━━━━━━━━━━━━━━━━━━━━━━━━━━━━━━━━━━━━━━━━\u001b[0m \u001b[32m4.5/4.5 MB\u001b[0m \u001b[31m16.2 MB/s\u001b[0m eta \u001b[36m0:00:00\u001b[0m\n",
            "\u001b[?25hRequirement already satisfied: torch<3.0.0,>=2.1.2 in /usr/local/lib/python3.10/dist-packages (from llama-index-embeddings-clip) (2.2.1+cu121)\n",
            "Requirement already satisfied: torchvision<0.18.0,>=0.17.0 in /usr/local/lib/python3.10/dist-packages (from llama-index-embeddings-clip) (0.17.1+cu121)\n",
            "Requirement already satisfied: wcwidth<0.3.0,>=0.2.12 in /usr/local/lib/python3.10/dist-packages (from ftfy<7.0.0,>=6.1.3->llama-index-embeddings-clip) (0.2.13)\n",
            "Requirement already satisfied: PyYAML>=6.0.1 in /usr/local/lib/python3.10/dist-packages (from llama-index-core<0.11.0,>=0.10.1->llama-index-embeddings-clip) (6.0.1)\n",
            "Requirement already satisfied: SQLAlchemy[asyncio]>=1.4.49 in /usr/local/lib/python3.10/dist-packages (from llama-index-core<0.11.0,>=0.10.1->llama-index-embeddings-clip) (2.0.29)\n",
            "Requirement already satisfied: aiohttp<4.0.0,>=3.8.6 in /usr/local/lib/python3.10/dist-packages (from llama-index-core<0.11.0,>=0.10.1->llama-index-embeddings-clip) (3.9.3)\n",
            "Requirement already satisfied: dataclasses-json in /usr/local/lib/python3.10/dist-packages (from llama-index-core<0.11.0,>=0.10.1->llama-index-embeddings-clip) (0.6.4)\n",
            "Requirement already satisfied: deprecated>=1.2.9.3 in /usr/local/lib/python3.10/dist-packages (from llama-index-core<0.11.0,>=0.10.1->llama-index-embeddings-clip) (1.2.14)\n",
            "Requirement already satisfied: dirtyjson<2.0.0,>=1.0.8 in /usr/local/lib/python3.10/dist-packages (from llama-index-core<0.11.0,>=0.10.1->llama-index-embeddings-clip) (1.0.8)\n",
            "Requirement already satisfied: fsspec>=2023.5.0 in /usr/local/lib/python3.10/dist-packages (from llama-index-core<0.11.0,>=0.10.1->llama-index-embeddings-clip) (2023.6.0)\n",
            "Requirement already satisfied: httpx in /usr/local/lib/python3.10/dist-packages (from llama-index-core<0.11.0,>=0.10.1->llama-index-embeddings-clip) (0.27.0)\n",
            "Requirement already satisfied: llamaindex-py-client<0.2.0,>=0.1.18 in /usr/local/lib/python3.10/dist-packages (from llama-index-core<0.11.0,>=0.10.1->llama-index-embeddings-clip) (0.1.18)\n",
            "Requirement already satisfied: nest-asyncio<2.0.0,>=1.5.8 in /usr/local/lib/python3.10/dist-packages (from llama-index-core<0.11.0,>=0.10.1->llama-index-embeddings-clip) (1.6.0)\n",
            "Requirement already satisfied: networkx>=3.0 in /usr/local/lib/python3.10/dist-packages (from llama-index-core<0.11.0,>=0.10.1->llama-index-embeddings-clip) (3.3)\n",
            "Requirement already satisfied: nltk<4.0.0,>=3.8.1 in /usr/local/lib/python3.10/dist-packages (from llama-index-core<0.11.0,>=0.10.1->llama-index-embeddings-clip) (3.8.1)\n",
            "Requirement already satisfied: numpy in /usr/local/lib/python3.10/dist-packages (from llama-index-core<0.11.0,>=0.10.1->llama-index-embeddings-clip) (1.25.2)\n",
            "Requirement already satisfied: openai>=1.1.0 in /usr/local/lib/python3.10/dist-packages (from llama-index-core<0.11.0,>=0.10.1->llama-index-embeddings-clip) (1.17.1)\n",
            "Requirement already satisfied: pandas in /usr/local/lib/python3.10/dist-packages (from llama-index-core<0.11.0,>=0.10.1->llama-index-embeddings-clip) (2.0.3)\n",
            "Requirement already satisfied: requests>=2.31.0 in /usr/local/lib/python3.10/dist-packages (from llama-index-core<0.11.0,>=0.10.1->llama-index-embeddings-clip) (2.31.0)\n",
            "Requirement already satisfied: tenacity<9.0.0,>=8.2.0 in /usr/local/lib/python3.10/dist-packages (from llama-index-core<0.11.0,>=0.10.1->llama-index-embeddings-clip) (8.2.3)\n",
            "Requirement already satisfied: tiktoken>=0.3.3 in /usr/local/lib/python3.10/dist-packages (from llama-index-core<0.11.0,>=0.10.1->llama-index-embeddings-clip) (0.6.0)\n",
            "Requirement already satisfied: tqdm<5.0.0,>=4.66.1 in /usr/local/lib/python3.10/dist-packages (from llama-index-core<0.11.0,>=0.10.1->llama-index-embeddings-clip) (4.66.2)\n",
            "Requirement already satisfied: typing-extensions>=4.5.0 in /usr/local/lib/python3.10/dist-packages (from llama-index-core<0.11.0,>=0.10.1->llama-index-embeddings-clip) (4.11.0)\n",
            "Requirement already satisfied: typing-inspect>=0.8.0 in /usr/local/lib/python3.10/dist-packages (from llama-index-core<0.11.0,>=0.10.1->llama-index-embeddings-clip) (0.9.0)\n",
            "Requirement already satisfied: wrapt in /usr/local/lib/python3.10/dist-packages (from llama-index-core<0.11.0,>=0.10.1->llama-index-embeddings-clip) (1.14.1)\n",
            "Requirement already satisfied: filelock in /usr/local/lib/python3.10/dist-packages (from torch<3.0.0,>=2.1.2->llama-index-embeddings-clip) (3.13.4)\n",
            "Requirement already satisfied: sympy in /usr/local/lib/python3.10/dist-packages (from torch<3.0.0,>=2.1.2->llama-index-embeddings-clip) (1.12)\n",
            "Requirement already satisfied: jinja2 in /usr/local/lib/python3.10/dist-packages (from torch<3.0.0,>=2.1.2->llama-index-embeddings-clip) (3.1.3)\n",
            "Collecting nvidia-cuda-nvrtc-cu12==12.1.105 (from torch<3.0.0,>=2.1.2->llama-index-embeddings-clip)\n",
            "  Using cached nvidia_cuda_nvrtc_cu12-12.1.105-py3-none-manylinux1_x86_64.whl (23.7 MB)\n",
            "Collecting nvidia-cuda-runtime-cu12==12.1.105 (from torch<3.0.0,>=2.1.2->llama-index-embeddings-clip)\n",
            "  Using cached nvidia_cuda_runtime_cu12-12.1.105-py3-none-manylinux1_x86_64.whl (823 kB)\n",
            "Collecting nvidia-cuda-cupti-cu12==12.1.105 (from torch<3.0.0,>=2.1.2->llama-index-embeddings-clip)\n",
            "  Using cached nvidia_cuda_cupti_cu12-12.1.105-py3-none-manylinux1_x86_64.whl (14.1 MB)\n",
            "Collecting nvidia-cudnn-cu12==8.9.2.26 (from torch<3.0.0,>=2.1.2->llama-index-embeddings-clip)\n",
            "  Using cached nvidia_cudnn_cu12-8.9.2.26-py3-none-manylinux1_x86_64.whl (731.7 MB)\n",
            "Collecting nvidia-cublas-cu12==12.1.3.1 (from torch<3.0.0,>=2.1.2->llama-index-embeddings-clip)\n",
            "  Using cached nvidia_cublas_cu12-12.1.3.1-py3-none-manylinux1_x86_64.whl (410.6 MB)\n",
            "Collecting nvidia-cufft-cu12==11.0.2.54 (from torch<3.0.0,>=2.1.2->llama-index-embeddings-clip)\n",
            "  Using cached nvidia_cufft_cu12-11.0.2.54-py3-none-manylinux1_x86_64.whl (121.6 MB)\n",
            "Collecting nvidia-curand-cu12==10.3.2.106 (from torch<3.0.0,>=2.1.2->llama-index-embeddings-clip)\n",
            "  Using cached nvidia_curand_cu12-10.3.2.106-py3-none-manylinux1_x86_64.whl (56.5 MB)\n",
            "Collecting nvidia-cusolver-cu12==11.4.5.107 (from torch<3.0.0,>=2.1.2->llama-index-embeddings-clip)\n",
            "  Using cached nvidia_cusolver_cu12-11.4.5.107-py3-none-manylinux1_x86_64.whl (124.2 MB)\n",
            "Collecting nvidia-cusparse-cu12==12.1.0.106 (from torch<3.0.0,>=2.1.2->llama-index-embeddings-clip)\n",
            "  Using cached nvidia_cusparse_cu12-12.1.0.106-py3-none-manylinux1_x86_64.whl (196.0 MB)\n",
            "Collecting nvidia-nccl-cu12==2.19.3 (from torch<3.0.0,>=2.1.2->llama-index-embeddings-clip)\n",
            "  Using cached nvidia_nccl_cu12-2.19.3-py3-none-manylinux1_x86_64.whl (166.0 MB)\n",
            "Collecting nvidia-nvtx-cu12==12.1.105 (from torch<3.0.0,>=2.1.2->llama-index-embeddings-clip)\n",
            "  Using cached nvidia_nvtx_cu12-12.1.105-py3-none-manylinux1_x86_64.whl (99 kB)\n",
            "Requirement already satisfied: triton==2.2.0 in /usr/local/lib/python3.10/dist-packages (from torch<3.0.0,>=2.1.2->llama-index-embeddings-clip) (2.2.0)\n",
            "Collecting nvidia-nvjitlink-cu12 (from nvidia-cusolver-cu12==11.4.5.107->torch<3.0.0,>=2.1.2->llama-index-embeddings-clip)\n",
            "  Using cached nvidia_nvjitlink_cu12-12.4.127-py3-none-manylinux2014_x86_64.whl (21.1 MB)\n",
            "Requirement already satisfied: aiosignal>=1.1.2 in /usr/local/lib/python3.10/dist-packages (from aiohttp<4.0.0,>=3.8.6->llama-index-core<0.11.0,>=0.10.1->llama-index-embeddings-clip) (1.3.1)\n",
            "Requirement already satisfied: attrs>=17.3.0 in /usr/local/lib/python3.10/dist-packages (from aiohttp<4.0.0,>=3.8.6->llama-index-core<0.11.0,>=0.10.1->llama-index-embeddings-clip) (23.2.0)\n",
            "Requirement already satisfied: frozenlist>=1.1.1 in /usr/local/lib/python3.10/dist-packages (from aiohttp<4.0.0,>=3.8.6->llama-index-core<0.11.0,>=0.10.1->llama-index-embeddings-clip) (1.4.1)\n",
            "Requirement already satisfied: multidict<7.0,>=4.5 in /usr/local/lib/python3.10/dist-packages (from aiohttp<4.0.0,>=3.8.6->llama-index-core<0.11.0,>=0.10.1->llama-index-embeddings-clip) (6.0.5)\n",
            "Requirement already satisfied: yarl<2.0,>=1.0 in /usr/local/lib/python3.10/dist-packages (from aiohttp<4.0.0,>=3.8.6->llama-index-core<0.11.0,>=0.10.1->llama-index-embeddings-clip) (1.9.4)\n",
            "Requirement already satisfied: async-timeout<5.0,>=4.0 in /usr/local/lib/python3.10/dist-packages (from aiohttp<4.0.0,>=3.8.6->llama-index-core<0.11.0,>=0.10.1->llama-index-embeddings-clip) (4.0.3)\n",
            "Requirement already satisfied: pydantic>=1.10 in /usr/local/lib/python3.10/dist-packages (from llamaindex-py-client<0.2.0,>=0.1.18->llama-index-core<0.11.0,>=0.10.1->llama-index-embeddings-clip) (2.6.4)\n",
            "Requirement already satisfied: anyio in /usr/local/lib/python3.10/dist-packages (from httpx->llama-index-core<0.11.0,>=0.10.1->llama-index-embeddings-clip) (3.7.1)\n",
            "Requirement already satisfied: certifi in /usr/local/lib/python3.10/dist-packages (from httpx->llama-index-core<0.11.0,>=0.10.1->llama-index-embeddings-clip) (2024.2.2)\n",
            "Requirement already satisfied: httpcore==1.* in /usr/local/lib/python3.10/dist-packages (from httpx->llama-index-core<0.11.0,>=0.10.1->llama-index-embeddings-clip) (1.0.5)\n",
            "Requirement already satisfied: idna in /usr/local/lib/python3.10/dist-packages (from httpx->llama-index-core<0.11.0,>=0.10.1->llama-index-embeddings-clip) (3.6)\n",
            "Requirement already satisfied: sniffio in /usr/local/lib/python3.10/dist-packages (from httpx->llama-index-core<0.11.0,>=0.10.1->llama-index-embeddings-clip) (1.3.1)\n",
            "Requirement already satisfied: h11<0.15,>=0.13 in /usr/local/lib/python3.10/dist-packages (from httpcore==1.*->httpx->llama-index-core<0.11.0,>=0.10.1->llama-index-embeddings-clip) (0.14.0)\n",
            "Requirement already satisfied: click in /usr/local/lib/python3.10/dist-packages (from nltk<4.0.0,>=3.8.1->llama-index-core<0.11.0,>=0.10.1->llama-index-embeddings-clip) (8.1.7)\n",
            "Requirement already satisfied: joblib in /usr/local/lib/python3.10/dist-packages (from nltk<4.0.0,>=3.8.1->llama-index-core<0.11.0,>=0.10.1->llama-index-embeddings-clip) (1.4.0)\n",
            "Requirement already satisfied: regex>=2021.8.3 in /usr/local/lib/python3.10/dist-packages (from nltk<4.0.0,>=3.8.1->llama-index-core<0.11.0,>=0.10.1->llama-index-embeddings-clip) (2023.12.25)\n",
            "Requirement already satisfied: distro<2,>=1.7.0 in /usr/lib/python3/dist-packages (from openai>=1.1.0->llama-index-core<0.11.0,>=0.10.1->llama-index-embeddings-clip) (1.7.0)\n",
            "Requirement already satisfied: charset-normalizer<4,>=2 in /usr/local/lib/python3.10/dist-packages (from requests>=2.31.0->llama-index-core<0.11.0,>=0.10.1->llama-index-embeddings-clip) (3.3.2)\n",
            "Requirement already satisfied: urllib3<3,>=1.21.1 in /usr/local/lib/python3.10/dist-packages (from requests>=2.31.0->llama-index-core<0.11.0,>=0.10.1->llama-index-embeddings-clip) (2.0.7)\n",
            "Requirement already satisfied: greenlet!=0.4.17 in /usr/local/lib/python3.10/dist-packages (from SQLAlchemy[asyncio]>=1.4.49->llama-index-core<0.11.0,>=0.10.1->llama-index-embeddings-clip) (3.0.3)\n",
            "Requirement already satisfied: mypy-extensions>=0.3.0 in /usr/local/lib/python3.10/dist-packages (from typing-inspect>=0.8.0->llama-index-core<0.11.0,>=0.10.1->llama-index-embeddings-clip) (1.0.0)\n",
            "Requirement already satisfied: marshmallow<4.0.0,>=3.18.0 in /usr/local/lib/python3.10/dist-packages (from dataclasses-json->llama-index-core<0.11.0,>=0.10.1->llama-index-embeddings-clip) (3.21.1)\n",
            "Requirement already satisfied: MarkupSafe>=2.0 in /usr/local/lib/python3.10/dist-packages (from jinja2->torch<3.0.0,>=2.1.2->llama-index-embeddings-clip) (2.1.5)\n",
            "Requirement already satisfied: python-dateutil>=2.8.2 in /usr/local/lib/python3.10/dist-packages (from pandas->llama-index-core<0.11.0,>=0.10.1->llama-index-embeddings-clip) (2.8.2)\n",
            "Requirement already satisfied: pytz>=2020.1 in /usr/local/lib/python3.10/dist-packages (from pandas->llama-index-core<0.11.0,>=0.10.1->llama-index-embeddings-clip) (2023.4)\n",
            "Requirement already satisfied: tzdata>=2022.1 in /usr/local/lib/python3.10/dist-packages (from pandas->llama-index-core<0.11.0,>=0.10.1->llama-index-embeddings-clip) (2024.1)\n",
            "Requirement already satisfied: mpmath>=0.19 in /usr/local/lib/python3.10/dist-packages (from sympy->torch<3.0.0,>=2.1.2->llama-index-embeddings-clip) (1.3.0)\n",
            "Requirement already satisfied: exceptiongroup in /usr/local/lib/python3.10/dist-packages (from anyio->httpx->llama-index-core<0.11.0,>=0.10.1->llama-index-embeddings-clip) (1.2.0)\n",
            "Requirement already satisfied: packaging>=17.0 in /usr/local/lib/python3.10/dist-packages (from marshmallow<4.0.0,>=3.18.0->dataclasses-json->llama-index-core<0.11.0,>=0.10.1->llama-index-embeddings-clip) (24.0)\n",
            "Requirement already satisfied: annotated-types>=0.4.0 in /usr/local/lib/python3.10/dist-packages (from pydantic>=1.10->llamaindex-py-client<0.2.0,>=0.1.18->llama-index-core<0.11.0,>=0.10.1->llama-index-embeddings-clip) (0.6.0)\n",
            "Requirement already satisfied: pydantic-core==2.16.3 in /usr/local/lib/python3.10/dist-packages (from pydantic>=1.10->llamaindex-py-client<0.2.0,>=0.1.18->llama-index-core<0.11.0,>=0.10.1->llama-index-embeddings-clip) (2.16.3)\n",
            "Requirement already satisfied: six>=1.5 in /usr/local/lib/python3.10/dist-packages (from python-dateutil>=2.8.2->pandas->llama-index-core<0.11.0,>=0.10.1->llama-index-embeddings-clip) (1.16.0)\n",
            "Installing collected packages: pillow, nvidia-nvtx-cu12, nvidia-nvjitlink-cu12, nvidia-nccl-cu12, nvidia-curand-cu12, nvidia-cufft-cu12, nvidia-cuda-runtime-cu12, nvidia-cuda-nvrtc-cu12, nvidia-cuda-cupti-cu12, nvidia-cublas-cu12, ftfy, nvidia-cusparse-cu12, nvidia-cudnn-cu12, nvidia-cusolver-cu12, llama-index-embeddings-clip\n",
            "  Attempting uninstall: pillow\n",
            "    Found existing installation: Pillow 9.4.0\n",
            "    Uninstalling Pillow-9.4.0:\n",
            "      Successfully uninstalled Pillow-9.4.0\n",
            "\u001b[31mERROR: pip's dependency resolver does not currently take into account all the packages that are installed. This behaviour is the source of the following dependency conflicts.\n",
            "imageio 2.31.6 requires pillow<10.1.0,>=8.3.2, but you have pillow 10.3.0 which is incompatible.\u001b[0m\u001b[31m\n",
            "\u001b[0mSuccessfully installed ftfy-6.2.0 llama-index-embeddings-clip-0.1.5 nvidia-cublas-cu12-12.1.3.1 nvidia-cuda-cupti-cu12-12.1.105 nvidia-cuda-nvrtc-cu12-12.1.105 nvidia-cuda-runtime-cu12-12.1.105 nvidia-cudnn-cu12-8.9.2.26 nvidia-cufft-cu12-11.0.2.54 nvidia-curand-cu12-10.3.2.106 nvidia-cusolver-cu12-11.4.5.107 nvidia-cusparse-cu12-12.1.0.106 nvidia-nccl-cu12-2.19.3 nvidia-nvjitlink-cu12-12.4.127 nvidia-nvtx-cu12-12.1.105 pillow-10.3.0\n"
          ]
        },
        {
          "output_type": "display_data",
          "data": {
            "application/vnd.colab-display-data+json": {
              "pip_warning": {
                "packages": [
                  "PIL"
                ]
              },
              "id": "1021143d46f8445ab4a5b3cd60c06f6d"
            }
          },
          "metadata": {}
        }
      ],
      "source": [
        "%pip install llama-index-embeddings-clip"
      ]
    },
    {
      "cell_type": "code",
      "source": [
        "%pip install llama_index ftfy regex tqdm\n",
        "%pip install -U openai-whisper\n",
        "%pip install git+https://github.com/openai/CLIP.git\n",
        "%pip install torch torchvision\n",
        "%pip install matplotlib scikit-image\n",
        "%pip install lancedb\n",
        "%pip install moviepy\n",
        "%pip install pytube\n",
        "%pip install pydub\n",
        "%pip install SpeechRecognition\n",
        "%pip install ffmpeg-python\n",
        "%pip install soundfile"
      ],
      "metadata": {
        "colab": {
          "base_uri": "https://localhost:8080/",
          "height": 1000
        },
        "id": "DSxcnlL4ME_q",
        "outputId": "10fa00e0-489f-493a-f545-64c3b1fcb061"
      },
      "execution_count": 4,
      "outputs": [
        {
          "output_type": "stream",
          "name": "stdout",
          "text": [
            "Collecting llama_index\n",
            "  Downloading llama_index-0.10.29-py3-none-any.whl (6.9 kB)\n",
            "Requirement already satisfied: ftfy in /usr/local/lib/python3.10/dist-packages (6.2.0)\n",
            "Requirement already satisfied: regex in /usr/local/lib/python3.10/dist-packages (2023.12.25)\n",
            "Requirement already satisfied: tqdm in /usr/local/lib/python3.10/dist-packages (4.66.2)\n",
            "Collecting llama-index-agent-openai<0.3.0,>=0.1.4 (from llama_index)\n",
            "  Downloading llama_index_agent_openai-0.2.2-py3-none-any.whl (12 kB)\n",
            "Collecting llama-index-cli<0.2.0,>=0.1.2 (from llama_index)\n",
            "  Downloading llama_index_cli-0.1.11-py3-none-any.whl (26 kB)\n",
            "Requirement already satisfied: llama-index-core<0.11.0,>=0.10.29 in /usr/local/lib/python3.10/dist-packages (from llama_index) (0.10.29)\n",
            "Collecting llama-index-embeddings-openai<0.2.0,>=0.1.5 (from llama_index)\n",
            "  Downloading llama_index_embeddings_openai-0.1.7-py3-none-any.whl (6.0 kB)\n",
            "Collecting llama-index-indices-managed-llama-cloud<0.2.0,>=0.1.2 (from llama_index)\n",
            "  Downloading llama_index_indices_managed_llama_cloud-0.1.5-py3-none-any.whl (6.7 kB)\n",
            "Collecting llama-index-legacy<0.10.0,>=0.9.48 (from llama_index)\n",
            "  Downloading llama_index_legacy-0.9.48-py3-none-any.whl (2.0 MB)\n",
            "\u001b[2K     \u001b[90m━━━━━━━━━━━━━━━━━━━━━━━━━━━━━━━━━━━━━━━━\u001b[0m \u001b[32m2.0/2.0 MB\u001b[0m \u001b[31m42.1 MB/s\u001b[0m eta \u001b[36m0:00:00\u001b[0m\n",
            "\u001b[?25hRequirement already satisfied: llama-index-llms-openai<0.2.0,>=0.1.13 in /usr/local/lib/python3.10/dist-packages (from llama_index) (0.1.15)\n",
            "Requirement already satisfied: llama-index-multi-modal-llms-openai<0.2.0,>=0.1.3 in /usr/local/lib/python3.10/dist-packages (from llama_index) (0.1.5)\n",
            "Collecting llama-index-program-openai<0.2.0,>=0.1.3 (from llama_index)\n",
            "  Downloading llama_index_program_openai-0.1.5-py3-none-any.whl (4.1 kB)\n",
            "Collecting llama-index-question-gen-openai<0.2.0,>=0.1.2 (from llama_index)\n",
            "  Downloading llama_index_question_gen_openai-0.1.3-py3-none-any.whl (2.9 kB)\n",
            "Collecting llama-index-readers-file<0.2.0,>=0.1.4 (from llama_index)\n",
            "  Downloading llama_index_readers_file-0.1.18-py3-none-any.whl (36 kB)\n",
            "Collecting llama-index-readers-llama-parse<0.2.0,>=0.1.2 (from llama_index)\n",
            "  Downloading llama_index_readers_llama_parse-0.1.4-py3-none-any.whl (2.5 kB)\n",
            "Requirement already satisfied: wcwidth<0.3.0,>=0.2.12 in /usr/local/lib/python3.10/dist-packages (from ftfy) (0.2.13)\n",
            "Requirement already satisfied: openai>=1.14.0 in /usr/local/lib/python3.10/dist-packages (from llama-index-agent-openai<0.3.0,>=0.1.4->llama_index) (1.17.1)\n",
            "Requirement already satisfied: PyYAML>=6.0.1 in /usr/local/lib/python3.10/dist-packages (from llama-index-core<0.11.0,>=0.10.29->llama_index) (6.0.1)\n",
            "Requirement already satisfied: SQLAlchemy[asyncio]>=1.4.49 in /usr/local/lib/python3.10/dist-packages (from llama-index-core<0.11.0,>=0.10.29->llama_index) (2.0.29)\n",
            "Requirement already satisfied: aiohttp<4.0.0,>=3.8.6 in /usr/local/lib/python3.10/dist-packages (from llama-index-core<0.11.0,>=0.10.29->llama_index) (3.9.3)\n",
            "Requirement already satisfied: dataclasses-json in /usr/local/lib/python3.10/dist-packages (from llama-index-core<0.11.0,>=0.10.29->llama_index) (0.6.4)\n",
            "Requirement already satisfied: deprecated>=1.2.9.3 in /usr/local/lib/python3.10/dist-packages (from llama-index-core<0.11.0,>=0.10.29->llama_index) (1.2.14)\n",
            "Requirement already satisfied: dirtyjson<2.0.0,>=1.0.8 in /usr/local/lib/python3.10/dist-packages (from llama-index-core<0.11.0,>=0.10.29->llama_index) (1.0.8)\n",
            "Requirement already satisfied: fsspec>=2023.5.0 in /usr/local/lib/python3.10/dist-packages (from llama-index-core<0.11.0,>=0.10.29->llama_index) (2023.6.0)\n",
            "Requirement already satisfied: httpx in /usr/local/lib/python3.10/dist-packages (from llama-index-core<0.11.0,>=0.10.29->llama_index) (0.27.0)\n",
            "Requirement already satisfied: llamaindex-py-client<0.2.0,>=0.1.18 in /usr/local/lib/python3.10/dist-packages (from llama-index-core<0.11.0,>=0.10.29->llama_index) (0.1.18)\n",
            "Requirement already satisfied: nest-asyncio<2.0.0,>=1.5.8 in /usr/local/lib/python3.10/dist-packages (from llama-index-core<0.11.0,>=0.10.29->llama_index) (1.6.0)\n",
            "Requirement already satisfied: networkx>=3.0 in /usr/local/lib/python3.10/dist-packages (from llama-index-core<0.11.0,>=0.10.29->llama_index) (3.3)\n",
            "Requirement already satisfied: nltk<4.0.0,>=3.8.1 in /usr/local/lib/python3.10/dist-packages (from llama-index-core<0.11.0,>=0.10.29->llama_index) (3.8.1)\n",
            "Requirement already satisfied: numpy in /usr/local/lib/python3.10/dist-packages (from llama-index-core<0.11.0,>=0.10.29->llama_index) (1.25.2)\n",
            "Requirement already satisfied: pandas in /usr/local/lib/python3.10/dist-packages (from llama-index-core<0.11.0,>=0.10.29->llama_index) (2.0.3)\n",
            "Requirement already satisfied: pillow>=9.0.0 in /usr/local/lib/python3.10/dist-packages (from llama-index-core<0.11.0,>=0.10.29->llama_index) (10.3.0)\n",
            "Requirement already satisfied: requests>=2.31.0 in /usr/local/lib/python3.10/dist-packages (from llama-index-core<0.11.0,>=0.10.29->llama_index) (2.31.0)\n",
            "Requirement already satisfied: tenacity<9.0.0,>=8.2.0 in /usr/local/lib/python3.10/dist-packages (from llama-index-core<0.11.0,>=0.10.29->llama_index) (8.2.3)\n",
            "Requirement already satisfied: tiktoken>=0.3.3 in /usr/local/lib/python3.10/dist-packages (from llama-index-core<0.11.0,>=0.10.29->llama_index) (0.6.0)\n",
            "Requirement already satisfied: typing-extensions>=4.5.0 in /usr/local/lib/python3.10/dist-packages (from llama-index-core<0.11.0,>=0.10.29->llama_index) (4.11.0)\n",
            "Requirement already satisfied: typing-inspect>=0.8.0 in /usr/local/lib/python3.10/dist-packages (from llama-index-core<0.11.0,>=0.10.29->llama_index) (0.9.0)\n",
            "Requirement already satisfied: wrapt in /usr/local/lib/python3.10/dist-packages (from llama-index-core<0.11.0,>=0.10.29->llama_index) (1.14.1)\n",
            "Requirement already satisfied: beautifulsoup4<5.0.0,>=4.12.3 in /usr/local/lib/python3.10/dist-packages (from llama-index-readers-file<0.2.0,>=0.1.4->llama_index) (4.12.3)\n",
            "Collecting pypdf<5.0.0,>=4.0.1 (from llama-index-readers-file<0.2.0,>=0.1.4->llama_index)\n",
            "  Downloading pypdf-4.2.0-py3-none-any.whl (290 kB)\n",
            "\u001b[2K     \u001b[90m━━━━━━━━━━━━━━━━━━━━━━━━━━━━━━━━━━━━━━━━\u001b[0m \u001b[32m290.4/290.4 kB\u001b[0m \u001b[31m37.3 MB/s\u001b[0m eta \u001b[36m0:00:00\u001b[0m\n",
            "\u001b[?25hCollecting striprtf<0.0.27,>=0.0.26 (from llama-index-readers-file<0.2.0,>=0.1.4->llama_index)\n",
            "  Downloading striprtf-0.0.26-py3-none-any.whl (6.9 kB)\n",
            "Collecting llama-parse<0.5.0,>=0.4.0 (from llama-index-readers-llama-parse<0.2.0,>=0.1.2->llama_index)\n",
            "  Downloading llama_parse-0.4.1-py3-none-any.whl (7.3 kB)\n",
            "Requirement already satisfied: aiosignal>=1.1.2 in /usr/local/lib/python3.10/dist-packages (from aiohttp<4.0.0,>=3.8.6->llama-index-core<0.11.0,>=0.10.29->llama_index) (1.3.1)\n",
            "Requirement already satisfied: attrs>=17.3.0 in /usr/local/lib/python3.10/dist-packages (from aiohttp<4.0.0,>=3.8.6->llama-index-core<0.11.0,>=0.10.29->llama_index) (23.2.0)\n",
            "Requirement already satisfied: frozenlist>=1.1.1 in /usr/local/lib/python3.10/dist-packages (from aiohttp<4.0.0,>=3.8.6->llama-index-core<0.11.0,>=0.10.29->llama_index) (1.4.1)\n",
            "Requirement already satisfied: multidict<7.0,>=4.5 in /usr/local/lib/python3.10/dist-packages (from aiohttp<4.0.0,>=3.8.6->llama-index-core<0.11.0,>=0.10.29->llama_index) (6.0.5)\n",
            "Requirement already satisfied: yarl<2.0,>=1.0 in /usr/local/lib/python3.10/dist-packages (from aiohttp<4.0.0,>=3.8.6->llama-index-core<0.11.0,>=0.10.29->llama_index) (1.9.4)\n",
            "Requirement already satisfied: async-timeout<5.0,>=4.0 in /usr/local/lib/python3.10/dist-packages (from aiohttp<4.0.0,>=3.8.6->llama-index-core<0.11.0,>=0.10.29->llama_index) (4.0.3)\n",
            "Requirement already satisfied: soupsieve>1.2 in /usr/local/lib/python3.10/dist-packages (from beautifulsoup4<5.0.0,>=4.12.3->llama-index-readers-file<0.2.0,>=0.1.4->llama_index) (2.5)\n",
            "Requirement already satisfied: pydantic>=1.10 in /usr/local/lib/python3.10/dist-packages (from llamaindex-py-client<0.2.0,>=0.1.18->llama-index-core<0.11.0,>=0.10.29->llama_index) (2.6.4)\n",
            "Requirement already satisfied: anyio in /usr/local/lib/python3.10/dist-packages (from httpx->llama-index-core<0.11.0,>=0.10.29->llama_index) (3.7.1)\n",
            "Requirement already satisfied: certifi in /usr/local/lib/python3.10/dist-packages (from httpx->llama-index-core<0.11.0,>=0.10.29->llama_index) (2024.2.2)\n",
            "Requirement already satisfied: httpcore==1.* in /usr/local/lib/python3.10/dist-packages (from httpx->llama-index-core<0.11.0,>=0.10.29->llama_index) (1.0.5)\n",
            "Requirement already satisfied: idna in /usr/local/lib/python3.10/dist-packages (from httpx->llama-index-core<0.11.0,>=0.10.29->llama_index) (3.6)\n",
            "Requirement already satisfied: sniffio in /usr/local/lib/python3.10/dist-packages (from httpx->llama-index-core<0.11.0,>=0.10.29->llama_index) (1.3.1)\n",
            "Requirement already satisfied: h11<0.15,>=0.13 in /usr/local/lib/python3.10/dist-packages (from httpcore==1.*->httpx->llama-index-core<0.11.0,>=0.10.29->llama_index) (0.14.0)\n",
            "Requirement already satisfied: click in /usr/local/lib/python3.10/dist-packages (from nltk<4.0.0,>=3.8.1->llama-index-core<0.11.0,>=0.10.29->llama_index) (8.1.7)\n",
            "Requirement already satisfied: joblib in /usr/local/lib/python3.10/dist-packages (from nltk<4.0.0,>=3.8.1->llama-index-core<0.11.0,>=0.10.29->llama_index) (1.4.0)\n",
            "Requirement already satisfied: distro<2,>=1.7.0 in /usr/lib/python3/dist-packages (from openai>=1.14.0->llama-index-agent-openai<0.3.0,>=0.1.4->llama_index) (1.7.0)\n",
            "Requirement already satisfied: charset-normalizer<4,>=2 in /usr/local/lib/python3.10/dist-packages (from requests>=2.31.0->llama-index-core<0.11.0,>=0.10.29->llama_index) (3.3.2)\n",
            "Requirement already satisfied: urllib3<3,>=1.21.1 in /usr/local/lib/python3.10/dist-packages (from requests>=2.31.0->llama-index-core<0.11.0,>=0.10.29->llama_index) (2.0.7)\n",
            "Requirement already satisfied: greenlet!=0.4.17 in /usr/local/lib/python3.10/dist-packages (from SQLAlchemy[asyncio]>=1.4.49->llama-index-core<0.11.0,>=0.10.29->llama_index) (3.0.3)\n",
            "Requirement already satisfied: mypy-extensions>=0.3.0 in /usr/local/lib/python3.10/dist-packages (from typing-inspect>=0.8.0->llama-index-core<0.11.0,>=0.10.29->llama_index) (1.0.0)\n",
            "Requirement already satisfied: marshmallow<4.0.0,>=3.18.0 in /usr/local/lib/python3.10/dist-packages (from dataclasses-json->llama-index-core<0.11.0,>=0.10.29->llama_index) (3.21.1)\n",
            "Requirement already satisfied: python-dateutil>=2.8.2 in /usr/local/lib/python3.10/dist-packages (from pandas->llama-index-core<0.11.0,>=0.10.29->llama_index) (2.8.2)\n",
            "Requirement already satisfied: pytz>=2020.1 in /usr/local/lib/python3.10/dist-packages (from pandas->llama-index-core<0.11.0,>=0.10.29->llama_index) (2023.4)\n",
            "Requirement already satisfied: tzdata>=2022.1 in /usr/local/lib/python3.10/dist-packages (from pandas->llama-index-core<0.11.0,>=0.10.29->llama_index) (2024.1)\n",
            "Requirement already satisfied: exceptiongroup in /usr/local/lib/python3.10/dist-packages (from anyio->httpx->llama-index-core<0.11.0,>=0.10.29->llama_index) (1.2.0)\n",
            "Requirement already satisfied: packaging>=17.0 in /usr/local/lib/python3.10/dist-packages (from marshmallow<4.0.0,>=3.18.0->dataclasses-json->llama-index-core<0.11.0,>=0.10.29->llama_index) (24.0)\n",
            "Requirement already satisfied: annotated-types>=0.4.0 in /usr/local/lib/python3.10/dist-packages (from pydantic>=1.10->llamaindex-py-client<0.2.0,>=0.1.18->llama-index-core<0.11.0,>=0.10.29->llama_index) (0.6.0)\n",
            "Requirement already satisfied: pydantic-core==2.16.3 in /usr/local/lib/python3.10/dist-packages (from pydantic>=1.10->llamaindex-py-client<0.2.0,>=0.1.18->llama-index-core<0.11.0,>=0.10.29->llama_index) (2.16.3)\n",
            "Requirement already satisfied: six>=1.5 in /usr/local/lib/python3.10/dist-packages (from python-dateutil>=2.8.2->pandas->llama-index-core<0.11.0,>=0.10.29->llama_index) (1.16.0)\n",
            "Installing collected packages: striprtf, pypdf, llama-index-legacy, llama-parse, llama-index-readers-file, llama-index-indices-managed-llama-cloud, llama-index-embeddings-openai, llama-index-readers-llama-parse, llama-index-cli, llama-index-agent-openai, llama-index-program-openai, llama-index-question-gen-openai, llama_index\n",
            "Successfully installed llama-index-agent-openai-0.2.2 llama-index-cli-0.1.11 llama-index-embeddings-openai-0.1.7 llama-index-indices-managed-llama-cloud-0.1.5 llama-index-legacy-0.9.48 llama-index-program-openai-0.1.5 llama-index-question-gen-openai-0.1.3 llama-index-readers-file-0.1.18 llama-index-readers-llama-parse-0.1.4 llama-parse-0.4.1 llama_index-0.10.29 pypdf-4.2.0 striprtf-0.0.26\n",
            "Collecting openai-whisper\n",
            "  Downloading openai-whisper-20231117.tar.gz (798 kB)\n",
            "\u001b[2K     \u001b[90m━━━━━━━━━━━━━━━━━━━━━━━━━━━━━━━━━━━━━━━━\u001b[0m \u001b[32m798.6/798.6 kB\u001b[0m \u001b[31m10.0 MB/s\u001b[0m eta \u001b[36m0:00:00\u001b[0m\n",
            "\u001b[?25h  Installing build dependencies ... \u001b[?25l\u001b[?25hdone\n",
            "  Getting requirements to build wheel ... \u001b[?25l\u001b[?25hdone\n",
            "  Preparing metadata (pyproject.toml) ... \u001b[?25l\u001b[?25hdone\n",
            "Requirement already satisfied: triton<3,>=2.0.0 in /usr/local/lib/python3.10/dist-packages (from openai-whisper) (2.2.0)\n",
            "Requirement already satisfied: numba in /usr/local/lib/python3.10/dist-packages (from openai-whisper) (0.58.1)\n",
            "Requirement already satisfied: numpy in /usr/local/lib/python3.10/dist-packages (from openai-whisper) (1.25.2)\n",
            "Requirement already satisfied: torch in /usr/local/lib/python3.10/dist-packages (from openai-whisper) (2.2.1+cu121)\n",
            "Requirement already satisfied: tqdm in /usr/local/lib/python3.10/dist-packages (from openai-whisper) (4.66.2)\n",
            "Requirement already satisfied: more-itertools in /usr/local/lib/python3.10/dist-packages (from openai-whisper) (10.1.0)\n",
            "Requirement already satisfied: tiktoken in /usr/local/lib/python3.10/dist-packages (from openai-whisper) (0.6.0)\n",
            "Requirement already satisfied: filelock in /usr/local/lib/python3.10/dist-packages (from triton<3,>=2.0.0->openai-whisper) (3.13.4)\n",
            "Requirement already satisfied: llvmlite<0.42,>=0.41.0dev0 in /usr/local/lib/python3.10/dist-packages (from numba->openai-whisper) (0.41.1)\n",
            "Requirement already satisfied: regex>=2022.1.18 in /usr/local/lib/python3.10/dist-packages (from tiktoken->openai-whisper) (2023.12.25)\n",
            "Requirement already satisfied: requests>=2.26.0 in /usr/local/lib/python3.10/dist-packages (from tiktoken->openai-whisper) (2.31.0)\n",
            "Requirement already satisfied: typing-extensions>=4.8.0 in /usr/local/lib/python3.10/dist-packages (from torch->openai-whisper) (4.11.0)\n",
            "Requirement already satisfied: sympy in /usr/local/lib/python3.10/dist-packages (from torch->openai-whisper) (1.12)\n",
            "Requirement already satisfied: networkx in /usr/local/lib/python3.10/dist-packages (from torch->openai-whisper) (3.3)\n",
            "Requirement already satisfied: jinja2 in /usr/local/lib/python3.10/dist-packages (from torch->openai-whisper) (3.1.3)\n",
            "Requirement already satisfied: fsspec in /usr/local/lib/python3.10/dist-packages (from torch->openai-whisper) (2023.6.0)\n",
            "Requirement already satisfied: nvidia-cuda-nvrtc-cu12==12.1.105 in /usr/local/lib/python3.10/dist-packages (from torch->openai-whisper) (12.1.105)\n",
            "Requirement already satisfied: nvidia-cuda-runtime-cu12==12.1.105 in /usr/local/lib/python3.10/dist-packages (from torch->openai-whisper) (12.1.105)\n",
            "Requirement already satisfied: nvidia-cuda-cupti-cu12==12.1.105 in /usr/local/lib/python3.10/dist-packages (from torch->openai-whisper) (12.1.105)\n",
            "Requirement already satisfied: nvidia-cudnn-cu12==8.9.2.26 in /usr/local/lib/python3.10/dist-packages (from torch->openai-whisper) (8.9.2.26)\n",
            "Requirement already satisfied: nvidia-cublas-cu12==12.1.3.1 in /usr/local/lib/python3.10/dist-packages (from torch->openai-whisper) (12.1.3.1)\n",
            "Requirement already satisfied: nvidia-cufft-cu12==11.0.2.54 in /usr/local/lib/python3.10/dist-packages (from torch->openai-whisper) (11.0.2.54)\n",
            "Requirement already satisfied: nvidia-curand-cu12==10.3.2.106 in /usr/local/lib/python3.10/dist-packages (from torch->openai-whisper) (10.3.2.106)\n",
            "Requirement already satisfied: nvidia-cusolver-cu12==11.4.5.107 in /usr/local/lib/python3.10/dist-packages (from torch->openai-whisper) (11.4.5.107)\n",
            "Requirement already satisfied: nvidia-cusparse-cu12==12.1.0.106 in /usr/local/lib/python3.10/dist-packages (from torch->openai-whisper) (12.1.0.106)\n",
            "Requirement already satisfied: nvidia-nccl-cu12==2.19.3 in /usr/local/lib/python3.10/dist-packages (from torch->openai-whisper) (2.19.3)\n",
            "Requirement already satisfied: nvidia-nvtx-cu12==12.1.105 in /usr/local/lib/python3.10/dist-packages (from torch->openai-whisper) (12.1.105)\n",
            "Requirement already satisfied: nvidia-nvjitlink-cu12 in /usr/local/lib/python3.10/dist-packages (from nvidia-cusolver-cu12==11.4.5.107->torch->openai-whisper) (12.4.127)\n",
            "Requirement already satisfied: charset-normalizer<4,>=2 in /usr/local/lib/python3.10/dist-packages (from requests>=2.26.0->tiktoken->openai-whisper) (3.3.2)\n",
            "Requirement already satisfied: idna<4,>=2.5 in /usr/local/lib/python3.10/dist-packages (from requests>=2.26.0->tiktoken->openai-whisper) (3.6)\n",
            "Requirement already satisfied: urllib3<3,>=1.21.1 in /usr/local/lib/python3.10/dist-packages (from requests>=2.26.0->tiktoken->openai-whisper) (2.0.7)\n",
            "Requirement already satisfied: certifi>=2017.4.17 in /usr/local/lib/python3.10/dist-packages (from requests>=2.26.0->tiktoken->openai-whisper) (2024.2.2)\n",
            "Requirement already satisfied: MarkupSafe>=2.0 in /usr/local/lib/python3.10/dist-packages (from jinja2->torch->openai-whisper) (2.1.5)\n",
            "Requirement already satisfied: mpmath>=0.19 in /usr/local/lib/python3.10/dist-packages (from sympy->torch->openai-whisper) (1.3.0)\n",
            "Building wheels for collected packages: openai-whisper\n",
            "  Building wheel for openai-whisper (pyproject.toml) ... \u001b[?25l\u001b[?25hdone\n",
            "  Created wheel for openai-whisper: filename=openai_whisper-20231117-py3-none-any.whl size=801358 sha256=4b831b8e6a286026de24a8b0e42c03a158068557aa1828f722212daac247035b\n",
            "  Stored in directory: /root/.cache/pip/wheels/d0/85/e1/9361b4cbea7dd4b7f6702fa4c3afc94877952eeb2b62f45f56\n",
            "Successfully built openai-whisper\n",
            "Installing collected packages: openai-whisper\n",
            "Successfully installed openai-whisper-20231117\n",
            "Collecting git+https://github.com/openai/CLIP.git\n",
            "  Cloning https://github.com/openai/CLIP.git to /tmp/pip-req-build-m_7a_833\n",
            "  Running command git clone --filter=blob:none --quiet https://github.com/openai/CLIP.git /tmp/pip-req-build-m_7a_833\n",
            "  Resolved https://github.com/openai/CLIP.git to commit a1d071733d7111c9c014f024669f959182114e33\n",
            "  Preparing metadata (setup.py) ... \u001b[?25l\u001b[?25hdone\n",
            "Requirement already satisfied: ftfy in /usr/local/lib/python3.10/dist-packages (from clip==1.0) (6.2.0)\n",
            "Requirement already satisfied: regex in /usr/local/lib/python3.10/dist-packages (from clip==1.0) (2023.12.25)\n",
            "Requirement already satisfied: tqdm in /usr/local/lib/python3.10/dist-packages (from clip==1.0) (4.66.2)\n",
            "Requirement already satisfied: torch in /usr/local/lib/python3.10/dist-packages (from clip==1.0) (2.2.1+cu121)\n",
            "Requirement already satisfied: torchvision in /usr/local/lib/python3.10/dist-packages (from clip==1.0) (0.17.1+cu121)\n",
            "Requirement already satisfied: wcwidth<0.3.0,>=0.2.12 in /usr/local/lib/python3.10/dist-packages (from ftfy->clip==1.0) (0.2.13)\n",
            "Requirement already satisfied: filelock in /usr/local/lib/python3.10/dist-packages (from torch->clip==1.0) (3.13.4)\n",
            "Requirement already satisfied: typing-extensions>=4.8.0 in /usr/local/lib/python3.10/dist-packages (from torch->clip==1.0) (4.11.0)\n",
            "Requirement already satisfied: sympy in /usr/local/lib/python3.10/dist-packages (from torch->clip==1.0) (1.12)\n",
            "Requirement already satisfied: networkx in /usr/local/lib/python3.10/dist-packages (from torch->clip==1.0) (3.3)\n",
            "Requirement already satisfied: jinja2 in /usr/local/lib/python3.10/dist-packages (from torch->clip==1.0) (3.1.3)\n",
            "Requirement already satisfied: fsspec in /usr/local/lib/python3.10/dist-packages (from torch->clip==1.0) (2023.6.0)\n",
            "Requirement already satisfied: nvidia-cuda-nvrtc-cu12==12.1.105 in /usr/local/lib/python3.10/dist-packages (from torch->clip==1.0) (12.1.105)\n",
            "Requirement already satisfied: nvidia-cuda-runtime-cu12==12.1.105 in /usr/local/lib/python3.10/dist-packages (from torch->clip==1.0) (12.1.105)\n",
            "Requirement already satisfied: nvidia-cuda-cupti-cu12==12.1.105 in /usr/local/lib/python3.10/dist-packages (from torch->clip==1.0) (12.1.105)\n",
            "Requirement already satisfied: nvidia-cudnn-cu12==8.9.2.26 in /usr/local/lib/python3.10/dist-packages (from torch->clip==1.0) (8.9.2.26)\n",
            "Requirement already satisfied: nvidia-cublas-cu12==12.1.3.1 in /usr/local/lib/python3.10/dist-packages (from torch->clip==1.0) (12.1.3.1)\n",
            "Requirement already satisfied: nvidia-cufft-cu12==11.0.2.54 in /usr/local/lib/python3.10/dist-packages (from torch->clip==1.0) (11.0.2.54)\n",
            "Requirement already satisfied: nvidia-curand-cu12==10.3.2.106 in /usr/local/lib/python3.10/dist-packages (from torch->clip==1.0) (10.3.2.106)\n",
            "Requirement already satisfied: nvidia-cusolver-cu12==11.4.5.107 in /usr/local/lib/python3.10/dist-packages (from torch->clip==1.0) (11.4.5.107)\n",
            "Requirement already satisfied: nvidia-cusparse-cu12==12.1.0.106 in /usr/local/lib/python3.10/dist-packages (from torch->clip==1.0) (12.1.0.106)\n",
            "Requirement already satisfied: nvidia-nccl-cu12==2.19.3 in /usr/local/lib/python3.10/dist-packages (from torch->clip==1.0) (2.19.3)\n",
            "Requirement already satisfied: nvidia-nvtx-cu12==12.1.105 in /usr/local/lib/python3.10/dist-packages (from torch->clip==1.0) (12.1.105)\n",
            "Requirement already satisfied: triton==2.2.0 in /usr/local/lib/python3.10/dist-packages (from torch->clip==1.0) (2.2.0)\n",
            "Requirement already satisfied: nvidia-nvjitlink-cu12 in /usr/local/lib/python3.10/dist-packages (from nvidia-cusolver-cu12==11.4.5.107->torch->clip==1.0) (12.4.127)\n",
            "Requirement already satisfied: numpy in /usr/local/lib/python3.10/dist-packages (from torchvision->clip==1.0) (1.25.2)\n",
            "Requirement already satisfied: pillow!=8.3.*,>=5.3.0 in /usr/local/lib/python3.10/dist-packages (from torchvision->clip==1.0) (10.3.0)\n",
            "Requirement already satisfied: MarkupSafe>=2.0 in /usr/local/lib/python3.10/dist-packages (from jinja2->torch->clip==1.0) (2.1.5)\n",
            "Requirement already satisfied: mpmath>=0.19 in /usr/local/lib/python3.10/dist-packages (from sympy->torch->clip==1.0) (1.3.0)\n",
            "Building wheels for collected packages: clip\n",
            "  Building wheel for clip (setup.py) ... \u001b[?25l\u001b[?25hdone\n",
            "  Created wheel for clip: filename=clip-1.0-py3-none-any.whl size=1369499 sha256=dda98533393a48a0f1e4f0f2a64ebc946ffb2bcfecaa675139d7f237155e575c\n",
            "  Stored in directory: /tmp/pip-ephem-wheel-cache-78shjcf_/wheels/da/2b/4c/d6691fa9597aac8bb85d2ac13b112deb897d5b50f5ad9a37e4\n",
            "Successfully built clip\n",
            "Installing collected packages: clip\n",
            "Successfully installed clip-1.0\n",
            "Requirement already satisfied: torch in /usr/local/lib/python3.10/dist-packages (2.2.1+cu121)\n",
            "Requirement already satisfied: torchvision in /usr/local/lib/python3.10/dist-packages (0.17.1+cu121)\n",
            "Requirement already satisfied: filelock in /usr/local/lib/python3.10/dist-packages (from torch) (3.13.4)\n",
            "Requirement already satisfied: typing-extensions>=4.8.0 in /usr/local/lib/python3.10/dist-packages (from torch) (4.11.0)\n",
            "Requirement already satisfied: sympy in /usr/local/lib/python3.10/dist-packages (from torch) (1.12)\n",
            "Requirement already satisfied: networkx in /usr/local/lib/python3.10/dist-packages (from torch) (3.3)\n",
            "Requirement already satisfied: jinja2 in /usr/local/lib/python3.10/dist-packages (from torch) (3.1.3)\n",
            "Requirement already satisfied: fsspec in /usr/local/lib/python3.10/dist-packages (from torch) (2023.6.0)\n",
            "Requirement already satisfied: nvidia-cuda-nvrtc-cu12==12.1.105 in /usr/local/lib/python3.10/dist-packages (from torch) (12.1.105)\n",
            "Requirement already satisfied: nvidia-cuda-runtime-cu12==12.1.105 in /usr/local/lib/python3.10/dist-packages (from torch) (12.1.105)\n",
            "Requirement already satisfied: nvidia-cuda-cupti-cu12==12.1.105 in /usr/local/lib/python3.10/dist-packages (from torch) (12.1.105)\n",
            "Requirement already satisfied: nvidia-cudnn-cu12==8.9.2.26 in /usr/local/lib/python3.10/dist-packages (from torch) (8.9.2.26)\n",
            "Requirement already satisfied: nvidia-cublas-cu12==12.1.3.1 in /usr/local/lib/python3.10/dist-packages (from torch) (12.1.3.1)\n",
            "Requirement already satisfied: nvidia-cufft-cu12==11.0.2.54 in /usr/local/lib/python3.10/dist-packages (from torch) (11.0.2.54)\n",
            "Requirement already satisfied: nvidia-curand-cu12==10.3.2.106 in /usr/local/lib/python3.10/dist-packages (from torch) (10.3.2.106)\n",
            "Requirement already satisfied: nvidia-cusolver-cu12==11.4.5.107 in /usr/local/lib/python3.10/dist-packages (from torch) (11.4.5.107)\n",
            "Requirement already satisfied: nvidia-cusparse-cu12==12.1.0.106 in /usr/local/lib/python3.10/dist-packages (from torch) (12.1.0.106)\n",
            "Requirement already satisfied: nvidia-nccl-cu12==2.19.3 in /usr/local/lib/python3.10/dist-packages (from torch) (2.19.3)\n",
            "Requirement already satisfied: nvidia-nvtx-cu12==12.1.105 in /usr/local/lib/python3.10/dist-packages (from torch) (12.1.105)\n",
            "Requirement already satisfied: triton==2.2.0 in /usr/local/lib/python3.10/dist-packages (from torch) (2.2.0)\n",
            "Requirement already satisfied: nvidia-nvjitlink-cu12 in /usr/local/lib/python3.10/dist-packages (from nvidia-cusolver-cu12==11.4.5.107->torch) (12.4.127)\n",
            "Requirement already satisfied: numpy in /usr/local/lib/python3.10/dist-packages (from torchvision) (1.25.2)\n",
            "Requirement already satisfied: pillow!=8.3.*,>=5.3.0 in /usr/local/lib/python3.10/dist-packages (from torchvision) (10.3.0)\n",
            "Requirement already satisfied: MarkupSafe>=2.0 in /usr/local/lib/python3.10/dist-packages (from jinja2->torch) (2.1.5)\n",
            "Requirement already satisfied: mpmath>=0.19 in /usr/local/lib/python3.10/dist-packages (from sympy->torch) (1.3.0)\n",
            "Requirement already satisfied: matplotlib in /usr/local/lib/python3.10/dist-packages (3.7.1)\n",
            "Requirement already satisfied: scikit-image in /usr/local/lib/python3.10/dist-packages (0.19.3)\n",
            "Requirement already satisfied: contourpy>=1.0.1 in /usr/local/lib/python3.10/dist-packages (from matplotlib) (1.2.1)\n",
            "Requirement already satisfied: cycler>=0.10 in /usr/local/lib/python3.10/dist-packages (from matplotlib) (0.12.1)\n",
            "Requirement already satisfied: fonttools>=4.22.0 in /usr/local/lib/python3.10/dist-packages (from matplotlib) (4.51.0)\n",
            "Requirement already satisfied: kiwisolver>=1.0.1 in /usr/local/lib/python3.10/dist-packages (from matplotlib) (1.4.5)\n",
            "Requirement already satisfied: numpy>=1.20 in /usr/local/lib/python3.10/dist-packages (from matplotlib) (1.25.2)\n",
            "Requirement already satisfied: packaging>=20.0 in /usr/local/lib/python3.10/dist-packages (from matplotlib) (24.0)\n",
            "Requirement already satisfied: pillow>=6.2.0 in /usr/local/lib/python3.10/dist-packages (from matplotlib) (10.3.0)\n",
            "Requirement already satisfied: pyparsing>=2.3.1 in /usr/local/lib/python3.10/dist-packages (from matplotlib) (3.1.2)\n",
            "Requirement already satisfied: python-dateutil>=2.7 in /usr/local/lib/python3.10/dist-packages (from matplotlib) (2.8.2)\n",
            "Requirement already satisfied: scipy>=1.4.1 in /usr/local/lib/python3.10/dist-packages (from scikit-image) (1.11.4)\n",
            "Requirement already satisfied: networkx>=2.2 in /usr/local/lib/python3.10/dist-packages (from scikit-image) (3.3)\n",
            "Requirement already satisfied: imageio>=2.4.1 in /usr/local/lib/python3.10/dist-packages (from scikit-image) (2.31.6)\n",
            "Requirement already satisfied: tifffile>=2019.7.26 in /usr/local/lib/python3.10/dist-packages (from scikit-image) (2024.2.12)\n",
            "Requirement already satisfied: PyWavelets>=1.1.1 in /usr/local/lib/python3.10/dist-packages (from scikit-image) (1.6.0)\n",
            "Collecting pillow>=6.2.0 (from matplotlib)\n",
            "  Downloading Pillow-10.0.1-cp310-cp310-manylinux_2_28_x86_64.whl (3.6 MB)\n",
            "\u001b[2K     \u001b[90m━━━━━━━━━━━━━━━━━━━━━━━━━━━━━━━━━━━━━━━━\u001b[0m \u001b[32m3.6/3.6 MB\u001b[0m \u001b[31m18.2 MB/s\u001b[0m eta \u001b[36m0:00:00\u001b[0m\n",
            "\u001b[?25hRequirement already satisfied: six>=1.5 in /usr/local/lib/python3.10/dist-packages (from python-dateutil>=2.7->matplotlib) (1.16.0)\n",
            "Installing collected packages: pillow\n",
            "  Attempting uninstall: pillow\n",
            "    Found existing installation: pillow 10.3.0\n",
            "    Uninstalling pillow-10.3.0:\n",
            "      Successfully uninstalled pillow-10.3.0\n",
            "\u001b[31mERROR: pip's dependency resolver does not currently take into account all the packages that are installed. This behaviour is the source of the following dependency conflicts.\n",
            "llama-index-embeddings-clip 0.1.5 requires pillow<11.0.0,>=10.2.0, but you have pillow 10.0.1 which is incompatible.\u001b[0m\u001b[31m\n",
            "\u001b[0mSuccessfully installed pillow-10.0.1\n"
          ]
        },
        {
          "output_type": "display_data",
          "data": {
            "application/vnd.colab-display-data+json": {
              "pip_warning": {
                "packages": [
                  "PIL"
                ]
              },
              "id": "5811903ce00743ca99d75d345a4bc46a"
            }
          },
          "metadata": {}
        },
        {
          "output_type": "stream",
          "name": "stdout",
          "text": [
            "Requirement already satisfied: lancedb in /usr/local/lib/python3.10/dist-packages (0.5.7)\n",
            "Requirement already satisfied: deprecation in /usr/local/lib/python3.10/dist-packages (from lancedb) (2.1.0)\n",
            "Requirement already satisfied: pylance==0.9.18 in /usr/local/lib/python3.10/dist-packages (from lancedb) (0.9.18)\n",
            "Requirement already satisfied: ratelimiter~=1.0 in /usr/local/lib/python3.10/dist-packages (from lancedb) (1.2.0.post0)\n",
            "Requirement already satisfied: retry>=0.9.2 in /usr/local/lib/python3.10/dist-packages (from lancedb) (0.9.2)\n",
            "Requirement already satisfied: tqdm>=4.27.0 in /usr/local/lib/python3.10/dist-packages (from lancedb) (4.66.2)\n",
            "Requirement already satisfied: pydantic>=1.10 in /usr/local/lib/python3.10/dist-packages (from lancedb) (2.6.4)\n",
            "Requirement already satisfied: attrs>=21.3.0 in /usr/local/lib/python3.10/dist-packages (from lancedb) (23.2.0)\n",
            "Requirement already satisfied: semver>=3.0 in /usr/local/lib/python3.10/dist-packages (from lancedb) (3.0.2)\n",
            "Requirement already satisfied: cachetools in /usr/local/lib/python3.10/dist-packages (from lancedb) (5.3.3)\n",
            "Requirement already satisfied: pyyaml>=6.0 in /usr/local/lib/python3.10/dist-packages (from lancedb) (6.0.1)\n",
            "Requirement already satisfied: click>=8.1.7 in /usr/local/lib/python3.10/dist-packages (from lancedb) (8.1.7)\n",
            "Requirement already satisfied: requests>=2.31.0 in /usr/local/lib/python3.10/dist-packages (from lancedb) (2.31.0)\n",
            "Requirement already satisfied: overrides>=0.7 in /usr/local/lib/python3.10/dist-packages (from lancedb) (7.7.0)\n",
            "Requirement already satisfied: pyarrow>=12 in /usr/local/lib/python3.10/dist-packages (from pylance==0.9.18->lancedb) (14.0.2)\n",
            "Requirement already satisfied: numpy>=1.22 in /usr/local/lib/python3.10/dist-packages (from pylance==0.9.18->lancedb) (1.25.2)\n",
            "Requirement already satisfied: annotated-types>=0.4.0 in /usr/local/lib/python3.10/dist-packages (from pydantic>=1.10->lancedb) (0.6.0)\n",
            "Requirement already satisfied: pydantic-core==2.16.3 in /usr/local/lib/python3.10/dist-packages (from pydantic>=1.10->lancedb) (2.16.3)\n",
            "Requirement already satisfied: typing-extensions>=4.6.1 in /usr/local/lib/python3.10/dist-packages (from pydantic>=1.10->lancedb) (4.11.0)\n",
            "Requirement already satisfied: charset-normalizer<4,>=2 in /usr/local/lib/python3.10/dist-packages (from requests>=2.31.0->lancedb) (3.3.2)\n",
            "Requirement already satisfied: idna<4,>=2.5 in /usr/local/lib/python3.10/dist-packages (from requests>=2.31.0->lancedb) (3.6)\n",
            "Requirement already satisfied: urllib3<3,>=1.21.1 in /usr/local/lib/python3.10/dist-packages (from requests>=2.31.0->lancedb) (2.0.7)\n",
            "Requirement already satisfied: certifi>=2017.4.17 in /usr/local/lib/python3.10/dist-packages (from requests>=2.31.0->lancedb) (2024.2.2)\n",
            "Requirement already satisfied: decorator>=3.4.2 in /usr/local/lib/python3.10/dist-packages (from retry>=0.9.2->lancedb) (4.4.2)\n",
            "Requirement already satisfied: py<2.0.0,>=1.4.26 in /usr/local/lib/python3.10/dist-packages (from retry>=0.9.2->lancedb) (1.11.0)\n",
            "Requirement already satisfied: packaging in /usr/local/lib/python3.10/dist-packages (from deprecation->lancedb) (24.0)\n",
            "Requirement already satisfied: moviepy in /usr/local/lib/python3.10/dist-packages (1.0.3)\n",
            "Requirement already satisfied: decorator<5.0,>=4.0.2 in /usr/local/lib/python3.10/dist-packages (from moviepy) (4.4.2)\n",
            "Requirement already satisfied: tqdm<5.0,>=4.11.2 in /usr/local/lib/python3.10/dist-packages (from moviepy) (4.66.2)\n",
            "Requirement already satisfied: requests<3.0,>=2.8.1 in /usr/local/lib/python3.10/dist-packages (from moviepy) (2.31.0)\n",
            "Requirement already satisfied: proglog<=1.0.0 in /usr/local/lib/python3.10/dist-packages (from moviepy) (0.1.10)\n",
            "Requirement already satisfied: numpy>=1.17.3 in /usr/local/lib/python3.10/dist-packages (from moviepy) (1.25.2)\n",
            "Requirement already satisfied: imageio<3.0,>=2.5 in /usr/local/lib/python3.10/dist-packages (from moviepy) (2.31.6)\n",
            "Requirement already satisfied: imageio-ffmpeg>=0.2.0 in /usr/local/lib/python3.10/dist-packages (from moviepy) (0.4.9)\n",
            "Requirement already satisfied: pillow<10.1.0,>=8.3.2 in /usr/local/lib/python3.10/dist-packages (from imageio<3.0,>=2.5->moviepy) (10.0.1)\n",
            "Requirement already satisfied: setuptools in /usr/local/lib/python3.10/dist-packages (from imageio-ffmpeg>=0.2.0->moviepy) (67.7.2)\n",
            "Requirement already satisfied: charset-normalizer<4,>=2 in /usr/local/lib/python3.10/dist-packages (from requests<3.0,>=2.8.1->moviepy) (3.3.2)\n",
            "Requirement already satisfied: idna<4,>=2.5 in /usr/local/lib/python3.10/dist-packages (from requests<3.0,>=2.8.1->moviepy) (3.6)\n",
            "Requirement already satisfied: urllib3<3,>=1.21.1 in /usr/local/lib/python3.10/dist-packages (from requests<3.0,>=2.8.1->moviepy) (2.0.7)\n",
            "Requirement already satisfied: certifi>=2017.4.17 in /usr/local/lib/python3.10/dist-packages (from requests<3.0,>=2.8.1->moviepy) (2024.2.2)\n",
            "Collecting pytube\n",
            "  Downloading pytube-15.0.0-py3-none-any.whl (57 kB)\n",
            "\u001b[2K     \u001b[90m━━━━━━━━━━━━━━━━━━━━━━━━━━━━━━━━━━━━━━━━\u001b[0m \u001b[32m57.6/57.6 kB\u001b[0m \u001b[31m2.4 MB/s\u001b[0m eta \u001b[36m0:00:00\u001b[0m\n",
            "\u001b[?25hInstalling collected packages: pytube\n",
            "Successfully installed pytube-15.0.0\n",
            "Collecting pydub\n",
            "  Downloading pydub-0.25.1-py2.py3-none-any.whl (32 kB)\n",
            "Installing collected packages: pydub\n",
            "Successfully installed pydub-0.25.1\n",
            "Collecting SpeechRecognition\n",
            "  Downloading SpeechRecognition-3.10.3-py2.py3-none-any.whl (32.8 MB)\n",
            "\u001b[2K     \u001b[90m━━━━━━━━━━━━━━━━━━━━━━━━━━━━━━━━━━━━━━━━\u001b[0m \u001b[32m32.8/32.8 MB\u001b[0m \u001b[31m51.6 MB/s\u001b[0m eta \u001b[36m0:00:00\u001b[0m\n",
            "\u001b[?25hRequirement already satisfied: requests>=2.26.0 in /usr/local/lib/python3.10/dist-packages (from SpeechRecognition) (2.31.0)\n",
            "Requirement already satisfied: typing-extensions in /usr/local/lib/python3.10/dist-packages (from SpeechRecognition) (4.11.0)\n",
            "Requirement already satisfied: charset-normalizer<4,>=2 in /usr/local/lib/python3.10/dist-packages (from requests>=2.26.0->SpeechRecognition) (3.3.2)\n",
            "Requirement already satisfied: idna<4,>=2.5 in /usr/local/lib/python3.10/dist-packages (from requests>=2.26.0->SpeechRecognition) (3.6)\n",
            "Requirement already satisfied: urllib3<3,>=1.21.1 in /usr/local/lib/python3.10/dist-packages (from requests>=2.26.0->SpeechRecognition) (2.0.7)\n",
            "Requirement already satisfied: certifi>=2017.4.17 in /usr/local/lib/python3.10/dist-packages (from requests>=2.26.0->SpeechRecognition) (2024.2.2)\n",
            "Installing collected packages: SpeechRecognition\n",
            "Successfully installed SpeechRecognition-3.10.3\n",
            "Collecting ffmpeg-python\n",
            "  Downloading ffmpeg_python-0.2.0-py3-none-any.whl (25 kB)\n",
            "Requirement already satisfied: future in /usr/local/lib/python3.10/dist-packages (from ffmpeg-python) (0.18.3)\n",
            "Installing collected packages: ffmpeg-python\n",
            "Successfully installed ffmpeg-python-0.2.0\n",
            "Requirement already satisfied: soundfile in /usr/local/lib/python3.10/dist-packages (0.12.1)\n",
            "Requirement already satisfied: cffi>=1.0 in /usr/local/lib/python3.10/dist-packages (from soundfile) (1.16.0)\n",
            "Requirement already satisfied: pycparser in /usr/local/lib/python3.10/dist-packages (from cffi>=1.0->soundfile) (2.22)\n"
          ]
        }
      ]
    },
    {
      "cell_type": "code",
      "source": [
        "from moviepy.editor import VideoFileClip\n",
        "from pathlib import Path\n",
        "import speech_recognition as sr\n",
        "from pytube import YouTube\n",
        "from pprint import pprint"
      ],
      "metadata": {
        "id": "oGyZzi6GMNWE"
      },
      "execution_count": 1,
      "outputs": []
    },
    {
      "cell_type": "code",
      "source": [
        "from google.colab import userdata\n",
        "OPENAI_API_TOKEN=userdata.get('OpenAIKey')"
      ],
      "metadata": {
        "id": "Zci2snwbMUrT"
      },
      "execution_count": 2,
      "outputs": []
    },
    {
      "cell_type": "code",
      "source": [
        "import os\n",
        "os.environ[\"OPENAI_API_KEY\"] = OPENAI_API_TOKEN"
      ],
      "metadata": {
        "id": "xGjdmM8NgWeS"
      },
      "execution_count": 38,
      "outputs": []
    },
    {
      "cell_type": "code",
      "source": [
        "from PIL import Image\n",
        "import matplotlib.pyplot as plt"
      ],
      "metadata": {
        "id": "E_IAskJTMXgC"
      },
      "execution_count": 3,
      "outputs": []
    },
    {
      "cell_type": "code",
      "source": [
        "import os\n",
        "os.getcwd()\n"
      ],
      "metadata": {
        "colab": {
          "base_uri": "https://localhost:8080/",
          "height": 36
        },
        "id": "ZbD1RD1VMZxz",
        "outputId": "be928067-ba31-42f5-fae9-a27839b5a080"
      },
      "execution_count": 4,
      "outputs": [
        {
          "output_type": "execute_result",
          "data": {
            "text/plain": [
              "'/content'"
            ],
            "application/vnd.google.colaboratory.intrinsic+json": {
              "type": "string"
            }
          },
          "metadata": {},
          "execution_count": 4
        }
      ]
    },
    {
      "cell_type": "code",
      "source": [
        "video_url=\"https://youtu.be/3dhcmeOTZ_Q\"\n",
        "output_video_path = \"/content/video_data/\"\n",
        "output_folder = \"/content/mixed_data/\"\n",
        "output_audio_path = \"/content/mixed_data/output_audio.wav\""
      ],
      "metadata": {
        "id": "ZGf7krSRMb0v"
      },
      "execution_count": 5,
      "outputs": []
    },
    {
      "cell_type": "code",
      "source": [
        "video_filepath=output_video_path + \"input_vid.mp4\""
      ],
      "metadata": {
        "id": "ArL8h4DCadyp"
      },
      "execution_count": 18,
      "outputs": []
    },
    {
      "cell_type": "code",
      "source": [
        "video_filepath"
      ],
      "metadata": {
        "colab": {
          "base_uri": "https://localhost:8080/",
          "height": 36
        },
        "id": "9v9OhIt6ah6f",
        "outputId": "67c60308-3498-41a0-ca92-256b89e97889"
      },
      "execution_count": 19,
      "outputs": [
        {
          "output_type": "execute_result",
          "data": {
            "text/plain": [
              "'/content/video_data/input_vid.mp4'"
            ],
            "application/vnd.google.colaboratory.intrinsic+json": {
              "type": "string"
            }
          },
          "metadata": {},
          "execution_count": 19
        }
      ]
    },
    {
      "cell_type": "code",
      "source": [
        "import matplotlib.pyplot as plt\n",
        "def plot_images(images_path):\n",
        "  images_shown = 0\n",
        "  plt.figure(figsize=(16, 9))\n",
        "  for img_path in images_path:\n",
        "        if os.path.isfile(img_path):\n",
        "            image = Image.open(img_path)\n",
        "\n",
        "            plt.subplot(2, 3, images_shown + 1)\n",
        "            plt.imshow(image)\n",
        "            plt.xticks([])\n",
        "            plt.yticks([])\n",
        "\n",
        "            images_shown += 1\n",
        "            if images_shown >= 5:\n",
        "                break\n"
      ],
      "metadata": {
        "id": "CyznerT6akDu"
      },
      "execution_count": 8,
      "outputs": []
    },
    {
      "cell_type": "code",
      "source": [
        "from pytube import YouTube\n",
        "def download_video(url,output_path):\n",
        "  yt = YouTube(url)\n",
        "  metadata = {\"Author\": yt.author, \"Title\": yt.title, \"Views\": yt.views}\n",
        "  yt.streams.get_highest_resolution().download(\n",
        "        output_path=output_path, filename=\"input_vid.mp4\"\n",
        "    )\n",
        "  return metadata"
      ],
      "metadata": {
        "id": "Rm7f50kvaqBR"
      },
      "execution_count": 9,
      "outputs": []
    },
    {
      "cell_type": "code",
      "source": [
        "from moviepy.editor import VideoFileClip\n",
        "def video_to_images(video_path,output_flder):\n",
        "  # Create the output folder if it doesn't exist\n",
        "  os.makedirs(output_folder, exist_ok=True)\n",
        "  clip=VideoFileClip(video_path)\n",
        "  clip.write_images_sequence(\n",
        "      os.path.join(output_folder,\"frame%04d.png\"),fps=0.2\n",
        "  )"
      ],
      "metadata": {
        "id": "FLf_j3etauxY"
      },
      "execution_count": 23,
      "outputs": []
    },
    {
      "cell_type": "code",
      "source": [
        "def video_to_audio(video_path,output_audio_path):\n",
        "  clip=VideoFileClip(video_path)\n",
        "  audio=clip.audio\n",
        "  audio.write_audiofile(output_audio_path)\n"
      ],
      "metadata": {
        "id": "hwP1lU5daxNS"
      },
      "execution_count": 11,
      "outputs": []
    },
    {
      "cell_type": "code",
      "source": [
        "def audio_to_text(audio_path):\n",
        "  recognizer=sr.Recognizer()\n",
        "  audio=sr.AudioFile(audio_path)\n",
        "\n",
        "  with audio as source:\n",
        "    audio_data=recognizer.record(source)\n",
        "\n",
        "    try:\n",
        "\n",
        "      #recognize the speech\n",
        "      text = recognizer.recognize_whisper(audio_data)\n",
        "      with open(output_folder + \"output_text.txt\", \"w\") as file:\n",
        "        file.write(text)\n",
        "      print(\"Text data saved to file\")\n",
        "      file.close()\n",
        "\n",
        "    except sr.UnknownValueError:\n",
        "      print(\"Speech recognition could not understand the audio.\")\n",
        "  return text\n",
        "\n",
        "\n"
      ],
      "metadata": {
        "id": "xilX23Anaztv"
      },
      "execution_count": 12,
      "outputs": []
    },
    {
      "cell_type": "code",
      "source": [
        "video_url"
      ],
      "metadata": {
        "colab": {
          "base_uri": "https://localhost:8080/",
          "height": 36
        },
        "id": "a9WF9Z6VbIe3",
        "outputId": "aa7fd13f-fb69-4ef0-d93e-d0da3b39c89a"
      },
      "execution_count": 13,
      "outputs": [
        {
          "output_type": "execute_result",
          "data": {
            "text/plain": [
              "'https://youtu.be/3dhcmeOTZ_Q'"
            ],
            "application/vnd.google.colaboratory.intrinsic+json": {
              "type": "string"
            }
          },
          "metadata": {},
          "execution_count": 13
        }
      ]
    },
    {
      "cell_type": "code",
      "source": [
        "output_video_path"
      ],
      "metadata": {
        "colab": {
          "base_uri": "https://localhost:8080/",
          "height": 36
        },
        "id": "DE6twH01bL-a",
        "outputId": "73b74959-0315-456a-ed45-6b04bf67877e"
      },
      "execution_count": 14,
      "outputs": [
        {
          "output_type": "execute_result",
          "data": {
            "text/plain": [
              "'/content/video_data/'"
            ],
            "application/vnd.google.colaboratory.intrinsic+json": {
              "type": "string"
            }
          },
          "metadata": {},
          "execution_count": 14
        }
      ]
    },
    {
      "cell_type": "code",
      "source": [
        "metadata_vid = download_video(video_url, output_video_path)"
      ],
      "metadata": {
        "id": "izIFGtd4bPr7"
      },
      "execution_count": 15,
      "outputs": []
    },
    {
      "cell_type": "code",
      "source": [
        "metadata_vid"
      ],
      "metadata": {
        "colab": {
          "base_uri": "https://localhost:8080/"
        },
        "id": "U0BUNw-lbYqx",
        "outputId": "d2db0fbc-f063-4fa8-e76b-92b47b7cc6be"
      },
      "execution_count": 16,
      "outputs": [
        {
          "output_type": "execute_result",
          "data": {
            "text/plain": [
              "{'Author': '3-Minute Data Science',\n",
              " 'Title': 'Linear Regression in 3 Minutes',\n",
              " 'Views': 7155}"
            ]
          },
          "metadata": {},
          "execution_count": 16
        }
      ]
    },
    {
      "cell_type": "code",
      "source": [
        "video_filepath"
      ],
      "metadata": {
        "colab": {
          "base_uri": "https://localhost:8080/",
          "height": 36
        },
        "id": "Rta-9SBebZwo",
        "outputId": "84e395d6-1034-44d6-c55a-b9bfd6ce4fa9"
      },
      "execution_count": 20,
      "outputs": [
        {
          "output_type": "execute_result",
          "data": {
            "text/plain": [
              "'/content/video_data/input_vid.mp4'"
            ],
            "application/vnd.google.colaboratory.intrinsic+json": {
              "type": "string"
            }
          },
          "metadata": {},
          "execution_count": 20
        }
      ]
    },
    {
      "cell_type": "code",
      "source": [
        "output_folder"
      ],
      "metadata": {
        "colab": {
          "base_uri": "https://localhost:8080/",
          "height": 36
        },
        "id": "z4mWjPALbntR",
        "outputId": "b7a02dcc-2735-4147-9723-9f186f1e6084"
      },
      "execution_count": 21,
      "outputs": [
        {
          "output_type": "execute_result",
          "data": {
            "text/plain": [
              "'/content/mixed_data/'"
            ],
            "application/vnd.google.colaboratory.intrinsic+json": {
              "type": "string"
            }
          },
          "metadata": {},
          "execution_count": 21
        }
      ]
    },
    {
      "cell_type": "code",
      "source": [
        "video_to_images(video_filepath,output_folder)"
      ],
      "metadata": {
        "colab": {
          "base_uri": "https://localhost:8080/"
        },
        "id": "OwsDSxHpbpmB",
        "outputId": "5b6f1347-a8ee-4957-c79e-634017866299"
      },
      "execution_count": 24,
      "outputs": [
        {
          "output_type": "stream",
          "name": "stderr",
          "text": [
            "t:   2%|▏         | 1/47 [05:52<4:30:21, 352.65s/it, now=None]"
          ]
        },
        {
          "output_type": "stream",
          "name": "stdout",
          "text": [
            "Moviepy - Writing frames /content/mixed_data/frame%04d.png.\n"
          ]
        },
        {
          "output_type": "stream",
          "name": "stderr",
          "text": [
            "\n",
            "t:   0%|          | 0/47 [00:00<?, ?it/s, now=None]\u001b[A\n",
            "t:   6%|▋         | 3/47 [00:00<00:03, 14.35it/s, now=None]\u001b[A\n",
            "t:  11%|█         | 5/47 [00:00<00:04,  8.45it/s, now=None]\u001b[A\n",
            "t:  13%|█▎        | 6/47 [00:00<00:05,  7.68it/s, now=None]\u001b[A\n",
            "t:  15%|█▍        | 7/47 [00:00<00:05,  7.14it/s, now=None]\u001b[A\n",
            "t:  17%|█▋        | 8/47 [00:01<00:05,  6.79it/s, now=None]\u001b[A\n",
            "t:  19%|█▉        | 9/47 [00:01<00:05,  6.45it/s, now=None]\u001b[A\n",
            "t:  21%|██▏       | 10/47 [00:01<00:05,  6.50it/s, now=None]\u001b[A\n",
            "t:  23%|██▎       | 11/47 [00:01<00:05,  6.56it/s, now=None]\u001b[A\n",
            "t:  26%|██▌       | 12/47 [00:01<00:05,  6.62it/s, now=None]\u001b[A\n",
            "t:  28%|██▊       | 13/47 [00:01<00:05,  6.71it/s, now=None]\u001b[A\n",
            "t:  30%|██▉       | 14/47 [00:01<00:04,  6.76it/s, now=None]\u001b[A\n",
            "t:  32%|███▏      | 15/47 [00:02<00:04,  6.51it/s, now=None]\u001b[A\n",
            "t:  34%|███▍      | 16/47 [00:02<00:04,  6.32it/s, now=None]\u001b[A\n",
            "t:  36%|███▌      | 17/47 [00:02<00:04,  6.21it/s, now=None]\u001b[A\n",
            "t:  38%|███▊      | 18/47 [00:02<00:04,  6.16it/s, now=None]\u001b[A\n",
            "t:  40%|████      | 19/47 [00:02<00:04,  6.37it/s, now=None]\u001b[A\n",
            "t:  43%|████▎     | 20/47 [00:02<00:04,  6.50it/s, now=None]\u001b[A\n",
            "t:  45%|████▍     | 21/47 [00:03<00:04,  5.95it/s, now=None]\u001b[A\n",
            "t:  47%|████▋     | 22/47 [00:03<00:04,  6.01it/s, now=None]\u001b[A\n",
            "t:  49%|████▉     | 23/47 [00:03<00:03,  6.09it/s, now=None]\u001b[A\n",
            "t:  51%|█████     | 24/47 [00:03<00:03,  6.16it/s, now=None]\u001b[A\n",
            "t:  53%|█████▎    | 25/47 [00:03<00:03,  6.18it/s, now=None]\u001b[A\n",
            "t:  55%|█████▌    | 26/47 [00:03<00:03,  6.16it/s, now=None]\u001b[A\n",
            "t:  57%|█████▋    | 27/47 [00:04<00:03,  6.09it/s, now=None]\u001b[A\n",
            "t:  60%|█████▉    | 28/47 [00:04<00:03,  6.07it/s, now=None]\u001b[A\n",
            "t:  62%|██████▏   | 29/47 [00:04<00:02,  6.11it/s, now=None]\u001b[A\n",
            "t:  64%|██████▍   | 30/47 [00:04<00:02,  6.14it/s, now=None]\u001b[A\n",
            "t:  66%|██████▌   | 31/47 [00:04<00:02,  5.91it/s, now=None]\u001b[A\n",
            "t:  68%|██████▊   | 32/47 [00:04<00:02,  5.69it/s, now=None]\u001b[A\n",
            "t:  70%|███████   | 33/47 [00:05<00:02,  5.59it/s, now=None]\u001b[A\n",
            "t:  72%|███████▏  | 34/47 [00:05<00:02,  5.55it/s, now=None]\u001b[A\n",
            "t:  74%|███████▍  | 35/47 [00:05<00:02,  5.69it/s, now=None]\u001b[A\n",
            "t:  77%|███████▋  | 36/47 [00:05<00:01,  5.94it/s, now=None]\u001b[A\n",
            "t:  79%|███████▊  | 37/47 [00:05<00:01,  6.14it/s, now=None]\u001b[A\n",
            "t:  81%|████████  | 38/47 [00:05<00:01,  6.18it/s, now=None]\u001b[A\n",
            "t:  83%|████████▎ | 39/47 [00:06<00:01,  6.17it/s, now=None]\u001b[A\n",
            "t:  85%|████████▌ | 40/47 [00:06<00:01,  6.37it/s, now=None]\u001b[A\n",
            "t:  87%|████████▋ | 41/47 [00:06<00:00,  6.35it/s, now=None]\u001b[A\n",
            "t:  89%|████████▉ | 42/47 [00:06<00:00,  6.17it/s, now=None]\u001b[A\n",
            "t:  91%|█████████▏| 43/47 [00:06<00:00,  6.00it/s, now=None]\u001b[A\n",
            "t:  94%|█████████▎| 44/47 [00:06<00:00,  5.92it/s, now=None]\u001b[A\n",
            "t:  96%|█████████▌| 45/47 [00:07<00:00,  5.47it/s, now=None]\u001b[A\n",
            "t:  98%|█████████▊| 46/47 [00:07<00:00,  5.56it/s, now=None]\u001b[A\n",
            "t: 100%|██████████| 47/47 [00:07<00:00,  5.62it/s, now=None]\u001b[A\n",
            "t:   2%|▏         | 1/47 [06:00<4:36:14, 360.31s/it, now=None]"
          ]
        },
        {
          "output_type": "stream",
          "name": "stdout",
          "text": [
            "Moviepy - Done writing frames /content/mixed_data/frame%04d.png.\n"
          ]
        }
      ]
    },
    {
      "cell_type": "code",
      "source": [
        "video_to_audio(video_filepath,output_audio_path)"
      ],
      "metadata": {
        "colab": {
          "base_uri": "https://localhost:8080/"
        },
        "id": "2wG5u9SndNSV",
        "outputId": "ed657942-954a-430a-cf5e-096de5ac07a0"
      },
      "execution_count": 25,
      "outputs": [
        {
          "output_type": "stream",
          "name": "stderr",
          "text": [
            "t:   2%|▏         | 1/47 [07:17<5:35:44, 437.93s/it, now=None]"
          ]
        },
        {
          "output_type": "stream",
          "name": "stdout",
          "text": [
            "MoviePy - Writing audio in /content/mixed_data/output_audio.wav\n"
          ]
        },
        {
          "output_type": "stream",
          "name": "stderr",
          "text": [
            "\n",
            "chunk:   0%|          | 0/5160 [00:00<?, ?it/s, now=None]\u001b[A\n",
            "chunk:   7%|▋         | 371/5160 [00:00<00:01, 3706.02it/s, now=None]\u001b[A\n",
            "chunk:  14%|█▍        | 742/5160 [00:00<00:01, 3505.54it/s, now=None]\u001b[A\n",
            "chunk:  21%|██▏       | 1105/5160 [00:00<00:01, 3558.05it/s, now=None]\u001b[A\n",
            "chunk:  29%|██▊       | 1473/5160 [00:00<00:01, 3605.12it/s, now=None]\u001b[A\n",
            "chunk:  36%|███▌      | 1836/5160 [00:00<00:00, 3570.84it/s, now=None]\u001b[A\n",
            "chunk:  43%|████▎     | 2194/5160 [00:00<00:00, 3555.14it/s, now=None]\u001b[A\n",
            "chunk:  49%|████▉     | 2550/5160 [00:00<00:00, 3546.70it/s, now=None]\u001b[A\n",
            "chunk:  57%|█████▋    | 2922/5160 [00:00<00:00, 3599.23it/s, now=None]\u001b[A\n",
            "chunk:  64%|██████▍   | 3296/5160 [00:00<00:00, 3642.55it/s, now=None]\u001b[A\n",
            "chunk:  71%|███████   | 3662/5160 [00:01<00:00, 3646.45it/s, now=None]\u001b[A\n",
            "chunk:  78%|███████▊  | 4029/5160 [00:01<00:00, 3641.46it/s, now=None]\u001b[A\n",
            "chunk:  85%|████████▌ | 4402/5160 [00:01<00:00, 3667.56it/s, now=None]\u001b[A\n",
            "chunk:  93%|█████████▎| 4776/5160 [00:01<00:00, 3687.81it/s, now=None]\u001b[A\n",
            "chunk: 100%|█████████▉| 5151/5160 [00:01<00:00, 3700.40it/s, now=None]\u001b[A\n",
            "t:   2%|▏         | 1/47 [07:19<5:36:51, 439.37s/it, now=None]"
          ]
        },
        {
          "output_type": "stream",
          "name": "stdout",
          "text": [
            "MoviePy - Done.\n"
          ]
        }
      ]
    },
    {
      "cell_type": "code",
      "source": [
        "text_data=audio_to_text(output_audio_path)"
      ],
      "metadata": {
        "colab": {
          "base_uri": "https://localhost:8080/"
        },
        "id": "ncbkfHYedbpH",
        "outputId": "393ed3a2-5d5d-416d-97bb-8cc0a4303af7"
      },
      "execution_count": 26,
      "outputs": [
        {
          "output_type": "stream",
          "name": "stderr",
          "text": [
            "\n",
            "  0%|                                               | 0.00/139M [00:00<?, ?iB/s]\u001b[A\n",
            "  5%|█▉                                    | 7.09M/139M [00:00<00:01, 74.4MiB/s]\u001b[A\n",
            " 10%|███▉                                  | 14.2M/139M [00:00<00:02, 54.0MiB/s]\u001b[A\n",
            " 14%|█████▍                                | 19.7M/139M [00:00<00:03, 33.6MiB/s]\u001b[A\n",
            " 18%|██████▉                               | 25.5M/139M [00:00<00:02, 40.3MiB/s]\u001b[A\n",
            " 23%|████████▊                             | 32.3M/139M [00:00<00:02, 48.3MiB/s]\u001b[A\n",
            " 28%|██████████▋                           | 39.0M/139M [00:00<00:01, 54.4MiB/s]\u001b[A\n",
            " 33%|████████████▌                         | 45.8M/139M [00:00<00:01, 58.9MiB/s]\u001b[A\n",
            " 37%|██████████████▏                       | 51.9M/139M [00:01<00:01, 46.1MiB/s]\u001b[A\n",
            " 41%|███████████████▋                      | 57.1M/139M [00:01<00:01, 47.0MiB/s]\u001b[A\n",
            " 46%|█████████████████▋                    | 64.4M/139M [00:01<00:01, 54.2MiB/s]\u001b[A\n",
            " 51%|███████████████████▌                  | 71.3M/139M [00:01<00:01, 58.9MiB/s]\u001b[A\n",
            " 56%|█████████████████████▏                | 77.4M/139M [00:01<00:01, 59.6MiB/s]\u001b[A\n",
            " 60%|██████████████████████▊               | 83.4M/139M [00:01<00:00, 59.8MiB/s]\u001b[A\n",
            " 64%|████████████████████████▍             | 89.3M/139M [00:01<00:00, 59.8MiB/s]\u001b[A\n",
            " 70%|██████████████████████████▋           | 97.1M/139M [00:01<00:00, 66.1MiB/s]\u001b[A\n",
            " 75%|█████████████████████████████▎         | 104M/139M [00:01<00:00, 68.1MiB/s]\u001b[A\n",
            " 80%|███████████████████████████████▎       | 111M/139M [00:02<00:00, 70.4MiB/s]\u001b[A\n",
            " 85%|█████████████████████████████████▎     | 118M/139M [00:02<00:00, 68.1MiB/s]\u001b[A\n",
            " 90%|███████████████████████████████████▏   | 125M/139M [00:02<00:00, 63.8MiB/s]\u001b[A\n",
            " 95%|████████████████████████████████████▊  | 131M/139M [00:02<00:00, 61.4MiB/s]\u001b[A\n",
            "100%|███████████████████████████████████████| 139M/139M [00:02<00:00, 55.8MiB/s]\n"
          ]
        },
        {
          "output_type": "stream",
          "name": "stdout",
          "text": [
            "Text data saved to file\n"
          ]
        }
      ]
    },
    {
      "cell_type": "code",
      "source": [
        "text_data"
      ],
      "metadata": {
        "colab": {
          "base_uri": "https://localhost:8080/",
          "height": 140
        },
        "id": "32iyGpnidrZk",
        "outputId": "b099e49f-a97e-4da9-8e90-70cf10b39506"
      },
      "execution_count": 27,
      "outputs": [
        {
          "output_type": "execute_result",
          "data": {
            "text/plain": [
              "\" Lanyard regression is a statistical technique for modeling the relationship between an output variable and one or more input variables. In layman's terms, think of it as fitting a line through some data points as shown here, so you can make predictions on unknown data, assuming there is a linear relationship between the variables. You might be familiar with the linear function y equals mx plus b, where y is the output variable, also called the dependent variable. You may also see expressed as f of x, the function of the input variable. x on the other hand, would serve as the input variable, also called the independent variable. It's likely you'll see the coefficients m and b expressed as beta 1 and beta 0 respectively. So what do the m and b coefficients do? The m or beta 1 coefficient controls the slope of the line. The b or the beta 0 controls the intercept of the line. In machine learning, we also know it as the bias. These two coefficients are what we are solving for in linear regression. We can also extend to multiple input variables, so x1, x2, x3, with beta 1, beta 2, and beta 3, and so on, acting as slopes for each of those variables. In these higher dimensions, you would visualize the linear regression as a hyperplane. So how do we fit the line to these points? Well, you'll notice that there's these differences between the points and the line, these little red segments, these are called residuals. They are the differences between the data points and the predictions the line would produce. Take each of these residuals and square them. These are the squared errors, and notice that the large of the residuals are, the more amplified area of the squares are. If we total the areas of all of these squares for a given line, we will get the sum of the squared error, and this is known as our loss function. We need to find the beta 0 and beta 1 coefficients that will minimize that sum of squared error. The coefficients can be solved with a variety of techniques ranging from matrix decomposition to gradient descent, which is depicted right here. Thankfully, a lot of libraries are available to do this for us, and we will deep dive into these topics in other videos. To validate a linear regression, there are a number of techniques. Machine learning practitioners will often take a third of the data and put it into the test data set. The remaining two thirds will become the training data set. The training data set will then be used to fit the regression line. The test data set will then be used to validate the regression line. This is done to make sure that the regression performs well on data it has not seen before. The tricks used to evaluate the linear regression vary from the R square, standard error of the estimate, prediction intervals, as well as statistical significance. These are topics we will cover in future videos. If you enjoyed this video, please like and subscribe. Look at my two O'Reilly books, Essential Math for Data Science, and getting started with SQL. Chapter five of Essential Math for Data Science actually covers linear regression and much more depth. If you want live instruction, I also do teach on the O'Reilly platform. Promotional link below. I teach classes including machine learning from scratch, probability, and SQL. Comment on what topics you would like to see next, and I will see you again on 3 Minute Data Science.\""
            ],
            "application/vnd.google.colaboratory.intrinsic+json": {
              "type": "string"
            }
          },
          "metadata": {},
          "execution_count": 27
        }
      ]
    },
    {
      "cell_type": "code",
      "source": [
        "os.remove(output_audio_path)\n",
        "print(\"Audio file removed\")"
      ],
      "metadata": {
        "colab": {
          "base_uri": "https://localhost:8080/"
        },
        "id": "CZ40y3RRdxrW",
        "outputId": "206afca9-9fa3-4117-af0a-da6e4875e2aa"
      },
      "execution_count": 28,
      "outputs": [
        {
          "output_type": "stream",
          "name": "stdout",
          "text": [
            "Audio file removed\n"
          ]
        }
      ]
    },
    {
      "cell_type": "code",
      "source": [
        "# embedding lance db\n",
        "# llm\n"
      ],
      "metadata": {
        "id": "Zc-5e9bmdzEM"
      },
      "execution_count": 29,
      "outputs": []
    },
    {
      "cell_type": "code",
      "source": [
        "!pip install llama-index-readers-file"
      ],
      "metadata": {
        "colab": {
          "base_uri": "https://localhost:8080/"
        },
        "id": "bzt29p5Wd5B1",
        "outputId": "1373e918-75c1-4087-9071-a5785a002b92"
      },
      "execution_count": 30,
      "outputs": [
        {
          "output_type": "stream",
          "name": "stdout",
          "text": [
            "Requirement already satisfied: llama-index-readers-file in /usr/local/lib/python3.10/dist-packages (0.1.18)\n",
            "Requirement already satisfied: beautifulsoup4<5.0.0,>=4.12.3 in /usr/local/lib/python3.10/dist-packages (from llama-index-readers-file) (4.12.3)\n",
            "Requirement already satisfied: llama-index-core<0.11.0,>=0.10.1 in /usr/local/lib/python3.10/dist-packages (from llama-index-readers-file) (0.10.29)\n",
            "Requirement already satisfied: pypdf<5.0.0,>=4.0.1 in /usr/local/lib/python3.10/dist-packages (from llama-index-readers-file) (4.2.0)\n",
            "Requirement already satisfied: striprtf<0.0.27,>=0.0.26 in /usr/local/lib/python3.10/dist-packages (from llama-index-readers-file) (0.0.26)\n",
            "Requirement already satisfied: soupsieve>1.2 in /usr/local/lib/python3.10/dist-packages (from beautifulsoup4<5.0.0,>=4.12.3->llama-index-readers-file) (2.5)\n",
            "Requirement already satisfied: PyYAML>=6.0.1 in /usr/local/lib/python3.10/dist-packages (from llama-index-core<0.11.0,>=0.10.1->llama-index-readers-file) (6.0.1)\n",
            "Requirement already satisfied: SQLAlchemy[asyncio]>=1.4.49 in /usr/local/lib/python3.10/dist-packages (from llama-index-core<0.11.0,>=0.10.1->llama-index-readers-file) (2.0.29)\n",
            "Requirement already satisfied: aiohttp<4.0.0,>=3.8.6 in /usr/local/lib/python3.10/dist-packages (from llama-index-core<0.11.0,>=0.10.1->llama-index-readers-file) (3.9.3)\n",
            "Requirement already satisfied: dataclasses-json in /usr/local/lib/python3.10/dist-packages (from llama-index-core<0.11.0,>=0.10.1->llama-index-readers-file) (0.6.4)\n",
            "Requirement already satisfied: deprecated>=1.2.9.3 in /usr/local/lib/python3.10/dist-packages (from llama-index-core<0.11.0,>=0.10.1->llama-index-readers-file) (1.2.14)\n",
            "Requirement already satisfied: dirtyjson<2.0.0,>=1.0.8 in /usr/local/lib/python3.10/dist-packages (from llama-index-core<0.11.0,>=0.10.1->llama-index-readers-file) (1.0.8)\n",
            "Requirement already satisfied: fsspec>=2023.5.0 in /usr/local/lib/python3.10/dist-packages (from llama-index-core<0.11.0,>=0.10.1->llama-index-readers-file) (2023.6.0)\n",
            "Requirement already satisfied: httpx in /usr/local/lib/python3.10/dist-packages (from llama-index-core<0.11.0,>=0.10.1->llama-index-readers-file) (0.27.0)\n",
            "Requirement already satisfied: llamaindex-py-client<0.2.0,>=0.1.18 in /usr/local/lib/python3.10/dist-packages (from llama-index-core<0.11.0,>=0.10.1->llama-index-readers-file) (0.1.18)\n",
            "Requirement already satisfied: nest-asyncio<2.0.0,>=1.5.8 in /usr/local/lib/python3.10/dist-packages (from llama-index-core<0.11.0,>=0.10.1->llama-index-readers-file) (1.6.0)\n",
            "Requirement already satisfied: networkx>=3.0 in /usr/local/lib/python3.10/dist-packages (from llama-index-core<0.11.0,>=0.10.1->llama-index-readers-file) (3.3)\n",
            "Requirement already satisfied: nltk<4.0.0,>=3.8.1 in /usr/local/lib/python3.10/dist-packages (from llama-index-core<0.11.0,>=0.10.1->llama-index-readers-file) (3.8.1)\n",
            "Requirement already satisfied: numpy in /usr/local/lib/python3.10/dist-packages (from llama-index-core<0.11.0,>=0.10.1->llama-index-readers-file) (1.25.2)\n",
            "Requirement already satisfied: openai>=1.1.0 in /usr/local/lib/python3.10/dist-packages (from llama-index-core<0.11.0,>=0.10.1->llama-index-readers-file) (1.17.1)\n",
            "Requirement already satisfied: pandas in /usr/local/lib/python3.10/dist-packages (from llama-index-core<0.11.0,>=0.10.1->llama-index-readers-file) (2.0.3)\n",
            "Requirement already satisfied: pillow>=9.0.0 in /usr/local/lib/python3.10/dist-packages (from llama-index-core<0.11.0,>=0.10.1->llama-index-readers-file) (10.0.1)\n",
            "Requirement already satisfied: requests>=2.31.0 in /usr/local/lib/python3.10/dist-packages (from llama-index-core<0.11.0,>=0.10.1->llama-index-readers-file) (2.31.0)\n",
            "Requirement already satisfied: tenacity<9.0.0,>=8.2.0 in /usr/local/lib/python3.10/dist-packages (from llama-index-core<0.11.0,>=0.10.1->llama-index-readers-file) (8.2.3)\n",
            "Requirement already satisfied: tiktoken>=0.3.3 in /usr/local/lib/python3.10/dist-packages (from llama-index-core<0.11.0,>=0.10.1->llama-index-readers-file) (0.6.0)\n",
            "Requirement already satisfied: tqdm<5.0.0,>=4.66.1 in /usr/local/lib/python3.10/dist-packages (from llama-index-core<0.11.0,>=0.10.1->llama-index-readers-file) (4.66.2)\n",
            "Requirement already satisfied: typing-extensions>=4.5.0 in /usr/local/lib/python3.10/dist-packages (from llama-index-core<0.11.0,>=0.10.1->llama-index-readers-file) (4.11.0)\n",
            "Requirement already satisfied: typing-inspect>=0.8.0 in /usr/local/lib/python3.10/dist-packages (from llama-index-core<0.11.0,>=0.10.1->llama-index-readers-file) (0.9.0)\n",
            "Requirement already satisfied: wrapt in /usr/local/lib/python3.10/dist-packages (from llama-index-core<0.11.0,>=0.10.1->llama-index-readers-file) (1.14.1)\n",
            "Requirement already satisfied: aiosignal>=1.1.2 in /usr/local/lib/python3.10/dist-packages (from aiohttp<4.0.0,>=3.8.6->llama-index-core<0.11.0,>=0.10.1->llama-index-readers-file) (1.3.1)\n",
            "Requirement already satisfied: attrs>=17.3.0 in /usr/local/lib/python3.10/dist-packages (from aiohttp<4.0.0,>=3.8.6->llama-index-core<0.11.0,>=0.10.1->llama-index-readers-file) (23.2.0)\n",
            "Requirement already satisfied: frozenlist>=1.1.1 in /usr/local/lib/python3.10/dist-packages (from aiohttp<4.0.0,>=3.8.6->llama-index-core<0.11.0,>=0.10.1->llama-index-readers-file) (1.4.1)\n",
            "Requirement already satisfied: multidict<7.0,>=4.5 in /usr/local/lib/python3.10/dist-packages (from aiohttp<4.0.0,>=3.8.6->llama-index-core<0.11.0,>=0.10.1->llama-index-readers-file) (6.0.5)\n",
            "Requirement already satisfied: yarl<2.0,>=1.0 in /usr/local/lib/python3.10/dist-packages (from aiohttp<4.0.0,>=3.8.6->llama-index-core<0.11.0,>=0.10.1->llama-index-readers-file) (1.9.4)\n",
            "Requirement already satisfied: async-timeout<5.0,>=4.0 in /usr/local/lib/python3.10/dist-packages (from aiohttp<4.0.0,>=3.8.6->llama-index-core<0.11.0,>=0.10.1->llama-index-readers-file) (4.0.3)\n",
            "Requirement already satisfied: pydantic>=1.10 in /usr/local/lib/python3.10/dist-packages (from llamaindex-py-client<0.2.0,>=0.1.18->llama-index-core<0.11.0,>=0.10.1->llama-index-readers-file) (2.6.4)\n",
            "Requirement already satisfied: anyio in /usr/local/lib/python3.10/dist-packages (from httpx->llama-index-core<0.11.0,>=0.10.1->llama-index-readers-file) (3.7.1)\n",
            "Requirement already satisfied: certifi in /usr/local/lib/python3.10/dist-packages (from httpx->llama-index-core<0.11.0,>=0.10.1->llama-index-readers-file) (2024.2.2)\n",
            "Requirement already satisfied: httpcore==1.* in /usr/local/lib/python3.10/dist-packages (from httpx->llama-index-core<0.11.0,>=0.10.1->llama-index-readers-file) (1.0.5)\n",
            "Requirement already satisfied: idna in /usr/local/lib/python3.10/dist-packages (from httpx->llama-index-core<0.11.0,>=0.10.1->llama-index-readers-file) (3.6)\n",
            "Requirement already satisfied: sniffio in /usr/local/lib/python3.10/dist-packages (from httpx->llama-index-core<0.11.0,>=0.10.1->llama-index-readers-file) (1.3.1)\n",
            "Requirement already satisfied: h11<0.15,>=0.13 in /usr/local/lib/python3.10/dist-packages (from httpcore==1.*->httpx->llama-index-core<0.11.0,>=0.10.1->llama-index-readers-file) (0.14.0)\n",
            "Requirement already satisfied: click in /usr/local/lib/python3.10/dist-packages (from nltk<4.0.0,>=3.8.1->llama-index-core<0.11.0,>=0.10.1->llama-index-readers-file) (8.1.7)\n",
            "Requirement already satisfied: joblib in /usr/local/lib/python3.10/dist-packages (from nltk<4.0.0,>=3.8.1->llama-index-core<0.11.0,>=0.10.1->llama-index-readers-file) (1.4.0)\n",
            "Requirement already satisfied: regex>=2021.8.3 in /usr/local/lib/python3.10/dist-packages (from nltk<4.0.0,>=3.8.1->llama-index-core<0.11.0,>=0.10.1->llama-index-readers-file) (2023.12.25)\n",
            "Requirement already satisfied: distro<2,>=1.7.0 in /usr/lib/python3/dist-packages (from openai>=1.1.0->llama-index-core<0.11.0,>=0.10.1->llama-index-readers-file) (1.7.0)\n",
            "Requirement already satisfied: charset-normalizer<4,>=2 in /usr/local/lib/python3.10/dist-packages (from requests>=2.31.0->llama-index-core<0.11.0,>=0.10.1->llama-index-readers-file) (3.3.2)\n",
            "Requirement already satisfied: urllib3<3,>=1.21.1 in /usr/local/lib/python3.10/dist-packages (from requests>=2.31.0->llama-index-core<0.11.0,>=0.10.1->llama-index-readers-file) (2.0.7)\n",
            "Requirement already satisfied: greenlet!=0.4.17 in /usr/local/lib/python3.10/dist-packages (from SQLAlchemy[asyncio]>=1.4.49->llama-index-core<0.11.0,>=0.10.1->llama-index-readers-file) (3.0.3)\n",
            "Requirement already satisfied: mypy-extensions>=0.3.0 in /usr/local/lib/python3.10/dist-packages (from typing-inspect>=0.8.0->llama-index-core<0.11.0,>=0.10.1->llama-index-readers-file) (1.0.0)\n",
            "Requirement already satisfied: marshmallow<4.0.0,>=3.18.0 in /usr/local/lib/python3.10/dist-packages (from dataclasses-json->llama-index-core<0.11.0,>=0.10.1->llama-index-readers-file) (3.21.1)\n",
            "Requirement already satisfied: python-dateutil>=2.8.2 in /usr/local/lib/python3.10/dist-packages (from pandas->llama-index-core<0.11.0,>=0.10.1->llama-index-readers-file) (2.8.2)\n",
            "Requirement already satisfied: pytz>=2020.1 in /usr/local/lib/python3.10/dist-packages (from pandas->llama-index-core<0.11.0,>=0.10.1->llama-index-readers-file) (2023.4)\n",
            "Requirement already satisfied: tzdata>=2022.1 in /usr/local/lib/python3.10/dist-packages (from pandas->llama-index-core<0.11.0,>=0.10.1->llama-index-readers-file) (2024.1)\n",
            "Requirement already satisfied: exceptiongroup in /usr/local/lib/python3.10/dist-packages (from anyio->httpx->llama-index-core<0.11.0,>=0.10.1->llama-index-readers-file) (1.2.0)\n",
            "Requirement already satisfied: packaging>=17.0 in /usr/local/lib/python3.10/dist-packages (from marshmallow<4.0.0,>=3.18.0->dataclasses-json->llama-index-core<0.11.0,>=0.10.1->llama-index-readers-file) (24.0)\n",
            "Requirement already satisfied: annotated-types>=0.4.0 in /usr/local/lib/python3.10/dist-packages (from pydantic>=1.10->llamaindex-py-client<0.2.0,>=0.1.18->llama-index-core<0.11.0,>=0.10.1->llama-index-readers-file) (0.6.0)\n",
            "Requirement already satisfied: pydantic-core==2.16.3 in /usr/local/lib/python3.10/dist-packages (from pydantic>=1.10->llamaindex-py-client<0.2.0,>=0.1.18->llama-index-core<0.11.0,>=0.10.1->llama-index-readers-file) (2.16.3)\n",
            "Requirement already satisfied: six>=1.5 in /usr/local/lib/python3.10/dist-packages (from python-dateutil>=2.8.2->pandas->llama-index-core<0.11.0,>=0.10.1->llama-index-readers-file) (1.16.0)\n"
          ]
        }
      ]
    },
    {
      "cell_type": "code",
      "source": [
        "from llama_index.core.indices import MultiModalVectorStoreIndex\n",
        "from llama_index.core import SimpleDirectoryReader\n",
        "from llama_index.core import StorageContext"
      ],
      "metadata": {
        "id": "mWonH92Pd6om"
      },
      "execution_count": 31,
      "outputs": []
    },
    {
      "cell_type": "code",
      "source": [
        "from llama_index.vector_stores.lancedb import LanceDBVectorStore"
      ],
      "metadata": {
        "id": "SZAIEAtGd9gd"
      },
      "execution_count": 32,
      "outputs": []
    },
    {
      "cell_type": "code",
      "source": [
        "text_store=LanceDBVectorStore(uri=\"lancedb\",table_name=\"text_collection\")\n",
        "image_store=LanceDBVectorStore(uri=\"lancedb\",table_name=\"image_collection\")"
      ],
      "metadata": {
        "id": "fAkYTTi1eAg5"
      },
      "execution_count": 33,
      "outputs": []
    },
    {
      "cell_type": "code",
      "source": [
        "storage_context=StorageContext.from_defaults(vector_store=text_store,image_store=image_store)"
      ],
      "metadata": {
        "id": "wyX2q4hgeEwh"
      },
      "execution_count": 34,
      "outputs": []
    },
    {
      "cell_type": "code",
      "source": [
        "documents=SimpleDirectoryReader(output_folder).load_data()"
      ],
      "metadata": {
        "id": "L3G4NzdheIXt"
      },
      "execution_count": 35,
      "outputs": []
    },
    {
      "cell_type": "code",
      "source": [
        "documents"
      ],
      "metadata": {
        "colab": {
          "base_uri": "https://localhost:8080/"
        },
        "id": "SSj3m2-jeLkh",
        "outputId": "497fa2fe-55e6-4f13-d681-209bde50314b"
      },
      "execution_count": 36,
      "outputs": [
        {
          "output_type": "execute_result",
          "data": {
            "text/plain": [
              "[ImageDocument(id_='5f45b179-4fb0-45ce-846b-a6a82c184ca6', embedding=None, metadata={'file_path': '/content/mixed_data/frame0000.png', 'file_name': 'frame0000.png', 'file_type': 'image/png', 'file_size': 2759, 'creation_date': '2024-04-15', 'last_modified_date': '2024-04-15'}, excluded_embed_metadata_keys=['file_name', 'file_type', 'file_size', 'creation_date', 'last_modified_date', 'last_accessed_date'], excluded_llm_metadata_keys=['file_name', 'file_type', 'file_size', 'creation_date', 'last_modified_date', 'last_accessed_date'], relationships={}, text='', start_char_idx=None, end_char_idx=None, text_template='{metadata_str}\\n\\n{content}', metadata_template='{key}: {value}', metadata_seperator='\\n', image=None, image_path='/content/mixed_data/frame0000.png', image_url=None, image_mimetype=None, text_embedding=None),\n",
              " ImageDocument(id_='58f0e847-9143-4573-a543-8178eb5e1890', embedding=None, metadata={'file_path': '/content/mixed_data/frame0001.png', 'file_name': 'frame0001.png', 'file_type': 'image/png', 'file_size': 48172, 'creation_date': '2024-04-15', 'last_modified_date': '2024-04-15'}, excluded_embed_metadata_keys=['file_name', 'file_type', 'file_size', 'creation_date', 'last_modified_date', 'last_accessed_date'], excluded_llm_metadata_keys=['file_name', 'file_type', 'file_size', 'creation_date', 'last_modified_date', 'last_accessed_date'], relationships={}, text='', start_char_idx=None, end_char_idx=None, text_template='{metadata_str}\\n\\n{content}', metadata_template='{key}: {value}', metadata_seperator='\\n', image=None, image_path='/content/mixed_data/frame0001.png', image_url=None, image_mimetype=None, text_embedding=None),\n",
              " ImageDocument(id_='ccb7cd27-969c-43b3-8315-14ec0c13aa51', embedding=None, metadata={'file_path': '/content/mixed_data/frame0002.png', 'file_name': 'frame0002.png', 'file_type': 'image/png', 'file_size': 83490, 'creation_date': '2024-04-15', 'last_modified_date': '2024-04-15'}, excluded_embed_metadata_keys=['file_name', 'file_type', 'file_size', 'creation_date', 'last_modified_date', 'last_accessed_date'], excluded_llm_metadata_keys=['file_name', 'file_type', 'file_size', 'creation_date', 'last_modified_date', 'last_accessed_date'], relationships={}, text='', start_char_idx=None, end_char_idx=None, text_template='{metadata_str}\\n\\n{content}', metadata_template='{key}: {value}', metadata_seperator='\\n', image=None, image_path='/content/mixed_data/frame0002.png', image_url=None, image_mimetype=None, text_embedding=None),\n",
              " ImageDocument(id_='ed5f5b4e-6c15-4594-9485-3daefcf0031a', embedding=None, metadata={'file_path': '/content/mixed_data/frame0003.png', 'file_name': 'frame0003.png', 'file_type': 'image/png', 'file_size': 61264, 'creation_date': '2024-04-15', 'last_modified_date': '2024-04-15'}, excluded_embed_metadata_keys=['file_name', 'file_type', 'file_size', 'creation_date', 'last_modified_date', 'last_accessed_date'], excluded_llm_metadata_keys=['file_name', 'file_type', 'file_size', 'creation_date', 'last_modified_date', 'last_accessed_date'], relationships={}, text='', start_char_idx=None, end_char_idx=None, text_template='{metadata_str}\\n\\n{content}', metadata_template='{key}: {value}', metadata_seperator='\\n', image=None, image_path='/content/mixed_data/frame0003.png', image_url=None, image_mimetype=None, text_embedding=None),\n",
              " ImageDocument(id_='15efc651-f810-4d8c-91a1-20beebf9dc43', embedding=None, metadata={'file_path': '/content/mixed_data/frame0004.png', 'file_name': 'frame0004.png', 'file_type': 'image/png', 'file_size': 32749, 'creation_date': '2024-04-15', 'last_modified_date': '2024-04-15'}, excluded_embed_metadata_keys=['file_name', 'file_type', 'file_size', 'creation_date', 'last_modified_date', 'last_accessed_date'], excluded_llm_metadata_keys=['file_name', 'file_type', 'file_size', 'creation_date', 'last_modified_date', 'last_accessed_date'], relationships={}, text='', start_char_idx=None, end_char_idx=None, text_template='{metadata_str}\\n\\n{content}', metadata_template='{key}: {value}', metadata_seperator='\\n', image=None, image_path='/content/mixed_data/frame0004.png', image_url=None, image_mimetype=None, text_embedding=None),\n",
              " ImageDocument(id_='e47b6870-28b5-41ba-b662-45ba1e32a61f', embedding=None, metadata={'file_path': '/content/mixed_data/frame0005.png', 'file_name': 'frame0005.png', 'file_type': 'image/png', 'file_size': 56183, 'creation_date': '2024-04-15', 'last_modified_date': '2024-04-15'}, excluded_embed_metadata_keys=['file_name', 'file_type', 'file_size', 'creation_date', 'last_modified_date', 'last_accessed_date'], excluded_llm_metadata_keys=['file_name', 'file_type', 'file_size', 'creation_date', 'last_modified_date', 'last_accessed_date'], relationships={}, text='', start_char_idx=None, end_char_idx=None, text_template='{metadata_str}\\n\\n{content}', metadata_template='{key}: {value}', metadata_seperator='\\n', image=None, image_path='/content/mixed_data/frame0005.png', image_url=None, image_mimetype=None, text_embedding=None),\n",
              " ImageDocument(id_='f091cdfa-4f59-4ab0-8088-d45fdd33b066', embedding=None, metadata={'file_path': '/content/mixed_data/frame0006.png', 'file_name': 'frame0006.png', 'file_type': 'image/png', 'file_size': 55069, 'creation_date': '2024-04-15', 'last_modified_date': '2024-04-15'}, excluded_embed_metadata_keys=['file_name', 'file_type', 'file_size', 'creation_date', 'last_modified_date', 'last_accessed_date'], excluded_llm_metadata_keys=['file_name', 'file_type', 'file_size', 'creation_date', 'last_modified_date', 'last_accessed_date'], relationships={}, text='', start_char_idx=None, end_char_idx=None, text_template='{metadata_str}\\n\\n{content}', metadata_template='{key}: {value}', metadata_seperator='\\n', image=None, image_path='/content/mixed_data/frame0006.png', image_url=None, image_mimetype=None, text_embedding=None),\n",
              " ImageDocument(id_='4448be14-8835-41cb-a12b-ddcbed6d139d', embedding=None, metadata={'file_path': '/content/mixed_data/frame0007.png', 'file_name': 'frame0007.png', 'file_type': 'image/png', 'file_size': 106037, 'creation_date': '2024-04-15', 'last_modified_date': '2024-04-15'}, excluded_embed_metadata_keys=['file_name', 'file_type', 'file_size', 'creation_date', 'last_modified_date', 'last_accessed_date'], excluded_llm_metadata_keys=['file_name', 'file_type', 'file_size', 'creation_date', 'last_modified_date', 'last_accessed_date'], relationships={}, text='', start_char_idx=None, end_char_idx=None, text_template='{metadata_str}\\n\\n{content}', metadata_template='{key}: {value}', metadata_seperator='\\n', image=None, image_path='/content/mixed_data/frame0007.png', image_url=None, image_mimetype=None, text_embedding=None),\n",
              " ImageDocument(id_='26ed6a82-254a-49d5-9996-835896c1d81e', embedding=None, metadata={'file_path': '/content/mixed_data/frame0008.png', 'file_name': 'frame0008.png', 'file_type': 'image/png', 'file_size': 16438, 'creation_date': '2024-04-15', 'last_modified_date': '2024-04-15'}, excluded_embed_metadata_keys=['file_name', 'file_type', 'file_size', 'creation_date', 'last_modified_date', 'last_accessed_date'], excluded_llm_metadata_keys=['file_name', 'file_type', 'file_size', 'creation_date', 'last_modified_date', 'last_accessed_date'], relationships={}, text='', start_char_idx=None, end_char_idx=None, text_template='{metadata_str}\\n\\n{content}', metadata_template='{key}: {value}', metadata_seperator='\\n', image=None, image_path='/content/mixed_data/frame0008.png', image_url=None, image_mimetype=None, text_embedding=None),\n",
              " ImageDocument(id_='f86876b8-23f9-478f-8fc9-145c13089093', embedding=None, metadata={'file_path': '/content/mixed_data/frame0009.png', 'file_name': 'frame0009.png', 'file_type': 'image/png', 'file_size': 19626, 'creation_date': '2024-04-15', 'last_modified_date': '2024-04-15'}, excluded_embed_metadata_keys=['file_name', 'file_type', 'file_size', 'creation_date', 'last_modified_date', 'last_accessed_date'], excluded_llm_metadata_keys=['file_name', 'file_type', 'file_size', 'creation_date', 'last_modified_date', 'last_accessed_date'], relationships={}, text='', start_char_idx=None, end_char_idx=None, text_template='{metadata_str}\\n\\n{content}', metadata_template='{key}: {value}', metadata_seperator='\\n', image=None, image_path='/content/mixed_data/frame0009.png', image_url=None, image_mimetype=None, text_embedding=None),\n",
              " ImageDocument(id_='648445e4-84da-4621-b5e8-e040a0c7dd68', embedding=None, metadata={'file_path': '/content/mixed_data/frame0010.png', 'file_name': 'frame0010.png', 'file_type': 'image/png', 'file_size': 19161, 'creation_date': '2024-04-15', 'last_modified_date': '2024-04-15'}, excluded_embed_metadata_keys=['file_name', 'file_type', 'file_size', 'creation_date', 'last_modified_date', 'last_accessed_date'], excluded_llm_metadata_keys=['file_name', 'file_type', 'file_size', 'creation_date', 'last_modified_date', 'last_accessed_date'], relationships={}, text='', start_char_idx=None, end_char_idx=None, text_template='{metadata_str}\\n\\n{content}', metadata_template='{key}: {value}', metadata_seperator='\\n', image=None, image_path='/content/mixed_data/frame0010.png', image_url=None, image_mimetype=None, text_embedding=None),\n",
              " ImageDocument(id_='963508ce-328a-4f63-9038-55d643c855d9', embedding=None, metadata={'file_path': '/content/mixed_data/frame0011.png', 'file_name': 'frame0011.png', 'file_type': 'image/png', 'file_size': 12756, 'creation_date': '2024-04-15', 'last_modified_date': '2024-04-15'}, excluded_embed_metadata_keys=['file_name', 'file_type', 'file_size', 'creation_date', 'last_modified_date', 'last_accessed_date'], excluded_llm_metadata_keys=['file_name', 'file_type', 'file_size', 'creation_date', 'last_modified_date', 'last_accessed_date'], relationships={}, text='', start_char_idx=None, end_char_idx=None, text_template='{metadata_str}\\n\\n{content}', metadata_template='{key}: {value}', metadata_seperator='\\n', image=None, image_path='/content/mixed_data/frame0011.png', image_url=None, image_mimetype=None, text_embedding=None),\n",
              " ImageDocument(id_='c1ec0860-0542-4bab-8667-f69523bd6b0d', embedding=None, metadata={'file_path': '/content/mixed_data/frame0012.png', 'file_name': 'frame0012.png', 'file_type': 'image/png', 'file_size': 12022, 'creation_date': '2024-04-15', 'last_modified_date': '2024-04-15'}, excluded_embed_metadata_keys=['file_name', 'file_type', 'file_size', 'creation_date', 'last_modified_date', 'last_accessed_date'], excluded_llm_metadata_keys=['file_name', 'file_type', 'file_size', 'creation_date', 'last_modified_date', 'last_accessed_date'], relationships={}, text='', start_char_idx=None, end_char_idx=None, text_template='{metadata_str}\\n\\n{content}', metadata_template='{key}: {value}', metadata_seperator='\\n', image=None, image_path='/content/mixed_data/frame0012.png', image_url=None, image_mimetype=None, text_embedding=None),\n",
              " ImageDocument(id_='3522ac26-2801-4516-b9bc-8fcd84b20516', embedding=None, metadata={'file_path': '/content/mixed_data/frame0013.png', 'file_name': 'frame0013.png', 'file_type': 'image/png', 'file_size': 77130, 'creation_date': '2024-04-15', 'last_modified_date': '2024-04-15'}, excluded_embed_metadata_keys=['file_name', 'file_type', 'file_size', 'creation_date', 'last_modified_date', 'last_accessed_date'], excluded_llm_metadata_keys=['file_name', 'file_type', 'file_size', 'creation_date', 'last_modified_date', 'last_accessed_date'], relationships={}, text='', start_char_idx=None, end_char_idx=None, text_template='{metadata_str}\\n\\n{content}', metadata_template='{key}: {value}', metadata_seperator='\\n', image=None, image_path='/content/mixed_data/frame0013.png', image_url=None, image_mimetype=None, text_embedding=None),\n",
              " ImageDocument(id_='1983b296-0f7c-47ce-93c2-7ab583dd3316', embedding=None, metadata={'file_path': '/content/mixed_data/frame0014.png', 'file_name': 'frame0014.png', 'file_type': 'image/png', 'file_size': 75105, 'creation_date': '2024-04-15', 'last_modified_date': '2024-04-15'}, excluded_embed_metadata_keys=['file_name', 'file_type', 'file_size', 'creation_date', 'last_modified_date', 'last_accessed_date'], excluded_llm_metadata_keys=['file_name', 'file_type', 'file_size', 'creation_date', 'last_modified_date', 'last_accessed_date'], relationships={}, text='', start_char_idx=None, end_char_idx=None, text_template='{metadata_str}\\n\\n{content}', metadata_template='{key}: {value}', metadata_seperator='\\n', image=None, image_path='/content/mixed_data/frame0014.png', image_url=None, image_mimetype=None, text_embedding=None),\n",
              " ImageDocument(id_='f90152af-c18d-4ab5-b527-be5262dd1b25', embedding=None, metadata={'file_path': '/content/mixed_data/frame0015.png', 'file_name': 'frame0015.png', 'file_type': 'image/png', 'file_size': 71384, 'creation_date': '2024-04-15', 'last_modified_date': '2024-04-15'}, excluded_embed_metadata_keys=['file_name', 'file_type', 'file_size', 'creation_date', 'last_modified_date', 'last_accessed_date'], excluded_llm_metadata_keys=['file_name', 'file_type', 'file_size', 'creation_date', 'last_modified_date', 'last_accessed_date'], relationships={}, text='', start_char_idx=None, end_char_idx=None, text_template='{metadata_str}\\n\\n{content}', metadata_template='{key}: {value}', metadata_seperator='\\n', image=None, image_path='/content/mixed_data/frame0015.png', image_url=None, image_mimetype=None, text_embedding=None),\n",
              " ImageDocument(id_='65ddb48b-2d72-42c2-8e37-9b8c52f12f2b', embedding=None, metadata={'file_path': '/content/mixed_data/frame0016.png', 'file_name': 'frame0016.png', 'file_type': 'image/png', 'file_size': 89287, 'creation_date': '2024-04-15', 'last_modified_date': '2024-04-15'}, excluded_embed_metadata_keys=['file_name', 'file_type', 'file_size', 'creation_date', 'last_modified_date', 'last_accessed_date'], excluded_llm_metadata_keys=['file_name', 'file_type', 'file_size', 'creation_date', 'last_modified_date', 'last_accessed_date'], relationships={}, text='', start_char_idx=None, end_char_idx=None, text_template='{metadata_str}\\n\\n{content}', metadata_template='{key}: {value}', metadata_seperator='\\n', image=None, image_path='/content/mixed_data/frame0016.png', image_url=None, image_mimetype=None, text_embedding=None),\n",
              " ImageDocument(id_='4c5b4c52-6243-4e87-9ffc-f7e2bc81d695', embedding=None, metadata={'file_path': '/content/mixed_data/frame0017.png', 'file_name': 'frame0017.png', 'file_type': 'image/png', 'file_size': 18400, 'creation_date': '2024-04-15', 'last_modified_date': '2024-04-15'}, excluded_embed_metadata_keys=['file_name', 'file_type', 'file_size', 'creation_date', 'last_modified_date', 'last_accessed_date'], excluded_llm_metadata_keys=['file_name', 'file_type', 'file_size', 'creation_date', 'last_modified_date', 'last_accessed_date'], relationships={}, text='', start_char_idx=None, end_char_idx=None, text_template='{metadata_str}\\n\\n{content}', metadata_template='{key}: {value}', metadata_seperator='\\n', image=None, image_path='/content/mixed_data/frame0017.png', image_url=None, image_mimetype=None, text_embedding=None),\n",
              " ImageDocument(id_='07ef263c-1b44-423e-8c1b-dfd222901c87', embedding=None, metadata={'file_path': '/content/mixed_data/frame0018.png', 'file_name': 'frame0018.png', 'file_type': 'image/png', 'file_size': 33208, 'creation_date': '2024-04-15', 'last_modified_date': '2024-04-15'}, excluded_embed_metadata_keys=['file_name', 'file_type', 'file_size', 'creation_date', 'last_modified_date', 'last_accessed_date'], excluded_llm_metadata_keys=['file_name', 'file_type', 'file_size', 'creation_date', 'last_modified_date', 'last_accessed_date'], relationships={}, text='', start_char_idx=None, end_char_idx=None, text_template='{metadata_str}\\n\\n{content}', metadata_template='{key}: {value}', metadata_seperator='\\n', image=None, image_path='/content/mixed_data/frame0018.png', image_url=None, image_mimetype=None, text_embedding=None),\n",
              " ImageDocument(id_='668da929-fdce-47ff-ad02-a5b809751fd4', embedding=None, metadata={'file_path': '/content/mixed_data/frame0019.png', 'file_name': 'frame0019.png', 'file_type': 'image/png', 'file_size': 480515, 'creation_date': '2024-04-15', 'last_modified_date': '2024-04-15'}, excluded_embed_metadata_keys=['file_name', 'file_type', 'file_size', 'creation_date', 'last_modified_date', 'last_accessed_date'], excluded_llm_metadata_keys=['file_name', 'file_type', 'file_size', 'creation_date', 'last_modified_date', 'last_accessed_date'], relationships={}, text='', start_char_idx=None, end_char_idx=None, text_template='{metadata_str}\\n\\n{content}', metadata_template='{key}: {value}', metadata_seperator='\\n', image=None, image_path='/content/mixed_data/frame0019.png', image_url=None, image_mimetype=None, text_embedding=None),\n",
              " ImageDocument(id_='ab6ba856-96e3-48d2-b609-b8b32c69838d', embedding=None, metadata={'file_path': '/content/mixed_data/frame0020.png', 'file_name': 'frame0020.png', 'file_type': 'image/png', 'file_size': 61079, 'creation_date': '2024-04-15', 'last_modified_date': '2024-04-15'}, excluded_embed_metadata_keys=['file_name', 'file_type', 'file_size', 'creation_date', 'last_modified_date', 'last_accessed_date'], excluded_llm_metadata_keys=['file_name', 'file_type', 'file_size', 'creation_date', 'last_modified_date', 'last_accessed_date'], relationships={}, text='', start_char_idx=None, end_char_idx=None, text_template='{metadata_str}\\n\\n{content}', metadata_template='{key}: {value}', metadata_seperator='\\n', image=None, image_path='/content/mixed_data/frame0020.png', image_url=None, image_mimetype=None, text_embedding=None),\n",
              " ImageDocument(id_='ff946cb9-1d5a-44c0-8583-b6ddb26cbe2e', embedding=None, metadata={'file_path': '/content/mixed_data/frame0021.png', 'file_name': 'frame0021.png', 'file_type': 'image/png', 'file_size': 58073, 'creation_date': '2024-04-15', 'last_modified_date': '2024-04-15'}, excluded_embed_metadata_keys=['file_name', 'file_type', 'file_size', 'creation_date', 'last_modified_date', 'last_accessed_date'], excluded_llm_metadata_keys=['file_name', 'file_type', 'file_size', 'creation_date', 'last_modified_date', 'last_accessed_date'], relationships={}, text='', start_char_idx=None, end_char_idx=None, text_template='{metadata_str}\\n\\n{content}', metadata_template='{key}: {value}', metadata_seperator='\\n', image=None, image_path='/content/mixed_data/frame0021.png', image_url=None, image_mimetype=None, text_embedding=None),\n",
              " ImageDocument(id_='0088e3c1-e78a-43a1-9890-af2f6acd8134', embedding=None, metadata={'file_path': '/content/mixed_data/frame0022.png', 'file_name': 'frame0022.png', 'file_type': 'image/png', 'file_size': 58073, 'creation_date': '2024-04-15', 'last_modified_date': '2024-04-15'}, excluded_embed_metadata_keys=['file_name', 'file_type', 'file_size', 'creation_date', 'last_modified_date', 'last_accessed_date'], excluded_llm_metadata_keys=['file_name', 'file_type', 'file_size', 'creation_date', 'last_modified_date', 'last_accessed_date'], relationships={}, text='', start_char_idx=None, end_char_idx=None, text_template='{metadata_str}\\n\\n{content}', metadata_template='{key}: {value}', metadata_seperator='\\n', image=None, image_path='/content/mixed_data/frame0022.png', image_url=None, image_mimetype=None, text_embedding=None),\n",
              " ImageDocument(id_='cdc8cb40-1f5f-4313-be82-e4f9e4fab39e', embedding=None, metadata={'file_path': '/content/mixed_data/frame0023.png', 'file_name': 'frame0023.png', 'file_type': 'image/png', 'file_size': 64512, 'creation_date': '2024-04-15', 'last_modified_date': '2024-04-15'}, excluded_embed_metadata_keys=['file_name', 'file_type', 'file_size', 'creation_date', 'last_modified_date', 'last_accessed_date'], excluded_llm_metadata_keys=['file_name', 'file_type', 'file_size', 'creation_date', 'last_modified_date', 'last_accessed_date'], relationships={}, text='', start_char_idx=None, end_char_idx=None, text_template='{metadata_str}\\n\\n{content}', metadata_template='{key}: {value}', metadata_seperator='\\n', image=None, image_path='/content/mixed_data/frame0023.png', image_url=None, image_mimetype=None, text_embedding=None),\n",
              " ImageDocument(id_='3bc973e8-6ff4-477d-b67b-4cae9f83b491', embedding=None, metadata={'file_path': '/content/mixed_data/frame0024.png', 'file_name': 'frame0024.png', 'file_type': 'image/png', 'file_size': 74971, 'creation_date': '2024-04-15', 'last_modified_date': '2024-04-15'}, excluded_embed_metadata_keys=['file_name', 'file_type', 'file_size', 'creation_date', 'last_modified_date', 'last_accessed_date'], excluded_llm_metadata_keys=['file_name', 'file_type', 'file_size', 'creation_date', 'last_modified_date', 'last_accessed_date'], relationships={}, text='', start_char_idx=None, end_char_idx=None, text_template='{metadata_str}\\n\\n{content}', metadata_template='{key}: {value}', metadata_seperator='\\n', image=None, image_path='/content/mixed_data/frame0024.png', image_url=None, image_mimetype=None, text_embedding=None),\n",
              " ImageDocument(id_='fbca3fdd-11fe-4319-bc5f-d88c7b422085', embedding=None, metadata={'file_path': '/content/mixed_data/frame0025.png', 'file_name': 'frame0025.png', 'file_type': 'image/png', 'file_size': 83377, 'creation_date': '2024-04-15', 'last_modified_date': '2024-04-15'}, excluded_embed_metadata_keys=['file_name', 'file_type', 'file_size', 'creation_date', 'last_modified_date', 'last_accessed_date'], excluded_llm_metadata_keys=['file_name', 'file_type', 'file_size', 'creation_date', 'last_modified_date', 'last_accessed_date'], relationships={}, text='', start_char_idx=None, end_char_idx=None, text_template='{metadata_str}\\n\\n{content}', metadata_template='{key}: {value}', metadata_seperator='\\n', image=None, image_path='/content/mixed_data/frame0025.png', image_url=None, image_mimetype=None, text_embedding=None),\n",
              " ImageDocument(id_='4e3293bb-0ff6-47b9-97db-95ce30cad760', embedding=None, metadata={'file_path': '/content/mixed_data/frame0026.png', 'file_name': 'frame0026.png', 'file_type': 'image/png', 'file_size': 71661, 'creation_date': '2024-04-15', 'last_modified_date': '2024-04-15'}, excluded_embed_metadata_keys=['file_name', 'file_type', 'file_size', 'creation_date', 'last_modified_date', 'last_accessed_date'], excluded_llm_metadata_keys=['file_name', 'file_type', 'file_size', 'creation_date', 'last_modified_date', 'last_accessed_date'], relationships={}, text='', start_char_idx=None, end_char_idx=None, text_template='{metadata_str}\\n\\n{content}', metadata_template='{key}: {value}', metadata_seperator='\\n', image=None, image_path='/content/mixed_data/frame0026.png', image_url=None, image_mimetype=None, text_embedding=None),\n",
              " ImageDocument(id_='8144ed20-ba58-4b36-a02e-702162070c8e', embedding=None, metadata={'file_path': '/content/mixed_data/frame0027.png', 'file_name': 'frame0027.png', 'file_type': 'image/png', 'file_size': 70238, 'creation_date': '2024-04-15', 'last_modified_date': '2024-04-15'}, excluded_embed_metadata_keys=['file_name', 'file_type', 'file_size', 'creation_date', 'last_modified_date', 'last_accessed_date'], excluded_llm_metadata_keys=['file_name', 'file_type', 'file_size', 'creation_date', 'last_modified_date', 'last_accessed_date'], relationships={}, text='', start_char_idx=None, end_char_idx=None, text_template='{metadata_str}\\n\\n{content}', metadata_template='{key}: {value}', metadata_seperator='\\n', image=None, image_path='/content/mixed_data/frame0027.png', image_url=None, image_mimetype=None, text_embedding=None),\n",
              " ImageDocument(id_='ee00c565-292b-4fd4-9461-e704f566be57', embedding=None, metadata={'file_path': '/content/mixed_data/frame0028.png', 'file_name': 'frame0028.png', 'file_type': 'image/png', 'file_size': 65903, 'creation_date': '2024-04-15', 'last_modified_date': '2024-04-15'}, excluded_embed_metadata_keys=['file_name', 'file_type', 'file_size', 'creation_date', 'last_modified_date', 'last_accessed_date'], excluded_llm_metadata_keys=['file_name', 'file_type', 'file_size', 'creation_date', 'last_modified_date', 'last_accessed_date'], relationships={}, text='', start_char_idx=None, end_char_idx=None, text_template='{metadata_str}\\n\\n{content}', metadata_template='{key}: {value}', metadata_seperator='\\n', image=None, image_path='/content/mixed_data/frame0028.png', image_url=None, image_mimetype=None, text_embedding=None),\n",
              " ImageDocument(id_='bf1deb2b-cc67-4fb6-936b-2c8fded30acb', embedding=None, metadata={'file_path': '/content/mixed_data/frame0029.png', 'file_name': 'frame0029.png', 'file_type': 'image/png', 'file_size': 214295, 'creation_date': '2024-04-15', 'last_modified_date': '2024-04-15'}, excluded_embed_metadata_keys=['file_name', 'file_type', 'file_size', 'creation_date', 'last_modified_date', 'last_accessed_date'], excluded_llm_metadata_keys=['file_name', 'file_type', 'file_size', 'creation_date', 'last_modified_date', 'last_accessed_date'], relationships={}, text='', start_char_idx=None, end_char_idx=None, text_template='{metadata_str}\\n\\n{content}', metadata_template='{key}: {value}', metadata_seperator='\\n', image=None, image_path='/content/mixed_data/frame0029.png', image_url=None, image_mimetype=None, text_embedding=None),\n",
              " ImageDocument(id_='ea317f8a-d538-46c8-9a85-7b9b2c798958', embedding=None, metadata={'file_path': '/content/mixed_data/frame0030.png', 'file_name': 'frame0030.png', 'file_type': 'image/png', 'file_size': 276264, 'creation_date': '2024-04-15', 'last_modified_date': '2024-04-15'}, excluded_embed_metadata_keys=['file_name', 'file_type', 'file_size', 'creation_date', 'last_modified_date', 'last_accessed_date'], excluded_llm_metadata_keys=['file_name', 'file_type', 'file_size', 'creation_date', 'last_modified_date', 'last_accessed_date'], relationships={}, text='', start_char_idx=None, end_char_idx=None, text_template='{metadata_str}\\n\\n{content}', metadata_template='{key}: {value}', metadata_seperator='\\n', image=None, image_path='/content/mixed_data/frame0030.png', image_url=None, image_mimetype=None, text_embedding=None),\n",
              " ImageDocument(id_='eaafbc30-b113-4802-8e5d-1d91edec87c9', embedding=None, metadata={'file_path': '/content/mixed_data/frame0031.png', 'file_name': 'frame0031.png', 'file_type': 'image/png', 'file_size': 275569, 'creation_date': '2024-04-15', 'last_modified_date': '2024-04-15'}, excluded_embed_metadata_keys=['file_name', 'file_type', 'file_size', 'creation_date', 'last_modified_date', 'last_accessed_date'], excluded_llm_metadata_keys=['file_name', 'file_type', 'file_size', 'creation_date', 'last_modified_date', 'last_accessed_date'], relationships={}, text='', start_char_idx=None, end_char_idx=None, text_template='{metadata_str}\\n\\n{content}', metadata_template='{key}: {value}', metadata_seperator='\\n', image=None, image_path='/content/mixed_data/frame0031.png', image_url=None, image_mimetype=None, text_embedding=None),\n",
              " ImageDocument(id_='f09ca461-6ff6-4743-b23b-acb5b1e11234', embedding=None, metadata={'file_path': '/content/mixed_data/frame0032.png', 'file_name': 'frame0032.png', 'file_type': 'image/png', 'file_size': 268317, 'creation_date': '2024-04-15', 'last_modified_date': '2024-04-15'}, excluded_embed_metadata_keys=['file_name', 'file_type', 'file_size', 'creation_date', 'last_modified_date', 'last_accessed_date'], excluded_llm_metadata_keys=['file_name', 'file_type', 'file_size', 'creation_date', 'last_modified_date', 'last_accessed_date'], relationships={}, text='', start_char_idx=None, end_char_idx=None, text_template='{metadata_str}\\n\\n{content}', metadata_template='{key}: {value}', metadata_seperator='\\n', image=None, image_path='/content/mixed_data/frame0032.png', image_url=None, image_mimetype=None, text_embedding=None),\n",
              " ImageDocument(id_='2ffdb475-d56c-4afc-b096-71303fc32a2f', embedding=None, metadata={'file_path': '/content/mixed_data/frame0033.png', 'file_name': 'frame0033.png', 'file_type': 'image/png', 'file_size': 128474, 'creation_date': '2024-04-15', 'last_modified_date': '2024-04-15'}, excluded_embed_metadata_keys=['file_name', 'file_type', 'file_size', 'creation_date', 'last_modified_date', 'last_accessed_date'], excluded_llm_metadata_keys=['file_name', 'file_type', 'file_size', 'creation_date', 'last_modified_date', 'last_accessed_date'], relationships={}, text='', start_char_idx=None, end_char_idx=None, text_template='{metadata_str}\\n\\n{content}', metadata_template='{key}: {value}', metadata_seperator='\\n', image=None, image_path='/content/mixed_data/frame0033.png', image_url=None, image_mimetype=None, text_embedding=None),\n",
              " ImageDocument(id_='795dea71-bdfd-4e0c-87c2-e2c86059f718', embedding=None, metadata={'file_path': '/content/mixed_data/frame0034.png', 'file_name': 'frame0034.png', 'file_type': 'image/png', 'file_size': 32376, 'creation_date': '2024-04-15', 'last_modified_date': '2024-04-15'}, excluded_embed_metadata_keys=['file_name', 'file_type', 'file_size', 'creation_date', 'last_modified_date', 'last_accessed_date'], excluded_llm_metadata_keys=['file_name', 'file_type', 'file_size', 'creation_date', 'last_modified_date', 'last_accessed_date'], relationships={}, text='', start_char_idx=None, end_char_idx=None, text_template='{metadata_str}\\n\\n{content}', metadata_template='{key}: {value}', metadata_seperator='\\n', image=None, image_path='/content/mixed_data/frame0034.png', image_url=None, image_mimetype=None, text_embedding=None),\n",
              " ImageDocument(id_='e8fe9f4d-29c5-45ce-9882-e58be4558fff', embedding=None, metadata={'file_path': '/content/mixed_data/frame0035.png', 'file_name': 'frame0035.png', 'file_type': 'image/png', 'file_size': 48350, 'creation_date': '2024-04-15', 'last_modified_date': '2024-04-15'}, excluded_embed_metadata_keys=['file_name', 'file_type', 'file_size', 'creation_date', 'last_modified_date', 'last_accessed_date'], excluded_llm_metadata_keys=['file_name', 'file_type', 'file_size', 'creation_date', 'last_modified_date', 'last_accessed_date'], relationships={}, text='', start_char_idx=None, end_char_idx=None, text_template='{metadata_str}\\n\\n{content}', metadata_template='{key}: {value}', metadata_seperator='\\n', image=None, image_path='/content/mixed_data/frame0035.png', image_url=None, image_mimetype=None, text_embedding=None),\n",
              " ImageDocument(id_='b0b91d7d-9c43-463c-9183-0cb1ab01459a', embedding=None, metadata={'file_path': '/content/mixed_data/frame0036.png', 'file_name': 'frame0036.png', 'file_type': 'image/png', 'file_size': 81497, 'creation_date': '2024-04-15', 'last_modified_date': '2024-04-15'}, excluded_embed_metadata_keys=['file_name', 'file_type', 'file_size', 'creation_date', 'last_modified_date', 'last_accessed_date'], excluded_llm_metadata_keys=['file_name', 'file_type', 'file_size', 'creation_date', 'last_modified_date', 'last_accessed_date'], relationships={}, text='', start_char_idx=None, end_char_idx=None, text_template='{metadata_str}\\n\\n{content}', metadata_template='{key}: {value}', metadata_seperator='\\n', image=None, image_path='/content/mixed_data/frame0036.png', image_url=None, image_mimetype=None, text_embedding=None),\n",
              " ImageDocument(id_='a107e0f6-02bf-400e-a07b-cf3b38fbc17d', embedding=None, metadata={'file_path': '/content/mixed_data/frame0037.png', 'file_name': 'frame0037.png', 'file_type': 'image/png', 'file_size': 79921, 'creation_date': '2024-04-15', 'last_modified_date': '2024-04-15'}, excluded_embed_metadata_keys=['file_name', 'file_type', 'file_size', 'creation_date', 'last_modified_date', 'last_accessed_date'], excluded_llm_metadata_keys=['file_name', 'file_type', 'file_size', 'creation_date', 'last_modified_date', 'last_accessed_date'], relationships={}, text='', start_char_idx=None, end_char_idx=None, text_template='{metadata_str}\\n\\n{content}', metadata_template='{key}: {value}', metadata_seperator='\\n', image=None, image_path='/content/mixed_data/frame0037.png', image_url=None, image_mimetype=None, text_embedding=None),\n",
              " ImageDocument(id_='0978e067-3578-418e-8d8d-67d1dd3f5286', embedding=None, metadata={'file_path': '/content/mixed_data/frame0038.png', 'file_name': 'frame0038.png', 'file_type': 'image/png', 'file_size': 76762, 'creation_date': '2024-04-15', 'last_modified_date': '2024-04-15'}, excluded_embed_metadata_keys=['file_name', 'file_type', 'file_size', 'creation_date', 'last_modified_date', 'last_accessed_date'], excluded_llm_metadata_keys=['file_name', 'file_type', 'file_size', 'creation_date', 'last_modified_date', 'last_accessed_date'], relationships={}, text='', start_char_idx=None, end_char_idx=None, text_template='{metadata_str}\\n\\n{content}', metadata_template='{key}: {value}', metadata_seperator='\\n', image=None, image_path='/content/mixed_data/frame0038.png', image_url=None, image_mimetype=None, text_embedding=None),\n",
              " ImageDocument(id_='568bff78-8ae1-4866-bfcd-10a65aad6464', embedding=None, metadata={'file_path': '/content/mixed_data/frame0039.png', 'file_name': 'frame0039.png', 'file_type': 'image/png', 'file_size': 98337, 'creation_date': '2024-04-15', 'last_modified_date': '2024-04-15'}, excluded_embed_metadata_keys=['file_name', 'file_type', 'file_size', 'creation_date', 'last_modified_date', 'last_accessed_date'], excluded_llm_metadata_keys=['file_name', 'file_type', 'file_size', 'creation_date', 'last_modified_date', 'last_accessed_date'], relationships={}, text='', start_char_idx=None, end_char_idx=None, text_template='{metadata_str}\\n\\n{content}', metadata_template='{key}: {value}', metadata_seperator='\\n', image=None, image_path='/content/mixed_data/frame0039.png', image_url=None, image_mimetype=None, text_embedding=None),\n",
              " ImageDocument(id_='b8698d60-8aad-47d7-90ee-a3eab0aa956c', embedding=None, metadata={'file_path': '/content/mixed_data/frame0040.png', 'file_name': 'frame0040.png', 'file_type': 'image/png', 'file_size': 266352, 'creation_date': '2024-04-15', 'last_modified_date': '2024-04-15'}, excluded_embed_metadata_keys=['file_name', 'file_type', 'file_size', 'creation_date', 'last_modified_date', 'last_accessed_date'], excluded_llm_metadata_keys=['file_name', 'file_type', 'file_size', 'creation_date', 'last_modified_date', 'last_accessed_date'], relationships={}, text='', start_char_idx=None, end_char_idx=None, text_template='{metadata_str}\\n\\n{content}', metadata_template='{key}: {value}', metadata_seperator='\\n', image=None, image_path='/content/mixed_data/frame0040.png', image_url=None, image_mimetype=None, text_embedding=None),\n",
              " ImageDocument(id_='367866d6-978c-4138-a01b-2ec6740b0da5', embedding=None, metadata={'file_path': '/content/mixed_data/frame0041.png', 'file_name': 'frame0041.png', 'file_type': 'image/png', 'file_size': 266334, 'creation_date': '2024-04-15', 'last_modified_date': '2024-04-15'}, excluded_embed_metadata_keys=['file_name', 'file_type', 'file_size', 'creation_date', 'last_modified_date', 'last_accessed_date'], excluded_llm_metadata_keys=['file_name', 'file_type', 'file_size', 'creation_date', 'last_modified_date', 'last_accessed_date'], relationships={}, text='', start_char_idx=None, end_char_idx=None, text_template='{metadata_str}\\n\\n{content}', metadata_template='{key}: {value}', metadata_seperator='\\n', image=None, image_path='/content/mixed_data/frame0041.png', image_url=None, image_mimetype=None, text_embedding=None),\n",
              " ImageDocument(id_='64991993-6c29-4cb1-ae0e-90c2862b4520', embedding=None, metadata={'file_path': '/content/mixed_data/frame0042.png', 'file_name': 'frame0042.png', 'file_type': 'image/png', 'file_size': 266345, 'creation_date': '2024-04-15', 'last_modified_date': '2024-04-15'}, excluded_embed_metadata_keys=['file_name', 'file_type', 'file_size', 'creation_date', 'last_modified_date', 'last_accessed_date'], excluded_llm_metadata_keys=['file_name', 'file_type', 'file_size', 'creation_date', 'last_modified_date', 'last_accessed_date'], relationships={}, text='', start_char_idx=None, end_char_idx=None, text_template='{metadata_str}\\n\\n{content}', metadata_template='{key}: {value}', metadata_seperator='\\n', image=None, image_path='/content/mixed_data/frame0042.png', image_url=None, image_mimetype=None, text_embedding=None),\n",
              " ImageDocument(id_='32f6ff2b-303f-497b-938f-be507d5c84e7', embedding=None, metadata={'file_path': '/content/mixed_data/frame0043.png', 'file_name': 'frame0043.png', 'file_type': 'image/png', 'file_size': 408080, 'creation_date': '2024-04-15', 'last_modified_date': '2024-04-15'}, excluded_embed_metadata_keys=['file_name', 'file_type', 'file_size', 'creation_date', 'last_modified_date', 'last_accessed_date'], excluded_llm_metadata_keys=['file_name', 'file_type', 'file_size', 'creation_date', 'last_modified_date', 'last_accessed_date'], relationships={}, text='', start_char_idx=None, end_char_idx=None, text_template='{metadata_str}\\n\\n{content}', metadata_template='{key}: {value}', metadata_seperator='\\n', image=None, image_path='/content/mixed_data/frame0043.png', image_url=None, image_mimetype=None, text_embedding=None),\n",
              " ImageDocument(id_='54b601c4-3e80-4f76-b90d-cf4bce6f5e66', embedding=None, metadata={'file_path': '/content/mixed_data/frame0044.png', 'file_name': 'frame0044.png', 'file_type': 'image/png', 'file_size': 266346, 'creation_date': '2024-04-15', 'last_modified_date': '2024-04-15'}, excluded_embed_metadata_keys=['file_name', 'file_type', 'file_size', 'creation_date', 'last_modified_date', 'last_accessed_date'], excluded_llm_metadata_keys=['file_name', 'file_type', 'file_size', 'creation_date', 'last_modified_date', 'last_accessed_date'], relationships={}, text='', start_char_idx=None, end_char_idx=None, text_template='{metadata_str}\\n\\n{content}', metadata_template='{key}: {value}', metadata_seperator='\\n', image=None, image_path='/content/mixed_data/frame0044.png', image_url=None, image_mimetype=None, text_embedding=None),\n",
              " ImageDocument(id_='351e8d2a-8480-49c8-be91-bb414eaca44b', embedding=None, metadata={'file_path': '/content/mixed_data/frame0045.png', 'file_name': 'frame0045.png', 'file_type': 'image/png', 'file_size': 266334, 'creation_date': '2024-04-15', 'last_modified_date': '2024-04-15'}, excluded_embed_metadata_keys=['file_name', 'file_type', 'file_size', 'creation_date', 'last_modified_date', 'last_accessed_date'], excluded_llm_metadata_keys=['file_name', 'file_type', 'file_size', 'creation_date', 'last_modified_date', 'last_accessed_date'], relationships={}, text='', start_char_idx=None, end_char_idx=None, text_template='{metadata_str}\\n\\n{content}', metadata_template='{key}: {value}', metadata_seperator='\\n', image=None, image_path='/content/mixed_data/frame0045.png', image_url=None, image_mimetype=None, text_embedding=None),\n",
              " ImageDocument(id_='3d0432cf-8636-41bb-bfaf-a5a0f5cbb666', embedding=None, metadata={'file_path': '/content/mixed_data/frame0046.png', 'file_name': 'frame0046.png', 'file_type': 'image/png', 'file_size': 2820, 'creation_date': '2024-04-15', 'last_modified_date': '2024-04-15'}, excluded_embed_metadata_keys=['file_name', 'file_type', 'file_size', 'creation_date', 'last_modified_date', 'last_accessed_date'], excluded_llm_metadata_keys=['file_name', 'file_type', 'file_size', 'creation_date', 'last_modified_date', 'last_accessed_date'], relationships={}, text='', start_char_idx=None, end_char_idx=None, text_template='{metadata_str}\\n\\n{content}', metadata_template='{key}: {value}', metadata_seperator='\\n', image=None, image_path='/content/mixed_data/frame0046.png', image_url=None, image_mimetype=None, text_embedding=None),\n",
              " Document(id_='83aa2b9f-11cf-4bba-a80e-c0e712e22623', embedding=None, metadata={'file_path': '/content/mixed_data/output_text.txt', 'file_name': 'output_text.txt', 'file_type': 'text/plain', 'file_size': 3400, 'creation_date': '2024-04-15', 'last_modified_date': '2024-04-15'}, excluded_embed_metadata_keys=['file_name', 'file_type', 'file_size', 'creation_date', 'last_modified_date', 'last_accessed_date'], excluded_llm_metadata_keys=['file_name', 'file_type', 'file_size', 'creation_date', 'last_modified_date', 'last_accessed_date'], relationships={}, text=\" Lanyard regression is a statistical technique for modeling the relationship between an output variable and one or more input variables. In layman's terms, think of it as fitting a line through some data points as shown here, so you can make predictions on unknown data, assuming there is a linear relationship between the variables. You might be familiar with the linear function y equals mx plus b, where y is the output variable, also called the dependent variable. You may also see expressed as f of x, the function of the input variable. x on the other hand, would serve as the input variable, also called the independent variable. It's likely you'll see the coefficients m and b expressed as beta 1 and beta 0 respectively. So what do the m and b coefficients do? The m or beta 1 coefficient controls the slope of the line. The b or the beta 0 controls the intercept of the line. In machine learning, we also know it as the bias. These two coefficients are what we are solving for in linear regression. We can also extend to multiple input variables, so x1, x2, x3, with beta 1, beta 2, and beta 3, and so on, acting as slopes for each of those variables. In these higher dimensions, you would visualize the linear regression as a hyperplane. So how do we fit the line to these points? Well, you'll notice that there's these differences between the points and the line, these little red segments, these are called residuals. They are the differences between the data points and the predictions the line would produce. Take each of these residuals and square them. These are the squared errors, and notice that the large of the residuals are, the more amplified area of the squares are. If we total the areas of all of these squares for a given line, we will get the sum of the squared error, and this is known as our loss function. We need to find the beta 0 and beta 1 coefficients that will minimize that sum of squared error. The coefficients can be solved with a variety of techniques ranging from matrix decomposition to gradient descent, which is depicted right here. Thankfully, a lot of libraries are available to do this for us, and we will deep dive into these topics in other videos. To validate a linear regression, there are a number of techniques. Machine learning practitioners will often take a third of the data and put it into the test data set. The remaining two thirds will become the training data set. The training data set will then be used to fit the regression line. The test data set will then be used to validate the regression line. This is done to make sure that the regression performs well on data it has not seen before. The tricks used to evaluate the linear regression vary from the R square, standard error of the estimate, prediction intervals, as well as statistical significance. These are topics we will cover in future videos. If you enjoyed this video, please like and subscribe. Look at my two O'Reilly books, Essential Math for Data Science, and getting started with SQL. Chapter five of Essential Math for Data Science actually covers linear regression and much more depth. If you want live instruction, I also do teach on the O'Reilly platform. Promotional link below. I teach classes including machine learning from scratch, probability, and SQL. Comment on what topics you would like to see next, and I will see you again on 3 Minute Data Science.\", start_char_idx=None, end_char_idx=None, text_template='{metadata_str}\\n\\n{content}', metadata_template='{key}: {value}', metadata_seperator='\\n')]"
            ]
          },
          "metadata": {},
          "execution_count": 36
        }
      ]
    },
    {
      "cell_type": "code",
      "source": [
        "index = MultiModalVectorStoreIndex.from_documents(documents,storage_context=storage_context)"
      ],
      "metadata": {
        "id": "cFk8dM_meYJy"
      },
      "execution_count": 39,
      "outputs": []
    },
    {
      "cell_type": "code",
      "source": [
        "retriever_engine=index.as_retriever(imilarity_top_k=5, image_similarity_top_k=3)"
      ],
      "metadata": {
        "id": "ORiC4SY3gdQ0"
      },
      "execution_count": 40,
      "outputs": []
    },
    {
      "cell_type": "code",
      "source": [
        "retriever_engine"
      ],
      "metadata": {
        "colab": {
          "base_uri": "https://localhost:8080/"
        },
        "id": "eGh9O3HJgigZ",
        "outputId": "c5f2eab4-37d5-4462-e97f-4514e892a4ba"
      },
      "execution_count": 41,
      "outputs": [
        {
          "output_type": "execute_result",
          "data": {
            "text/plain": [
              "<llama_index.core.indices.multi_modal.retriever.MultiModalVectorIndexRetriever at 0x7d4eb914fac0>"
            ]
          },
          "metadata": {},
          "execution_count": 41
        }
      ]
    },
    {
      "cell_type": "markdown",
      "source": [
        "# RAG"
      ],
      "metadata": {
        "id": "XEoqQfpQgl4C"
      }
    },
    {
      "cell_type": "code",
      "source": [
        "import json\n",
        "metadata_str=json.dumps(metadata_vid)"
      ],
      "metadata": {
        "id": "dVgEChTFgnaV"
      },
      "execution_count": 42,
      "outputs": []
    },
    {
      "cell_type": "code",
      "source": [
        "qa_tmpl_str=(\n",
        "    \"Given the provided information, including relevant images and retrieved context from the video, \\\n",
        "    accurately and precisely answer the query without any additional prior knowledge.\\n\"\n",
        "\n",
        "    \"---------------------\\n\"\n",
        "    \"Context: {context_str}\\n\"\n",
        "    \"Metadata for video: {metadata_str} \\n\"\n",
        "\n",
        "    \"---------------------\\n\"\n",
        "    \"Query: {query_str}\\n\"\n",
        "    \"Answer: \"\n",
        ")"
      ],
      "metadata": {
        "id": "eKrl1kKtgpnE"
      },
      "execution_count": 43,
      "outputs": []
    },
    {
      "cell_type": "code",
      "source": [
        "from llama_index.core.response.notebook_utils import display_source_node\n",
        "from llama_index.core.schema import ImageNode"
      ],
      "metadata": {
        "id": "HFMe7owCgski"
      },
      "execution_count": 44,
      "outputs": []
    },
    {
      "cell_type": "code",
      "source": [
        "query_str=\"what is a Linear Regression?\""
      ],
      "metadata": {
        "id": "OSMil6_9gvoh"
      },
      "execution_count": 45,
      "outputs": []
    },
    {
      "cell_type": "code",
      "source": [
        "retrieval_results=retriever_engine.retrieve(query_str)"
      ],
      "metadata": {
        "id": "-5NApC1ng0WT"
      },
      "execution_count": 46,
      "outputs": []
    },
    {
      "cell_type": "code",
      "source": [
        "retrieval_results"
      ],
      "metadata": {
        "colab": {
          "base_uri": "https://localhost:8080/"
        },
        "id": "GsElAY1Ng2is",
        "outputId": "23b6030f-e446-4cf1-8c7b-b4229405c00d"
      },
      "execution_count": 47,
      "outputs": [
        {
          "output_type": "execute_result",
          "data": {
            "text/plain": [
              "[NodeWithScore(node=TextNode(id_='68e10e84-175b-487e-b4e3-d449d5dab72b', embedding=[-0.011831889860332012, 0.0038376476150006056, -0.001850233180448413, -0.011338036507368088, -0.010082827880978584, 0.0011677560396492481, 0.0016093084122985601, 0.00849838275462389, -0.03259428218007088, -0.042553648352622986, -0.006865925621241331, 0.025419699028134346, -0.001395819941535592, 0.02853371575474739, 0.007867349311709404, -0.016804711893200874, 0.02399301342666149, 0.010727579705417156, 0.0436236634850502, -0.020138218998908997, -0.030728617683053017, 0.012943058274686337, -0.013231138698756695, -0.01629714109003544, -0.014417757280170918, -0.019520903006196022, 0.030344508588314056, -0.019685519859194756, 0.006968811620026827, -0.0025601466186344624, 0.012744145467877388, -0.006931086536496878, -0.009931928478181362, -0.019891291856765747, -0.010508089326322079, -0.02037142775952816, 0.011777017265558243, -0.001055438886396587, 0.023869551718235016, -0.01819024421274662, 0.021263105794787407, 0.020138218998908997, -0.0037107549142092466, -0.021139642223715782, 0.006934516131877899, -0.004355506971478462, 0.024637766182422638, -0.05640896037220955, -0.02273094654083252, 0.02371865138411522, 0.0033952377270907164, 0.011187137104570866, -0.03135965019464493, -0.01664009504020214, 0.0002259204920846969, 0.016845867037773132, 0.015323154628276825, 0.013025366701185703, 0.0005808771820738912, -0.025323672220110893, -0.011921057477593422, -0.0009979940950870514, -0.009767310693860054, -0.017161384224891663, 0.01713394746184349, -0.008985376916825771, 0.013937623240053654, 0.024624047800898552, -0.007407791446894407, 0.033335063606500626, -0.023389415815472603, 0.008923645131289959, 0.013656401075422764, 0.013711273670196533, 0.015446617268025875, 0.008313188329339027, -0.03371917083859444, -0.007044261321425438, 0.010672707110643387, 0.012325742281973362, 0.009767310693860054, -0.005041413940489292, 0.0007574981427751482, 0.023814678192138672, 0.023032745346426964, -0.030207328498363495, -0.003438106970861554, 0.034185588359832764, -0.013176266103982925, -0.02814960852265358, -0.007839912548661232, 0.004499547649174929, 0.024047886952757835, -0.00914999470114708, 0.009280316531658173, 0.0019788406789302826, 0.010652130469679832, 0.020083345472812653, 0.007695872336626053, -0.010562961921095848, 0.004516695160418749, -0.0025515726301819086, -0.02727164700627327, -0.009424356743693352, -0.04205979406833649, -0.006941375322639942, -0.004166882950812578, -0.016667531803250313, 0.017188820987939835, 0.0023835254833102226, -0.036325614899396896, 0.04351391643285751, -0.016489194706082344, -0.035667143762111664, 0.013196843676269054, -0.00452012475579977, 0.01456865668296814, -0.024335967376828194, -0.021125923842191696, 0.005603857338428497, 0.025927269831299782, 0.01174958050251007, 0.026860103011131287, -0.008470946922898293, 0.01551520824432373, 0.000653754745144397, -0.001841659308411181, 0.0001713694800855592, -0.010302317328751087, -0.01836857944726944, -0.0037519093602895737, 0.009794746525585651, -0.006114857736974955, 0.018066780641674995, -0.013045944273471832, 0.015021354891359806, 0.002280639484524727, -0.0004441245400812477, -0.0399746373295784, -0.03437764197587967, 0.030810926109552383, 0.009458652697503567, -0.0103640491142869, 0.0010905915405601263, -0.008930504322052002, 0.023938141763210297, 0.00581305893138051, 0.02054976299405098, -0.0032014693133533, -0.00650925375521183, 0.00662242854014039, -0.02041258104145527, 0.010912774130702019, -0.0012792159104719758, -0.0049968296661973, -0.010350330732762814, 0.016489194706082344, 0.013896468095481396, -0.024047886952757835, -0.007016825024038553, 0.012380614876747131, 0.03673715889453888, -0.01032975409179926, 0.01030917651951313, 0.02709331177175045, 0.03876744210720062, 0.0005491540068760514, -0.01681843027472496, -0.004863078240305185, 0.012943058274686337, 0.006800764240324497, 0.03964540362358093, -0.05042785406112671, 0.02691497653722763, 0.006018830928951502, -0.007750744931399822, -0.0032477679196745157, -0.003463828470557928, -0.02579008974134922, -0.019644366577267647, -0.005926233250647783, 0.01677727699279785, 0.01208567526191473, 0.02639368735253811, -0.005391226150095463, -0.0006571842823177576, 0.004616151563823223, -0.016900738701224327, -0.015172254294157028, -0.0313870869576931, 0.022456582635641098, 0.021894140169024467, -0.007894785143435001, -0.019685519859194756, -0.6255468726158142, -0.0022737805265933275, 0.003228905377909541, -0.0010460076155140996, -0.0030660026241093874, -0.005010548047721386, 0.005881649442017078, -0.029603730887174606, -0.011811312288045883, 0.04359622672200203, -0.0020234244875609875, 0.0024401128757745028, 0.005267763044685125, -0.03514585644006729, -0.002035427838563919, -0.014061085879802704, -0.018492043018341064, -0.012572668492794037, -0.011413486674427986, 0.02068694494664669, -0.04074285551905632, 0.02952142059803009, -0.016722403466701508, 0.03561227396130562, -0.007421509828418493, 0.011722144670784473, 0.009513525292277336, 0.011653553694486618, 0.034816619008779526, 0.012161124497652054, -0.014637247659265995, 0.009931928478181362, 0.01646175980567932, 0.009657565504312515, 0.04038618132472038, -0.027463702484965324, -0.0072294557467103004, 0.022209657356142998, 0.026311378926038742, 0.044391877949237823, -0.025213927030563354, -0.03292351961135864, 0.012291447259485722, -0.0008959655533544719, 0.004931668750941753, -0.012826453894376755, 0.022086193785071373, 0.008107416331768036, 0.0009422642178833485, -0.03338993340730667, -0.015021354891359806, -0.00927345734089613, -0.010576680302619934, -0.03037194535136223, 0.009877055883407593, -0.01344376988708973, 0.04008438438177109, -0.01632457785308361, 0.023060180246829987, -0.017079075798392296, -0.014211985282599926, -0.029603730887174606, -0.02111220546066761, -0.012161124497652054, -0.009342048317193985, 0.025639189407229424, 0.021688368171453476, 0.0032169020269066095, 0.0016204543644562364, -0.012188561260700226, 0.01794331707060337, 0.02399301342666149, 0.006656724028289318, -0.02603701502084732, -0.01419826690107584, 0.024678921326994896, 0.018601788207888603, 0.024939564988017082, -0.0011120261624455452, 0.009753592312335968, 0.004304063972085714, 0.011008801870048046, -0.010508089326322079, -0.002966546220704913, 0.03264915570616722, 0.017037920653820038, -0.008621846325695515, 0.01364954188466072, 0.0017850720323622227, 0.021345414221286774, 0.005720461253076792, 0.007044261321425438, -0.027504855766892433, -0.03723101317882538, 0.01189362071454525, 0.019054485484957695, 0.0003939676098525524, 0.001025430392473936, 0.022785818204283714, -0.025913553312420845, -0.020316554233431816, 0.022250810638070107, 0.0012252007145434618, 0.0046710241585969925, 0.014349167235195637, 0.02167464978992939, 0.018341142684221268, 0.005250615067780018, 0.003228905377909541, -0.05061991140246391, -0.01096078846603632, -0.01688702218234539, 0.004729326348751783, 0.0034672580659389496, 0.015350590460002422, -0.02814960852265358, -2.8159682187833823e-05, -0.014061085879802704, 0.010638412088155746, -0.012956776656210423, 0.041291579604148865, 0.0067870463244616985, 0.0175180546939373, -0.019273975864052773, -0.001391533063724637, 0.000552583544049412, 0.018341142684221268, -0.000763499818276614, -0.008717873133718967, -0.01945231296122074, -0.0011703282361850142, -0.019081922248005867, 0.014061085879802704, -0.028341662138700485, -0.004893943667411804, -0.010556102730333805, 0.01439032144844532, -0.012936199083924294, 0.0019325419561937451, -0.010823606513440609, -0.03459713235497475, -0.010466935113072395, 0.010062250308692455, 0.005274622235447168, -0.03890462592244148, -0.030179891735315323, -0.02041258104145527, 0.01681843027472496, 0.015583798289299011, -0.0007442086935043335, -0.02635253220796585, -0.007983952760696411, -0.007983952760696411, 0.01439032144844532, -0.0021880422718822956, 0.004509835969656706, -0.023910705000162125, -0.006687589455395937, -0.03788948059082031, -0.009856478311121464, -0.0365176685154438, 0.015419181436300278, -0.015926752239465714, -0.005456387065351009, 0.010316035710275173, -0.024720074608922005, 0.0031140160281211138, 0.02772434614598751, -0.030426818877458572, -0.026023298501968384, 0.011852466501295567, -0.014431475661695004, -0.01661265827715397, 0.01185932569205761, 0.0044755409471690655, 0.02097502537071705, -0.016475478187203407, 0.0003174461598973721, -0.0008428077562712133, -0.03775230050086975, 0.003902808763086796, 0.004163453355431557, -0.03199068456888199, -0.00837492011487484, 0.030563998967409134, 0.018601788207888603, 0.023512879386544228, 0.000548296608030796, 0.00953410193324089, -0.0007673580548726022, 0.0014181119622662663, 0.02695612981915474, -0.02927449531853199, 0.020042192190885544, 0.007833053357899189, 0.004321211948990822, -0.0010117122437804937, 0.0014223988400772214, -0.014349167235195637, 0.013121393509209156, -0.007078556343913078, 0.01143406331539154, 0.008909926749765873, -0.01412967685610056, 0.005785622633993626, -0.022881845012307167, 0.012360037304461002, -0.018423452973365784, 0.021715804934501648, -0.012339460663497448, 0.019836420193314552, -0.02657202258706093, -0.012332601472735405, -0.042416464537382126, 0.0036696004681289196, 0.03703895956277847, 0.005977676250040531, 0.047409866005182266, -0.00967814214527607, 0.011392909102141857, -0.016544068232178688, 0.004180600866675377, 0.021798113361001015, 0.005449528340250254, -0.00642008613795042, -0.004321211948990822, -0.0009697005152702332, 0.006149152759462595, 0.008189724758267403, -0.01875268667936325, 0.008388638496398926, 0.019040768966078758, 0.014349167235195637, 0.004060567356646061, 0.00823087990283966, -0.0033077846746891737, 0.01611880585551262, -0.008443511091172695, 0.04935784265398979, -0.016694966703653336, -0.028451407328248024, 0.014047367498278618, 0.005463246256113052, -0.01589931547641754, 0.025817526504397392, 0.00875902734696865, 0.02776550129055977, 0.021935293450951576, 0.008031967096030712, 0.0035358488094061613, -0.005535266362130642, 0.037066396325826645, -0.013827878050506115, 0.012476641684770584, -0.0009422642178833485, -0.04038618132472038, 0.007346060127019882, -0.006917368620634079, 0.037450503557920456, 0.019616929814219475, 0.014609810896217823, -0.0017173386877402663, 0.0010648700408637524, -0.0022566327825188637, 0.011811312288045883, 0.0048665073700249195, -0.012215997092425823, -0.00048656502622179687, -0.022195938974618912, -0.001430115313269198, 0.005991394631564617, -0.0048802257515490055, 0.003378090215846896, -0.010707002133131027, 0.021798113361001015, 0.002386955078691244, 0.03174375742673874, -0.006924227345734835, 0.014554938301444054, 0.01226401049643755, -0.02583124302327633, -0.022607482969760895, 0.04258108511567116, -0.0039233858697116375, -0.0055146892555058, -0.010857902467250824, -0.009369484148919582, -0.001135175465606153, -0.0043280706740915775, -0.0012792159104719758, 0.014609810896217823, -0.0027196197770535946, -0.009973082691431046, -0.025982143357396126, -0.003995405975729227, 0.029576294124126434, 0.03769742697477341, -0.0025790089275687933, 0.015035073272883892, -0.009108840487897396, 0.009808464907109737, 0.013683836907148361, -0.008614987134933472, -0.006684160325676203, 0.043184682726860046, -0.0041703125461936, -0.00869043730199337, 0.0036524527240544558, 0.0021588911768049, -0.005576421041041613, 0.0045441314578056335, 0.00255500222556293, -0.008189724758267403, 0.007839912548661232, 0.024884693324565887, 0.010466935113072395, 0.007791899144649506, 0.01263440027832985, 0.02374608814716339, 0.025145336985588074, 0.004832212347537279, -0.010069109499454498, -0.0010888767428696156, 0.027573445811867714, 0.047656793147325516, 0.03607868775725365, -0.006282904651015997, 0.020700661465525627, -0.0296586025506258, -0.011406627483665943, -0.02203132025897503, -0.02589983493089676, 0.008971658535301685, 0.038685135543346405, -0.010583539493381977, 0.011283163912594318, 0.015775851905345917, 0.003429533215239644, 0.007332341745495796, 0.00010256447421852499, 0.012696132063865662, -0.03734075650572777, 0.0008616701816208661, -0.0007750744698569179, -0.023773523047566414, -0.015707261860370636, 0.017888445407152176, -0.002935680327937007, 0.000962841440923512, 0.011962211690843105, 0.024829819798469543, 0.033060699701309204, -0.012058238498866558, -0.03934360295534134, 0.006718455348163843, 0.022017603740096092, -0.007977094501256943, 0.0016598940128460526, -0.007462664041668177, 0.03550252690911293, 0.015309436246752739, -0.00012164125655544922, 0.004911091644316912, 0.0040434193797409534, 0.017367156222462654, 0.011667272076010704, 0.006886502727866173, 0.030097583308815956, 0.0017344864318147302, -0.010953929275274277, 0.03328019008040428, -0.01131060067564249, 0.010892197489738464, -0.002798499073833227, -0.006749321240931749, 0.004581856541335583, 0.003851365763694048, -0.024130195379257202, 0.0207280982285738, -0.009595833718776703, 0.01847832463681698, -0.008326906710863113, -0.0055318367667496204, -0.02470635622739792, -0.03075605258345604, -0.03223761171102524, 0.05767102912068367, -0.018149089068174362, -0.0035427077673375607, 0.0025001296307891607, -0.00497968215495348, -0.006132005248218775, -0.034706875681877136, -0.0034758318215608597, -0.015748417004942894, -0.02293671853840351, -0.03347224369645119, -0.022442864254117012, -0.001130888587795198, 0.024445712566375732, 0.009835900738835335, 0.007051120046526194, -0.009877055883407593, -0.0005101430579088628, -0.007044261321425438, 0.0016058789333328605, 0.0002424251288175583, -0.03212786838412285, -0.002412676578387618, 0.00373476161621511, 0.0007454947917722166, 0.0005341498181223869, -0.02850627899169922, 0.0121405478566885, -0.012428628280758858, -0.01113912370055914, -0.028753206133842468, -0.01893102377653122, 0.012051379308104515, 0.006505824625492096, -0.004070855677127838, -0.002184612676501274, 0.03429533168673515, -0.03753281012177467, 0.004331500269472599, -0.00019784118921961635, -0.006872784346342087, -0.012833313085138798, 0.01444519404321909, 0.004482399672269821, -0.003419244661927223, 0.002244629431515932, -0.005987965036183596, 0.007503818720579147, 0.01284017227590084, -0.011159701272845268, 0.01812165416777134, 0.012003365904092789, 0.02522764541208744, 0.008608127944171429, 0.02509046532213688, 0.026613177731633186, 0.0375053733587265, -0.02185298502445221, -0.007373496424406767, -0.013457488268613815, 0.026133041828870773, -0.0020199951250106096, 0.0016015919391065836, 0.018697815015912056, -0.01664009504020214, -0.01614624261856079, -0.03835589811205864, -0.0013975347392261028, -0.005603857338428497, 0.026434842497110367, -0.008368060924112797, -0.023019026964902878, -0.05865873396396637, 0.0008153715170919895, -0.03857538849115372, -0.0055009713396430016, -0.022826973348855972, -0.009540961124002934, 0.004242332652211189, 0.012943058274686337, 0.021084770560264587, -0.022648636251688004, 0.02349916100502014, -0.02065950818359852, -0.03037194535136223, 0.000164831944857724, -0.006156011950224638, 0.012092533521354198, 0.011969070881605148, 0.028835514560341835, -0.03670972213149071, -0.03649023175239563, -0.007812476716935635, -0.008923645131289959, 0.011193996295332909, -0.005353501066565514, 0.015474054031074047, 0.0058850790373981, 0.03429533168673515, -0.005655300337821245, 0.02044001780450344, 0.011790734715759754, -0.00018519478908274323, 0.0007802188047207892, -0.014925328083336353, -0.01888986863195896, -0.007407791446894407, -0.004626440349966288, 0.010576680302619934, -0.00814857054501772, 0.02814960852265358, -0.015295717865228653, -0.0069893887266516685, 0.03201812133193016, -0.0052094608545303345, -0.0052917697466909885, -0.011200855486094952, -0.02026168256998062, -0.011255728080868721, 0.03135965019464493, -0.006752750836312771, 0.025913553312420845, -0.04000207409262657, 6.687589484499767e-05, -0.0027882105205208063, 0.005483823362737894, 0.006022260058671236, -0.0038582247216254473, 0.02079668827354908, 0.009733014740049839, 0.01562495343387127, 0.003522130660712719, 0.009163713082671165, -0.020385144278407097, -0.02480238303542137, -0.028341662138700485, -0.0020457166247069836, 0.02284069173038006, -0.0017387733096256852, 0.03509098291397095, 0.00479448726400733, -0.00881389994174242, -0.017326001077890396, -0.0040434193797409534, 0.005655300337821245, -0.005651870742440224, 0.01562495343387127, -0.020892716944217682, -0.0009251165902242064, -0.0350361093878746, -0.0343502052128315, -0.006629287730902433, -0.00459214486181736, 0.03103041648864746, -0.002244629431515932, 0.01780613698065281, -0.022319402545690536, -0.0002527137112338096, 0.007757604122161865, 0.0063549247570335865, 0.02825935371220112, 0.002446971833705902, 0.032210174947977066, 0.007682154420763254, -0.008676718920469284, -0.011557526886463165, 0.012600105255842209, 0.006673871539533138, -0.003455254714936018, 0.01805306226015091, 0.010418921709060669, -0.0275871641933918, -0.03341737017035484, 0.000613886455539614, -0.0210710521787405, -0.010261163115501404, -0.03100297972559929, 0.0013100816868245602, 0.0065023950301110744, -0.01724369265139103, -0.011763298884034157, -0.0024932706728577614, -0.052513010799884796, -0.004221755545586348, -0.004324641544371843, 0.005909085739403963, -0.009698719717562199, -0.016105087473988533, -0.0019736962858587503, 0.032182738184928894, 0.0010562961688265204, 0.01576213352382183, 0.0166812501847744, -0.00995936430990696, -0.013752427883446217, 0.008971658535301685, -0.006046266760677099, -0.0047601922415196896, 0.015583798289299011, 0.03802666440606117, -0.019438594579696655, 0.0214688777923584, 0.022223375737667084, 0.025529444217681885, -0.009513525292277336, -0.006426945328712463, -0.0066978782415390015, 0.039425913244485855, -0.026338813826441765, -0.0027024720329791307, -0.02248401939868927, -0.0030814355704933405, -0.018588069826364517, 0.012860748916864395, -0.019959883764386177, -0.02340313419699669, -0.014294294640421867, 0.004828782752156258, 0.031579140573740005, 0.0018896728288382292, -0.021715804934501648, 0.02374608814716339, -0.012318883091211319, -0.0151996910572052, -0.01674984022974968, -0.00608742143958807, -0.006180018652230501, -0.03747793659567833, -0.022401710972189903, -0.024089040234684944, 0.003947392571717501, 0.013148830272257328, -0.00869043730199337, -0.002707616426050663, -0.0026287371292710304, 0.02097502537071705, -0.019754111766815186, -0.0025344251189380884, 0.0017644948093220592, 0.01344376988708973, -0.008176007308065891, 0.033801477402448654, -0.00814857054501772, 0.011125405319035053, 0.01607765071094036, -0.013752427883446217, -0.018629224970936775, -0.025200210511684418, 0.00013428766396827996, 0.006557267624884844, -0.013992494903504848, -0.012517795898020267, -0.015432898886501789, 0.0047910576686263084, 0.004904232453554869, 0.008196583949029446, -0.013937623240053654, 0.002138313837349415, 0.007606704719364643, -0.010041672736406326, 0.020042192190885544, -0.02723049372434616, 0.013786722905933857, -0.008326906710863113, -0.009026531130075455, 0.0022377704735845327, -0.03649023175239563, 0.0022171931341290474, -0.010075968690216541, -0.004173741675913334, -0.005061991047114134, 0.012181702069938183, -0.01679099351167679, -0.0172711294144392, -0.016036497429013252, 0.016585221514105797, -0.006022260058671236, -0.015707261860370636, 0.004472111351788044, 0.004568138159811497, 0.016653813421726227, 0.041044652462005615, -0.030426818877458572, -0.021756958216428757, 0.01861550658941269, -0.004763621371239424, -0.003134593367576599, -0.014870455488562584, -0.029740910977125168, 0.036819469183683395, 0.010233727283775806, -0.017435746267437935, -0.008875631727278233, -0.0037313320208340883, -0.03599638119339943, -0.012888185679912567, -0.009403780102729797, 0.002428109524771571, -5.018371666665189e-05, 0.014088522642850876, 0.007538113743066788, 0.03810897096991539, 0.0016616088105365634, 0.011811312288045883, -0.018848713487386703, -0.007140288129448891, 0.0019342567538842559, 0.013731851242482662, 0.001286074984818697, -0.005895367357879877, -0.02621535211801529, -0.012236574664711952, -0.007929081097245216, -0.010014236904680729, 0.0318809412419796, 0.0414561964571476, -0.012092533521354198, -0.013080239295959473, 0.013100816868245602, 0.03273146599531174, 0.01893102377653122, 0.0002437111979816109, 0.014061085879802704, -0.03476174920797348, -0.02234683744609356, 0.015542644076049328, 0.02596842497587204, 0.0010391485411673784, -0.015981623902916908, 0.01769639179110527, 0.016845867037773132, 0.0052026016637682915, -0.016132524237036705, -0.0006841918802820146, -0.01099508348852396, 0.016763558611273766, 0.03015245497226715, 0.007894785143435001, 0.02160605974495411, 0.04581856355071068, 0.0014824157115072012, -0.005881649442017078, -0.010103404521942139, 0.0011240295134484768, -0.0026081600226461887, 0.0022669213358312845, 0.028588589280843735, -0.012092533521354198, -0.009561538696289062, 0.0042663393542170525, 0.02702472172677517, 0.016845867037773132, 0.0036387345753610134, -0.008560114540159702, -0.01263440027832985, -0.02358146943151951, 0.015391744673252106, -0.01162611786276102, -0.006804193835705519, 0.004441245459020138, -0.0028070728294551373, 0.0020903004333376884, 0.012325742281973362, -0.001941115828230977, 0.01945231296122074, -0.02315620705485344, -0.007819335907697678, -0.003220331622287631, 0.002993982518091798, -0.0076615773141384125, 0.014404038898646832, 0.01587187871336937, -0.03015245497226715, 0.022195938974618912, 0.190297931432724, -0.028451407328248024, 0.0137935820966959, -0.002716190181672573, 0.002800213871523738, 0.011564386077225208, -0.0005491540068760514, 0.008704154752194881, 0.003235764568671584, 0.01407480426132679, 0.008957941085100174, 0.022072475403547287, -0.002681894926354289, -0.0037038957234472036, 0.007887925952672958, 0.015597516670823097, -0.02765575610101223, -0.02445943094789982, -0.008566973730921745, 0.014239422045648098, -0.017339719459414482, 0.017435746267437935, -0.00835434254258871, -0.03026220016181469, 0.054268933832645416, 0.009767310693860054, -0.019273975864052773, -0.014472629874944687, 0.0159404706209898, 0.009829042479395866, -0.02572149783372879, -0.009527242742478848, 0.0012209138367325068, 0.005168306641280651, -0.023512879386544228, 0.010350330732762814, 0.004983111750334501, -0.000693623092956841, 0.030948108062148094, 0.004667594563215971, 0.052732501178979874, -0.01699676550924778, 0.005617575254291296, -0.012620681896805763, -0.004077714867889881, 0.023334544152021408, -0.012257151305675507, -0.013800441287457943, -0.014239422045648098, -0.0007845057407394052, -0.0072294557467103004, 0.010226868093013763, 0.009705578908324242, 0.02090643346309662, -0.018697815015912056, 0.009835900738835335, -0.016530349850654602, 0.014088522642850876, 0.02277209982275963, 0.011557526886463165, -0.026681767776608467, -0.007263751234859228, -0.0014163971645757556, 0.028945259749889374, -0.018876150250434875, 0.010576680302619934, 0.013917045667767525, -0.016050215810537338, -0.030344508588314056, -0.019822701811790466, -0.02009706385433674, 0.016585221514105797, -0.01917794905602932, 0.010165136307477951, -0.018217680975794792, -0.02648971416056156, 0.021976448595523834, 0.01987757347524166, 0.009623270481824875, 0.022964153438806534, -0.027038440108299255, -0.01755920983850956, -0.007503818720579147, -0.03769742697477341, -0.02009706385433674, -0.01632457785308361, -0.03163401409983635, -0.02902756817638874, -0.008752169087529182, -0.030481690540909767, 0.004369225353002548, -0.014143395237624645, -0.017079075798392296, 0.0007189158932305872, 0.006841918453574181, -0.006344636436551809, -0.007496959529817104, 0.009307753294706345, 0.004009124357253313, 0.011392909102141857, -0.0252688005566597, 0.055613309144973755, 0.03956309333443642, 0.020316554233431816, 0.040770288556814194, -0.01657150499522686, -0.03050912730395794, 0.01910935901105404, 0.013663260266184807, -0.008326906710863113, 0.007174583617597818, -0.037066396325826645, 0.006056555546820164, -0.016022779047489166, -0.03212786838412285, -0.011694707907736301, 0.04101721569895744, -0.004194319248199463, -0.0066978782415390015, 0.01226401049643755, -0.022182220593094826, -0.019959883764386177, -0.006073703058063984, -0.0056210048496723175, -0.0008625275804661214, -0.004650447051972151, 0.002143458230420947, 0.0056210048496723175, -0.0313870869576931, 0.015967905521392822, 0.011331177316606045, -0.014294294640421867, 0.002690468681976199, 0.010837324894964695, 0.025844961404800415, -0.010892197489738464, -0.006540119647979736, -0.03028963692486286, 0.005106574855744839, 0.01829998940229416, -0.012730427086353302, -7.486027607228607e-05, 0.0061525823548436165, -0.021482596173882484, 0.013642682693898678, 0.00689679104834795, -0.003546137362718582, 0.02009706385433674, -0.019520903006196022, -0.003700466360896826, -0.014788147062063217, -0.01393076404929161, 0.0024572606198489666, -0.00990449171513319, -0.00012367754243314266, 0.00321004306897521, -0.002254917984828353, -0.02554316259920597, 0.03303326293826103, -0.0055386959575116634, -0.024967001751065254, 0.012682413682341576, 0.02797127328813076, -0.0107344388961792, -0.0014275432331487536, -0.017710110172629356, -0.17394591867923737, 0.008347483351826668, 0.0035289896186441183, -0.027120748534798622, 0.007881066761910915, 0.015748417004942894, 0.016036497429013252, 0.014774428680539131, -0.01924654096364975, -0.00904024951159954, -0.00021863273286726326, -0.02138656936585903, -0.017998190596699715, 0.0037381912115961313, -0.02783409133553505, 0.02825935371220112, 0.024281095713377, 0.009547820314764977, 0.03753281012177467, 0.027875246480107307, 0.045160092413425446, -0.03284120932221413, 0.01393076404929161, 0.00699281832203269, 0.02828679047524929, 0.0013135111657902598, 0.0015407177852466702, 0.029356803745031357, 0.003782775020226836, -0.03451482206583023, -0.001005710568279028, -0.015844443812966347, 0.01787472702562809, 0.008066262118518353, 0.002793354680761695, 0.013628965243697166, 0.03179863095283508, -0.010508089326322079, -0.005840494763106108, 0.0026338815223425627, 0.039919767528772354, 0.009575256146490574, -0.008731591515243053, 0.005356930661946535, -0.005744467955082655, 0.0227995365858078, 0.02614676021039486, -0.006557267624884844, 0.024788666516542435, -0.0010065679671242833, 0.005473535042256117, -0.018245115876197815, 0.027463702484965324, -0.00043705114512704313, 0.012215997092425823, 0.008505241945385933, 0.0016924745868891478, 0.029713476076722145, -0.021057333797216415, -0.004852789454162121, 0.0012432057410478592, -0.013375178910791874, 0.002651029033586383, -0.0030968685168772936, 0.0013563804095610976, -0.02783409133553505, -0.015391744673252106, 0.003817070508375764, -0.041428759694099426, -0.004859648644924164, -4.511979568633251e-05, 0.0076547181233763695, -0.0026613178197294474, 0.026722922921180725, -0.0016899025067687035, 0.026009580120444298, -0.006708167027682066, 0.0022309112828224897, 0.029055004939436913, 0.0047396146692335606, -0.00874530989676714, 0.0323747918009758, 0.0017764981603249907, -0.008347483351826668, 0.011763298884034157, 0.004160023760050535, 0.008594410493969917, 0.002733337925747037, -0.029686039313673973, 0.002867089817300439, 0.008614987134933472, 0.0008616701816208661, -0.00321004306897521, -0.03352711722254753, -0.007359778042882681, 0.0031517408788204193, -0.009664424695074558, -0.015268282033503056, 0.010926492512226105, 0.0007227741298265755, -0.004647017456591129, -0.031688887625932693, -0.023595187813043594, -0.0011626117629930377, 0.015775851905345917, 0.009204867295920849, -0.01868409663438797, 0.016900738701224327, 0.03273146599531174, -0.0015450046630576253, -0.024582894518971443, -0.016214832663536072, 0.008827618323266506, 0.024720074608922005, 0.000432978558819741, 0.018450887873768806, 0.009547820314764977, -0.0033163586631417274, 0.006221173331141472, 0.0009019672288559377, 0.030563998967409134, -0.021263105794787407, 0.009973082691431046, 0.00032066134735941887, -0.033966097980737686, -0.032072994858026505, -0.12017083913087845, -0.024857256561517715, -0.014170831069350243, -0.0022411998361349106, -0.006207454949617386, 0.012222856283187866, -0.016228551045060158, 0.03223761171102524, 0.016338296234607697, 0.04433700442314148, -0.032072994858026505, 0.0011831889860332012, -0.004883655346930027, -0.005288340151309967, -0.03248453885316849, 0.005387796554714441, -0.0048802257515490055, 0.0055009713396430016, -0.018601788207888603, 0.042663391679525375, -0.01108425110578537, -0.04013925790786743, -0.009698719717562199, 0.003919956274330616, -0.0002863660338334739, 0.012442346662282944, -0.032319922000169754, 0.013416334055364132, -0.015021354891359806, 0.01189362071454525, 0.018876150250434875, -0.01836857944726944, -0.0090059544891119, -0.02403416857123375, 0.008827618323266506, -0.01185932569205761, -0.02068694494664669, 0.002145173028111458, 0.014417757280170918, -0.02927449531853199, -0.001357237808406353, 0.008951081894338131, 0.0022411998361349106, 0.00995936430990696, -0.010926492512226105, -0.014801865443587303, -0.039919767528772354, 0.04979682341217995, 0.007771322038024664, -0.01875268667936325, 0.007030542939901352, -0.023279670625925064, -0.03352711722254753, -0.014033650048077106, 0.027916399762034416, 0.006478388328105211, -0.012188561260700226, 0.01657150499522686, -0.014541220851242542, -0.014609810896217823, -0.029356803745031357, 0.02336197905242443, -0.02727164700627327, -0.0036455937661230564, 0.007085415534675121, -0.0072363149374723434, -0.018176525831222534, -0.011605540290474892, 0.026229070499539375, 0.016983048990368843, 0.001335803186520934, 0.026942413300275803, -0.007538113743066788, 0.015131100080907345, -0.022195938974618912, 0.011516372673213482, -0.036298178136348724, -0.009287175722420216, 0.0106589887291193, -0.018588069826364517, 0.007846771739423275, -0.011372331529855728, -0.00990449171513319, -0.013045944273471832, -0.004890514072030783, 0.010672707110643387, -0.0036112985108047724, 0.005212890449911356, 0.0006160298944450915, -0.033801477402448654, -0.006426945328712463, 0.024047886952757835, 0.0429377555847168, -0.0013435196597129107, -0.0021743241231888533, 0.0033763754181563854, 0.019205385819077492, -0.01967180147767067, 0.01433544885367155, 0.010165136307477951, -0.0041394466534256935, -0.008573832921683788, -0.04236159473657608, 0.015336872078478336, 0.029603730887174606, -0.00972615648061037, -0.008669859729707241, 0.011468359269201756, 0.030838362872600555, -0.03226504847407341, 0.00846408773213625, 0.01787472702562809, -0.006958522833883762, -0.0035632848739624023, -0.025104183703660965, -0.00877960491925478, -0.015350590460002422, -0.05322635546326637, 0.007030542939901352, -0.02097502537071705, 0.016516631469130516, 0.011742721311748028, 0.00823087990283966, 0.010226868093013763, 0.020110782235860825, 0.031935811042785645, -0.020878998562693596, -0.008100557141005993, 0.006663582753390074, 0.014815582893788815, -0.008786464110016823, -0.03278633579611778, 0.0018468035850673914, -0.0411543995141983, -0.0017207682831212878, 0.007051120046526194, -0.021276824176311493, -0.0036250166594982147, 0.01685958541929722, -0.002386955078691244, 0.03662741556763649, 0.017833571881055832, 0.0029236769769340754, -0.014541220851242542, -0.0011454641353338957, 0.005055131856352091, -0.02209991216659546, -0.008134853094816208, -0.024569176137447357, -0.02241542935371399, 0.003601009724661708, 0.017147665843367577, 0.007455805316567421, -0.010528666898608208, -0.01839601621031761, -0.037066396325826645, 0.0032169020269066095, -0.030097583308815956, 0.023416852578520775, -0.008937363512814045, -0.003895949572324753, -0.03273146599531174, 0.03429533168673515, 0.008855055086314678, 0.004091433249413967, -0.0025670055765658617, 0.006169730331748724, -0.030344508588314056, 0.012181702069938183, 0.02086528018116951, -0.022580046206712723, 0.003793063573539257, -0.01699676550924778, 0.002044001827016473, -0.010096545331180096, 0.014952764846384525, 0.012517795898020267, 0.020824125036597252, 0.0036455937661230564, 0.009348907507956028, -0.0180119089782238, 0.008107416331768036, 0.02576265297830105, -0.0313870869576931, -0.006430374458432198, 0.010034814476966858, 0.012751004658639431, 0.01931513100862503, -0.00944493431597948, 0.002153746783733368, 0.008566973730921745, 0.014184549450874329, -0.015227126888930798, 0.006574415136128664, -0.006063414737582207, 0.023814678192138672, -0.011797593906521797, 0.0013529508141800761, -0.005765045061707497, -0.00778504041954875, -0.013683836907148361, 0.014952764846384525, -0.0013263719156384468, -0.006255468353629112, -0.018629224970936775, -0.039069242775440216, -0.025886116549372673, -0.018409734591841698, -0.0026938982773572206, -0.029000133275985718, 0.004173741675913334, 0.01632457785308361, 0.014211985282599926, -0.008985376916825771, -0.0012852175859734416, -0.0037793456576764584, -0.013862173072993755, 0.022676073014736176, 0.0015732983592897654, -0.019273975864052773, -0.031935811042785645, 0.00872473232448101, 0.010741298086941242, 0.012620681896805763, 0.04088003560900688, -0.010638412088155746, 0.012408050708472729, 0.012716708704829216, 0.030618872493505478, -0.007394073531031609, 0.030070146545767784, 0.0050894273445010185, -0.0055386959575116634, -0.002112592337653041, 0.006101139355450869, -0.007860490120947361, 0.010213149711489677, 5.862358375452459e-05, 0.0077301678247749805, 0.005353501066565514, 0.0113997682929039, 0.07424253225326538, 0.022442864254117012, -0.03190837800502777, -0.005353501066565514, -0.0110293785110116, 0.02470635622739792, 0.008971658535301685, 0.02293671853840351, -0.028917822986841202, -0.031688887625932693, 0.01562495343387127, -0.0034946943633258343, -0.01688702218234539, -0.018286271020770073, -0.008100557141005993, 0.024281095713377, 0.011022519320249557, 0.008738450706005096, -0.015405463054776192, 0.006574415136128664, 0.004856219049543142, 0.007558691315352917, 0.021153360605239868, 0.015638671815395355, 0.011996506713330746, 0.003235764568671584, 0.037066396325826645, 0.015720980241894722, -0.017079075798392296, -0.039425913244485855, -0.022003885358572006, -0.0023955288343131542, -0.027600882574915886, -0.006821341346949339, 0.019205385819077492, -0.024116476997733116, -0.008422933518886566, -0.008525819517672062, -0.000971415254753083, 0.023759806528687477, 0.017188820987939835, -0.009438075125217438, 0.0008509529288858175, -0.0265994593501091, -0.02504931017756462, 0.01808049902319908, -0.014788147062063217, -0.021647213026881218, -0.013971918262541294], metadata={'file_path': '/content/mixed_data/output_text.txt', 'file_name': 'output_text.txt', 'file_type': 'text/plain', 'file_size': 3400, 'creation_date': '2024-04-15', 'last_modified_date': '2024-04-15'}, excluded_embed_metadata_keys=['file_name', 'file_type', 'file_size', 'creation_date', 'last_modified_date', 'last_accessed_date'], excluded_llm_metadata_keys=['file_name', 'file_type', 'file_size', 'creation_date', 'last_modified_date', 'last_accessed_date'], relationships={<NodeRelationship.SOURCE: '1'>: RelatedNodeInfo(node_id='83aa2b9f-11cf-4bba-a80e-c0e712e22623', node_type=<ObjectType.DOCUMENT: '4'>, metadata={'file_path': '/content/mixed_data/output_text.txt', 'file_name': 'output_text.txt', 'file_type': 'text/plain', 'file_size': 3400, 'creation_date': '2024-04-15', 'last_modified_date': '2024-04-15'}, hash='ffb39b44fb3b5b8bddc265b5aa5cdbb5f8c378cd7eeb86c1a66779d502fff87b'), <NodeRelationship.PREVIOUS: '2'>: RelatedNodeInfo(node_id='ba91a6c3-8a6c-4cb9-8178-2a6f654ec972', node_type=<ObjectType.IMAGE: '2'>, metadata={'file_path': '/content/mixed_data/frame0046.png', 'file_name': 'frame0046.png', 'file_type': 'image/png', 'file_size': 2820, 'creation_date': '2024-04-15', 'last_modified_date': '2024-04-15'}, hash='32667df4b50ffedb01efe74a314ac1f7dc906ec3bb5c50c551f312df3562d639')}, text=\"Lanyard regression is a statistical technique for modeling the relationship between an output variable and one or more input variables. In layman's terms, think of it as fitting a line through some data points as shown here, so you can make predictions on unknown data, assuming there is a linear relationship between the variables. You might be familiar with the linear function y equals mx plus b, where y is the output variable, also called the dependent variable. You may also see expressed as f of x, the function of the input variable. x on the other hand, would serve as the input variable, also called the independent variable. It's likely you'll see the coefficients m and b expressed as beta 1 and beta 0 respectively. So what do the m and b coefficients do? The m or beta 1 coefficient controls the slope of the line. The b or the beta 0 controls the intercept of the line. In machine learning, we also know it as the bias. These two coefficients are what we are solving for in linear regression. We can also extend to multiple input variables, so x1, x2, x3, with beta 1, beta 2, and beta 3, and so on, acting as slopes for each of those variables. In these higher dimensions, you would visualize the linear regression as a hyperplane. So how do we fit the line to these points? Well, you'll notice that there's these differences between the points and the line, these little red segments, these are called residuals. They are the differences between the data points and the predictions the line would produce. Take each of these residuals and square them. These are the squared errors, and notice that the large of the residuals are, the more amplified area of the squares are. If we total the areas of all of these squares for a given line, we will get the sum of the squared error, and this is known as our loss function. We need to find the beta 0 and beta 1 coefficients that will minimize that sum of squared error. The coefficients can be solved with a variety of techniques ranging from matrix decomposition to gradient descent, which is depicted right here. Thankfully, a lot of libraries are available to do this for us, and we will deep dive into these topics in other videos. To validate a linear regression, there are a number of techniques. Machine learning practitioners will often take a third of the data and put it into the test data set. The remaining two thirds will become the training data set. The training data set will then be used to fit the regression line. The test data set will then be used to validate the regression line. This is done to make sure that the regression performs well on data it has not seen before. The tricks used to evaluate the linear regression vary from the R square, standard error of the estimate, prediction intervals, as well as statistical significance. These are topics we will cover in future videos. If you enjoyed this video, please like and subscribe. Look at my two O'Reilly books, Essential Math for Data Science, and getting started with SQL. Chapter five of Essential Math for Data Science actually covers linear regression and much more depth. If you want live instruction, I also do teach on the O'Reilly platform. Promotional link below. I teach classes including machine learning from scratch, probability, and SQL. Comment on what topics you would like to see next, and I will see you again on 3 Minute Data Science.\", start_char_idx=1, end_char_idx=3400, text_template='{metadata_str}\\n\\n{content}', metadata_template='{key}: {value}', metadata_seperator='\\n'), score=0.7638772130012512),\n",
              " NodeWithScore(node=ImageNode(id_='53050864-cc7c-49b7-999f-ae350fa43361', embedding=[0.052459716796875, -0.08935546875, -0.1695556640625, -0.1856689453125, -0.34228515625, -0.062103271484375, 0.32763671875, 0.40625, 0.01226806640625, 0.36669921875, 0.54443359375, 0.02813720703125, 0.15283203125, 0.29638671875, -0.5390625, 0.2022705078125, -0.65625, 0.40673828125, -0.29296875, -0.51611328125, -0.01898193359375, 0.0311279296875, -0.57568359375, 0.3603515625, -0.07415771484375, 0.04840087890625, 0.052764892578125, -0.08758544921875, 0.1942138671875, -0.487060546875, 0.01305389404296875, 0.0213165283203125, -0.184814453125, 0.0831298828125, -0.1929931640625, -0.360107421875, -0.61279296875, 0.189697265625, -0.376953125, -1.4560546875, 0.1756591796875, 0.0682373046875, -0.299072265625, 0.2015380859375, -0.437255859375, 0.08978271484375, 0.1337890625, 0.2181396484375, -0.2457275390625, -0.1773681640625, -0.25341796875, -0.1820068359375, -0.08123779296875, 0.015411376953125, -0.1888427734375, -0.01479339599609375, 0.30859375, 0.326416015625, -0.018341064453125, -0.30517578125, -0.060699462890625, 0.1533203125, 0.8291015625, 0.2498779296875, 0.04022216796875, 0.006862640380859375, 0.1339111328125, 0.2313232421875, 0.4423828125, 0.0260162353515625, -0.2822265625, 0.40673828125, 0.29248046875, -0.298828125, -0.483642578125, 0.041229248046875, -0.1094970703125, 0.050323486328125, -0.5859375, -0.1778564453125, 0.12188720703125, -0.2427978515625, -0.047332763671875, 0.67138671875, -0.043365478515625, -0.2359619140625, 1.2197265625, -0.08880615234375, 0.5576171875, -0.1884765625, -0.1190185546875, -0.397705078125, -4.12109375, 0.062255859375, -0.050750732421875, -0.317626953125, -0.084228515625, 0.182373046875, 0.5791015625, -1.0234375, 0.0673828125, -0.07183837890625, -0.1287841796875, -0.268798828125, -0.27978515625, -0.160400390625, -1.052734375, 0.630859375, 0.04449462890625, -0.08038330078125, -0.71728515625, 0.2119140625, 0.63330078125, 0.4287109375, -0.2022705078125, -0.11700439453125, -0.176513671875, -0.53759765625, -0.399169921875, -0.595703125, -0.194580078125, 0.302490234375, -0.2159423828125, 0.5283203125, 0.00628662109375, 0.418701171875, -0.1414794921875, 0.301513671875, 0.419189453125, -0.65283203125, 0.48193359375, 0.5498046875, 0.1475830078125, 0.85302734375, 0.047027587890625, -0.1273193359375, 0.7958984375, 0.0228729248046875, -0.2188720703125, -0.291015625, 0.142578125, -0.01471710205078125, 0.009918212890625, 0.12744140625, -0.451416015625, 0.33740234375, -0.50634765625, 0.09307861328125, 0.1776123046875, 0.038726806640625, 0.29833984375, -0.49951171875, 0.497802734375, -0.1591796875, -0.019256591796875, -0.55810546875, 0.262939453125, -0.0250091552734375, -0.0328369140625, -0.01251220703125, -0.369873046875, -0.2734375, -0.122802734375, 0.1903076171875, 0.0443115234375, -0.374755859375, -0.525390625, -0.18017578125, -0.089111328125, -0.08709716796875, 0.7421875, 0.09600830078125, -0.58251953125, -0.2049560546875, 0.053314208984375, -0.229248046875, 0.153076171875, -0.04876708984375, -0.07305908203125, -0.2152099609375, 0.2255859375, -0.036041259765625, -0.0025177001953125, 0.316162109375, -0.077880859375, -0.2587890625, 0.07977294921875, 0.152099609375, -0.28271484375, 0.59033203125, -0.06982421875, 0.07952880859375, -0.35986328125, -0.21044921875, 0.13671875, -0.05096435546875, -0.356689453125, 0.0811767578125, 0.00995635986328125, 0.304931640625, 0.22900390625, -0.031585693359375, -0.29345703125, -0.026123046875, -0.046966552734375, -0.292236328125, -0.5341796875, 0.264404296875, 0.33837890625, 0.56689453125, -0.08465576171875, 0.60888671875, 0.1845703125, 0.0128631591796875, 0.0036830902099609375, -0.342041015625, 0.343505859375, 0.05157470703125, -0.048492431640625, -0.005306243896484375, 0.53515625, 0.030364990234375, -0.30419921875, -0.04852294921875, -0.642578125, -0.267822265625, 0.52197265625, -0.23876953125, 0.1287841796875, 0.010528564453125, -0.291748046875, 0.288330078125, 0.342529296875, -0.455810546875, 0.054229736328125, -0.004619598388671875, 0.243896484375, 0.046600341796875, 0.1990966796875, 0.28955078125, -0.175537109375, -0.03607177734375, 0.464111328125, 0.2373046875, -0.05364990234375, 0.1688232421875, 0.0521240234375, 0.496826171875, 0.0718994140625, -0.109375, -0.206298828125, -0.5390625, 0.10894775390625, 0.1915283203125, 0.296630859375, -0.68115234375, -0.270751953125, 0.0911865234375, -1.2939453125, 0.2802734375, -0.5029296875, 0.03179931640625, 0.2030029296875, -0.09930419921875, 0.10760498046875, -0.06787109375, 0.1781005859375, -0.264404296875, -0.12890625, -0.09808349609375, -0.6259765625, 0.262451171875, -0.46484375, -0.440673828125, -0.2259521484375, 0.282470703125, -0.14990234375, 0.16162109375, 0.5615234375, 0.07415771484375, -0.1009521484375, -0.3037109375, -0.26611328125, -0.615234375, -0.1734619140625, -0.31103515625, -0.66650390625, -0.383056640625, 0.180419921875, -0.6181640625, 0.2332763671875, 0.48095703125, 0.326171875, -0.274169921875, 0.04498291015625, 0.38671875, -0.415771484375, 0.490478515625, 0.267822265625, -0.427490234375, 0.44775390625, 0.146728515625, -0.050994873046875, 0.208984375, -0.43505859375, -0.054290771484375, 0.2626953125, 0.05633544921875, -0.1536865234375, -0.0082550048828125, -0.384765625, 0.1380615234375, 0.853515625, -0.16650390625, 0.1126708984375, 0.398193359375, -0.109130859375, -0.254150390625, -0.28564453125, -0.1712646484375, 0.0167236328125, 1.0654296875, 0.346435546875, 0.16943359375, -0.4130859375, 0.2314453125, 0.34033203125, -0.4326171875, 0.2498779296875, -0.0631103515625, -0.0174407958984375, 0.226318359375, 0.40185546875, -0.505859375, -0.269287109375, -0.08740234375, -0.263916015625, -0.058563232421875, -0.501953125, -0.3369140625, 0.0946044921875, -0.12469482421875, 0.2044677734375, -0.45947265625, -0.181396484375, -0.0712890625, 0.267578125, 0.089599609375, 0.55908203125, -0.175537109375, 0.1739501953125, -0.08251953125, 0.31884765625, 0.7236328125, 0.242431640625, 0.250244140625, 0.092529296875, -0.427734375, -0.187744140625, -0.4267578125, -0.50341796875, 0.052001953125, -0.01502227783203125, 0.281005859375, -0.44970703125, 0.2734375, -0.07965087890625, -1.0009765625, 0.5205078125, 0.365966796875, 0.441650390625, 0.351806640625, 0.376220703125, -0.0579833984375, 0.1524658203125, 0.0328369140625, -0.1925048828125, -0.08837890625, -0.74560546875, 0.55029296875, -0.4248046875, 0.226806640625, 0.337158203125, 0.058258056640625, -0.2391357421875, 0.22412109375, -0.03509521484375, -0.07916259765625, -0.0970458984375, 0.454345703125, -0.211181640625, 0.25830078125, 0.283203125, 0.2137451171875, 0.25537109375, 0.09356689453125, -0.42236328125, -0.03436279296875, 0.13525390625, -0.135986328125, 0.21044921875, 0.284912109375, 0.1060791015625, -0.13134765625, 0.2291259765625, 0.038238525390625, -0.207275390625, 0.323974609375, 0.399658203125, 0.049102783203125, -0.07177734375, 0.13525390625, 0.10479736328125, -0.10345458984375, -0.373291015625, -0.6259765625, -0.10089111328125, -0.45703125, 0.1995849609375, -0.466796875, 0.213623046875, -0.4501953125, -0.2474365234375, 0.5390625, 0.06890869140625, -0.47607421875, -0.39111328125, -0.473388671875, -0.935546875, 0.17138671875, -0.013214111328125, -0.158203125, -1.0576171875, -0.0401611328125, 0.042694091796875, -0.49072265625, -0.12213134765625, 0.0168609619140625, 0.434814453125, -0.623046875, -0.57080078125, 0.1119384765625, -0.11407470703125, 0.33984375, 0.258056640625, -0.11749267578125, -0.1041259765625, -0.0655517578125, -0.09014892578125, 0.37109375, -0.394775390625, -0.108154296875, -0.04443359375, -0.515625, -0.419677734375, -0.720703125, -0.8583984375, 0.324951171875, -0.67919921875, 0.456298828125, -0.0282440185546875, -0.51025390625, -0.493408203125, 0.137939453125, 0.08282470703125, -0.10882568359375, 0.054931640625, 0.439453125, 0.25634765625, 0.09478759765625, -0.1368408203125, -0.1575927734375, -0.048553466796875, -0.677734375, -0.0174407958984375, -0.082275390625, -0.10015869140625, 0.0860595703125, 0.09906005859375, 0.1820068359375, -0.139404296875, -0.03717041015625, 0.127197265625, 0.3046875, -0.1920166015625, -0.3115234375, -0.404296875, -0.17724609375, 0.15283203125, -0.268798828125, -0.09356689453125, -0.397705078125, -0.57470703125, -0.32080078125, 0.367919921875, 0.65478515625, -0.26953125, 0.456298828125, 0.1717529296875, -0.1585693359375, -0.60400390625, 0.1766357421875, 0.487548828125, -0.38525390625, 0.05450439453125, 0.166015625, 0.2314453125, -0.45654296875, -0.083984375, 0.548828125, 0.0628662109375, 0.459716796875], metadata={'file_path': '/content/mixed_data/frame0003.png', 'file_name': 'frame0003.png', 'file_type': 'image/png', 'file_size': 61264, 'creation_date': '2024-04-15', 'last_modified_date': '2024-04-15'}, excluded_embed_metadata_keys=['file_name', 'file_type', 'file_size', 'creation_date', 'last_modified_date', 'last_accessed_date'], excluded_llm_metadata_keys=['file_name', 'file_type', 'file_size', 'creation_date', 'last_modified_date', 'last_accessed_date'], relationships={<NodeRelationship.SOURCE: '1'>: RelatedNodeInfo(node_id='ed5f5b4e-6c15-4594-9485-3daefcf0031a', node_type=<ObjectType.DOCUMENT: '4'>, metadata={'file_path': '/content/mixed_data/frame0003.png', 'file_name': 'frame0003.png', 'file_type': 'image/png', 'file_size': 61264, 'creation_date': '2024-04-15', 'last_modified_date': '2024-04-15'}, hash='0a4c2d5f0cedd7d3aa794f4983a3ecd747906ad0f5b6f8415ae33341a6d611b4'), <NodeRelationship.PREVIOUS: '2'>: RelatedNodeInfo(node_id='263a0e5a-a61d-4934-8503-140d3911ee17', node_type=<ObjectType.IMAGE: '2'>, metadata={'file_path': '/content/mixed_data/frame0002.png', 'file_name': 'frame0002.png', 'file_type': 'image/png', 'file_size': 83490, 'creation_date': '2024-04-15', 'last_modified_date': '2024-04-15'}, hash='b76780b230568624e1b9171f7ef66b8fd3274d396d348f6b4b1867f2a70dc4ba'), <NodeRelationship.NEXT: '3'>: RelatedNodeInfo(node_id='a9bc1bd4-cf54-4422-8b8f-30f6f8b29c6c', node_type=<ObjectType.IMAGE: '2'>, metadata={}, hash='44136fa355b3678a1146ad16f7e8649e94fb4fc21fe77e8310c060f61caaff8a')}, text='', start_char_idx=0, end_char_idx=0, text_template='{metadata_str}\\n\\n{content}', metadata_template='{key}: {value}', metadata_seperator='\\n', image=None, image_path='/content/mixed_data/frame0003.png', image_url=None, image_mimetype=None, text_embedding=None), score=0.0),\n",
              " NodeWithScore(node=ImageNode(id_='3e78d6a0-e6c6-4677-9a37-b2dc134e3f15', embedding=[-0.08306884765625, 0.4521484375, -0.256591796875, 0.1048583984375, -0.2958984375, 0.2388916015625, 0.007099151611328125, 0.474609375, 0.45068359375, 0.1080322265625, 0.395263671875, 0.1221923828125, -0.53125, 0.07275390625, -0.4287109375, 0.1075439453125, -0.2144775390625, 0.30859375, -0.390869140625, 0.2406005859375, 0.318603515625, -0.04876708984375, -0.1077880859375, 0.115478515625, 0.375, 0.2216796875, -0.44970703125, -0.1810302734375, 0.04315185546875, -0.281005859375, -0.0865478515625, 0.24951171875, -0.473876953125, 0.09893798828125, 0.34130859375, 0.402099609375, 0.01453399658203125, -0.0760498046875, 0.0902099609375, -1.708984375, -0.5712890625, -0.200439453125, 0.0011034011840820312, -0.1549072265625, -0.26611328125, 0.1346435546875, 0.455810546875, -0.5791015625, -0.008544921875, -0.466796875, -0.036285400390625, -0.393310546875, -0.48828125, -0.1312255859375, -0.38037109375, -0.1727294921875, -0.185791015625, -0.1158447265625, 0.29150390625, 0.2325439453125, -0.5263671875, -0.033935546875, 0.429931640625, -0.122802734375, -0.461181640625, -0.432373046875, -0.359130859375, 0.0687255859375, -0.12420654296875, -0.60888671875, 0.0404052734375, -0.00493621826171875, 0.5068359375, 0.0302581787109375, 0.337646484375, -0.227783203125, -0.41259765625, -0.171630859375, -0.05572509765625, -0.1629638671875, -0.12249755859375, -0.08416748046875, 0.07196044921875, 0.59375, -0.478271484375, -0.062255859375, 0.68798828125, 0.354736328125, 0.66015625, 0.188232421875, -0.05535888671875, 0.488037109375, -5.09375, 0.0054168701171875, -0.25390625, -0.23291015625, -0.22607421875, 0.0439453125, 0.1728515625, -0.286865234375, -0.49609375, 0.01535797119140625, -0.129150390625, -0.654296875, 0.1287841796875, -0.0997314453125, -2.140625, -0.0921630859375, -0.75390625, -0.2158203125, 0.52099609375, -0.11474609375, 0.043060302734375, -0.037841796875, 0.055145263671875, 0.10565185546875, 0.05401611328125, -0.6953125, -0.0144805908203125, -0.6982421875, -0.266357421875, -0.059906005859375, -0.2587890625, -0.032257080078125, 0.116943359375, 0.0125274658203125, -0.132568359375, 0.64697265625, -0.21337890625, -0.4931640625, 0.420654296875, -0.1514892578125, 0.479736328125, 0.86669921875, 0.0173187255859375, 0.262451171875, -0.18359375, -0.1080322265625, 0.18603515625, -0.304443359375, 0.67236328125, -0.283447265625, -0.11431884765625, 0.005222320556640625, -0.087158203125, 0.041107177734375, -0.437255859375, 0.8876953125, 0.171630859375, -0.007411956787109375, 0.251708984375, -0.425537109375, 0.4501953125, 0.2132568359375, 0.185791015625, -0.1171875, -0.52197265625, -0.213134765625, 0.162841796875, 0.401123046875, 0.0010747909545898438, -0.28076171875, 0.390380859375, -0.130615234375, 1.0830078125, -0.14208984375, -0.62548828125, -0.0269622802734375, -0.20947265625, 0.1307373046875, 0.23583984375, -0.134765625, -0.038421630859375, -0.2115478515625, 0.397216796875, 0.0733642578125, -0.329833984375, 0.457763671875, 0.272705078125, 0.443115234375, -0.09765625, -0.300537109375, -0.0836181640625, 0.00699615478515625, 0.1917724609375, -0.353759765625, -0.0634765625, 0.08843994140625, 0.44091796875, -0.014678955078125, 0.0124053955078125, -0.051666259765625, 0.1610107421875, 0.0517578125, -0.1678466796875, 0.40087890625, 0.1898193359375, 0.23095703125, -0.06707763671875, 0.230712890625, -0.09619140625, -0.04864501953125, 0.02227783203125, 0.0830078125, -0.55859375, -0.35595703125, -0.409423828125, -0.1650390625, 0.0005440711975097656, 0.27490234375, -0.21533203125, -0.39599609375, -0.033050537109375, 0.0784912109375, 0.1563720703125, -0.443115234375, 0.192138671875, 0.365234375, -0.0167388916015625, -0.2626953125, 0.412353515625, -0.0831298828125, 0.27001953125, 0.201416015625, 0.1795654296875, 0.005950927734375, 0.2247314453125, 0.1861572265625, -0.242919921875, 0.0625, -0.041107177734375, 0.07415771484375, -0.2022705078125, -0.058929443359375, 0.03350830078125, -0.6787109375, 0.2578125, -0.390625, -0.1080322265625, -0.460205078125, 0.2081298828125, -0.136474609375, 0.0218963623046875, 0.443603515625, -0.121826171875, 0.48779296875, 0.51708984375, 0.56494140625, 0.2783203125, -0.025543212890625, -0.1336669921875, -0.54833984375, -0.1793212890625, 0.260986328125, 0.299072265625, -0.2095947265625, -0.484619140625, 0.02667236328125, -0.98046875, -0.310791015625, -0.043212890625, -0.5322265625, -0.449951171875, 0.888671875, 0.066162109375, 0.3369140625, -0.16455078125, -0.2322998046875, 0.13427734375, 0.0860595703125, -0.62109375, 0.48388671875, -0.383056640625, -0.384033203125, -0.21240234375, -0.26611328125, 0.016815185546875, -0.3603515625, 0.420166015625, -0.1983642578125, 0.01190948486328125, -0.1492919921875, -0.36669921875, -0.2401123046875, 0.360595703125, 0.27978515625, -0.410888671875, -0.435791015625, 0.0921630859375, -0.33203125, 0.1817626953125, 0.096435546875, 0.278564453125, -0.4287109375, 0.27392578125, 0.2314453125, -0.5234375, 0.2330322265625, 0.326416015625, -0.1834716796875, 0.6005859375, -0.269287109375, -0.5029296875, 0.37255859375, -0.311767578125, -0.1484375, -0.3291015625, -0.352783203125, 0.2181396484375, -0.1824951171875, -0.53076171875, -0.30126953125, 0.86669921875, 0.85302734375, -0.34375, 0.06787109375, -0.42333984375, -0.0261077880859375, -0.2027587890625, -0.1654052734375, 0.351806640625, 0.1646728515625, 0.0406494140625, -0.101318359375, -0.25146484375, 0.5380859375, 0.05389404296875, -0.406982421875, 0.266357421875, 0.10791015625, -0.12164306640625, 0.53271484375, -0.276611328125, -0.4150390625, 0.14501953125, 0.0134124755859375, 0.006313323974609375, 0.287109375, -0.033233642578125, -0.4541015625, 0.17333984375, -0.08831787109375, 0.02447509765625, 0.08453369140625, -0.33984375, -0.179443359375, 0.321533203125, 0.2919921875, 0.62060546875, 0.028228759765625, 0.125244140625, -0.365478515625, -0.064208984375, 0.281005859375, 0.486328125, -0.4423828125, -0.1751708984375, -0.5185546875, -0.0150604248046875, 0.0472412109375, 0.4326171875, 0.1668701171875, 0.299072265625, -0.1033935546875, -0.9052734375, 0.1341552734375, -0.37255859375, -0.1646728515625, 0.57373046875, 0.26708984375, -0.0443115234375, -0.1724853515625, 0.427978515625, -0.3779296875, -0.1749267578125, -0.292236328125, -0.72998046875, 0.046142578125, -0.65869140625, -0.0709228515625, -0.59521484375, -0.0587158203125, -0.07574462890625, -0.3994140625, 0.2578125, -0.26611328125, -0.2294921875, -0.280029296875, -0.269775390625, 0.257568359375, 0.4482421875, 0.0163421630859375, 0.35791015625, -0.68896484375, 0.0137481689453125, -0.2080078125, -0.320068359375, 0.0794677734375, -0.1214599609375, -0.2091064453125, 0.449462890625, 0.0220489501953125, -0.01548004150390625, -0.294189453125, -0.38623046875, 0.316650390625, -0.036773681640625, -0.045379638671875, 0.363525390625, -0.2197265625, 0.0626220703125, 0.2685546875, -0.17138671875, -0.38720703125, 0.2298583984375, 0.21337890625, -0.372802734375, 0.0078582763671875, 0.157470703125, 0.01776123046875, -0.072021484375, 0.041656494140625, -0.250244140625, 0.012847900390625, 0.0477294921875, -0.353271484375, 0.5458984375, -0.471923828125, -1.3056640625, -0.12359619140625, 0.5087890625, 0.1732177734375, -0.1986083984375, -0.413818359375, -0.35302734375, 0.01190948486328125, -0.07110595703125, 0.418701171875, -0.1524658203125, -0.1375732421875, 0.303955078125, 0.5048828125, 0.2357177734375, 0.1966552734375, -0.64404296875, 0.1229248046875, 0.02581787109375, -0.184326171875, 0.145751953125, -0.1356201171875, -0.27978515625, 0.056915283203125, -0.0830078125, -0.046630859375, 0.1561279296875, 0.05322265625, -0.1534423828125, 0.08056640625, 0.1766357421875, 0.326171875, -0.1451416015625, -0.08001708984375, -0.25732421875, 0.040863037109375, -0.0072021484375, 0.056671142578125, 0.12481689453125, 0.1036376953125, -0.67724609375, 0.1556396484375, -0.2025146484375, 0.327880859375, -0.1768798828125, -0.66455078125, 0.105224609375, -0.10540771484375, 0.1788330078125, 0.09710693359375, -0.2120361328125, 0.06787109375, -0.1536865234375, -0.265869140625, -0.092041015625, 0.56005859375, -0.0176544189453125, 0.053375244140625, 0.00547027587890625, -0.47607421875, 0.1787109375, -0.253173828125, 0.45068359375, -0.367919921875, 0.2088623046875, -0.324951171875, 0.22607421875, -0.043609619140625, -0.2880859375, -0.044586181640625, 0.40380859375, 0.2236328125, -0.493408203125, 0.45947265625, -0.05377197265625, -0.0899658203125, 0.276611328125, 0.1536865234375, -0.294189453125, 0.25341796875, -0.49658203125, 0.7294921875, -0.003025054931640625, 0.95947265625], metadata={'file_path': '/content/mixed_data/frame0038.png', 'file_name': 'frame0038.png', 'file_type': 'image/png', 'file_size': 76762, 'creation_date': '2024-04-15', 'last_modified_date': '2024-04-15'}, excluded_embed_metadata_keys=['file_name', 'file_type', 'file_size', 'creation_date', 'last_modified_date', 'last_accessed_date'], excluded_llm_metadata_keys=['file_name', 'file_type', 'file_size', 'creation_date', 'last_modified_date', 'last_accessed_date'], relationships={<NodeRelationship.SOURCE: '1'>: RelatedNodeInfo(node_id='0978e067-3578-418e-8d8d-67d1dd3f5286', node_type=<ObjectType.DOCUMENT: '4'>, metadata={'file_path': '/content/mixed_data/frame0038.png', 'file_name': 'frame0038.png', 'file_type': 'image/png', 'file_size': 76762, 'creation_date': '2024-04-15', 'last_modified_date': '2024-04-15'}, hash='90229f711e5d85b04312274f6625c0f70ce635129347f0252e26c787dfdef608'), <NodeRelationship.PREVIOUS: '2'>: RelatedNodeInfo(node_id='2c4e45ab-4db2-4576-80ac-df594fd1e7be', node_type=<ObjectType.IMAGE: '2'>, metadata={'file_path': '/content/mixed_data/frame0037.png', 'file_name': 'frame0037.png', 'file_type': 'image/png', 'file_size': 79921, 'creation_date': '2024-04-15', 'last_modified_date': '2024-04-15'}, hash='841b92f97afcb5d240443f2b7a3cf947584958fb8db5ac470aaa5f8d89b9eb8a'), <NodeRelationship.NEXT: '3'>: RelatedNodeInfo(node_id='5fef0a3e-1825-4ee7-ba69-4a13a73b9053', node_type=<ObjectType.IMAGE: '2'>, metadata={}, hash='44136fa355b3678a1146ad16f7e8649e94fb4fc21fe77e8310c060f61caaff8a')}, text='', start_char_idx=0, end_char_idx=0, text_template='{metadata_str}\\n\\n{content}', metadata_template='{key}: {value}', metadata_seperator='\\n', image=None, image_path='/content/mixed_data/frame0038.png', image_url=None, image_mimetype=None, text_embedding=None), score=0.0),\n",
              " NodeWithScore(node=ImageNode(id_='43381355-f0fa-47d8-8a4e-ba8873fe4fea', embedding=[0.0750732421875, -0.58837890625, -0.2529296875, -0.1671142578125, -0.3662109375, -0.03668212890625, 0.0738525390625, 0.44482421875, 0.47802734375, 0.07177734375, -0.045654296875, 0.0308074951171875, -0.8876953125, -0.2568359375, -0.0748291015625, 0.09967041015625, -0.0318603515625, -0.06085205078125, -0.06756591796875, -0.09844970703125, 0.0248565673828125, -0.039581298828125, -0.09442138671875, -0.208984375, -0.08660888671875, 0.44873046875, -0.46044921875, -0.39599609375, 0.2259521484375, -0.50341796875, 0.3466796875, -0.2802734375, -0.268310546875, 0.15576171875, 0.66015625, 0.465087890625, 0.07281494140625, -0.0158538818359375, -0.153076171875, -1.044921875, -0.0755615234375, 0.11932373046875, -0.283935546875, -0.0474853515625, -0.022186279296875, -0.1094970703125, 0.391357421875, 0.1832275390625, -0.26806640625, -0.1700439453125, 0.115478515625, -0.1158447265625, 0.0031375885009765625, -0.1661376953125, -0.21337890625, -0.1156005859375, -0.41845703125, 0.392822265625, -0.163818359375, 0.638671875, 0.45458984375, -0.3544921875, -0.178466796875, 0.3916015625, 0.315185546875, -0.07257080078125, -0.5673828125, 0.623046875, 0.1068115234375, -0.1903076171875, -0.368408203125, -0.317626953125, -4.845857620239258e-05, 0.111083984375, -0.0003199577331542969, -0.461669921875, 0.463134765625, -0.83740234375, -0.098388671875, -0.34521484375, -0.124267578125, -0.33935546875, 0.1590576171875, 1.1474609375, 0.033843994140625, -0.1568603515625, 0.9912109375, -0.17724609375, 0.23291015625, -0.00634765625, -0.466796875, 0.3046875, -5.73828125, 0.250244140625, 0.1109619140625, -0.111083984375, 0.269287109375, -0.307373046875, 0.281494140625, -0.1998291015625, -0.401123046875, 0.05755615234375, -0.08795166015625, -0.047393798828125, 0.169189453125, -0.24951171875, -2.490234375, 0.07427978515625, -0.054351806640625, 0.1832275390625, 0.136474609375, -0.28759765625, -0.2086181640625, -0.280029296875, -0.036285400390625, -0.10870361328125, -0.7177734375, -0.728515625, 0.41796875, -0.281982421875, -0.1068115234375, 0.26953125, -0.211669921875, 0.342529296875, 0.1800537109375, 0.117919921875, -0.263916015625, -0.08746337890625, 0.08465576171875, -0.01432037353515625, 0.33447265625, 0.228515625, -0.017852783203125, 0.82080078125, -0.088134765625, -0.2359619140625, -0.245361328125, -0.379150390625, -0.05279541015625, -0.148193359375, 0.417724609375, -0.286376953125, -0.552734375, 0.208984375, -0.390380859375, 0.35546875, -0.257568359375, 0.66552734375, 0.2939453125, -0.14501953125, 0.11773681640625, 0.372802734375, -0.081298828125, -0.24609375, 0.591796875, -0.56689453125, -0.32275390625, 0.1644287109375, 0.52587890625, 0.045257568359375, 0.31298828125, 0.169189453125, 0.031463623046875, -0.00853729248046875, 0.51904296875, -0.357666015625, -0.79150390625, -0.119384765625, -0.3759765625, -0.09539794921875, -0.348388671875, 0.1251220703125, -0.34326171875, 0.344482421875, -0.2408447265625, -0.0755615234375, -0.63427734375, 0.0408935546875, 0.57470703125, 0.5849609375, -0.1280517578125, -0.2242431640625, -0.391357421875, -0.2890625, 0.282958984375, -0.374755859375, 0.7900390625, 0.1759033203125, 0.2203369140625, 0.365234375, 0.20703125, 0.23974609375, -0.347900390625, 0.392333984375, -0.7080078125, -0.1231689453125, 0.1822509765625, 0.55224609375, 0.2471923828125, 0.29833984375, 0.326171875, -0.01189422607421875, 0.12115478515625, -0.0311737060546875, -0.2078857421875, 0.15478515625, 0.09881591796875, 0.245849609375, 0.04461669921875, -0.0248565673828125, 0.12322998046875, 0.498291015625, 0.157958984375, -0.2384033203125, -0.1307373046875, 0.153564453125, 0.42578125, 0.2037353515625, -0.46240234375, -0.030670166015625, 0.5546875, -0.0374755859375, -0.027435302734375, 0.0287017822265625, -0.1512451171875, -0.430419921875, -0.400390625, -0.39013671875, 0.0968017578125, 0.31396484375, -0.2108154296875, -0.2244873046875, -0.30810546875, -0.384521484375, -0.311767578125, -0.54638671875, 0.300537109375, -0.49072265625, -0.2115478515625, -0.2183837890625, 0.0682373046875, 0.356689453125, -0.09051513671875, 0.10693359375, -0.483642578125, 0.1656494140625, 0.60693359375, 0.2408447265625, 0.342041015625, 0.056854248046875, 0.05487060546875, -0.168212890625, 0.297119140625, -0.060821533203125, -0.4873046875, 0.108154296875, -0.35107421875, -0.310791015625, -0.234619140625, -0.478515625, -0.1192626953125, -0.10504150390625, -0.06512451171875, 1.30078125, -0.0225372314453125, 0.0321044921875, -0.1903076171875, -0.1705322265625, 0.326171875, 0.296630859375, -0.25146484375, 0.271484375, 0.111572265625, 0.1541748046875, -0.1802978515625, 0.0291900634765625, -0.048004150390625, 0.385009765625, 0.4111328125, -0.373779296875, 0.438720703125, -0.07928466796875, -0.2880859375, -0.052886962890625, 0.118896484375, 0.348388671875, -0.381103515625, -0.2340087890625, -0.2008056640625, -0.12646484375, 0.257568359375, 0.173828125, -0.09820556640625, -0.152587890625, 0.02667236328125, 0.748046875, -0.464599609375, -0.0482177734375, -0.232421875, 0.128662109375, -0.1787109375, -0.50732421875, -0.41943359375, 0.2086181640625, 0.301513671875, 0.052947998046875, 0.06585693359375, 0.2188720703125, 0.302001953125, 0.349853515625, -0.452392578125, 0.4990234375, 0.82177734375, 0.75537109375, -0.12890625, 0.12890625, 0.0794677734375, -0.0036754608154296875, -0.027374267578125, -0.0823974609375, 0.77099609375, 0.03558349609375, -0.55126953125, -0.267822265625, -0.353271484375, 0.023834228515625, -0.06439208984375, -0.2144775390625, 0.16552734375, 0.08953857421875, 0.0231170654296875, -0.028839111328125, 0.22607421875, -0.1326904296875, -0.356201171875, -0.143310546875, -0.427490234375, -0.1522216796875, 0.3251953125, 0.44189453125, -0.016998291015625, -0.174072265625, 0.274169921875, -0.1424560546875, 0.1536865234375, -0.15625, -0.333251953125, 0.051971435546875, 0.1334228515625, -0.206787109375, 0.22900390625, 0.313720703125, 0.2440185546875, -0.2548828125, -0.34423828125, -0.284423828125, 0.337646484375, -0.9501953125, -0.18212890625, 0.1434326171875, -0.1458740234375, -0.193603515625, 0.234375, -0.39990234375, -1.0703125, -0.11431884765625, -0.00942230224609375, 0.2322998046875, 0.3896484375, 0.293212890625, 0.257568359375, -0.52685546875, 0.291259765625, 0.52685546875, 0.07843017578125, -0.12066650390625, -0.58447265625, 0.210205078125, -0.08721923828125, -0.1353759765625, -0.6396484375, -0.61474609375, -0.464599609375, -0.5322265625, 0.2169189453125, 0.626953125, -0.0254974365234375, -0.3798828125, 0.00569915771484375, 0.5146484375, -0.404296875, 0.1434326171875, 0.0970458984375, -0.64306640625, 0.01422119140625, 0.01120758056640625, -0.0245819091796875, -0.248779296875, -0.301025390625, -0.1807861328125, -0.08905029296875, 0.169921875, 0.2403564453125, -0.218505859375, -0.385009765625, -0.248779296875, -0.162353515625, 0.06256103515625, 0.970703125, -0.08013916015625, -0.2578125, -0.08575439453125, 0.396728515625, -0.343994140625, -0.299072265625, 0.17333984375, -0.7861328125, -0.174560546875, 0.14306640625, -0.446533203125, 0.48291015625, -0.80126953125, -0.018951416015625, -0.359375, 0.3232421875, -0.1297607421875, -0.58837890625, -0.30712890625, -1.740234375, 0.04443359375, 0.34814453125, -0.2281494140625, -0.471435546875, 0.2230224609375, -0.466064453125, -0.1488037109375, -0.1112060546875, -0.11614990234375, 0.248779296875, -0.236083984375, -0.09136962890625, 0.0771484375, -0.30224609375, -0.109375, -0.06939697265625, -0.19921875, 0.396240234375, -0.330810546875, -0.330078125, -0.104736328125, 0.179443359375, -0.1058349609375, -0.2257080078125, -0.53466796875, 0.5341796875, 0.1871337890625, -0.1629638671875, 0.062744140625, -0.2191162109375, 0.2578125, 0.2081298828125, -0.125732421875, -0.1571044921875, -0.202392578125, 0.01025390625, 0.52197265625, 0.1041259765625, -0.11016845703125, 0.25634765625, 0.327392578125, -0.33935546875, 0.26416015625, -0.04559326171875, -0.031005859375, -0.093994140625, -0.2181396484375, 0.259765625, -0.396484375, 0.209716796875, -0.292236328125, 0.081298828125, 0.149658203125, -0.12744140625, 0.48876953125, 0.2371826171875, -0.1612548828125, -0.2296142578125, 0.0307159423828125, 0.018524169921875, -0.33056640625, 0.405029296875, -0.0055389404296875, 0.283447265625, -0.47265625, 0.05682373046875, -0.057403564453125, -0.1568603515625, -0.409423828125, 0.05908203125, 0.2076416015625, -0.8203125, -0.1925048828125, -0.07965087890625, -0.0635986328125, -0.2568359375, -0.010711669921875, -0.19189453125, 0.2227783203125, -0.3505859375, 1.1474609375, 0.262451171875, 0.10626220703125], metadata={'file_path': '/content/mixed_data/frame0028.png', 'file_name': 'frame0028.png', 'file_type': 'image/png', 'file_size': 65903, 'creation_date': '2024-04-15', 'last_modified_date': '2024-04-15'}, excluded_embed_metadata_keys=['file_name', 'file_type', 'file_size', 'creation_date', 'last_modified_date', 'last_accessed_date'], excluded_llm_metadata_keys=['file_name', 'file_type', 'file_size', 'creation_date', 'last_modified_date', 'last_accessed_date'], relationships={<NodeRelationship.SOURCE: '1'>: RelatedNodeInfo(node_id='ee00c565-292b-4fd4-9461-e704f566be57', node_type=<ObjectType.DOCUMENT: '4'>, metadata={'file_path': '/content/mixed_data/frame0028.png', 'file_name': 'frame0028.png', 'file_type': 'image/png', 'file_size': 65903, 'creation_date': '2024-04-15', 'last_modified_date': '2024-04-15'}, hash='d6b7464c6e2570a0caade012322f15e59b07fe81c1b414738c0471b70173f706'), <NodeRelationship.PREVIOUS: '2'>: RelatedNodeInfo(node_id='40623a5c-35b5-41f6-a974-ba94aacc7132', node_type=<ObjectType.IMAGE: '2'>, metadata={'file_path': '/content/mixed_data/frame0027.png', 'file_name': 'frame0027.png', 'file_type': 'image/png', 'file_size': 70238, 'creation_date': '2024-04-15', 'last_modified_date': '2024-04-15'}, hash='82650e4ff52d5afc40c38b5812a37efeffee34b41d24e66137726deb50eb54a8'), <NodeRelationship.NEXT: '3'>: RelatedNodeInfo(node_id='8fb59472-b03a-441f-8808-81edf2e5c8bf', node_type=<ObjectType.IMAGE: '2'>, metadata={}, hash='44136fa355b3678a1146ad16f7e8649e94fb4fc21fe77e8310c060f61caaff8a')}, text='', start_char_idx=0, end_char_idx=0, text_template='{metadata_str}\\n\\n{content}', metadata_template='{key}: {value}', metadata_seperator='\\n', image=None, image_path='/content/mixed_data/frame0028.png', image_url=None, image_mimetype=None, text_embedding=None), score=0.0)]"
            ]
          },
          "metadata": {},
          "execution_count": 47
        }
      ]
    },
    {
      "cell_type": "code",
      "source": [
        "retrieved_image=[]\n",
        "retrieved_text=[]"
      ],
      "metadata": {
        "id": "hGscaCIzg7IQ"
      },
      "execution_count": 48,
      "outputs": []
    },
    {
      "cell_type": "code",
      "source": [
        "for res_node in retrieval_results:\n",
        "  if isinstance(res_node.node,ImageNode):\n",
        "    retrieved_image.append(res_node.node.metadata[\"file_path\"])\n",
        "  else:\n",
        "     display_source_node(res_node, source_length=200)\n",
        "     retrieved_text.append(res_node.text)\n",
        "\n",
        "\n"
      ],
      "metadata": {
        "colab": {
          "base_uri": "https://localhost:8080/",
          "height": 98
        },
        "id": "68e0erAmg9t7",
        "outputId": "2b7b7944-2ff9-4d6a-fdac-cc32bcf55822"
      },
      "execution_count": 49,
      "outputs": [
        {
          "output_type": "display_data",
          "data": {
            "text/plain": [
              "<IPython.core.display.Markdown object>"
            ],
            "text/markdown": "**Node ID:** 68e10e84-175b-487e-b4e3-d449d5dab72b<br>**Similarity:** 0.7638772130012512<br>**Text:** Lanyard regression is a statistical technique for modeling the relationship between an output variable and one or more input variables. In layman's terms, think of it as fitting a line through some...<br>"
          },
          "metadata": {}
        }
      ]
    },
    {
      "cell_type": "code",
      "source": [
        "retrieved_image"
      ],
      "metadata": {
        "colab": {
          "base_uri": "https://localhost:8080/"
        },
        "id": "TPUPqPeuhFYy",
        "outputId": "f31ae96b-6d3b-4d42-c040-db57cffc3547"
      },
      "execution_count": 50,
      "outputs": [
        {
          "output_type": "execute_result",
          "data": {
            "text/plain": [
              "['/content/mixed_data/frame0003.png',\n",
              " '/content/mixed_data/frame0038.png',\n",
              " '/content/mixed_data/frame0028.png']"
            ]
          },
          "metadata": {},
          "execution_count": 50
        }
      ]
    },
    {
      "cell_type": "code",
      "source": [
        "retrieved_text"
      ],
      "metadata": {
        "colab": {
          "base_uri": "https://localhost:8080/"
        },
        "id": "Tz7gwsZ_hNcW",
        "outputId": "18feaf9e-6eab-4189-d422-0f1b64a08c4c"
      },
      "execution_count": 51,
      "outputs": [
        {
          "output_type": "execute_result",
          "data": {
            "text/plain": [
              "[\"Lanyard regression is a statistical technique for modeling the relationship between an output variable and one or more input variables. In layman's terms, think of it as fitting a line through some data points as shown here, so you can make predictions on unknown data, assuming there is a linear relationship between the variables. You might be familiar with the linear function y equals mx plus b, where y is the output variable, also called the dependent variable. You may also see expressed as f of x, the function of the input variable. x on the other hand, would serve as the input variable, also called the independent variable. It's likely you'll see the coefficients m and b expressed as beta 1 and beta 0 respectively. So what do the m and b coefficients do? The m or beta 1 coefficient controls the slope of the line. The b or the beta 0 controls the intercept of the line. In machine learning, we also know it as the bias. These two coefficients are what we are solving for in linear regression. We can also extend to multiple input variables, so x1, x2, x3, with beta 1, beta 2, and beta 3, and so on, acting as slopes for each of those variables. In these higher dimensions, you would visualize the linear regression as a hyperplane. So how do we fit the line to these points? Well, you'll notice that there's these differences between the points and the line, these little red segments, these are called residuals. They are the differences between the data points and the predictions the line would produce. Take each of these residuals and square them. These are the squared errors, and notice that the large of the residuals are, the more amplified area of the squares are. If we total the areas of all of these squares for a given line, we will get the sum of the squared error, and this is known as our loss function. We need to find the beta 0 and beta 1 coefficients that will minimize that sum of squared error. The coefficients can be solved with a variety of techniques ranging from matrix decomposition to gradient descent, which is depicted right here. Thankfully, a lot of libraries are available to do this for us, and we will deep dive into these topics in other videos. To validate a linear regression, there are a number of techniques. Machine learning practitioners will often take a third of the data and put it into the test data set. The remaining two thirds will become the training data set. The training data set will then be used to fit the regression line. The test data set will then be used to validate the regression line. This is done to make sure that the regression performs well on data it has not seen before. The tricks used to evaluate the linear regression vary from the R square, standard error of the estimate, prediction intervals, as well as statistical significance. These are topics we will cover in future videos. If you enjoyed this video, please like and subscribe. Look at my two O'Reilly books, Essential Math for Data Science, and getting started with SQL. Chapter five of Essential Math for Data Science actually covers linear regression and much more depth. If you want live instruction, I also do teach on the O'Reilly platform. Promotional link below. I teach classes including machine learning from scratch, probability, and SQL. Comment on what topics you would like to see next, and I will see you again on 3 Minute Data Science.\"]"
            ]
          },
          "metadata": {},
          "execution_count": 51
        }
      ]
    },
    {
      "cell_type": "code",
      "source": [
        "def retrieve(retriever_engine, query_str):\n",
        "    retrieval_results = retriever_engine.retrieve(query_str)\n",
        "\n",
        "    retrieved_image = []\n",
        "    retrieved_text = []\n",
        "    for res_node in retrieval_results:\n",
        "        if isinstance(res_node.node, ImageNode):\n",
        "            retrieved_image.append(res_node.node.metadata[\"file_path\"])\n",
        "        else:\n",
        "            display_source_node(res_node, source_length=200)\n",
        "            retrieved_text.append(res_node.text)\n",
        "\n",
        "    return retrieved_image, retrieved_text"
      ],
      "metadata": {
        "id": "bu1z1IWHhOpE"
      },
      "execution_count": 52,
      "outputs": []
    },
    {
      "cell_type": "code",
      "source": [
        "img, txt = retrieve(retriever_engine=retriever_engine, query_str=query_str)"
      ],
      "metadata": {
        "colab": {
          "base_uri": "https://localhost:8080/",
          "height": 98
        },
        "id": "raYLoFy0hRh5",
        "outputId": "827caf74-02aa-432b-b529-baacf4f659a3"
      },
      "execution_count": 53,
      "outputs": [
        {
          "output_type": "display_data",
          "data": {
            "text/plain": [
              "<IPython.core.display.Markdown object>"
            ],
            "text/markdown": "**Node ID:** 68e10e84-175b-487e-b4e3-d449d5dab72b<br>**Similarity:** 0.7638772130012512<br>**Text:** Lanyard regression is a statistical technique for modeling the relationship between an output variable and one or more input variables. In layman's terms, think of it as fitting a line through some...<br>"
          },
          "metadata": {}
        }
      ]
    },
    {
      "cell_type": "code",
      "source": [
        "image_documents = SimpleDirectoryReader(input_dir=output_folder, input_files=img).load_data()"
      ],
      "metadata": {
        "id": "NrzpRBBShVMX"
      },
      "execution_count": 54,
      "outputs": []
    },
    {
      "cell_type": "code",
      "source": [
        "context_str = \"\".join(txt)"
      ],
      "metadata": {
        "id": "dw-wUR4QhYfa"
      },
      "execution_count": 55,
      "outputs": []
    },
    {
      "cell_type": "code",
      "source": [
        "context_str"
      ],
      "metadata": {
        "colab": {
          "base_uri": "https://localhost:8080/",
          "height": 140
        },
        "id": "F3GhG_vHhbrR",
        "outputId": "ca8f0f03-1f1c-4e72-851e-f0bc1038d82b"
      },
      "execution_count": 56,
      "outputs": [
        {
          "output_type": "execute_result",
          "data": {
            "text/plain": [
              "\"Lanyard regression is a statistical technique for modeling the relationship between an output variable and one or more input variables. In layman's terms, think of it as fitting a line through some data points as shown here, so you can make predictions on unknown data, assuming there is a linear relationship between the variables. You might be familiar with the linear function y equals mx plus b, where y is the output variable, also called the dependent variable. You may also see expressed as f of x, the function of the input variable. x on the other hand, would serve as the input variable, also called the independent variable. It's likely you'll see the coefficients m and b expressed as beta 1 and beta 0 respectively. So what do the m and b coefficients do? The m or beta 1 coefficient controls the slope of the line. The b or the beta 0 controls the intercept of the line. In machine learning, we also know it as the bias. These two coefficients are what we are solving for in linear regression. We can also extend to multiple input variables, so x1, x2, x3, with beta 1, beta 2, and beta 3, and so on, acting as slopes for each of those variables. In these higher dimensions, you would visualize the linear regression as a hyperplane. So how do we fit the line to these points? Well, you'll notice that there's these differences between the points and the line, these little red segments, these are called residuals. They are the differences between the data points and the predictions the line would produce. Take each of these residuals and square them. These are the squared errors, and notice that the large of the residuals are, the more amplified area of the squares are. If we total the areas of all of these squares for a given line, we will get the sum of the squared error, and this is known as our loss function. We need to find the beta 0 and beta 1 coefficients that will minimize that sum of squared error. The coefficients can be solved with a variety of techniques ranging from matrix decomposition to gradient descent, which is depicted right here. Thankfully, a lot of libraries are available to do this for us, and we will deep dive into these topics in other videos. To validate a linear regression, there are a number of techniques. Machine learning practitioners will often take a third of the data and put it into the test data set. The remaining two thirds will become the training data set. The training data set will then be used to fit the regression line. The test data set will then be used to validate the regression line. This is done to make sure that the regression performs well on data it has not seen before. The tricks used to evaluate the linear regression vary from the R square, standard error of the estimate, prediction intervals, as well as statistical significance. These are topics we will cover in future videos. If you enjoyed this video, please like and subscribe. Look at my two O'Reilly books, Essential Math for Data Science, and getting started with SQL. Chapter five of Essential Math for Data Science actually covers linear regression and much more depth. If you want live instruction, I also do teach on the O'Reilly platform. Promotional link below. I teach classes including machine learning from scratch, probability, and SQL. Comment on what topics you would like to see next, and I will see you again on 3 Minute Data Science.\""
            ],
            "application/vnd.google.colaboratory.intrinsic+json": {
              "type": "string"
            }
          },
          "metadata": {},
          "execution_count": 56
        }
      ]
    },
    {
      "cell_type": "code",
      "source": [
        "plot_images(img)"
      ],
      "metadata": {
        "colab": {
          "base_uri": "https://localhost:8080/",
          "height": 216
        },
        "id": "Lw_W8-3Thcef",
        "outputId": "32a13edc-f27d-455e-b7ca-7486ad2a42b4"
      },
      "execution_count": 57,
      "outputs": [
        {
          "output_type": "display_data",
          "data": {
            "text/plain": [
              "<Figure size 1600x900 with 3 Axes>"
            ],
            "image/png": "[encoded data removed]"
          },
          "metadata": {}
        }
      ]
    },
    {
      "cell_type": "code",
      "source": [
        "from llama_index.multi_modal_llms.openai import OpenAIMultiModal"
      ],
      "metadata": {
        "id": "U5_g_EAthhEH"
      },
      "execution_count": 58,
      "outputs": []
    },
    {
      "cell_type": "code",
      "source": [
        "openai_mm_llm = OpenAIMultiModal(model=\"gpt-4-vision-preview\", api_key=OPENAI_API_TOKEN, max_new_tokens=1500)"
      ],
      "metadata": {
        "id": "rIx6dxVWhoHf"
      },
      "execution_count": 59,
      "outputs": []
    },
    {
      "cell_type": "code",
      "source": [
        "result=openai_mm_llm.complete(\n",
        "    prompt=qa_tmpl_str.format(\n",
        "        context_str=context_str,query_str=query_str,metadata_str=metadata_str\n",
        "    ),\n",
        "    image_documents=image_documents,\n",
        "\n",
        "    max_tokens=1500\n",
        ")"
      ],
      "metadata": {
        "id": "XSiEFjqkhq1e"
      },
      "execution_count": 62,
      "outputs": []
    },
    {
      "cell_type": "code",
      "source": [
        "pprint(result.text)"
      ],
      "metadata": {
        "colab": {
          "base_uri": "https://localhost:8080/"
        },
        "id": "TipwOaHfiZGW",
        "outputId": "e5bad7d5-b807-4516-ff60-c0a16e06ec5b"
      },
      "execution_count": 63,
      "outputs": [
        {
          "output_type": "stream",
          "name": "stdout",
          "text": [
            "('Linear regression is a statistical technique used for modeling the '\n",
            " 'relationship between a dependent variable (output) and one or more '\n",
            " 'independent variables (inputs). It involves fitting a line through a set of '\n",
            " 'data points in such a way that it can be used to make predictions on unknown '\n",
            " 'data, assuming there is a linear relationship between the variables.\\n'\n",
            " '\\n'\n",
            " 'In the simplest form, linear regression is represented by the equation y = '\n",
            " 'mx + b, where y is the dependent variable, x is the independent variable, m '\n",
            " 'is the slope of the line (also known as the coefficient β1), and b is the '\n",
            " 'y-intercept (also known as the coefficient β0 or the bias). The goal of '\n",
            " 'linear regression is to find the values of m and b that minimize the sum of '\n",
            " 'the squared differences (residuals) between the observed data points and the '\n",
            " 'predictions made by the linear model.\\n'\n",
            " '\\n'\n",
            " 'This technique can be extended to multiple input variables, leading to '\n",
            " 'multiple regression, where the model includes several coefficients (β1, β2, '\n",
            " 'β3, etc.) corresponding to each input variable (x1, x2, x3, etc.). In higher '\n",
            " 'dimensions, the model is visualized as a hyperplane rather than a line.\\n'\n",
            " '\\n'\n",
            " 'To fit the line to the data points, the sum of the squared errors (SSE) is '\n",
            " 'minimized, which is known as the loss function. Various techniques, such as '\n",
            " 'matrix decomposition or gradient descent, can be used to solve for the '\n",
            " 'coefficients.\\n'\n",
            " '\\n'\n",
            " 'Linear regression models are validated by splitting the data into a training '\n",
            " 'set and a test set, with the model being fitted on the training set and '\n",
            " 'validated on the test set to ensure it performs well on unseen data. '\n",
            " 'Performance metrics such as R-squared, standard error of the estimate, '\n",
            " 'prediction intervals, and statistical significance are used to evaluate the '\n",
            " 'quality of the regression model.')\n"
          ]
        }
      ]
    },
    {
      "cell_type": "code",
      "source": [
        "qa_tmpl_str2=(\n",
        "    \"Given the provided information, including relevant images and retrieved context from the video, \\\n",
        "    accurately and precisely answer the query without any additional prior knowledge.\\n\"\n",
        "\n",
        "    \"---------------------\\n\"\n",
        "    \"Metadata for video: {metadata_str} \\n\"\n",
        "\n",
        "    \"---------------------\\n\"\n",
        "    \"Query: {query_str}\\n\"\n",
        "    \"Answer: \"\n",
        ")"
      ],
      "metadata": {
        "id": "WlSnFYPQidZm"
      },
      "execution_count": 64,
      "outputs": []
    },
    {
      "cell_type": "code",
      "source": [
        "image_documents2 = SimpleDirectoryReader(input_files=img).load_data()"
      ],
      "metadata": {
        "id": "zJqpcggMjDQT"
      },
      "execution_count": 67,
      "outputs": []
    },
    {
      "cell_type": "code",
      "source": [
        "result=openai_mm_llm.complete(\n",
        "    prompt=qa_tmpl_str2.format(\n",
        "        query_str=query_str,metadata_str=metadata_str\n",
        "    ),\n",
        "    image_documents=image_documents2\n",
        ")"
      ],
      "metadata": {
        "id": "cZj-dcz1ik0L"
      },
      "execution_count": 68,
      "outputs": []
    },
    {
      "cell_type": "code",
      "source": [
        "pprint(result.text)"
      ],
      "metadata": {
        "colab": {
          "base_uri": "https://localhost:8080/"
        },
        "id": "tgOcI2BTi3bK",
        "outputId": "f5283665-7a1f-42eb-89a9-cc1d2d8c840d"
      },
      "execution_count": 69,
      "outputs": [
        {
          "output_type": "stream",
          "name": "stdout",
          "text": [
            "('Linear regression is a statistical method used to model the relationship '\n",
            " 'between a dependent variable and one or more independent variables by '\n",
            " 'fitting a linear equation to observed data. The simplest form of linear '\n",
            " 'regression is known as simple linear regression, where there is only one '\n",
            " 'independent variable. The linear equation for simple linear regression is '\n",
            " 'typically written as:\\n'\n",
            " '\\n'\n",
            " 'y = β0 + β1x + ε\\n'\n",
            " '\\n'\n",
            " 'Here, y represents the dependent variable, x represents the independent '\n",
            " 'variable, β0 is the y-intercept, β1 is the slope of the line (which '\n",
            " 'represents the relationship between x and y), and ε is the error term, which '\n",
            " 'accounts for any variation in y that cannot be explained by the linear '\n",
            " 'relationship with x.\\n'\n",
            " '\\n'\n",
            " 'The goal of linear regression is to find the best-fitting line through the '\n",
            " 'data points. This is often done by minimizing the sum of the squares of the '\n",
            " 'vertical distances (residuals) between the observed values and the values '\n",
            " 'predicted by the linear model. This method is known as the least squares '\n",
            " 'approach.\\n'\n",
            " '\\n'\n",
            " 'The images provided suggest that the video may also discuss performance '\n",
            " 'metrics for linear regression, such as R-squared (R²), which measures the '\n",
            " 'proportion of the variance in the dependent variable that is predictable '\n",
            " 'from the independent variable(s), and possibly the standard error of the '\n",
            " 'estimate, which measures the average distance that the observed values fall '\n",
            " 'from the regression line.\\n'\n",
            " '\\n'\n",
            " 'The image with the graph and the line through the data points illustrates '\n",
            " 'the concept of fitting a linear model to data, with the line representing '\n",
            " 'the predicted values and the distances from the line to the actual data '\n",
            " 'points representing the residuals. The term \"SSE\" in the image likely refers '\n",
            " 'to the sum of squared errors, a common measure used to quantify the error of '\n",
            " 'a regression model.')\n"
          ]
        }
      ]
    },
    {
      "cell_type": "code",
      "source": [
        "result2=openai_mm_llm.complete(\n",
        "    prompt=\"what is O'Reilly?\",\n",
        "    image_documents=image_documents2\n",
        ")\n",
        "print(result2.text)"
      ],
      "metadata": {
        "colab": {
          "base_uri": "https://localhost:8080/"
        },
        "id": "86M3f0Cei6HA",
        "outputId": "fc085eb7-fb4c-4f78-afd5-285dd02dec76"
      },
      "execution_count": 70,
      "outputs": [
        {
          "output_type": "stream",
          "name": "stdout",
          "text": [
            "O'Reilly can refer to several things, but in the context of books, media, and technology, it most commonly refers to O'Reilly Media, Inc. This is a learning company that publishes books, produces tech conferences, and provides an online learning platform. Their publications often cover topics related to computer programming, technology, and digital media. O'Reilly Media is known for its distinctive cover designs featuring various animals.\n",
            "\n",
            "Based on the images you've provided, which seem to be related to educational content about linear regression and performance metrics, it's possible that the content could be from an educational resource or video tutorial that might be associated with O'Reilly Media's educational materials, although there's no explicit indication of that in the images themselves. The images show a title slide for a presentation on linear regression, a slide discussing a performance metric (R²), and a graph illustrating the concept of Sum of Squared Errors (SSE) in the context of a linear regression line and data points.\n"
          ]
        }
      ]
    },
    {
      "cell_type": "code",
      "source": [
        "result3=openai_mm_llm.complete(\n",
        "    prompt=\"just tell me what you are seeing over the pecific ocean?\",\n",
        "    image_documents=image_documents2\n",
        ")\n",
        "pprint(result3.text)"
      ],
      "metadata": {
        "colab": {
          "base_uri": "https://localhost:8080/"
        },
        "id": "hdQCDeCljV3b",
        "outputId": "6cc85ba7-b1f7-4f03-f0a5-82739c5be3d9"
      },
      "execution_count": 71,
      "outputs": [
        {
          "output_type": "stream",
          "name": "stdout",
          "text": [
            "(\"Sorry, I can't provide real-time or current information about specific \"\n",
            " 'locations such as the Pacific Ocean. However, I can tell you that the images '\n",
            " \"you've provided are not related to any real-time events or locations. They \"\n",
            " 'are slides from a presentation about linear regression, which is a '\n",
            " 'statistical method used to model the relationship between a dependent '\n",
            " 'variable and one or more independent variables.\\n'\n",
            " '\\n'\n",
            " 'The first image is a title slide that says \"Linear Regression in 3 Minutes,\" '\n",
            " 'suggesting that the presentation is a brief overview of the topic.\\n'\n",
            " '\\n'\n",
            " 'The second image is a slide titled \"Performance Metrics\" with text that '\n",
            " 'begins to describe R-squared (R²), which is a statistical measure of how '\n",
            " 'close the data are to the fitted regression line. It also mentions \"Standard '\n",
            " 'Error of the Est,\" which seems to be cut off, but likely refers to the '\n",
            " 'standard error of the estimate, a measure of the accuracy of predictions '\n",
            " 'made with a regression line.\\n'\n",
            " '\\n'\n",
            " 'The third image shows a scatter plot with a yellow line representing the '\n",
            " 'best fit line through the data points. The acronym \"SSE\" is shown in a red '\n",
            " 'box, which stands for Sum of Squared Errors, a measure used to evaluate the '\n",
            " 'fit of a regression line.\\n'\n",
            " '\\n'\n",
            " 'These images are educational in nature and are meant to explain concepts '\n",
            " 'related to linear regression in statistics.')\n"
          ]
        }
      ]
    }
  ]
}