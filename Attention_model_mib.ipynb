{
  "cells": [
    {
      "cell_type": "markdown",
      "metadata": {
        "id": "view-in-github",
        "colab_type": "text"
      },
      "source": [
        "<a href=\"https://colab.research.google.com/github/Miliyas/Generative_AI/blob/main/Attention_model_mib.ipynb\" target=\"_parent\"><img src=\"https://colab.research.google.com/assets/colab-badge.svg\" alt=\"Open In Colab\"/></a>"
      ]
    },
    {
      "cell_type": "code",
      "execution_count": 1,
      "id": "6daeb2b6",
      "metadata": {
        "id": "6daeb2b6"
      },
      "outputs": [],
      "source": [
        "import re\n",
        "import torch\n",
        "import pickle\n",
        "import numpy as np\n",
        "import pandas as pd\n",
        "from tqdm import tqdm\n",
        "import torch.nn as nn\n",
        "from nltk.tokenize import word_tokenize\n",
        "from sklearn.metrics import accuracy_score\n",
        "from sklearn.preprocessing import LabelEncoder\n",
        "from sklearn.model_selection import train_test_split"
      ]
    },
    {
      "cell_type": "code",
      "source": [
        "from google.colab import drive\n",
        "drive.mount('/content/drive')"
      ],
      "metadata": {
        "colab": {
          "base_uri": "https://localhost:8080/"
        },
        "id": "lIKLHCt4ajJX",
        "outputId": "167cf215-8a15-4504-d2ae-8dc63646338e"
      },
      "id": "lIKLHCt4ajJX",
      "execution_count": 2,
      "outputs": [
        {
          "output_type": "stream",
          "name": "stdout",
          "text": [
            "Mounted at /content/drive\n"
          ]
        }
      ]
    },
    {
      "cell_type": "code",
      "execution_count": 3,
      "id": "ae269ceb",
      "metadata": {
        "id": "ae269ceb"
      },
      "outputs": [],
      "source": [
        "lr = 0.0005\n",
        "vec_len = 50\n",
        "seq_len = 20\n",
        "num_epochs = 50\n",
        "label_col = \"Product\"\n",
        "tokens_path = \"Output/tokens.pkl\"\n",
        "labels_path = \"Output/labels.pkl\"\n",
        "data_path = \"/content/drive/MyDrive/complaints_new.csv\"\n",
        "model_path = \"Output/attention.pth\"\n",
        "vocabulary_path = \"Output/vocabulary.pkl\"\n",
        "embeddings_path = \"Output/embeddings.pkl\"\n",
        "glove_vector_path = \"/content/drive/MyDrive/glove.6B.50d.txt\"\n",
        "text_col_name = \"Consumer complaint narrative\"\n",
        "label_encoder_path = \"Output/label_encoder.pkl\"\n",
        "product_map = {'Vehicle loan or lease': 'vehicle_loan',\n",
        "               'Credit reporting, credit repair services, or other personal consumer reports': 'credit_report',\n",
        "               'Credit card or prepaid card': 'card',\n",
        "               'Money transfer, virtual currency, or money service': 'money_transfer',\n",
        "               'virtual currency': 'money_transfer',\n",
        "               'Mortgage': 'mortgage',\n",
        "               'Payday loan, title loan, or personal loan': 'loan',\n",
        "               'Debt collection': 'debt_collection',\n",
        "               'Checking or savings account': 'savings_account',\n",
        "               'Credit card': 'card',\n",
        "               'Bank account or service': 'savings_account',\n",
        "               'Credit reporting': 'credit_report',\n",
        "               'Prepaid card': 'card',\n",
        "               'Payday loan': 'loan',\n",
        "               'Other financial service': 'others',\n",
        "               'Virtual currency': 'money_transfer',\n",
        "               'Student loan': 'loan',\n",
        "               'Consumer Loan': 'loan',\n",
        "               'Money transfers': 'money_transfer'}"
      ]
    },
    {
      "cell_type": "code",
      "source": [
        "mkdir Output"
      ],
      "metadata": {
        "id": "BV9lgZcgjNi6"
      },
      "id": "BV9lgZcgjNi6",
      "execution_count": 4,
      "outputs": []
    },
    {
      "cell_type": "code",
      "execution_count": 5,
      "id": "ce10573e",
      "metadata": {
        "id": "ce10573e"
      },
      "outputs": [],
      "source": [
        "def save_file(name, obj):\n",
        "    \"\"\"\n",
        "    Function to save an object as pickle file\n",
        "    \"\"\"\n",
        "    with open(name, 'wb') as f:\n",
        "        pickle.dump(obj, f)\n",
        "\n",
        "\n",
        "def load_file(name):\n",
        "    \"\"\"\n",
        "    Function to load a pickle object\n",
        "    \"\"\"\n",
        "    return pickle.load(open(name, \"rb\"))"
      ]
    },
    {
      "cell_type": "markdown",
      "source": [
        "# **Different word embedding techniques**"
      ],
      "metadata": {
        "id": "37sl7qI9lMs4"
      },
      "id": "37sl7qI9lMs4"
    },
    {
      "cell_type": "markdown",
      "source": [
        "**word2vec**"
      ],
      "metadata": {
        "id": "GJ6ylmuMlSuU"
      },
      "id": "GJ6ylmuMlSuU"
    },
    {
      "cell_type": "code",
      "source": [
        "pip install gensim\n"
      ],
      "metadata": {
        "colab": {
          "base_uri": "https://localhost:8080/"
        },
        "id": "XzQ0tQsFlrmt",
        "outputId": "bd0c02d3-809e-4fab-dcf0-b2a24d1772df"
      },
      "id": "XzQ0tQsFlrmt",
      "execution_count": null,
      "outputs": [
        {
          "output_type": "stream",
          "name": "stdout",
          "text": [
            "Requirement already satisfied: gensim in /usr/local/lib/python3.10/dist-packages (4.3.2)\n",
            "Requirement already satisfied: numpy>=1.18.5 in /usr/local/lib/python3.10/dist-packages (from gensim) (1.25.2)\n",
            "Requirement already satisfied: scipy>=1.7.0 in /usr/local/lib/python3.10/dist-packages (from gensim) (1.11.4)\n",
            "Requirement already satisfied: smart-open>=1.8.1 in /usr/local/lib/python3.10/dist-packages (from gensim) (6.4.0)\n"
          ]
        }
      ]
    },
    {
      "cell_type": "code",
      "source": [
        "import gensim.downloader as api\n",
        "\n",
        "# Download the pre-trained model\n",
        "model = api.load(\"word2vec-google-news-300\")\n",
        "\n",
        "# Save the model to a file\n",
        "model.save(\"word2vec-google-news-300.model\")\n"
      ],
      "metadata": {
        "colab": {
          "base_uri": "https://localhost:8080/"
        },
        "id": "ttDcotWZm4Y7",
        "outputId": "96f0f6dc-14de-4867-918b-68e0ef35df6e"
      },
      "id": "ttDcotWZm4Y7",
      "execution_count": null,
      "outputs": [
        {
          "output_type": "stream",
          "name": "stdout",
          "text": [
            "[==================================================] 100.0% 1662.8/1662.8MB downloaded\n"
          ]
        }
      ]
    },
    {
      "cell_type": "code",
      "source": [
        "import gensim\n",
        "\n",
        "# Load a pre-trained Word2Vec model\n",
        "from gensim.models import KeyedVectors\n",
        "\n",
        "# Load the model\n",
        "model = KeyedVectors.load(\"word2vec-google-news-300.model\", mmap='r')\n",
        "\n",
        "# Get the vector for a word\n",
        "word_vector = model['computer']\n",
        "\n",
        "# Find similar words\n",
        "similar_words = model.most_similar('computer')\n",
        "\n",
        "# Print the results\n",
        "print(f\"Word: 'computer', Vector: {word_vector}\")\n",
        "print(f\"Similar words: {similar_words}\")"
      ],
      "metadata": {
        "colab": {
          "base_uri": "https://localhost:8080/"
        },
        "id": "fWHI-e0PlWUx",
        "outputId": "49206ac0-430b-4cef-b8d7-835d1b59b9ab"
      },
      "id": "fWHI-e0PlWUx",
      "execution_count": null,
      "outputs": [
        {
          "output_type": "stream",
          "name": "stdout",
          "text": [
            "Word: 'computer', Vector: [ 1.07421875e-01 -2.01171875e-01  1.23046875e-01  2.11914062e-01\n",
            " -9.13085938e-02  2.16796875e-01 -1.31835938e-01  8.30078125e-02\n",
            "  2.02148438e-01  4.78515625e-02  3.66210938e-02 -2.45361328e-02\n",
            "  2.39257812e-02 -1.60156250e-01 -2.61230469e-02  9.71679688e-02\n",
            " -6.34765625e-02  1.84570312e-01  1.70898438e-01 -1.63085938e-01\n",
            " -1.09375000e-01  1.49414062e-01 -4.65393066e-04  9.61914062e-02\n",
            "  1.68945312e-01  2.60925293e-03  8.93554688e-02  6.49414062e-02\n",
            "  3.56445312e-02 -6.93359375e-02 -1.46484375e-01 -1.21093750e-01\n",
            " -2.27539062e-01  2.45361328e-02 -1.24511719e-01 -3.18359375e-01\n",
            " -2.20703125e-01  1.30859375e-01  3.66210938e-02 -3.63769531e-02\n",
            " -1.13281250e-01  1.95312500e-01  9.76562500e-02  1.26953125e-01\n",
            "  6.59179688e-02  6.93359375e-02  1.02539062e-02  1.75781250e-01\n",
            " -1.68945312e-01  1.21307373e-03 -2.98828125e-01 -1.15234375e-01\n",
            "  5.66406250e-02 -1.77734375e-01 -2.08984375e-01  1.76757812e-01\n",
            "  2.38037109e-02 -2.57812500e-01 -4.46777344e-02  1.88476562e-01\n",
            "  5.51757812e-02  5.02929688e-02 -1.06933594e-01  1.89453125e-01\n",
            " -1.16210938e-01  8.49609375e-02 -1.71875000e-01  2.45117188e-01\n",
            " -1.73828125e-01 -8.30078125e-03  4.56542969e-02 -1.61132812e-02\n",
            "  1.86523438e-01 -6.05468750e-02 -4.17480469e-02  1.82617188e-01\n",
            "  2.20703125e-01 -1.22558594e-01 -2.55126953e-02 -3.08593750e-01\n",
            "  9.13085938e-02  1.60156250e-01  1.70898438e-01  1.19628906e-01\n",
            "  7.08007812e-02 -2.64892578e-02 -3.08837891e-02  4.06250000e-01\n",
            " -1.01562500e-01  5.71289062e-02 -7.26318359e-03 -9.17968750e-02\n",
            " -1.50390625e-01 -2.55859375e-01  2.16796875e-01 -3.63769531e-02\n",
            "  2.24609375e-01  8.00781250e-02  1.56250000e-01  5.27343750e-02\n",
            "  1.50390625e-01 -1.14746094e-01 -8.64257812e-02  1.19140625e-01\n",
            " -7.17773438e-02  2.73437500e-01 -1.64062500e-01  7.29370117e-03\n",
            "  4.21875000e-01 -1.12792969e-01 -1.35742188e-01 -1.31835938e-01\n",
            " -1.37695312e-01 -7.66601562e-02  6.25000000e-02  4.98046875e-02\n",
            " -1.91406250e-01 -6.03027344e-02  2.27539062e-01  5.88378906e-02\n",
            " -3.24218750e-01  5.41992188e-02 -1.35742188e-01  8.17871094e-03\n",
            " -5.24902344e-02 -1.74713135e-03 -9.81445312e-02 -2.86865234e-02\n",
            "  3.61328125e-02  2.15820312e-01  5.98144531e-02 -3.08593750e-01\n",
            " -2.27539062e-01  2.61718750e-01  9.86328125e-02 -5.07812500e-02\n",
            "  1.78222656e-02  1.31835938e-01 -5.35156250e-01 -1.81640625e-01\n",
            "  1.38671875e-01 -3.10546875e-01 -9.71679688e-02  1.31835938e-01\n",
            " -1.16210938e-01  7.03125000e-02  2.85156250e-01  3.51562500e-02\n",
            " -1.01562500e-01 -3.75976562e-02  1.41601562e-01  1.42578125e-01\n",
            " -5.68847656e-02  2.65625000e-01 -2.09960938e-01  9.64355469e-03\n",
            " -6.68945312e-02 -4.83398438e-02 -6.10351562e-02  2.45117188e-01\n",
            " -9.66796875e-02  1.78222656e-02 -1.27929688e-01 -4.78515625e-02\n",
            " -7.26318359e-03  1.79687500e-01  2.78320312e-02 -2.10937500e-01\n",
            " -1.43554688e-01 -1.27929688e-01  1.73339844e-02 -3.60107422e-03\n",
            " -2.04101562e-01  3.63159180e-03 -1.19628906e-01 -6.15234375e-02\n",
            "  5.93261719e-02 -3.23486328e-03 -1.70898438e-01 -3.14941406e-02\n",
            " -8.88671875e-02 -2.89062500e-01  3.44238281e-02 -1.87500000e-01\n",
            "  2.94921875e-01  1.58203125e-01 -1.19628906e-01  7.61718750e-02\n",
            "  6.39648438e-02 -4.68750000e-02 -6.83593750e-02  1.21459961e-02\n",
            " -1.44531250e-01  4.54101562e-02  3.68652344e-02  3.88671875e-01\n",
            "  1.45507812e-01 -2.55859375e-01 -4.46777344e-02 -1.33789062e-01\n",
            " -1.38671875e-01  6.59179688e-02  1.37695312e-01  1.14746094e-01\n",
            "  2.03125000e-01 -4.78515625e-02  1.80664062e-02 -8.54492188e-02\n",
            " -2.48046875e-01 -3.39843750e-01 -2.83203125e-02  1.05468750e-01\n",
            " -2.14843750e-01 -8.74023438e-02  7.12890625e-02  1.87500000e-01\n",
            " -1.12304688e-01  2.73437500e-01 -3.26171875e-01 -1.77734375e-01\n",
            " -4.24804688e-02 -2.69531250e-01  6.64062500e-02 -6.88476562e-02\n",
            " -1.99218750e-01 -7.03125000e-02 -2.43164062e-01 -3.66210938e-02\n",
            " -7.37304688e-02 -1.77734375e-01  9.17968750e-02 -1.25000000e-01\n",
            " -1.65039062e-01 -3.57421875e-01 -2.85156250e-01 -1.66992188e-01\n",
            "  1.97265625e-01 -1.53320312e-01  2.31933594e-02  2.06054688e-01\n",
            "  1.80664062e-01 -2.74658203e-02 -1.92382812e-01 -9.61914062e-02\n",
            " -1.06811523e-02 -4.73632812e-02  6.54296875e-02 -1.25732422e-02\n",
            "  1.78222656e-02 -8.00781250e-02 -2.59765625e-01  9.37500000e-02\n",
            " -7.81250000e-02  4.68750000e-02 -2.22167969e-02  1.86767578e-02\n",
            "  3.11279297e-02  1.04980469e-02 -1.69921875e-01  2.58789062e-02\n",
            " -3.41796875e-02 -1.44042969e-02 -5.46875000e-02 -8.78906250e-02\n",
            "  1.96838379e-03  2.23632812e-01 -1.36718750e-01  1.75781250e-01\n",
            " -1.63085938e-01  1.87500000e-01  3.44238281e-02 -5.63964844e-02\n",
            " -2.27689743e-05  4.27246094e-02  5.81054688e-02 -1.07910156e-01\n",
            " -3.88183594e-02 -2.69531250e-01  3.34472656e-02  9.81445312e-02\n",
            "  5.63964844e-02  2.23632812e-01 -5.49316406e-02  1.46484375e-01\n",
            "  5.93261719e-02 -2.19726562e-01  6.39648438e-02  1.66015625e-02\n",
            "  4.56542969e-02  3.26171875e-01 -3.80859375e-01  1.70898438e-01\n",
            "  5.66406250e-02 -1.04492188e-01  1.38671875e-01 -1.57226562e-01\n",
            "  3.23486328e-03 -4.80957031e-02 -2.48046875e-01 -6.20117188e-02]\n",
            "Similar words: [('computers', 0.7979379892349243), ('laptop', 0.6640493273735046), ('laptop_computer', 0.6548868417739868), ('Computer', 0.647333562374115), ('com_puter', 0.6082080006599426), ('technician_Leonard_Luchko', 0.5662748217582703), ('mainframes_minicomputers', 0.5617720484733582), ('laptop_computers', 0.5585449934005737), ('PC', 0.5539618730545044), ('maker_Dell_DELL.O', 0.5519254207611084)]\n"
          ]
        }
      ]
    },
    {
      "cell_type": "code",
      "source": [
        "similar_words = model.most_similar('king')\n",
        "print(similar_words)\n"
      ],
      "metadata": {
        "colab": {
          "base_uri": "https://localhost:8080/"
        },
        "id": "e9yd92Wkq-wv",
        "outputId": "3d742fb0-d68c-4613-e762-6726c85b71c6"
      },
      "id": "e9yd92Wkq-wv",
      "execution_count": null,
      "outputs": [
        {
          "output_type": "stream",
          "name": "stdout",
          "text": [
            "[('kings', 0.7138045430183411), ('queen', 0.6510956883430481), ('monarch', 0.6413194537162781), ('crown_prince', 0.6204220056533813), ('prince', 0.6159993410110474), ('sultan', 0.5864824056625366), ('ruler', 0.5797567367553711), ('princes', 0.5646552443504333), ('Prince_Paras', 0.5432944297790527), ('throne', 0.5422105193138123)]\n"
          ]
        }
      ]
    },
    {
      "cell_type": "markdown",
      "source": [
        "**GloVe**"
      ],
      "metadata": {
        "id": "ndFh-0YDrPY5"
      },
      "id": "ndFh-0YDrPY5"
    },
    {
      "cell_type": "markdown",
      "id": "1217b362",
      "metadata": {
        "id": "1217b362"
      },
      "source": [
        "## Process glove embeddings\n",
        "---"
      ]
    },
    {
      "cell_type": "code",
      "execution_count": 6,
      "id": "9fa79027",
      "metadata": {
        "id": "9fa79027"
      },
      "outputs": [],
      "source": [
        "with open(glove_vector_path, \"rt\") as f:\n",
        "    emb = f.readlines()"
      ]
    },
    {
      "cell_type": "code",
      "execution_count": 7,
      "id": "10f7c6a0",
      "metadata": {
        "id": "10f7c6a0"
      },
      "outputs": [],
      "source": [
        "vocabulary, embeddings = [], []\n",
        "\n",
        "for item in emb:\n",
        "    vocabulary.append(item.split()[0])\n",
        "    embeddings.append(item.split()[1:])"
      ]
    },
    {
      "cell_type": "code",
      "execution_count": 8,
      "id": "1c8e2ba4",
      "metadata": {
        "id": "1c8e2ba4"
      },
      "outputs": [],
      "source": [
        "#convert list into numpy array\n",
        "embeddings = np.array(embeddings, dtype=np.float32)"
      ]
    },
    {
      "cell_type": "code",
      "execution_count": 9,
      "id": "e18ab05d",
      "metadata": {
        "id": "e18ab05d"
      },
      "outputs": [],
      "source": [
        "vocabulary = [\"<pad>\", \"<unk>\"] + vocabulary"
      ]
    },
    {
      "cell_type": "code",
      "execution_count": 10,
      "id": "aaff5833",
      "metadata": {
        "id": "aaff5833"
      },
      "outputs": [],
      "source": [
        "embeddings = np.vstack([np.ones(50, dtype=np.float32),\n",
        "                        np.mean(embeddings, axis=0),\n",
        "                        embeddings])"
      ]
    },
    {
      "cell_type": "code",
      "source": [
        "embeddings"
      ],
      "metadata": {
        "colab": {
          "base_uri": "https://localhost:8080/"
        },
        "id": "Bh4NY_4RhlFy",
        "outputId": "015b0d1a-1950-419b-850b-6f614190f3a4"
      },
      "id": "Bh4NY_4RhlFy",
      "execution_count": 11,
      "outputs": [
        {
          "output_type": "execute_result",
          "data": {
            "text/plain": [
              "array([[ 1.        ,  1.        ,  1.        , ...,  1.        ,\n",
              "         1.        ,  1.        ],\n",
              "       [-0.12920076, -0.28866628, -0.01224866, ...,  0.10069408,\n",
              "         0.00653003,  0.01685157],\n",
              "       [ 0.418     ,  0.24968   , -0.41242   , ..., -0.18411   ,\n",
              "        -0.11514   , -0.78581   ],\n",
              "       ...,\n",
              "       [-0.51181   ,  0.058706  ,  1.0913    , ..., -0.25003   ,\n",
              "        -1.125     ,  1.5863    ],\n",
              "       [-0.75898   , -0.47426   ,  0.4737    , ...,  0.78954   ,\n",
              "        -0.014116  ,  0.6448    ],\n",
              "       [ 0.072617  , -0.51393   ,  0.4728    , ..., -0.18907   ,\n",
              "        -0.59021   ,  0.55559   ]], dtype=float32)"
            ]
          },
          "metadata": {},
          "execution_count": 11
        }
      ]
    },
    {
      "cell_type": "code",
      "source": [
        "embeddings.shape"
      ],
      "metadata": {
        "colab": {
          "base_uri": "https://localhost:8080/"
        },
        "id": "LY73Gio4izAg",
        "outputId": "b91a8fc5-92c8-42b9-d58c-25199a5251cb"
      },
      "id": "LY73Gio4izAg",
      "execution_count": 12,
      "outputs": [
        {
          "output_type": "execute_result",
          "data": {
            "text/plain": [
              "(400002, 50)"
            ]
          },
          "metadata": {},
          "execution_count": 12
        }
      ]
    },
    {
      "cell_type": "code",
      "execution_count": 13,
      "id": "0a10ea3c",
      "metadata": {
        "id": "0a10ea3c"
      },
      "outputs": [],
      "source": [
        "save_file(embeddings_path, embeddings)\n",
        "save_file(vocabulary_path, vocabulary)"
      ]
    },
    {
      "cell_type": "markdown",
      "id": "8df5b4ed",
      "metadata": {
        "id": "8df5b4ed"
      },
      "source": [
        "## Process text data\n",
        "---"
      ]
    },
    {
      "cell_type": "code",
      "execution_count": 14,
      "id": "d0857024",
      "metadata": {
        "id": "d0857024"
      },
      "outputs": [],
      "source": [
        "data = pd.read_csv(data_path)"
      ]
    },
    {
      "cell_type": "code",
      "source": [
        "data.head()"
      ],
      "metadata": {
        "colab": {
          "base_uri": "https://localhost:8080/",
          "height": 206
        },
        "id": "vbtVIVTMjmj7",
        "outputId": "684d94c1-8f39-4e95-d58d-01b0c58b49c5"
      },
      "id": "vbtVIVTMjmj7",
      "execution_count": 15,
      "outputs": [
        {
          "output_type": "execute_result",
          "data": {
            "text/plain": [
              "                                             Product  \\\n",
              "0                              Vehicle loan or lease   \n",
              "1  Credit reporting, credit repair services, or o...   \n",
              "2  Credit reporting, credit repair services, or o...   \n",
              "3  Credit reporting, credit repair services, or o...   \n",
              "4  Credit reporting, credit repair services, or o...   \n",
              "\n",
              "                        Consumer complaint narrative  \n",
              "0  I contacted Ally on Friday XX/XX/XXXX after fa...  \n",
              "1  Hello This complaint is against the three cred...  \n",
              "2  I am a victim of Identity Theft & currently ha...  \n",
              "3  Two accounts are still on my credit history af...  \n",
              "4  Receiving daily telephone call ( s ) from XXXX...  "
            ],
            "text/html": [
              "\n",
              "  <div id=\"df-ea99b626-8c42-4b0b-9bcf-f0d33e9c31d0\" class=\"colab-df-container\">\n",
              "    <div>\n",
              "<style scoped>\n",
              "    .dataframe tbody tr th:only-of-type {\n",
              "        vertical-align: middle;\n",
              "    }\n",
              "\n",
              "    .dataframe tbody tr th {\n",
              "        vertical-align: top;\n",
              "    }\n",
              "\n",
              "    .dataframe thead th {\n",
              "        text-align: right;\n",
              "    }\n",
              "</style>\n",
              "<table border=\"1\" class=\"dataframe\">\n",
              "  <thead>\n",
              "    <tr style=\"text-align: right;\">\n",
              "      <th></th>\n",
              "      <th>Product</th>\n",
              "      <th>Consumer complaint narrative</th>\n",
              "    </tr>\n",
              "  </thead>\n",
              "  <tbody>\n",
              "    <tr>\n",
              "      <th>0</th>\n",
              "      <td>Vehicle loan or lease</td>\n",
              "      <td>I contacted Ally on Friday XX/XX/XXXX after fa...</td>\n",
              "    </tr>\n",
              "    <tr>\n",
              "      <th>1</th>\n",
              "      <td>Credit reporting, credit repair services, or o...</td>\n",
              "      <td>Hello This complaint is against the three cred...</td>\n",
              "    </tr>\n",
              "    <tr>\n",
              "      <th>2</th>\n",
              "      <td>Credit reporting, credit repair services, or o...</td>\n",
              "      <td>I am a victim of Identity Theft &amp; currently ha...</td>\n",
              "    </tr>\n",
              "    <tr>\n",
              "      <th>3</th>\n",
              "      <td>Credit reporting, credit repair services, or o...</td>\n",
              "      <td>Two accounts are still on my credit history af...</td>\n",
              "    </tr>\n",
              "    <tr>\n",
              "      <th>4</th>\n",
              "      <td>Credit reporting, credit repair services, or o...</td>\n",
              "      <td>Receiving daily telephone call ( s ) from XXXX...</td>\n",
              "    </tr>\n",
              "  </tbody>\n",
              "</table>\n",
              "</div>\n",
              "    <div class=\"colab-df-buttons\">\n",
              "\n",
              "  <div class=\"colab-df-container\">\n",
              "    <button class=\"colab-df-convert\" onclick=\"convertToInteractive('df-ea99b626-8c42-4b0b-9bcf-f0d33e9c31d0')\"\n",
              "            title=\"Convert this dataframe to an interactive table.\"\n",
              "            style=\"display:none;\">\n",
              "\n",
              "  <svg xmlns=\"http://www.w3.org/2000/svg\" height=\"24px\" viewBox=\"0 -960 960 960\">\n",
              "    <path d=\"M120-120v-720h720v720H120Zm60-500h600v-160H180v160Zm220 220h160v-160H400v160Zm0 220h160v-160H400v160ZM180-400h160v-160H180v160Zm440 0h160v-160H620v160ZM180-180h160v-160H180v160Zm440 0h160v-160H620v160Z\"/>\n",
              "  </svg>\n",
              "    </button>\n",
              "\n",
              "  <style>\n",
              "    .colab-df-container {\n",
              "      display:flex;\n",
              "      gap: 12px;\n",
              "    }\n",
              "\n",
              "    .colab-df-convert {\n",
              "      background-color: #E8F0FE;\n",
              "      border: none;\n",
              "      border-radius: 50%;\n",
              "      cursor: pointer;\n",
              "      display: none;\n",
              "      fill: #1967D2;\n",
              "      height: 32px;\n",
              "      padding: 0 0 0 0;\n",
              "      width: 32px;\n",
              "    }\n",
              "\n",
              "    .colab-df-convert:hover {\n",
              "      background-color: #E2EBFA;\n",
              "      box-shadow: 0px 1px 2px rgba(60, 64, 67, 0.3), 0px 1px 3px 1px rgba(60, 64, 67, 0.15);\n",
              "      fill: #174EA6;\n",
              "    }\n",
              "\n",
              "    .colab-df-buttons div {\n",
              "      margin-bottom: 4px;\n",
              "    }\n",
              "\n",
              "    [theme=dark] .colab-df-convert {\n",
              "      background-color: #3B4455;\n",
              "      fill: #D2E3FC;\n",
              "    }\n",
              "\n",
              "    [theme=dark] .colab-df-convert:hover {\n",
              "      background-color: #434B5C;\n",
              "      box-shadow: 0px 1px 3px 1px rgba(0, 0, 0, 0.15);\n",
              "      filter: drop-shadow(0px 1px 2px rgba(0, 0, 0, 0.3));\n",
              "      fill: #FFFFFF;\n",
              "    }\n",
              "  </style>\n",
              "\n",
              "    <script>\n",
              "      const buttonEl =\n",
              "        document.querySelector('#df-ea99b626-8c42-4b0b-9bcf-f0d33e9c31d0 button.colab-df-convert');\n",
              "      buttonEl.style.display =\n",
              "        google.colab.kernel.accessAllowed ? 'block' : 'none';\n",
              "\n",
              "      async function convertToInteractive(key) {\n",
              "        const element = document.querySelector('#df-ea99b626-8c42-4b0b-9bcf-f0d33e9c31d0');\n",
              "        const dataTable =\n",
              "          await google.colab.kernel.invokeFunction('convertToInteractive',\n",
              "                                                    [key], {});\n",
              "        if (!dataTable) return;\n",
              "\n",
              "        const docLinkHtml = 'Like what you see? Visit the ' +\n",
              "          '<a target=\"_blank\" href=https://colab.research.google.com/notebooks/data_table.ipynb>data table notebook</a>'\n",
              "          + ' to learn more about interactive tables.';\n",
              "        element.innerHTML = '';\n",
              "        dataTable['output_type'] = 'display_data';\n",
              "        await google.colab.output.renderOutput(dataTable, element);\n",
              "        const docLink = document.createElement('div');\n",
              "        docLink.innerHTML = docLinkHtml;\n",
              "        element.appendChild(docLink);\n",
              "      }\n",
              "    </script>\n",
              "  </div>\n",
              "\n",
              "\n",
              "<div id=\"df-c111b283-53c4-4c8c-9c2b-38e38eab1495\">\n",
              "  <button class=\"colab-df-quickchart\" onclick=\"quickchart('df-c111b283-53c4-4c8c-9c2b-38e38eab1495')\"\n",
              "            title=\"Suggest charts\"\n",
              "            style=\"display:none;\">\n",
              "\n",
              "<svg xmlns=\"http://www.w3.org/2000/svg\" height=\"24px\"viewBox=\"0 0 24 24\"\n",
              "     width=\"24px\">\n",
              "    <g>\n",
              "        <path d=\"M19 3H5c-1.1 0-2 .9-2 2v14c0 1.1.9 2 2 2h14c1.1 0 2-.9 2-2V5c0-1.1-.9-2-2-2zM9 17H7v-7h2v7zm4 0h-2V7h2v10zm4 0h-2v-4h2v4z\"/>\n",
              "    </g>\n",
              "</svg>\n",
              "  </button>\n",
              "\n",
              "<style>\n",
              "  .colab-df-quickchart {\n",
              "      --bg-color: #E8F0FE;\n",
              "      --fill-color: #1967D2;\n",
              "      --hover-bg-color: #E2EBFA;\n",
              "      --hover-fill-color: #174EA6;\n",
              "      --disabled-fill-color: #AAA;\n",
              "      --disabled-bg-color: #DDD;\n",
              "  }\n",
              "\n",
              "  [theme=dark] .colab-df-quickchart {\n",
              "      --bg-color: #3B4455;\n",
              "      --fill-color: #D2E3FC;\n",
              "      --hover-bg-color: #434B5C;\n",
              "      --hover-fill-color: #FFFFFF;\n",
              "      --disabled-bg-color: #3B4455;\n",
              "      --disabled-fill-color: #666;\n",
              "  }\n",
              "\n",
              "  .colab-df-quickchart {\n",
              "    background-color: var(--bg-color);\n",
              "    border: none;\n",
              "    border-radius: 50%;\n",
              "    cursor: pointer;\n",
              "    display: none;\n",
              "    fill: var(--fill-color);\n",
              "    height: 32px;\n",
              "    padding: 0;\n",
              "    width: 32px;\n",
              "  }\n",
              "\n",
              "  .colab-df-quickchart:hover {\n",
              "    background-color: var(--hover-bg-color);\n",
              "    box-shadow: 0 1px 2px rgba(60, 64, 67, 0.3), 0 1px 3px 1px rgba(60, 64, 67, 0.15);\n",
              "    fill: var(--button-hover-fill-color);\n",
              "  }\n",
              "\n",
              "  .colab-df-quickchart-complete:disabled,\n",
              "  .colab-df-quickchart-complete:disabled:hover {\n",
              "    background-color: var(--disabled-bg-color);\n",
              "    fill: var(--disabled-fill-color);\n",
              "    box-shadow: none;\n",
              "  }\n",
              "\n",
              "  .colab-df-spinner {\n",
              "    border: 2px solid var(--fill-color);\n",
              "    border-color: transparent;\n",
              "    border-bottom-color: var(--fill-color);\n",
              "    animation:\n",
              "      spin 1s steps(1) infinite;\n",
              "  }\n",
              "\n",
              "  @keyframes spin {\n",
              "    0% {\n",
              "      border-color: transparent;\n",
              "      border-bottom-color: var(--fill-color);\n",
              "      border-left-color: var(--fill-color);\n",
              "    }\n",
              "    20% {\n",
              "      border-color: transparent;\n",
              "      border-left-color: var(--fill-color);\n",
              "      border-top-color: var(--fill-color);\n",
              "    }\n",
              "    30% {\n",
              "      border-color: transparent;\n",
              "      border-left-color: var(--fill-color);\n",
              "      border-top-color: var(--fill-color);\n",
              "      border-right-color: var(--fill-color);\n",
              "    }\n",
              "    40% {\n",
              "      border-color: transparent;\n",
              "      border-right-color: var(--fill-color);\n",
              "      border-top-color: var(--fill-color);\n",
              "    }\n",
              "    60% {\n",
              "      border-color: transparent;\n",
              "      border-right-color: var(--fill-color);\n",
              "    }\n",
              "    80% {\n",
              "      border-color: transparent;\n",
              "      border-right-color: var(--fill-color);\n",
              "      border-bottom-color: var(--fill-color);\n",
              "    }\n",
              "    90% {\n",
              "      border-color: transparent;\n",
              "      border-bottom-color: var(--fill-color);\n",
              "    }\n",
              "  }\n",
              "</style>\n",
              "\n",
              "  <script>\n",
              "    async function quickchart(key) {\n",
              "      const quickchartButtonEl =\n",
              "        document.querySelector('#' + key + ' button');\n",
              "      quickchartButtonEl.disabled = true;  // To prevent multiple clicks.\n",
              "      quickchartButtonEl.classList.add('colab-df-spinner');\n",
              "      try {\n",
              "        const charts = await google.colab.kernel.invokeFunction(\n",
              "            'suggestCharts', [key], {});\n",
              "      } catch (error) {\n",
              "        console.error('Error during call to suggestCharts:', error);\n",
              "      }\n",
              "      quickchartButtonEl.classList.remove('colab-df-spinner');\n",
              "      quickchartButtonEl.classList.add('colab-df-quickchart-complete');\n",
              "    }\n",
              "    (() => {\n",
              "      let quickchartButtonEl =\n",
              "        document.querySelector('#df-c111b283-53c4-4c8c-9c2b-38e38eab1495 button');\n",
              "      quickchartButtonEl.style.display =\n",
              "        google.colab.kernel.accessAllowed ? 'block' : 'none';\n",
              "    })();\n",
              "  </script>\n",
              "</div>\n",
              "\n",
              "    </div>\n",
              "  </div>\n"
            ],
            "application/vnd.google.colaboratory.intrinsic+json": {
              "type": "dataframe",
              "variable_name": "data"
            }
          },
          "metadata": {},
          "execution_count": 15
        }
      ]
    },
    {
      "cell_type": "code",
      "execution_count": 16,
      "id": "f5a1d30b",
      "metadata": {
        "id": "f5a1d30b"
      },
      "outputs": [],
      "source": [
        "data.dropna(subset=[text_col_name], inplace=True)"
      ]
    },
    {
      "cell_type": "code",
      "execution_count": 17,
      "id": "bcf860ae",
      "metadata": {
        "id": "bcf860ae"
      },
      "outputs": [],
      "source": [
        "data.replace({label_col: product_map}, inplace=True)"
      ]
    },
    {
      "cell_type": "markdown",
      "id": "b2046a04",
      "metadata": {
        "id": "b2046a04"
      },
      "source": [
        "### Encode labels"
      ]
    },
    {
      "cell_type": "markdown",
      "source": [
        "**LabelEncoder**"
      ],
      "metadata": {
        "id": "bVI8DsltmN2s"
      },
      "id": "bVI8DsltmN2s"
    },
    {
      "cell_type": "code",
      "source": [
        "['apple', 'banana', 'orange', 'apple', 'banana']\n",
        "from sklearn.preprocessing import LabelEncoder\n",
        "\n",
        "le = LabelEncoder()\n",
        "encoded_fruits = le.fit_transform(['apple', 'banana', 'orange', 'apple', 'banana'])\n",
        "\n",
        "print(encoded_fruits)"
      ],
      "metadata": {
        "colab": {
          "base_uri": "https://localhost:8080/"
        },
        "id": "ICNJkWWUl0YH",
        "outputId": "265b12ab-d3d1-4b0e-9ad7-4840e30a2411"
      },
      "id": "ICNJkWWUl0YH",
      "execution_count": 18,
      "outputs": [
        {
          "output_type": "stream",
          "name": "stdout",
          "text": [
            "[0 1 2 0 1]\n"
          ]
        }
      ]
    },
    {
      "cell_type": "markdown",
      "source": [
        "**OneHotEncoder:**\n"
      ],
      "metadata": {
        "id": "0f1nQ0ghmQcB"
      },
      "id": "0f1nQ0ghmQcB"
    },
    {
      "cell_type": "code",
      "source": [
        "from sklearn.preprocessing import OneHotEncoder\n",
        "\n",
        "ohe = OneHotEncoder(sparse=False)\n",
        "encoded_fruits = ohe.fit_transform(np.array(['apple', 'banana', 'orange', 'apple', 'banana']).reshape(-1, 1))\n",
        "\n",
        "print(encoded_fruits)"
      ],
      "metadata": {
        "colab": {
          "base_uri": "https://localhost:8080/"
        },
        "id": "HXMIjycYmeZh",
        "outputId": "893a7c76-50cd-4127-c19f-0bbc2dd483fd"
      },
      "id": "HXMIjycYmeZh",
      "execution_count": 19,
      "outputs": [
        {
          "output_type": "stream",
          "name": "stdout",
          "text": [
            "[[1. 0. 0.]\n",
            " [0. 1. 0.]\n",
            " [0. 0. 1.]\n",
            " [1. 0. 0.]\n",
            " [0. 1. 0.]]\n"
          ]
        },
        {
          "output_type": "stream",
          "name": "stderr",
          "text": [
            "/usr/local/lib/python3.10/dist-packages/sklearn/preprocessing/_encoders.py:868: FutureWarning: `sparse` was renamed to `sparse_output` in version 1.2 and will be removed in 1.4. `sparse_output` is ignored unless you leave `sparse` to its default value.\n",
            "  warnings.warn(\n"
          ]
        }
      ]
    },
    {
      "cell_type": "markdown",
      "source": [
        "**LabelEncoder**"
      ],
      "metadata": {
        "id": "UJyFR35H3JCe"
      },
      "id": "UJyFR35H3JCe"
    },
    {
      "cell_type": "code",
      "execution_count": 20,
      "id": "473d12cb",
      "metadata": {
        "id": "473d12cb",
        "colab": {
          "base_uri": "https://localhost:8080/"
        },
        "outputId": "4bdfcb35-e73e-446d-daa4-e888a39067b5"
      },
      "outputs": [
        {
          "output_type": "execute_result",
          "data": {
            "text/plain": [
              "array(['card', 'credit_report', 'debt_collection', 'loan',\n",
              "       'money_transfer', 'mortgage', 'others', 'savings_account',\n",
              "       'vehicle_loan'], dtype=object)"
            ]
          },
          "metadata": {},
          "execution_count": 20
        }
      ],
      "source": [
        "label_encoder = LabelEncoder()\n",
        "label_encoder.fit(data[label_col])\n",
        "label_encoder.classes_"
      ]
    },
    {
      "cell_type": "code",
      "source": [
        "labels = label_encoder.transform(data[label_col])"
      ],
      "metadata": {
        "id": "SzWYYNZs3ISW"
      },
      "id": "SzWYYNZs3ISW",
      "execution_count": 21,
      "outputs": []
    },
    {
      "cell_type": "code",
      "source": [
        "labels"
      ],
      "metadata": {
        "colab": {
          "base_uri": "https://localhost:8080/"
        },
        "id": "0KikGWEY3pqD",
        "outputId": "c6d0ff21-b472-4a1e-a378-1ab18f2e4330"
      },
      "id": "0KikGWEY3pqD",
      "execution_count": 22,
      "outputs": [
        {
          "output_type": "execute_result",
          "data": {
            "text/plain": [
              "array([8, 1, 1, ..., 5, 1, 1])"
            ]
          },
          "metadata": {},
          "execution_count": 22
        }
      ]
    },
    {
      "cell_type": "code",
      "source": [
        "list(label_encoder.inverse_transform([8, 1, 1,5]))"
      ],
      "metadata": {
        "colab": {
          "base_uri": "https://localhost:8080/"
        },
        "id": "mzDTvfJj33Q7",
        "outputId": "c3cae79a-c775-4343-e3a1-4be9f3e5fbfd"
      },
      "id": "mzDTvfJj33Q7",
      "execution_count": 23,
      "outputs": [
        {
          "output_type": "execute_result",
          "data": {
            "text/plain": [
              "['vehicle_loan', 'credit_report', 'credit_report', 'mortgage']"
            ]
          },
          "metadata": {},
          "execution_count": 23
        }
      ]
    },
    {
      "cell_type": "code",
      "execution_count": 24,
      "id": "f90f15f5",
      "metadata": {
        "id": "f90f15f5"
      },
      "outputs": [],
      "source": [
        "save_file(labels_path, labels)\n",
        "save_file(label_encoder_path, label_encoder)"
      ]
    },
    {
      "cell_type": "markdown",
      "id": "87b68c08",
      "metadata": {
        "id": "87b68c08"
      },
      "source": [
        "### Process the text column"
      ]
    },
    {
      "cell_type": "code",
      "source": [
        "type(data[text_col_name])"
      ],
      "metadata": {
        "colab": {
          "base_uri": "https://localhost:8080/",
          "height": 203
        },
        "id": "fRkpmPGa4fJ6",
        "outputId": "cde01ed0-6a76-40bc-c754-790eebc518a9"
      },
      "id": "fRkpmPGa4fJ6",
      "execution_count": 25,
      "outputs": [
        {
          "output_type": "execute_result",
          "data": {
            "text/plain": [
              "pandas.core.series.Series"
            ],
            "text/html": [
              "<div style=\"max-width:800px; border: 1px solid var(--colab-border-color);\"><style>\n",
              "      pre.function-repr-contents {\n",
              "        overflow-x: auto;\n",
              "        padding: 8px 12px;\n",
              "        max-height: 500px;\n",
              "      }\n",
              "\n",
              "      pre.function-repr-contents.function-repr-contents-collapsed {\n",
              "        cursor: pointer;\n",
              "        max-height: 100px;\n",
              "      }\n",
              "    </style>\n",
              "    <pre style=\"white-space: initial; background:\n",
              "         var(--colab-secondary-surface-color); padding: 8px 12px;\n",
              "         border-bottom: 1px solid var(--colab-border-color);\"><b>pandas.core.series.Series</b><br/>def __init__(data=None, index=None, dtype: Dtype | None=None, name=None, copy: bool | None=None, fastpath: bool=False) -&gt; None</pre><pre class=\"function-repr-contents function-repr-contents-collapsed\" style=\"\"><a class=\"filepath\" style=\"display:none\" href=\"#\">/usr/local/lib/python3.10/dist-packages/pandas/core/series.py</a>One-dimensional ndarray with axis labels (including time series).\n",
              "\n",
              "Labels need not be unique but must be a hashable type. The object\n",
              "supports both integer- and label-based indexing and provides a host of\n",
              "methods for performing operations involving the index. Statistical\n",
              "methods from ndarray have been overridden to automatically exclude\n",
              "missing data (currently represented as NaN).\n",
              "\n",
              "Operations between Series (+, -, /, \\*, \\*\\*) align values based on their\n",
              "associated index values-- they need not be the same length. The result\n",
              "index will be the sorted union of the two indexes.\n",
              "\n",
              "Parameters\n",
              "----------\n",
              "data : array-like, Iterable, dict, or scalar value\n",
              "    Contains data stored in Series. If data is a dict, argument order is\n",
              "    maintained.\n",
              "index : array-like or Index (1d)\n",
              "    Values must be hashable and have the same length as `data`.\n",
              "    Non-unique index values are allowed. Will default to\n",
              "    RangeIndex (0, 1, 2, ..., n) if not provided. If data is dict-like\n",
              "    and index is None, then the keys in the data are used as the index. If the\n",
              "    index is not None, the resulting Series is reindexed with the index values.\n",
              "dtype : str, numpy.dtype, or ExtensionDtype, optional\n",
              "    Data type for the output Series. If not specified, this will be\n",
              "    inferred from `data`.\n",
              "    See the :ref:`user guide &lt;basics.dtypes&gt;` for more usages.\n",
              "name : Hashable, default None\n",
              "    The name to give to the Series.\n",
              "copy : bool, default False\n",
              "    Copy input data. Only affects Series or 1d ndarray input. See examples.\n",
              "\n",
              "Notes\n",
              "-----\n",
              "Please reference the :ref:`User Guide &lt;basics.series&gt;` for more information.\n",
              "\n",
              "Examples\n",
              "--------\n",
              "Constructing Series from a dictionary with an Index specified\n",
              "\n",
              "&gt;&gt;&gt; d = {&#x27;a&#x27;: 1, &#x27;b&#x27;: 2, &#x27;c&#x27;: 3}\n",
              "&gt;&gt;&gt; ser = pd.Series(data=d, index=[&#x27;a&#x27;, &#x27;b&#x27;, &#x27;c&#x27;])\n",
              "&gt;&gt;&gt; ser\n",
              "a   1\n",
              "b   2\n",
              "c   3\n",
              "dtype: int64\n",
              "\n",
              "The keys of the dictionary match with the Index values, hence the Index\n",
              "values have no effect.\n",
              "\n",
              "&gt;&gt;&gt; d = {&#x27;a&#x27;: 1, &#x27;b&#x27;: 2, &#x27;c&#x27;: 3}\n",
              "&gt;&gt;&gt; ser = pd.Series(data=d, index=[&#x27;x&#x27;, &#x27;y&#x27;, &#x27;z&#x27;])\n",
              "&gt;&gt;&gt; ser\n",
              "x   NaN\n",
              "y   NaN\n",
              "z   NaN\n",
              "dtype: float64\n",
              "\n",
              "Note that the Index is first build with the keys from the dictionary.\n",
              "After this the Series is reindexed with the given Index values, hence we\n",
              "get all NaN as a result.\n",
              "\n",
              "Constructing Series from a list with `copy=False`.\n",
              "\n",
              "&gt;&gt;&gt; r = [1, 2]\n",
              "&gt;&gt;&gt; ser = pd.Series(r, copy=False)\n",
              "&gt;&gt;&gt; ser.iloc[0] = 999\n",
              "&gt;&gt;&gt; r\n",
              "[1, 2]\n",
              "&gt;&gt;&gt; ser\n",
              "0    999\n",
              "1      2\n",
              "dtype: int64\n",
              "\n",
              "Due to input data type the Series has a `copy` of\n",
              "the original data even though `copy=False`, so\n",
              "the data is unchanged.\n",
              "\n",
              "Constructing Series from a 1d ndarray with `copy=False`.\n",
              "\n",
              "&gt;&gt;&gt; r = np.array([1, 2])\n",
              "&gt;&gt;&gt; ser = pd.Series(r, copy=False)\n",
              "&gt;&gt;&gt; ser.iloc[0] = 999\n",
              "&gt;&gt;&gt; r\n",
              "array([999,   2])\n",
              "&gt;&gt;&gt; ser\n",
              "0    999\n",
              "1      2\n",
              "dtype: int64\n",
              "\n",
              "Due to input data type the Series has a `view` on\n",
              "the original data, so\n",
              "the data is changed as well.</pre>\n",
              "      <script>\n",
              "      if (google.colab.kernel.accessAllowed && google.colab.files && google.colab.files.view) {\n",
              "        for (const element of document.querySelectorAll('.filepath')) {\n",
              "          element.style.display = 'block'\n",
              "          element.onclick = (event) => {\n",
              "            event.preventDefault();\n",
              "            event.stopPropagation();\n",
              "            google.colab.files.view(element.textContent, 244);\n",
              "          };\n",
              "        }\n",
              "      }\n",
              "      for (const element of document.querySelectorAll('.function-repr-contents')) {\n",
              "        element.onclick = (event) => {\n",
              "          event.preventDefault();\n",
              "          event.stopPropagation();\n",
              "          element.classList.toggle('function-repr-contents-collapsed');\n",
              "        };\n",
              "      }\n",
              "      </script>\n",
              "      </div>"
            ]
          },
          "metadata": {},
          "execution_count": 25
        }
      ]
    },
    {
      "cell_type": "code",
      "execution_count": 26,
      "id": "251a804a",
      "metadata": {
        "id": "251a804a"
      },
      "outputs": [],
      "source": [
        "input_text = list(data[text_col_name])"
      ]
    },
    {
      "cell_type": "code",
      "execution_count": 27,
      "id": "ccee9aec",
      "metadata": {
        "id": "ccee9aec",
        "colab": {
          "base_uri": "https://localhost:8080/"
        },
        "outputId": "971dc03c-bbb3-429f-855f-def73ed2022d"
      },
      "outputs": [
        {
          "output_type": "execute_result",
          "data": {
            "text/plain": [
              "809343"
            ]
          },
          "metadata": {},
          "execution_count": 27
        }
      ],
      "source": [
        "len(input_text)"
      ]
    },
    {
      "cell_type": "markdown",
      "id": "ee49234f",
      "metadata": {
        "id": "ee49234f"
      },
      "source": [
        "### Convert text to lower case"
      ]
    },
    {
      "cell_type": "code",
      "execution_count": 28,
      "id": "bf262880",
      "metadata": {
        "id": "bf262880",
        "colab": {
          "base_uri": "https://localhost:8080/"
        },
        "outputId": "d4dc8bc2-f932-4b40-c24c-473ff024e324"
      },
      "outputs": [
        {
          "output_type": "stream",
          "name": "stderr",
          "text": [
            "100%|██████████| 809343/809343 [00:01<00:00, 696058.20it/s]\n"
          ]
        }
      ],
      "source": [
        "input_text = [i.lower() for i in tqdm(input_text)]"
      ]
    },
    {
      "cell_type": "markdown",
      "id": "ceef1b67",
      "metadata": {
        "id": "ceef1b67"
      },
      "source": [
        "### Remove punctuations except apostrophe"
      ]
    },
    {
      "cell_type": "code",
      "execution_count": 29,
      "id": "a27c3e86",
      "metadata": {
        "id": "a27c3e86",
        "colab": {
          "base_uri": "https://localhost:8080/"
        },
        "outputId": "3f353523-e060-4c20-ad76-8bbc7b528f79"
      },
      "outputs": [
        {
          "output_type": "stream",
          "name": "stderr",
          "text": [
            "100%|██████████| 809343/809343 [00:24<00:00, 32458.83it/s]\n"
          ]
        }
      ],
      "source": [
        "input_text = [re.sub(r\"[^\\w\\d'\\s]+\", \" \", i)\n",
        "              for i in tqdm(input_text)]"
      ]
    },
    {
      "cell_type": "markdown",
      "id": "78914b0f",
      "metadata": {
        "id": "78914b0f"
      },
      "source": [
        "### Remove digits"
      ]
    },
    {
      "cell_type": "code",
      "execution_count": 30,
      "id": "2ed47512",
      "metadata": {
        "id": "2ed47512",
        "colab": {
          "base_uri": "https://localhost:8080/"
        },
        "outputId": "03ff9ab9-8c7d-4ecb-e949-ee425e4b0ae7"
      },
      "outputs": [
        {
          "output_type": "stream",
          "name": "stderr",
          "text": [
            "100%|██████████| 809343/809343 [00:15<00:00, 52309.52it/s]\n"
          ]
        }
      ],
      "source": [
        "input_text = [re.sub(\"\\d+\", \"\", i) for i in tqdm(input_text)]"
      ]
    },
    {
      "cell_type": "markdown",
      "id": "b24176de",
      "metadata": {
        "id": "b24176de"
      },
      "source": [
        "### Remove more than one consecutive instance of 'x'"
      ]
    },
    {
      "cell_type": "code",
      "execution_count": 31,
      "id": "10a31a66",
      "metadata": {
        "id": "10a31a66",
        "colab": {
          "base_uri": "https://localhost:8080/"
        },
        "outputId": "58802687-78c9-4947-9f3e-7c811e8410b5"
      },
      "outputs": [
        {
          "output_type": "stream",
          "name": "stderr",
          "text": [
            "100%|██████████| 809343/809343 [00:13<00:00, 61349.06it/s]\n"
          ]
        }
      ],
      "source": [
        "input_text = [re.sub(r'[x]{2,}', \"\", i) for i in tqdm(input_text)]"
      ]
    },
    {
      "cell_type": "markdown",
      "id": "7cb9005a",
      "metadata": {
        "id": "7cb9005a"
      },
      "source": [
        "### Remove multiple spaces with single space"
      ]
    },
    {
      "cell_type": "code",
      "execution_count": 32,
      "id": "d3ae0965",
      "metadata": {
        "id": "d3ae0965",
        "colab": {
          "base_uri": "https://localhost:8080/"
        },
        "outputId": "76cd10bd-aa78-48c7-f74e-c1af3e96af29"
      },
      "outputs": [
        {
          "output_type": "stream",
          "name": "stderr",
          "text": [
            "100%|██████████| 809343/809343 [00:40<00:00, 20032.65it/s]\n"
          ]
        }
      ],
      "source": [
        "input_text = [re.sub(' +', ' ', i) for i in tqdm(input_text)]"
      ]
    },
    {
      "cell_type": "markdown",
      "id": "92d2eb78",
      "metadata": {
        "id": "92d2eb78"
      },
      "source": [
        "### Tokenize the text"
      ]
    },
    {
      "cell_type": "code",
      "source": [
        "import nltk\n",
        "nltk.download('punkt')"
      ],
      "metadata": {
        "colab": {
          "base_uri": "https://localhost:8080/"
        },
        "id": "tABcTGxS5Khq",
        "outputId": "d3bd6397-f5f0-4296-e909-d6b43f5ad617"
      },
      "id": "tABcTGxS5Khq",
      "execution_count": 33,
      "outputs": [
        {
          "output_type": "stream",
          "name": "stderr",
          "text": [
            "[nltk_data] Downloading package punkt to /root/nltk_data...\n",
            "[nltk_data]   Unzipping tokenizers/punkt.zip.\n"
          ]
        },
        {
          "output_type": "execute_result",
          "data": {
            "text/plain": [
              "True"
            ]
          },
          "metadata": {},
          "execution_count": 33
        }
      ]
    },
    {
      "cell_type": "code",
      "execution_count": 34,
      "id": "3b3393da",
      "metadata": {
        "id": "3b3393da",
        "colab": {
          "base_uri": "https://localhost:8080/"
        },
        "outputId": "2bf8def1-78c0-4584-d698-33b17329daa0"
      },
      "outputs": [
        {
          "output_type": "stream",
          "name": "stderr",
          "text": [
            "100%|██████████| 809343/809343 [06:54<00:00, 1952.27it/s]\n"
          ]
        }
      ],
      "source": [
        "tokens = [word_tokenize(t) for t in tqdm(input_text)]"
      ]
    },
    {
      "cell_type": "markdown",
      "id": "4f29b1b2",
      "metadata": {
        "id": "4f29b1b2"
      },
      "source": [
        "### Take the first 20 tokens in each complaint text"
      ]
    },
    {
      "cell_type": "code",
      "source": [
        "tokens[0][:20]"
      ],
      "metadata": {
        "colab": {
          "base_uri": "https://localhost:8080/"
        },
        "id": "eU3s_8zh85uJ",
        "outputId": "32d2b4ce-dc9b-431f-d843-6ca65d7371a8"
      },
      "id": "eU3s_8zh85uJ",
      "execution_count": 35,
      "outputs": [
        {
          "output_type": "execute_result",
          "data": {
            "text/plain": [
              "['i',\n",
              " 'contacted',\n",
              " 'ally',\n",
              " 'on',\n",
              " 'friday',\n",
              " 'after',\n",
              " 'falling',\n",
              " 'behind',\n",
              " 'on',\n",
              " 'payments',\n",
              " 'due',\n",
              " 'to',\n",
              " 'being',\n",
              " 'out',\n",
              " 'of',\n",
              " 'work',\n",
              " 'for',\n",
              " 'a',\n",
              " 'short',\n",
              " 'period']"
            ]
          },
          "metadata": {},
          "execution_count": 35
        }
      ]
    },
    {
      "cell_type": "code",
      "execution_count": 36,
      "id": "71c7eeff",
      "metadata": {
        "id": "71c7eeff",
        "colab": {
          "base_uri": "https://localhost:8080/"
        },
        "outputId": "ea964b4e-88d3-4138-e66b-a10e28aadcb2"
      },
      "outputs": [
        {
          "output_type": "stream",
          "name": "stderr",
          "text": [
            "100%|██████████| 809343/809343 [00:10<00:00, 80186.81it/s]\n"
          ]
        }
      ],
      "source": [
        "tokens = [i[:20] if len(i) > 19 else ['<pad>'] * (20 - len(i)) + i\n",
        "          for i in tqdm(tokens)]"
      ]
    },
    {
      "cell_type": "markdown",
      "id": "ec18f209",
      "metadata": {
        "id": "ec18f209"
      },
      "source": [
        "### Convert tokens to integer indices from vocabulary"
      ]
    },
    {
      "cell_type": "code",
      "execution_count": 37,
      "id": "6fd525d9",
      "metadata": {
        "id": "6fd525d9"
      },
      "outputs": [],
      "source": [
        "def token_index(tokens, vocabulary, missing='<unk>'):\n",
        "    \"\"\"\n",
        "    :param tokens: List of word tokens\n",
        "    :param vocabulary: All words in the embeddings\n",
        "    :param missing: Token for words not present in the vocabulary\n",
        "    :return: List of integers representing the word tokens\n",
        "    \"\"\"\n",
        "    idx_token = []\n",
        "    for text in tqdm(tokens):\n",
        "        idx_text = []\n",
        "        for token in text:\n",
        "            if token in vocabulary:\n",
        "                idx_text.append(vocabulary.index(token))\n",
        "            else:\n",
        "                idx_text.append(vocabulary.index(missing))\n",
        "        idx_token.append(idx_text)\n",
        "    return idx_token"
      ]
    },
    {
      "cell_type": "code",
      "source": [
        "print(vocabulary.index('credit'))"
      ],
      "metadata": {
        "colab": {
          "base_uri": "https://localhost:8080/"
        },
        "id": "IQU5fjU8-jqs",
        "outputId": "75620a32-1c93-4952-82e6-f9e0b50c58bc"
      },
      "id": "IQU5fjU8-jqs",
      "execution_count": 38,
      "outputs": [
        {
          "output_type": "stream",
          "name": "stdout",
          "text": [
            "1166\n"
          ]
        }
      ]
    },
    {
      "cell_type": "code",
      "source": [
        "len(vocabulary)"
      ],
      "metadata": {
        "colab": {
          "base_uri": "https://localhost:8080/"
        },
        "id": "_U10CjcY-l6O",
        "outputId": "a8da0b4a-d339-4990-a8a4-74f85ea7cd37"
      },
      "id": "_U10CjcY-l6O",
      "execution_count": 39,
      "outputs": [
        {
          "output_type": "execute_result",
          "data": {
            "text/plain": [
              "400002"
            ]
          },
          "metadata": {},
          "execution_count": 39
        }
      ]
    },
    {
      "cell_type": "code",
      "execution_count": 40,
      "id": "7bdf652d",
      "metadata": {
        "id": "7bdf652d",
        "colab": {
          "base_uri": "https://localhost:8080/"
        },
        "outputId": "780448f5-28cc-437a-a56b-1b6ad401d8f1"
      },
      "outputs": [
        {
          "output_type": "stream",
          "name": "stderr",
          "text": [
            "100%|██████████| 809343/809343 [1:38:29<00:00, 136.97it/s]\n"
          ]
        }
      ],
      "source": [
        "tokens = token_index(tokens, vocabulary)"
      ]
    },
    {
      "cell_type": "code",
      "source": [],
      "metadata": {
        "id": "unsQxCNV--kX"
      },
      "id": "unsQxCNV--kX",
      "execution_count": null,
      "outputs": []
    },
    {
      "cell_type": "markdown",
      "id": "1e48e10a",
      "metadata": {
        "id": "1e48e10a"
      },
      "source": [
        "### Save the tokens"
      ]
    },
    {
      "cell_type": "code",
      "execution_count": 41,
      "id": "23952d30",
      "metadata": {
        "id": "23952d30"
      },
      "outputs": [],
      "source": [
        "save_file(tokens_path, tokens)"
      ]
    },
    {
      "cell_type": "markdown",
      "id": "7b005f51",
      "metadata": {
        "id": "7b005f51"
      },
      "source": [
        "## Create attention model\n",
        "---"
      ]
    },
    {
      "cell_type": "code",
      "execution_count": 42,
      "id": "7d15041d",
      "metadata": {
        "id": "7d15041d"
      },
      "outputs": [],
      "source": [
        "class AttentionModel(nn.Module):\n",
        "\n",
        "    def __init__(self, vec_len, seq_len, n_classes):\n",
        "        super(AttentionModel, self).__init__()\n",
        "        self.vec_len = vec_len\n",
        "        self.seq_len = seq_len\n",
        "        self.attn_weights = torch.cat([torch.tensor([[0.]]),\n",
        "                                       torch.randn(vec_len, 1) /\n",
        "                                       torch.sqrt(torch.tensor(vec_len))])\n",
        "        self.attn_weights.requires_grad = True\n",
        "        self.attn_weights = nn.Parameter(self.attn_weights)\n",
        "        self.activation = nn.Tanh()\n",
        "        self.softmax = nn.Softmax(dim=1)\n",
        "        self.linear = nn.Linear(vec_len + 1, n_classes)\n",
        "\n",
        "    def forward(self, input_data):\n",
        "        hidden = torch.matmul(input_data, self.attn_weights)\n",
        "        hidden = self.activation(hidden)\n",
        "        attn = self.softmax(hidden)\n",
        "        attn = attn.repeat(1, 1, self.vec_len + 1).reshape(attn.shape[0],\n",
        "                                                           self.seq_len,\n",
        "                                                           self.vec_len + 1)\n",
        "        attn_output = input_data * attn\n",
        "        attn_output = torch.sum(attn_output, axis=1)\n",
        "        output = self.linear(attn_output)\n",
        "        return output"
      ]
    },
    {
      "cell_type": "markdown",
      "id": "84f515b0",
      "metadata": {
        "id": "84f515b0"
      },
      "source": [
        "## Create PyTorch dataset\n",
        "---"
      ]
    },
    {
      "cell_type": "code",
      "execution_count": 43,
      "id": "7449d67a",
      "metadata": {
        "id": "7449d67a"
      },
      "outputs": [],
      "source": [
        "class TextDataset(torch.utils.data.Dataset):\n",
        "\n",
        "    def __init__(self, tokens, embeddings, labels):\n",
        "        \"\"\"\n",
        "        :param tokens: List of word tokens\n",
        "        :param embeddings: Word embeddings (from glove)\n",
        "        :param labels: List of labels\n",
        "        \"\"\"\n",
        "        self.tokens = tokens\n",
        "        self.embeddings = embeddings\n",
        "        self.labels = labels\n",
        "\n",
        "    def __len__(self):\n",
        "        return len(self.tokens)\n",
        "\n",
        "    def __getitem__(self, idx):\n",
        "        emb = torch.tensor(self.embeddings[self.tokens[idx], :])\n",
        "        input_ = torch.cat((torch.ones(emb.shape[0],1), emb), dim=1)\n",
        "        return torch.tensor(self.labels[idx]), input_"
      ]
    },
    {
      "cell_type": "markdown",
      "id": "73fa32d5",
      "metadata": {
        "id": "73fa32d5"
      },
      "source": [
        "### Function to train the model"
      ]
    },
    {
      "cell_type": "code",
      "execution_count": 44,
      "id": "f5d51e94",
      "metadata": {
        "id": "f5d51e94"
      },
      "outputs": [],
      "source": [
        "def train(train_loader, valid_loader, model, criterion, optimizer,\n",
        "          device, num_epochs, model_path):\n",
        "    \"\"\"\n",
        "    Function to train the model\n",
        "    :param train_loader: Data loader for train dataset\n",
        "    :param valid_loader: Data loader for validation dataset\n",
        "    :param model: Model object\n",
        "    :param criterion: Loss function\n",
        "    :param optimizer: Optimizer\n",
        "    :param device: CUDA or CPU\n",
        "    :param num_epochs: Number of epochs\n",
        "    :param model_path: Path to save the model\n",
        "    \"\"\"\n",
        "    best_loss = 1e8\n",
        "    for i in range(num_epochs):\n",
        "        print(f\"Epoch {i+1} of {num_epochs}\")\n",
        "        valid_loss, train_loss = [], []\n",
        "        model.train()\n",
        "        # Train loop\n",
        "        for batch_labels, batch_data in tqdm(train_loader):\n",
        "            # Move data to GPU if available\n",
        "            batch_labels = batch_labels.to(device)\n",
        "            batch_data = batch_data.to(device)\n",
        "            # Forward pass\n",
        "            batch_output = model(batch_data)\n",
        "            batch_output = torch.squeeze(batch_output)\n",
        "            # Calculate loss\n",
        "            loss = criterion(batch_output, batch_labels)\n",
        "            train_loss.append(loss.item())\n",
        "            optimizer.zero_grad()\n",
        "            # Backward pass\n",
        "            loss.backward()\n",
        "            # Gradient update step\n",
        "            optimizer.step()\n",
        "        model.eval()\n",
        "        # Validation loop\n",
        "        for batch_labels, batch_data in tqdm(valid_loader):\n",
        "            # Move data to GPU if available\n",
        "            batch_labels = batch_labels.to(device)\n",
        "            batch_data = batch_data.to(device)\n",
        "            # Forward pass\n",
        "            batch_output = model(batch_data)\n",
        "            batch_output = torch.squeeze(batch_output)\n",
        "            # Calculate loss\n",
        "            loss = criterion(batch_output, batch_labels)\n",
        "            valid_loss.append(loss.item())\n",
        "        t_loss = np.mean(train_loss)\n",
        "        v_loss = np.mean(valid_loss)\n",
        "        print(f\"Train Loss: {t_loss}, Validation Loss: {v_loss}\")\n",
        "        if v_loss < best_loss:\n",
        "            best_loss = v_loss\n",
        "            # Save model if validation loss improves\n",
        "            torch.save(model.state_dict(), model_path)\n",
        "        print(f\"Best Validation Loss: {best_loss}\")"
      ]
    },
    {
      "cell_type": "markdown",
      "id": "e7227423",
      "metadata": {
        "id": "e7227423"
      },
      "source": [
        "### Function to test the model"
      ]
    },
    {
      "cell_type": "code",
      "execution_count": 45,
      "id": "c5c4e687",
      "metadata": {
        "id": "c5c4e687"
      },
      "outputs": [],
      "source": [
        "def test(test_loader, model, criterion, device):\n",
        "    \"\"\"\n",
        "    Function to test the model\n",
        "    :param test_loader: Data loader for test dataset\n",
        "    :param model: Model object\n",
        "    :param criterion: Loss function\n",
        "    :param device: CUDA or CPU\n",
        "    \"\"\"\n",
        "    model.eval()\n",
        "    test_loss = []\n",
        "    test_accu = []\n",
        "    for batch_labels, batch_data in tqdm(test_loader):\n",
        "        # Move data to device\n",
        "        batch_labels = batch_labels.to(device)\n",
        "        batch_data = batch_data.to(device)\n",
        "        # Forward pass\n",
        "        batch_output = model(batch_data)\n",
        "        batch_output = torch.squeeze(batch_output)\n",
        "        # Calculate loss\n",
        "        loss = criterion(batch_output, batch_labels)\n",
        "        test_loss.append(loss.item())\n",
        "        batch_preds = torch.argmax(batch_output, axis=1)\n",
        "        # Move predictions to CPU\n",
        "        if torch.cuda.is_available():\n",
        "            batch_labels = batch_labels.cpu()\n",
        "            batch_preds = batch_preds.cpu()\n",
        "        # Compute accuracy\n",
        "        test_accu.append(accuracy_score(batch_labels.detach().\n",
        "                                        numpy(),\n",
        "                                        batch_preds.detach().\n",
        "                                        numpy()))\n",
        "    test_loss = np.mean(test_loss)\n",
        "    test_accu = np.mean(test_accu)\n",
        "    print(f\"Test Loss: {test_loss}, Test Accuracy: {test_accu}\")"
      ]
    },
    {
      "cell_type": "markdown",
      "id": "90695c4c",
      "metadata": {
        "id": "90695c4c"
      },
      "source": [
        "## Train attention model\n",
        "---"
      ]
    },
    {
      "cell_type": "markdown",
      "id": "f9a18d4c",
      "metadata": {
        "id": "f9a18d4c"
      },
      "source": [
        "### Load the files"
      ]
    },
    {
      "cell_type": "code",
      "execution_count": 46,
      "id": "c78d0cfd",
      "metadata": {
        "id": "c78d0cfd"
      },
      "outputs": [],
      "source": [
        "tokens = load_file(tokens_path)\n",
        "labels = load_file(labels_path)\n",
        "embeddings = load_file(embeddings_path)\n",
        "label_encoder = load_file(label_encoder_path)\n",
        "num_classes = len(label_encoder.classes_)\n",
        "vocabulary = load_file(vocabulary_path)"
      ]
    },
    {
      "cell_type": "markdown",
      "id": "a37271b2",
      "metadata": {
        "id": "a37271b2"
      },
      "source": [
        "### Split data into train, validation and test sets"
      ]
    },
    {
      "cell_type": "code",
      "execution_count": 47,
      "id": "12905bc2",
      "metadata": {
        "id": "12905bc2"
      },
      "outputs": [],
      "source": [
        "X_train, X_test, y_train, y_test = train_test_split(tokens, labels,\n",
        "                                                    test_size=0.2)\n",
        "X_train, X_valid, y_train, y_valid = train_test_split(X_train,\n",
        "                                                      y_train,\n",
        "                                                      test_size=0.25)"
      ]
    },
    {
      "cell_type": "markdown",
      "id": "0ca11ca1",
      "metadata": {
        "id": "0ca11ca1"
      },
      "source": [
        "### Create PyTorch datasets"
      ]
    },
    {
      "cell_type": "code",
      "execution_count": 48,
      "id": "4e17e39e",
      "metadata": {
        "id": "4e17e39e"
      },
      "outputs": [],
      "source": [
        "train_dataset = TextDataset(X_train, embeddings, y_train)\n",
        "valid_dataset = TextDataset(X_valid, embeddings, y_valid)\n",
        "test_dataset = TextDataset(X_test, embeddings, y_test)"
      ]
    },
    {
      "cell_type": "markdown",
      "id": "e699aa78",
      "metadata": {
        "id": "e699aa78"
      },
      "source": [
        "### Create data loaders"
      ]
    },
    {
      "cell_type": "code",
      "execution_count": 49,
      "id": "4726f948",
      "metadata": {
        "id": "4726f948"
      },
      "outputs": [],
      "source": [
        "train_loader = torch.utils.data.DataLoader(train_dataset,\n",
        "                                           batch_size=16,\n",
        "                                           shuffle=True,\n",
        "                                           drop_last=True)\n",
        "valid_loader = torch.utils.data.DataLoader(valid_dataset,\n",
        "                                           batch_size=16)\n",
        "test_loader = torch.utils.data.DataLoader(test_dataset,\n",
        "                                          batch_size=16)"
      ]
    },
    {
      "cell_type": "markdown",
      "id": "b0d484ef",
      "metadata": {
        "id": "b0d484ef"
      },
      "source": [
        "### Create model object"
      ]
    },
    {
      "cell_type": "code",
      "execution_count": 50,
      "id": "5c8cffc5",
      "metadata": {
        "id": "5c8cffc5"
      },
      "outputs": [],
      "source": [
        "device = torch.device(\"cuda:0\" if torch.cuda.is_available()\n",
        "                      else \"cpu\")"
      ]
    },
    {
      "cell_type": "code",
      "source": [
        "device"
      ],
      "metadata": {
        "colab": {
          "base_uri": "https://localhost:8080/"
        },
        "id": "bpliv-Cl4DtJ",
        "outputId": "b86b757a-589e-45d4-a4d2-4b8f4bb45b66"
      },
      "id": "bpliv-Cl4DtJ",
      "execution_count": 52,
      "outputs": [
        {
          "output_type": "execute_result",
          "data": {
            "text/plain": [
              "device(type='cuda', index=0)"
            ]
          },
          "metadata": {},
          "execution_count": 52
        }
      ]
    },
    {
      "cell_type": "code",
      "execution_count": 51,
      "id": "cddc6d59",
      "metadata": {
        "id": "cddc6d59"
      },
      "outputs": [],
      "source": [
        "model = AttentionModel(vec_len, seq_len, num_classes)"
      ]
    },
    {
      "cell_type": "markdown",
      "id": "540a7d38",
      "metadata": {
        "id": "540a7d38"
      },
      "source": [
        "### Move the model to GPU if available"
      ]
    },
    {
      "cell_type": "code",
      "execution_count": 53,
      "id": "942190dc",
      "metadata": {
        "id": "942190dc"
      },
      "outputs": [],
      "source": [
        "if torch.cuda.is_available():\n",
        "    model = model.cuda()"
      ]
    },
    {
      "cell_type": "markdown",
      "id": "1850d25e",
      "metadata": {
        "id": "1850d25e"
      },
      "source": [
        "### Define loss function and optimizer"
      ]
    },
    {
      "cell_type": "code",
      "execution_count": 54,
      "id": "0e43c2aa",
      "metadata": {
        "id": "0e43c2aa"
      },
      "outputs": [],
      "source": [
        "criterion = torch.nn.CrossEntropyLoss()\n",
        "optimizer = torch.optim.Adam(model.parameters(), lr=lr)"
      ]
    },
    {
      "cell_type": "markdown",
      "id": "9a405ca0",
      "metadata": {
        "id": "9a405ca0"
      },
      "source": [
        "### Training loop"
      ]
    },
    {
      "cell_type": "code",
      "execution_count": 55,
      "id": "de992e3a",
      "metadata": {
        "id": "de992e3a",
        "colab": {
          "base_uri": "https://localhost:8080/"
        },
        "outputId": "f40e33d4-3485-4ca1-b49f-7e1c8ecde10a"
      },
      "outputs": [
        {
          "metadata": {
            "tags": null
          },
          "name": "stdout",
          "output_type": "stream",
          "text": [
            "Epoch 1 of 50\n"
          ]
        },
        {
          "metadata": {
            "tags": null
          },
          "name": "stderr",
          "output_type": "stream",
          "text": [
            "100%|██████████| 30350/30350 [01:10<00:00, 431.95it/s]\n",
            "100%|██████████| 10117/10117 [00:12<00:00, 796.84it/s]\n"
          ]
        },
        {
          "metadata": {
            "tags": null
          },
          "name": "stdout",
          "output_type": "stream",
          "text": [
            "Train Loss: 1.080838189019501, Validation Loss: 1.0014305693235772\n",
            "Best Validation Loss: 1.0014305693235772\n",
            "Epoch 2 of 50\n"
          ]
        },
        {
          "metadata": {
            "tags": null
          },
          "name": "stderr",
          "output_type": "stream",
          "text": [
            "100%|██████████| 30350/30350 [01:08<00:00, 444.11it/s]\n",
            "100%|██████████| 10117/10117 [00:12<00:00, 815.79it/s]\n"
          ]
        },
        {
          "metadata": {
            "tags": null
          },
          "name": "stdout",
          "output_type": "stream",
          "text": [
            "Train Loss: 0.9894175603067659, Validation Loss: 0.9844283009778491\n",
            "Best Validation Loss: 0.9844283009778491\n",
            "Epoch 3 of 50\n"
          ]
        },
        {
          "metadata": {
            "tags": null
          },
          "name": "stderr",
          "output_type": "stream",
          "text": [
            "100%|██████████| 30350/30350 [01:08<00:00, 440.21it/s]\n",
            "100%|██████████| 10117/10117 [00:12<00:00, 809.42it/s]\n"
          ]
        },
        {
          "metadata": {
            "tags": null
          },
          "name": "stdout",
          "output_type": "stream",
          "text": [
            "Train Loss: 0.9781256016480078, Validation Loss: 0.9767103254076307\n",
            "Best Validation Loss: 0.9767103254076307\n",
            "Epoch 4 of 50\n"
          ]
        },
        {
          "metadata": {
            "tags": null
          },
          "name": "stderr",
          "output_type": "stream",
          "text": [
            "100%|██████████| 30350/30350 [01:08<00:00, 442.98it/s]\n",
            "100%|██████████| 10117/10117 [00:12<00:00, 818.55it/s]\n"
          ]
        },
        {
          "metadata": {
            "tags": null
          },
          "name": "stdout",
          "output_type": "stream",
          "text": [
            "Train Loss: 0.9723424341017763, Validation Loss: 0.9727864006715199\n",
            "Best Validation Loss: 0.9727864006715199\n",
            "Epoch 5 of 50\n"
          ]
        },
        {
          "metadata": {
            "tags": null
          },
          "name": "stderr",
          "output_type": "stream",
          "text": [
            "100%|██████████| 30350/30350 [01:07<00:00, 448.47it/s]\n",
            "100%|██████████| 10117/10117 [00:12<00:00, 810.20it/s]\n"
          ]
        },
        {
          "metadata": {
            "tags": null
          },
          "name": "stdout",
          "output_type": "stream",
          "text": [
            "Train Loss: 0.9693475377211068, Validation Loss: 0.9699805529310002\n",
            "Best Validation Loss: 0.9699805529310002\n",
            "Epoch 6 of 50\n"
          ]
        },
        {
          "metadata": {
            "tags": null
          },
          "name": "stderr",
          "output_type": "stream",
          "text": [
            "100%|██████████| 30350/30350 [01:08<00:00, 443.69it/s]\n",
            "100%|██████████| 10117/10117 [00:12<00:00, 831.58it/s]\n"
          ]
        },
        {
          "metadata": {
            "tags": null
          },
          "name": "stdout",
          "output_type": "stream",
          "text": [
            "Train Loss: 0.9675655721115712, Validation Loss: 0.9691451537381687\n",
            "Best Validation Loss: 0.9691451537381687\n",
            "Epoch 7 of 50\n"
          ]
        },
        {
          "metadata": {
            "tags": null
          },
          "name": "stderr",
          "output_type": "stream",
          "text": [
            "100%|██████████| 30350/30350 [01:08<00:00, 446.02it/s]\n",
            "100%|██████████| 10117/10117 [00:12<00:00, 811.59it/s]\n"
          ]
        },
        {
          "metadata": {
            "tags": null
          },
          "name": "stdout",
          "output_type": "stream",
          "text": [
            "Train Loss: 0.9662540860398008, Validation Loss: 0.9677499180091302\n",
            "Best Validation Loss: 0.9677499180091302\n",
            "Epoch 8 of 50\n"
          ]
        },
        {
          "metadata": {
            "tags": null
          },
          "name": "stderr",
          "output_type": "stream",
          "text": [
            "100%|██████████| 30350/30350 [01:07<00:00, 446.77it/s]\n",
            "100%|██████████| 10117/10117 [00:12<00:00, 824.14it/s]\n"
          ]
        },
        {
          "metadata": {
            "tags": null
          },
          "name": "stdout",
          "output_type": "stream",
          "text": [
            "Train Loss: 0.9653825810458357, Validation Loss: 0.9670434173852356\n",
            "Best Validation Loss: 0.9670434173852356\n",
            "Epoch 9 of 50\n"
          ]
        },
        {
          "metadata": {
            "tags": null
          },
          "name": "stderr",
          "output_type": "stream",
          "text": [
            "100%|██████████| 30350/30350 [01:08<00:00, 443.59it/s]\n",
            "100%|██████████| 10117/10117 [00:12<00:00, 824.65it/s]\n"
          ]
        },
        {
          "metadata": {
            "tags": null
          },
          "name": "stdout",
          "output_type": "stream",
          "text": [
            "Train Loss: 0.9645460983830975, Validation Loss: 0.9661481403748933\n",
            "Best Validation Loss: 0.9661481403748933\n",
            "Epoch 10 of 50\n"
          ]
        },
        {
          "metadata": {
            "tags": null
          },
          "name": "stderr",
          "output_type": "stream",
          "text": [
            "100%|██████████| 30350/30350 [01:08<00:00, 445.59it/s]\n",
            "100%|██████████| 10117/10117 [00:12<00:00, 811.09it/s]\n"
          ]
        },
        {
          "metadata": {
            "tags": null
          },
          "name": "stdout",
          "output_type": "stream",
          "text": [
            "Train Loss: 0.9639604168978122, Validation Loss: 0.9661341512098347\n",
            "Best Validation Loss: 0.9661341512098347\n",
            "Epoch 11 of 50\n"
          ]
        },
        {
          "metadata": {
            "tags": null
          },
          "name": "stderr",
          "output_type": "stream",
          "text": [
            "100%|██████████| 30350/30350 [01:08<00:00, 444.87it/s]\n",
            "100%|██████████| 10117/10117 [00:12<00:00, 817.58it/s]\n"
          ]
        },
        {
          "metadata": {
            "tags": null
          },
          "name": "stdout",
          "output_type": "stream",
          "text": [
            "Train Loss: 0.9634070699272871, Validation Loss: 0.9656189188922336\n",
            "Best Validation Loss: 0.9656189188922336\n",
            "Epoch 12 of 50\n"
          ]
        },
        {
          "metadata": {
            "tags": null
          },
          "name": "stderr",
          "output_type": "stream",
          "text": [
            "100%|██████████| 30350/30350 [01:08<00:00, 440.78it/s]\n",
            "100%|██████████| 10117/10117 [00:12<00:00, 821.90it/s]\n"
          ]
        },
        {
          "metadata": {
            "tags": null
          },
          "name": "stdout",
          "output_type": "stream",
          "text": [
            "Train Loss: 0.9629071326006382, Validation Loss: 0.9651261630151493\n",
            "Best Validation Loss: 0.9651261630151493\n",
            "Epoch 13 of 50\n"
          ]
        },
        {
          "metadata": {
            "tags": null
          },
          "name": "stderr",
          "output_type": "stream",
          "text": [
            "100%|██████████| 30350/30350 [01:08<00:00, 444.54it/s]\n",
            "100%|██████████| 10117/10117 [00:12<00:00, 815.02it/s]\n"
          ]
        },
        {
          "metadata": {
            "tags": null
          },
          "name": "stdout",
          "output_type": "stream",
          "text": [
            "Train Loss: 0.9625135467310714, Validation Loss: 0.9649470233305695\n",
            "Best Validation Loss: 0.9649470233305695\n",
            "Epoch 14 of 50\n"
          ]
        },
        {
          "metadata": {
            "tags": null
          },
          "name": "stderr",
          "output_type": "stream",
          "text": [
            "100%|██████████| 30350/30350 [01:08<00:00, 446.30it/s]\n",
            "100%|██████████| 10117/10117 [00:12<00:00, 828.64it/s]\n"
          ]
        },
        {
          "metadata": {
            "tags": null
          },
          "name": "stdout",
          "output_type": "stream",
          "text": [
            "Train Loss: 0.9621099790724538, Validation Loss: 0.9640056976110105\n",
            "Best Validation Loss: 0.9640056976110105\n",
            "Epoch 15 of 50\n"
          ]
        },
        {
          "metadata": {
            "tags": null
          },
          "name": "stderr",
          "output_type": "stream",
          "text": [
            "100%|██████████| 30350/30350 [01:09<00:00, 435.48it/s]\n",
            "100%|██████████| 10117/10117 [00:12<00:00, 801.32it/s]\n"
          ]
        },
        {
          "metadata": {
            "tags": null
          },
          "name": "stdout",
          "output_type": "stream",
          "text": [
            "Train Loss: 0.9617539064996129, Validation Loss: 0.9638703008838424\n",
            "Best Validation Loss: 0.9638703008838424\n",
            "Epoch 16 of 50\n"
          ]
        },
        {
          "metadata": {
            "tags": null
          },
          "name": "stderr",
          "output_type": "stream",
          "text": [
            "100%|██████████| 30350/30350 [01:08<00:00, 440.68it/s]\n",
            "100%|██████████| 10117/10117 [00:12<00:00, 803.48it/s]\n"
          ]
        },
        {
          "metadata": {
            "tags": null
          },
          "name": "stdout",
          "output_type": "stream",
          "text": [
            "Train Loss: 0.9613679616077139, Validation Loss: 0.9635958167004164\n",
            "Best Validation Loss: 0.9635958167004164\n",
            "Epoch 17 of 50\n"
          ]
        },
        {
          "metadata": {
            "tags": null
          },
          "name": "stderr",
          "output_type": "stream",
          "text": [
            "100%|██████████| 30350/30350 [01:08<00:00, 444.25it/s]\n",
            "100%|██████████| 10117/10117 [00:12<00:00, 800.86it/s]\n"
          ]
        },
        {
          "metadata": {
            "tags": null
          },
          "name": "stdout",
          "output_type": "stream",
          "text": [
            "Train Loss: 0.9610276933316344, Validation Loss: 0.9631686509745482\n",
            "Best Validation Loss: 0.9631686509745482\n",
            "Epoch 18 of 50\n"
          ]
        },
        {
          "metadata": {
            "tags": null
          },
          "name": "stderr",
          "output_type": "stream",
          "text": [
            "100%|██████████| 30350/30350 [01:09<00:00, 439.32it/s]\n",
            "100%|██████████| 10117/10117 [00:12<00:00, 801.79it/s]\n"
          ]
        },
        {
          "metadata": {
            "tags": null
          },
          "name": "stdout",
          "output_type": "stream",
          "text": [
            "Train Loss: 0.9607352078947833, Validation Loss: 0.9632776611505484\n",
            "Best Validation Loss: 0.9631686509745482\n",
            "Epoch 19 of 50\n"
          ]
        },
        {
          "metadata": {
            "tags": null
          },
          "name": "stderr",
          "output_type": "stream",
          "text": [
            "100%|██████████| 30350/30350 [01:09<00:00, 439.63it/s]\n",
            "100%|██████████| 10117/10117 [00:12<00:00, 795.88it/s]\n"
          ]
        },
        {
          "metadata": {
            "tags": null
          },
          "name": "stdout",
          "output_type": "stream",
          "text": [
            "Train Loss: 0.960392573207764, Validation Loss: 0.9641503529773937\n",
            "Best Validation Loss: 0.9631686509745482\n",
            "Epoch 20 of 50\n"
          ]
        },
        {
          "metadata": {
            "tags": null
          },
          "name": "stderr",
          "output_type": "stream",
          "text": [
            "100%|██████████| 30350/30350 [01:08<00:00, 441.29it/s]\n",
            "100%|██████████| 10117/10117 [00:12<00:00, 815.10it/s]\n"
          ]
        },
        {
          "metadata": {
            "tags": null
          },
          "name": "stdout",
          "output_type": "stream",
          "text": [
            "Train Loss: 0.960158870098913, Validation Loss: 0.9633441571854339\n",
            "Best Validation Loss: 0.9631686509745482\n",
            "Epoch 21 of 50\n"
          ]
        },
        {
          "metadata": {
            "tags": null
          },
          "name": "stderr",
          "output_type": "stream",
          "text": [
            "100%|██████████| 30350/30350 [01:08<00:00, 443.62it/s]\n",
            "100%|██████████| 10117/10117 [00:12<00:00, 821.80it/s]\n"
          ]
        },
        {
          "metadata": {
            "tags": null
          },
          "name": "stdout",
          "output_type": "stream",
          "text": [
            "Train Loss: 0.9598139090867962, Validation Loss: 0.9630439024430744\n",
            "Best Validation Loss: 0.9630439024430744\n",
            "Epoch 22 of 50\n"
          ]
        },
        {
          "metadata": {
            "tags": null
          },
          "name": "stderr",
          "output_type": "stream",
          "text": [
            "100%|██████████| 30350/30350 [01:08<00:00, 443.36it/s]\n",
            "100%|██████████| 10117/10117 [00:12<00:00, 802.40it/s]\n"
          ]
        },
        {
          "metadata": {
            "tags": null
          },
          "name": "stdout",
          "output_type": "stream",
          "text": [
            "Train Loss: 0.9595305122624119, Validation Loss: 0.962083101575997\n",
            "Best Validation Loss: 0.962083101575997\n",
            "Epoch 23 of 50\n"
          ]
        },
        {
          "metadata": {
            "tags": null
          },
          "name": "stderr",
          "output_type": "stream",
          "text": [
            "100%|██████████| 30350/30350 [01:08<00:00, 440.88it/s]\n",
            "100%|██████████| 10117/10117 [00:12<00:00, 803.56it/s]\n"
          ]
        },
        {
          "metadata": {
            "tags": null
          },
          "name": "stdout",
          "output_type": "stream",
          "text": [
            "Train Loss: 0.9593145588128728, Validation Loss: 0.9628136661332669\n",
            "Best Validation Loss: 0.962083101575997\n",
            "Epoch 24 of 50\n"
          ]
        },
        {
          "metadata": {
            "tags": null
          },
          "name": "stderr",
          "output_type": "stream",
          "text": [
            "100%|██████████| 30350/30350 [01:09<00:00, 439.08it/s]\n",
            "100%|██████████| 10117/10117 [00:12<00:00, 796.72it/s]\n"
          ]
        },
        {
          "metadata": {
            "tags": null
          },
          "name": "stdout",
          "output_type": "stream",
          "text": [
            "Train Loss: 0.9590323805489885, Validation Loss: 0.9621153140069233\n",
            "Best Validation Loss: 0.962083101575997\n",
            "Epoch 25 of 50\n"
          ]
        },
        {
          "metadata": {
            "tags": null
          },
          "name": "stderr",
          "output_type": "stream",
          "text": [
            "100%|██████████| 30350/30350 [01:08<00:00, 442.39it/s]\n",
            "100%|██████████| 10117/10117 [00:12<00:00, 800.98it/s]\n"
          ]
        },
        {
          "metadata": {
            "tags": null
          },
          "name": "stdout",
          "output_type": "stream",
          "text": [
            "Train Loss: 0.9587762660995935, Validation Loss: 0.9621085804156474\n",
            "Best Validation Loss: 0.962083101575997\n",
            "Epoch 26 of 50\n"
          ]
        },
        {
          "metadata": {
            "tags": null
          },
          "name": "stderr",
          "output_type": "stream",
          "text": [
            "100%|██████████| 30350/30350 [01:09<00:00, 436.88it/s]\n",
            "100%|██████████| 10117/10117 [00:12<00:00, 805.19it/s]\n"
          ]
        },
        {
          "metadata": {
            "tags": null
          },
          "name": "stdout",
          "output_type": "stream",
          "text": [
            "Train Loss: 0.9586721077013939, Validation Loss: 0.9608358737492592\n",
            "Best Validation Loss: 0.9608358737492592\n",
            "Epoch 27 of 50\n"
          ]
        },
        {
          "metadata": {
            "tags": null
          },
          "name": "stderr",
          "output_type": "stream",
          "text": [
            "100%|██████████| 30350/30350 [01:08<00:00, 440.15it/s]\n",
            "100%|██████████| 10117/10117 [00:12<00:00, 798.89it/s]\n"
          ]
        },
        {
          "metadata": {
            "tags": null
          },
          "name": "stdout",
          "output_type": "stream",
          "text": [
            "Train Loss: 0.9583620029614235, Validation Loss: 0.9603829137731285\n",
            "Best Validation Loss: 0.9603829137731285\n",
            "Epoch 28 of 50\n"
          ]
        },
        {
          "metadata": {
            "tags": null
          },
          "name": "stderr",
          "output_type": "stream",
          "text": [
            "100%|██████████| 30350/30350 [01:08<00:00, 440.03it/s]\n",
            "100%|██████████| 10117/10117 [00:12<00:00, 801.46it/s]\n"
          ]
        },
        {
          "metadata": {
            "tags": null
          },
          "name": "stdout",
          "output_type": "stream",
          "text": [
            "Train Loss: 0.9581688287574338, Validation Loss: 0.9611327309090358\n",
            "Best Validation Loss: 0.9603829137731285\n",
            "Epoch 29 of 50\n"
          ]
        },
        {
          "output_type": "stream",
          "name": "stderr",
          "text": [
            "100%|██████████| 30350/30350 [01:09<00:00, 437.47it/s]\n",
            "100%|██████████| 10117/10117 [00:12<00:00, 794.96it/s]\n"
          ]
        },
        {
          "output_type": "stream",
          "name": "stdout",
          "text": [
            "Train Loss: 0.9579549489490675, Validation Loss: 0.9603487026497606\n",
            "Best Validation Loss: 0.9603487026497606\n",
            "Epoch 30 of 50\n"
          ]
        },
        {
          "output_type": "stream",
          "name": "stderr",
          "text": [
            "100%|██████████| 30350/30350 [01:09<00:00, 438.41it/s]\n",
            "100%|██████████| 10117/10117 [00:12<00:00, 796.47it/s]\n"
          ]
        },
        {
          "output_type": "stream",
          "name": "stdout",
          "text": [
            "Train Loss: 0.9578302535434334, Validation Loss: 0.960440704962641\n",
            "Best Validation Loss: 0.9603487026497606\n",
            "Epoch 31 of 50\n"
          ]
        },
        {
          "output_type": "stream",
          "name": "stderr",
          "text": [
            "100%|██████████| 30350/30350 [01:08<00:00, 441.39it/s]\n",
            "100%|██████████| 10117/10117 [00:12<00:00, 796.01it/s]\n"
          ]
        },
        {
          "output_type": "stream",
          "name": "stdout",
          "text": [
            "Train Loss: 0.9575580133264501, Validation Loss: 0.9602460875625582\n",
            "Best Validation Loss: 0.9602460875625582\n",
            "Epoch 32 of 50\n"
          ]
        },
        {
          "output_type": "stream",
          "name": "stderr",
          "text": [
            "100%|██████████| 30350/30350 [01:08<00:00, 441.97it/s]\n",
            "100%|██████████| 10117/10117 [00:13<00:00, 771.96it/s]\n"
          ]
        },
        {
          "output_type": "stream",
          "name": "stdout",
          "text": [
            "Train Loss: 0.9574576276938448, Validation Loss: 0.9600036683950521\n",
            "Best Validation Loss: 0.9600036683950521\n",
            "Epoch 33 of 50\n"
          ]
        },
        {
          "output_type": "stream",
          "name": "stderr",
          "text": [
            "100%|██████████| 30350/30350 [01:09<00:00, 437.48it/s]\n",
            "100%|██████████| 10117/10117 [00:12<00:00, 791.30it/s]\n"
          ]
        },
        {
          "output_type": "stream",
          "name": "stdout",
          "text": [
            "Train Loss: 0.9572327607197463, Validation Loss: 0.9594737882963857\n",
            "Best Validation Loss: 0.9594737882963857\n",
            "Epoch 34 of 50\n"
          ]
        },
        {
          "output_type": "stream",
          "name": "stderr",
          "text": [
            "100%|██████████| 30350/30350 [01:09<00:00, 434.33it/s]\n",
            "100%|██████████| 10117/10117 [00:12<00:00, 803.54it/s]\n"
          ]
        },
        {
          "output_type": "stream",
          "name": "stdout",
          "text": [
            "Train Loss: 0.9570185957385052, Validation Loss: 0.9592368901129401\n",
            "Best Validation Loss: 0.9592368901129401\n",
            "Epoch 35 of 50\n"
          ]
        },
        {
          "output_type": "stream",
          "name": "stderr",
          "text": [
            "100%|██████████| 30350/30350 [01:09<00:00, 438.18it/s]\n",
            "100%|██████████| 10117/10117 [00:12<00:00, 809.42it/s]\n"
          ]
        },
        {
          "output_type": "stream",
          "name": "stdout",
          "text": [
            "Train Loss: 0.9568864408061768, Validation Loss: 0.9603292272739452\n",
            "Best Validation Loss: 0.9592368901129401\n",
            "Epoch 36 of 50\n"
          ]
        },
        {
          "output_type": "stream",
          "name": "stderr",
          "text": [
            "100%|██████████| 30350/30350 [01:09<00:00, 437.64it/s]\n",
            "100%|██████████| 10117/10117 [00:12<00:00, 797.86it/s]\n"
          ]
        },
        {
          "output_type": "stream",
          "name": "stdout",
          "text": [
            "Train Loss: 0.9566973406395567, Validation Loss: 0.9588349363358346\n",
            "Best Validation Loss: 0.9588349363358346\n",
            "Epoch 37 of 50\n"
          ]
        },
        {
          "output_type": "stream",
          "name": "stderr",
          "text": [
            "100%|██████████| 30350/30350 [01:09<00:00, 439.80it/s]\n",
            "100%|██████████| 10117/10117 [00:12<00:00, 788.83it/s]\n"
          ]
        },
        {
          "output_type": "stream",
          "name": "stdout",
          "text": [
            "Train Loss: 0.956573510796961, Validation Loss: 0.9594122423780546\n",
            "Best Validation Loss: 0.9588349363358346\n",
            "Epoch 38 of 50\n"
          ]
        },
        {
          "output_type": "stream",
          "name": "stderr",
          "text": [
            "100%|██████████| 30350/30350 [01:09<00:00, 439.52it/s]\n",
            "100%|██████████| 10117/10117 [00:12<00:00, 805.54it/s]\n"
          ]
        },
        {
          "output_type": "stream",
          "name": "stdout",
          "text": [
            "Train Loss: 0.9563697834006055, Validation Loss: 0.9587832669033132\n",
            "Best Validation Loss: 0.9587832669033132\n",
            "Epoch 39 of 50\n"
          ]
        },
        {
          "output_type": "stream",
          "name": "stderr",
          "text": [
            "100%|██████████| 30350/30350 [01:08<00:00, 443.05it/s]\n",
            "100%|██████████| 10117/10117 [00:12<00:00, 810.42it/s]\n"
          ]
        },
        {
          "output_type": "stream",
          "name": "stdout",
          "text": [
            "Train Loss: 0.9562170460535431, Validation Loss: 0.9584406167386583\n",
            "Best Validation Loss: 0.9584406167386583\n",
            "Epoch 40 of 50\n"
          ]
        },
        {
          "output_type": "stream",
          "name": "stderr",
          "text": [
            "100%|██████████| 30350/30350 [01:08<00:00, 443.80it/s]\n",
            "100%|██████████| 10117/10117 [00:12<00:00, 808.18it/s]\n"
          ]
        },
        {
          "output_type": "stream",
          "name": "stdout",
          "text": [
            "Train Loss: 0.9560485528009335, Validation Loss: 0.958999562585461\n",
            "Best Validation Loss: 0.9584406167386583\n",
            "Epoch 41 of 50\n"
          ]
        },
        {
          "output_type": "stream",
          "name": "stderr",
          "text": [
            "100%|██████████| 30350/30350 [01:08<00:00, 443.63it/s]\n",
            "100%|██████████| 10117/10117 [00:12<00:00, 802.54it/s]\n"
          ]
        },
        {
          "output_type": "stream",
          "name": "stdout",
          "text": [
            "Train Loss: 0.955833714231235, Validation Loss: 0.9592010797372128\n",
            "Best Validation Loss: 0.9584406167386583\n",
            "Epoch 42 of 50\n"
          ]
        },
        {
          "output_type": "stream",
          "name": "stderr",
          "text": [
            "100%|██████████| 30350/30350 [01:08<00:00, 444.04it/s]\n",
            "100%|██████████| 10117/10117 [00:12<00:00, 802.68it/s]\n"
          ]
        },
        {
          "output_type": "stream",
          "name": "stdout",
          "text": [
            "Train Loss: 0.9556968948357973, Validation Loss: 0.958282997419479\n",
            "Best Validation Loss: 0.958282997419479\n",
            "Epoch 43 of 50\n"
          ]
        },
        {
          "output_type": "stream",
          "name": "stderr",
          "text": [
            "100%|██████████| 30350/30350 [01:08<00:00, 442.98it/s]\n",
            "100%|██████████| 10117/10117 [00:12<00:00, 808.22it/s]\n"
          ]
        },
        {
          "output_type": "stream",
          "name": "stdout",
          "text": [
            "Train Loss: 0.9554516622929833, Validation Loss: 0.9578015154646098\n",
            "Best Validation Loss: 0.9578015154646098\n",
            "Epoch 44 of 50\n"
          ]
        },
        {
          "output_type": "stream",
          "name": "stderr",
          "text": [
            "100%|██████████| 30350/30350 [01:08<00:00, 443.30it/s]\n",
            "100%|██████████| 10117/10117 [00:12<00:00, 796.52it/s]\n"
          ]
        },
        {
          "output_type": "stream",
          "name": "stdout",
          "text": [
            "Train Loss: 0.9552561445453218, Validation Loss: 0.9588277385241195\n",
            "Best Validation Loss: 0.9578015154646098\n",
            "Epoch 45 of 50\n"
          ]
        },
        {
          "output_type": "stream",
          "name": "stderr",
          "text": [
            "100%|██████████| 30350/30350 [01:09<00:00, 438.79it/s]\n",
            "100%|██████████| 10117/10117 [00:12<00:00, 822.34it/s]\n"
          ]
        },
        {
          "output_type": "stream",
          "name": "stdout",
          "text": [
            "Train Loss: 0.9551183771888251, Validation Loss: 0.9587772366845515\n",
            "Best Validation Loss: 0.9578015154646098\n",
            "Epoch 46 of 50\n"
          ]
        },
        {
          "output_type": "stream",
          "name": "stderr",
          "text": [
            "100%|██████████| 30350/30350 [01:08<00:00, 443.31it/s]\n",
            "100%|██████████| 10117/10117 [00:12<00:00, 810.60it/s]\n"
          ]
        },
        {
          "output_type": "stream",
          "name": "stdout",
          "text": [
            "Train Loss: 0.9549260489679443, Validation Loss: 0.9577859823863663\n",
            "Best Validation Loss: 0.9577859823863663\n",
            "Epoch 47 of 50\n"
          ]
        },
        {
          "output_type": "stream",
          "name": "stderr",
          "text": [
            "100%|██████████| 30350/30350 [01:08<00:00, 443.70it/s]\n",
            "100%|██████████| 10117/10117 [00:12<00:00, 803.47it/s]\n"
          ]
        },
        {
          "output_type": "stream",
          "name": "stdout",
          "text": [
            "Train Loss: 0.9547588930844868, Validation Loss: 0.9569038221389983\n",
            "Best Validation Loss: 0.9569038221389983\n",
            "Epoch 48 of 50\n"
          ]
        },
        {
          "output_type": "stream",
          "name": "stderr",
          "text": [
            "100%|██████████| 30350/30350 [01:08<00:00, 441.56it/s]\n",
            "100%|██████████| 10117/10117 [00:12<00:00, 807.69it/s]\n"
          ]
        },
        {
          "output_type": "stream",
          "name": "stdout",
          "text": [
            "Train Loss: 0.9545122117039792, Validation Loss: 0.9568092063889739\n",
            "Best Validation Loss: 0.9568092063889739\n",
            "Epoch 49 of 50\n"
          ]
        },
        {
          "output_type": "stream",
          "name": "stderr",
          "text": [
            "100%|██████████| 30350/30350 [01:08<00:00, 441.36it/s]\n",
            "100%|██████████| 10117/10117 [00:12<00:00, 797.04it/s]\n"
          ]
        },
        {
          "output_type": "stream",
          "name": "stdout",
          "text": [
            "Train Loss: 0.9543354374209582, Validation Loss: 0.956332837391173\n",
            "Best Validation Loss: 0.956332837391173\n",
            "Epoch 50 of 50\n"
          ]
        },
        {
          "output_type": "stream",
          "name": "stderr",
          "text": [
            "100%|██████████| 30350/30350 [01:08<00:00, 443.51it/s]\n",
            "100%|██████████| 10117/10117 [00:12<00:00, 810.49it/s]"
          ]
        },
        {
          "output_type": "stream",
          "name": "stdout",
          "text": [
            "Train Loss: 0.9538907272399355, Validation Loss: 0.9557613654871685\n",
            "Best Validation Loss: 0.9557613654871685\n"
          ]
        },
        {
          "output_type": "stream",
          "name": "stderr",
          "text": [
            "\n"
          ]
        }
      ],
      "source": [
        "train(train_loader, valid_loader, model, criterion, optimizer,\n",
        "      device, num_epochs, model_path)"
      ]
    },
    {
      "cell_type": "markdown",
      "id": "3520d07b",
      "metadata": {
        "id": "3520d07b"
      },
      "source": [
        "### Test the model"
      ]
    },
    {
      "cell_type": "code",
      "execution_count": 56,
      "id": "30d9d34e",
      "metadata": {
        "id": "30d9d34e",
        "colab": {
          "base_uri": "https://localhost:8080/"
        },
        "outputId": "1cb867f3-76b2-4575-aa62-2970b9c98b11"
      },
      "outputs": [
        {
          "output_type": "stream",
          "name": "stderr",
          "text": [
            "100%|██████████| 10117/10117 [00:18<00:00, 536.92it/s]"
          ]
        },
        {
          "output_type": "stream",
          "name": "stdout",
          "text": [
            "Test Loss: 0.9557410880527065, Test Accuracy: 0.6720979919556573\n"
          ]
        },
        {
          "output_type": "stream",
          "name": "stderr",
          "text": [
            "\n"
          ]
        }
      ],
      "source": [
        "test(test_loader, model, criterion, device)"
      ]
    },
    {
      "cell_type": "markdown",
      "id": "dbcb74fa",
      "metadata": {
        "id": "dbcb74fa"
      },
      "source": [
        "## Predict on new text\n",
        "---"
      ]
    },
    {
      "cell_type": "code",
      "execution_count": 57,
      "id": "c62b65a8",
      "metadata": {
        "id": "c62b65a8"
      },
      "outputs": [],
      "source": [
        "input_text = '''I am a victim of Identity Theft & currently have an Experian account that\n",
        "I can view my Experian Credit Report and getting notified when there is activity on\n",
        "my Experian Credit Report. For the past 3 days I've spent a total of approximately 9\n",
        "hours on the phone with Experian. Every time I call I get transferred repeatedly and\n",
        "then my last transfer and automated message states to press 1 and leave a message and\n",
        "someone would call me. Every time I press 1 I get an automatic message stating than you\n",
        "before I even leave a message and get disconnected. I call Experian again, explain what\n",
        "is happening and the process begins again with the same end result. I was trying to have\n",
        "this issue attended and resolved informally but I give up after 9 hours. There are hard\n",
        "hit inquiries on my Experian Credit Report that are fraud, I didn't authorize, or recall\n",
        "and I respectfully request that Experian remove the hard hit inquiries immediately just\n",
        "like they've done in the past when I was able to speak to a live Experian representative\n",
        "in the United States. The following are the hard hit inquiries : BK OF XXXX XX/XX/XXXX\n",
        "XXXX XXXX XXXX  XX/XX/XXXX XXXX  XXXX XXXX  XX/XX/XXXX XXXX  XX/XX/XXXX XXXX  XXXX\n",
        "XX/XX/XXXX'''"
      ]
    },
    {
      "cell_type": "markdown",
      "id": "449d0cc6",
      "metadata": {
        "id": "449d0cc6"
      },
      "source": [
        "### Process input text"
      ]
    },
    {
      "cell_type": "code",
      "execution_count": 58,
      "id": "33d73be9",
      "metadata": {
        "id": "33d73be9"
      },
      "outputs": [],
      "source": [
        "input_text = input_text.lower()\n",
        "input_text = re.sub(r\"[^\\w\\d'\\s]+\", \" \", input_text)\n",
        "input_text = re.sub(\"\\d+\", \"\", input_text)\n",
        "input_text = re.sub(r'[x]{2,}', \"\", input_text)\n",
        "input_text = re.sub(' +', ' ', input_text)\n",
        "tokens = word_tokenize(input_text)"
      ]
    },
    {
      "cell_type": "code",
      "execution_count": 59,
      "id": "0f97ae00",
      "metadata": {
        "id": "0f97ae00"
      },
      "outputs": [],
      "source": [
        "tokens = ['<pad>']*(20-len(tokens))+tokens"
      ]
    },
    {
      "cell_type": "code",
      "execution_count": 60,
      "id": "dc8f338c",
      "metadata": {
        "id": "dc8f338c"
      },
      "outputs": [],
      "source": [
        "idx_token = []\n",
        "for token in tokens:\n",
        "    if token in vocabulary:\n",
        "        idx_token.append(vocabulary.index(token))\n",
        "    else:\n",
        "        idx_token.append(vocabulary.index('<unk>'))"
      ]
    },
    {
      "cell_type": "code",
      "execution_count": 61,
      "id": "a5d4275e",
      "metadata": {
        "id": "a5d4275e"
      },
      "outputs": [],
      "source": [
        "token_emb = embeddings[idx_token,:]\n",
        "token_emb = token_emb[:seq_len, :]\n",
        "inp = torch.from_numpy(token_emb)"
      ]
    },
    {
      "cell_type": "code",
      "execution_count": 62,
      "id": "2adfdbc1",
      "metadata": {
        "id": "2adfdbc1"
      },
      "outputs": [],
      "source": [
        "inp = torch.cat((torch.ones(inp.shape[0],1), inp), dim=1)"
      ]
    },
    {
      "cell_type": "code",
      "execution_count": 63,
      "id": "76afacda",
      "metadata": {
        "id": "76afacda"
      },
      "outputs": [],
      "source": [
        "device = torch.device(\"cuda:0\" if torch.cuda.is_available()\n",
        "                      else \"cpu\")"
      ]
    },
    {
      "cell_type": "code",
      "execution_count": 64,
      "id": "78b78e3d",
      "metadata": {
        "id": "78b78e3d"
      },
      "outputs": [],
      "source": [
        "inp = inp.to(device)\n",
        "inp = torch.unsqueeze(inp, 0)"
      ]
    },
    {
      "cell_type": "code",
      "execution_count": 65,
      "id": "7152087d",
      "metadata": {
        "id": "7152087d"
      },
      "outputs": [],
      "source": [
        "label_encoder = load_file(label_encoder_path)\n",
        "num_classes = len(label_encoder.classes_)"
      ]
    },
    {
      "cell_type": "code",
      "execution_count": 66,
      "id": "3c0ea657",
      "metadata": {
        "id": "3c0ea657",
        "colab": {
          "base_uri": "https://localhost:8080/"
        },
        "outputId": "a60d61a4-dbc7-47e1-e039-c67f5d29e7d5"
      },
      "outputs": [
        {
          "output_type": "stream",
          "name": "stdout",
          "text": [
            "Predicted  Class: credit_report\n"
          ]
        }
      ],
      "source": [
        "# Create model object\n",
        "model = AttentionModel(vec_len, seq_len, num_classes)\n",
        "\n",
        "# Load trained weights\n",
        "model.load_state_dict(torch.load(model_path))\n",
        "\n",
        "# Move the model to GPU if available\n",
        "if torch.cuda.is_available():\n",
        "    model = model.cuda()\n",
        "\n",
        "# Forward pass\n",
        "out = torch.squeeze(model(inp))\n",
        "\n",
        "# Find predicted class\n",
        "prediction = label_encoder.classes_[torch.argmax(out)]\n",
        "print(f\"Predicted  Class: {prediction}\")"
      ]
    },
    {
      "cell_type": "code",
      "execution_count": null,
      "id": "e7392fba",
      "metadata": {
        "id": "e7392fba"
      },
      "outputs": [],
      "source": []
    }
  ],
  "metadata": {
    "kernelspec": {
      "display_name": "Python 3",
      "name": "python3"
    },
    "language_info": {
      "codemirror_mode": {
        "name": "ipython",
        "version": 3
      },
      "file_extension": ".py",
      "mimetype": "text/x-python",
      "name": "python",
      "nbconvert_exporter": "python",
      "pygments_lexer": "ipython3",
      "version": "3.8.8"
    },
    "colab": {
      "provenance": [],
      "machine_shape": "hm",
      "gpuType": "T4",
      "include_colab_link": true
    },
    "accelerator": "GPU"
  },
  "nbformat": 4,
  "nbformat_minor": 5
}